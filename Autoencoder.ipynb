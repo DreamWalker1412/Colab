{
  "nbformat": 4,
  "nbformat_minor": 0,
  "metadata": {
    "colab": {
      "name": "Autoencoder.ipynb",
      "provenance": [],
      "collapsed_sections": [],
      "authorship_tag": "ABX9TyNG3xsrzyGWeYq+3eTrR2r5",
      "include_colab_link": true
    },
    "kernelspec": {
      "name": "python3",
      "display_name": "Python 3"
    },
    "accelerator": "GPU"
  },
  "cells": [
    {
      "cell_type": "markdown",
      "metadata": {
        "id": "view-in-github",
        "colab_type": "text"
      },
      "source": [
        "<a href=\"https://colab.research.google.com/github/DreamWalker1412/Colab/blob/main/Autoencoder.ipynb\" target=\"_parent\"><img src=\"https://colab.research.google.com/assets/colab-badge.svg\" alt=\"Open In Colab\"/></a>"
      ]
    },
    {
      "cell_type": "markdown",
      "metadata": {
        "id": "l2_3M3dzB901"
      },
      "source": [
        "Import related libraries"
      ]
    },
    {
      "cell_type": "code",
      "metadata": {
        "id": "8ocypXwu--GD",
        "colab": {
          "base_uri": "https://localhost:8080/",
          "height": 67
        },
        "outputId": "01ca6528-b368-4d00-dd48-92118104d795"
      },
      "source": [
        "%tensorflow_version 2.x\n",
        "import keras\n",
        "import numpy as np\n",
        "import matplotlib.pyplot as plt\n",
        "from keras.models import Sequential,Model\n",
        "from keras.utils import get_file,to_categorical\n",
        "from keras.layers import Dense,Dropout,Input\n",
        "import pandas as pd\n",
        "import seaborn as sns\n",
        "\n",
        "print(keras.__version__)"
      ],
      "execution_count": null,
      "outputs": [
        {
          "output_type": "stream",
          "text": [
            "2.3.1\n"
          ],
          "name": "stdout"
        },
        {
          "output_type": "stream",
          "text": [
            "/usr/local/lib/python3.6/dist-packages/statsmodels/tools/_testing.py:19: FutureWarning: pandas.util.testing is deprecated. Use the functions in the public API at pandas.testing instead.\n",
            "  import pandas.util.testing as tm\n"
          ],
          "name": "stderr"
        }
      ]
    },
    {
      "cell_type": "markdown",
      "metadata": {
        "id": "DG9QY_H6CVzS"
      },
      "source": [
        "Prepare dataset(MNIST)"
      ]
    },
    {
      "cell_type": "code",
      "metadata": {
        "id": "yQW2302W_mEE",
        "colab": {
          "base_uri": "https://localhost:8080/",
          "height": 277
        },
        "outputId": "3a0f6345-7503-49ea-ffba-865ea458c23c"
      },
      "source": [
        "(x_train, y_train), (x_test, y_test) = keras.datasets.mnist.load_data()\n",
        "\n",
        "# data visualization\n",
        "fig = plt.figure(figsize = (20, 20))\n",
        "for i in range(6):\n",
        "    ax = fig.add_subplot(1, 6,i + 1, xticks = [], yticks = [])\n",
        "    ax.imshow(x_train[i], cmap = 'gray')\n",
        "    ax.set_title(str(y_train[i]))\n",
        "\n",
        "# image preprocessing\n",
        "x_train = x_train.astype('float32') / 255. \n",
        "x_test = x_test.astype('float32') / 255.\n",
        "\n",
        "# change feature dimension\n",
        "x_train = x_train.reshape((x_train.shape[0], -1))\n",
        "x_test = x_test.reshape((x_test.shape[0], -1))\n",
        "\n",
        "\n",
        "print(x_train.shape)\n",
        "print(x_test.shape)\n",
        "print(y_train.shape)\n",
        "print(y_test.shape)"
      ],
      "execution_count": null,
      "outputs": [
        {
          "output_type": "stream",
          "text": [
            "(60000, 784)\n",
            "(10000, 784)\n",
            "(60000,)\n",
            "(10000,)\n"
          ],
          "name": "stdout"
        },
        {
          "output_type": "display_data",
          "data": {
            "image/png": "[encoded data removed]",
            "text/plain": [
              "<Figure size 1440x1440 with 6 Axes>"
            ]
          },
          "metadata": {
            "tags": []
          }
        }
      ]
    },
    {
      "cell_type": "markdown",
      "metadata": {
        "id": "yh3GJaaiCnoz"
      },
      "source": [
        "Build network"
      ]
    },
    {
      "cell_type": "code",
      "metadata": {
        "id": "68z2UrpYAwNx",
        "colab": {
          "base_uri": "https://localhost:8080/",
          "height": 554
        },
        "outputId": "346bb722-c3e0-48a1-f548-a2b70a858cbb"
      },
      "source": [
        "# use a fully connected work\n",
        "input_img = Input(shape=(len(x_train[1]),))\n",
        "## encoder\n",
        "encoder = Dense(128,activation=\"relu\",name=\"enco1\")(input_img)\n",
        "encoder = Dense(64,activation=\"relu\",name=\"enco2\")(encoder)\n",
        "encoder = Dense(32,activation=\"relu\",name=\"enco3\")(encoder)\n",
        "encoder = Dense(16,activation=\"relu\",name=\"enco4\")(encoder)\n",
        "encoder = Dense(8,activation=\"relu\",name=\"enco5\")(encoder)\n",
        "## decoder\n",
        "decoder = Dense(16,activation=\"relu\",name=\"deco1\")(encoder)\n",
        "decoder = Dense(32,activation=\"relu\",name=\"deco2\")(decoder)\n",
        "decoder = Dense(64,activation=\"relu\",name=\"deco3\")(decoder)\n",
        "decoder = Dense(128,activation=\"relu\",name=\"deco4\")(decoder)\n",
        "decoder = Dense(len(x_train[1]),activation=\"relu\",name=\"deco5\")(decoder)\n",
        "## combined to autoencoder\n",
        "autoencoder = Model(input=input_img, output=decoder)\n",
        "autoencoder.summary()\n",
        "## compile\n",
        "autoencoder.compile(optimizer=\"adam\",loss=\"binary_crossentropy\")"
      ],
      "execution_count": null,
      "outputs": [
        {
          "output_type": "stream",
          "text": [
            "Model: \"model_3\"\n",
            "_________________________________________________________________\n",
            "Layer (type)                 Output Shape              Param #   \n",
            "=================================================================\n",
            "input_7 (InputLayer)         (None, 784)               0         \n",
            "_________________________________________________________________\n",
            "enco1 (Dense)                (None, 128)               100480    \n",
            "_________________________________________________________________\n",
            "enco2 (Dense)                (None, 64)                8256      \n",
            "_________________________________________________________________\n",
            "enco3 (Dense)                (None, 32)                2080      \n",
            "_________________________________________________________________\n",
            "enco4 (Dense)                (None, 16)                528       \n",
            "_________________________________________________________________\n",
            "enco5 (Dense)                (None, 8)                 136       \n",
            "_________________________________________________________________\n",
            "deco1 (Dense)                (None, 16)                144       \n",
            "_________________________________________________________________\n",
            "deco2 (Dense)                (None, 32)                544       \n",
            "_________________________________________________________________\n",
            "deco3 (Dense)                (None, 64)                2112      \n",
            "_________________________________________________________________\n",
            "deco4 (Dense)                (None, 128)               8320      \n",
            "_________________________________________________________________\n",
            "deco5 (Dense)                (None, 784)               101136    \n",
            "=================================================================\n",
            "Total params: 223,736\n",
            "Trainable params: 223,736\n",
            "Non-trainable params: 0\n",
            "_________________________________________________________________\n"
          ],
          "name": "stdout"
        },
        {
          "output_type": "stream",
          "text": [
            "/usr/local/lib/python3.6/dist-packages/ipykernel_launcher.py:15: UserWarning: Update your `Model` call to the Keras 2 API: `Model(inputs=Tensor(\"in..., outputs=Tensor(\"de...)`\n",
            "  from ipykernel import kernelapp as app\n"
          ],
          "name": "stderr"
        }
      ]
    },
    {
      "cell_type": "markdown",
      "metadata": {
        "id": "uNOCzbWBGx0w"
      },
      "source": [
        "Fit model"
      ]
    },
    {
      "cell_type": "code",
      "metadata": {
        "id": "Uwou_x6XGSC6",
        "colab": {
          "base_uri": "https://localhost:8080/",
          "height": 1000
        },
        "outputId": "4a3eb09a-88a7-4b68-edf9-d8b8b4d501e6"
      },
      "source": [
        "autoencoder_fit = autoencoder.fit(x_train,x_train,batch_size=256,epochs=100,\n",
        "                        validation_data=(x_test,x_test))"
      ],
      "execution_count": null,
      "outputs": [
        {
          "output_type": "stream",
          "text": [
            "Train on 60000 samples, validate on 10000 samples\n",
            "Epoch 1/100\n",
            "60000/60000 [==============================] - 2s 37us/step - loss: 0.3433 - val_loss: 0.3334\n",
            "Epoch 2/100\n",
            "60000/60000 [==============================] - 2s 36us/step - loss: 0.3314 - val_loss: 0.3271\n",
            "Epoch 3/100\n",
            "60000/60000 [==============================] - 2s 36us/step - loss: 0.3455 - val_loss: 0.3346\n",
            "Epoch 4/100\n",
            "60000/60000 [==============================] - 2s 36us/step - loss: 0.3414 - val_loss: 0.3333\n",
            "Epoch 5/100\n",
            "60000/60000 [==============================] - 2s 37us/step - loss: 0.3376 - val_loss: 0.3302\n",
            "Epoch 6/100\n",
            "60000/60000 [==============================] - 2s 37us/step - loss: 0.3296 - val_loss: 0.3259\n",
            "Epoch 7/100\n",
            "60000/60000 [==============================] - 2s 37us/step - loss: 0.3353 - val_loss: 0.3342\n",
            "Epoch 8/100\n",
            "60000/60000 [==============================] - 2s 37us/step - loss: 0.3422 - val_loss: 0.3346\n",
            "Epoch 9/100\n",
            "60000/60000 [==============================] - 2s 36us/step - loss: 0.3567 - val_loss: 0.3452\n",
            "Epoch 10/100\n",
            "60000/60000 [==============================] - 2s 36us/step - loss: 0.3415 - val_loss: 0.3418\n",
            "Epoch 11/100\n",
            "60000/60000 [==============================] - 2s 36us/step - loss: 0.3431 - val_loss: 0.3363\n",
            "Epoch 12/100\n",
            "60000/60000 [==============================] - 2s 36us/step - loss: 0.3361 - val_loss: 0.3376\n",
            "Epoch 13/100\n",
            "60000/60000 [==============================] - 2s 36us/step - loss: 0.3573 - val_loss: 0.3505\n",
            "Epoch 14/100\n",
            "60000/60000 [==============================] - 2s 36us/step - loss: 0.3501 - val_loss: 0.3404\n",
            "Epoch 15/100\n",
            "60000/60000 [==============================] - 2s 36us/step - loss: 0.3435 - val_loss: 0.3409\n",
            "Epoch 16/100\n",
            "60000/60000 [==============================] - 2s 36us/step - loss: 0.3459 - val_loss: 0.3515\n",
            "Epoch 17/100\n",
            "60000/60000 [==============================] - 2s 36us/step - loss: 0.3502 - val_loss: 0.3620\n",
            "Epoch 18/100\n",
            "60000/60000 [==============================] - 2s 37us/step - loss: 0.3439 - val_loss: 0.3365\n",
            "Epoch 19/100\n",
            "60000/60000 [==============================] - 2s 36us/step - loss: 0.3622 - val_loss: 0.3554\n",
            "Epoch 20/100\n",
            "60000/60000 [==============================] - 2s 36us/step - loss: 0.3528 - val_loss: 0.3467\n",
            "Epoch 21/100\n",
            "60000/60000 [==============================] - 2s 37us/step - loss: 0.3506 - val_loss: 0.3555\n",
            "Epoch 22/100\n",
            "60000/60000 [==============================] - 2s 37us/step - loss: 0.3533 - val_loss: 0.3492\n",
            "Epoch 23/100\n",
            "60000/60000 [==============================] - 2s 37us/step - loss: 0.3543 - val_loss: 0.3487\n",
            "Epoch 24/100\n",
            "60000/60000 [==============================] - 2s 36us/step - loss: 0.3474 - val_loss: 0.3418\n",
            "Epoch 25/100\n",
            "60000/60000 [==============================] - 2s 36us/step - loss: 0.3399 - val_loss: 0.3397\n",
            "Epoch 26/100\n",
            "60000/60000 [==============================] - 2s 37us/step - loss: 0.3456 - val_loss: 0.3390\n",
            "Epoch 27/100\n",
            "60000/60000 [==============================] - 2s 36us/step - loss: 0.3398 - val_loss: 0.3415\n",
            "Epoch 28/100\n",
            "60000/60000 [==============================] - 2s 37us/step - loss: 0.3373 - val_loss: 0.3305\n",
            "Epoch 29/100\n",
            "60000/60000 [==============================] - 2s 36us/step - loss: 0.3522 - val_loss: 0.3589\n",
            "Epoch 30/100\n",
            "60000/60000 [==============================] - 2s 36us/step - loss: 0.3486 - val_loss: 0.3362\n",
            "Epoch 31/100\n",
            "60000/60000 [==============================] - 2s 36us/step - loss: 0.3576 - val_loss: 0.3514\n",
            "Epoch 32/100\n",
            "60000/60000 [==============================] - 2s 36us/step - loss: 0.3500 - val_loss: 0.3319\n",
            "Epoch 33/100\n",
            "60000/60000 [==============================] - 2s 36us/step - loss: 0.3327 - val_loss: 0.3283\n",
            "Epoch 34/100\n",
            "60000/60000 [==============================] - 2s 36us/step - loss: 0.3257 - val_loss: 0.3216\n",
            "Epoch 35/100\n",
            "60000/60000 [==============================] - 2s 36us/step - loss: 0.3403 - val_loss: 0.3509\n",
            "Epoch 36/100\n",
            "60000/60000 [==============================] - 2s 36us/step - loss: 0.3372 - val_loss: 0.3289\n",
            "Epoch 37/100\n",
            "60000/60000 [==============================] - 2s 36us/step - loss: 0.3271 - val_loss: 0.3313\n",
            "Epoch 38/100\n",
            "60000/60000 [==============================] - 2s 36us/step - loss: 0.3298 - val_loss: 0.3240\n",
            "Epoch 39/100\n",
            "60000/60000 [==============================] - 2s 36us/step - loss: 0.3282 - val_loss: 0.3193\n",
            "Epoch 40/100\n",
            "60000/60000 [==============================] - 2s 36us/step - loss: 0.3214 - val_loss: 0.3174\n",
            "Epoch 41/100\n",
            "60000/60000 [==============================] - 2s 36us/step - loss: 0.3197 - val_loss: 0.3145\n",
            "Epoch 42/100\n",
            "60000/60000 [==============================] - 2s 36us/step - loss: 0.3160 - val_loss: 0.3247\n",
            "Epoch 43/100\n",
            "60000/60000 [==============================] - 2s 36us/step - loss: 0.3242 - val_loss: 0.3146\n",
            "Epoch 44/100\n",
            "60000/60000 [==============================] - 2s 35us/step - loss: 0.3183 - val_loss: 0.3129\n",
            "Epoch 45/100\n",
            "60000/60000 [==============================] - 2s 36us/step - loss: 0.3125 - val_loss: 0.3078\n",
            "Epoch 46/100\n",
            "60000/60000 [==============================] - 2s 36us/step - loss: 0.3123 - val_loss: 0.3093\n",
            "Epoch 47/100\n",
            "60000/60000 [==============================] - 2s 36us/step - loss: 0.3151 - val_loss: 0.3200\n",
            "Epoch 48/100\n",
            "60000/60000 [==============================] - 2s 36us/step - loss: 0.3180 - val_loss: 0.3109\n",
            "Epoch 49/100\n",
            "60000/60000 [==============================] - 2s 36us/step - loss: 0.3084 - val_loss: 0.3053\n",
            "Epoch 50/100\n",
            "60000/60000 [==============================] - 2s 36us/step - loss: 0.3166 - val_loss: 0.3096\n",
            "Epoch 51/100\n",
            "60000/60000 [==============================] - 2s 36us/step - loss: 0.3127 - val_loss: 0.3063\n",
            "Epoch 52/100\n",
            "60000/60000 [==============================] - 2s 36us/step - loss: 0.3096 - val_loss: 0.3257\n",
            "Epoch 53/100\n",
            "60000/60000 [==============================] - 2s 35us/step - loss: 0.3167 - val_loss: 0.3059\n",
            "Epoch 54/100\n",
            "60000/60000 [==============================] - 2s 36us/step - loss: 0.3156 - val_loss: 0.3055\n",
            "Epoch 55/100\n",
            "60000/60000 [==============================] - 2s 35us/step - loss: 0.3147 - val_loss: 0.3169\n",
            "Epoch 56/100\n",
            "60000/60000 [==============================] - 2s 36us/step - loss: 0.3105 - val_loss: 0.3053\n",
            "Epoch 57/100\n",
            "60000/60000 [==============================] - 2s 36us/step - loss: 0.3113 - val_loss: 0.3044\n",
            "Epoch 58/100\n",
            "60000/60000 [==============================] - 2s 36us/step - loss: 0.3090 - val_loss: 0.3048\n",
            "Epoch 59/100\n",
            "60000/60000 [==============================] - 2s 36us/step - loss: 0.3040 - val_loss: 0.3058\n",
            "Epoch 60/100\n",
            "60000/60000 [==============================] - 2s 36us/step - loss: 0.3096 - val_loss: 0.3116\n",
            "Epoch 61/100\n",
            "60000/60000 [==============================] - 2s 36us/step - loss: 0.3076 - val_loss: 0.3068\n",
            "Epoch 62/100\n",
            "60000/60000 [==============================] - 2s 36us/step - loss: 0.3272 - val_loss: 0.3130\n",
            "Epoch 63/100\n",
            "60000/60000 [==============================] - 2s 36us/step - loss: 0.3096 - val_loss: 0.3026\n",
            "Epoch 64/100\n",
            "60000/60000 [==============================] - 2s 36us/step - loss: 0.3043 - val_loss: 0.2980\n",
            "Epoch 65/100\n",
            "60000/60000 [==============================] - 2s 36us/step - loss: 0.3013 - val_loss: 0.2979\n",
            "Epoch 66/100\n",
            "60000/60000 [==============================] - 2s 36us/step - loss: 0.3039 - val_loss: 0.3113\n",
            "Epoch 67/100\n",
            "60000/60000 [==============================] - 2s 36us/step - loss: 0.3006 - val_loss: 0.2942\n",
            "Epoch 68/100\n",
            "60000/60000 [==============================] - 2s 35us/step - loss: 0.3064 - val_loss: 0.3245\n",
            "Epoch 69/100\n",
            "60000/60000 [==============================] - 2s 36us/step - loss: 0.3086 - val_loss: 0.3034\n",
            "Epoch 70/100\n",
            "60000/60000 [==============================] - 2s 36us/step - loss: 0.3096 - val_loss: 0.3776\n",
            "Epoch 71/100\n",
            "60000/60000 [==============================] - 2s 36us/step - loss: 0.3202 - val_loss: 0.3086\n",
            "Epoch 72/100\n",
            "60000/60000 [==============================] - 2s 36us/step - loss: 0.3304 - val_loss: 0.3170\n",
            "Epoch 73/100\n",
            "60000/60000 [==============================] - 2s 36us/step - loss: 0.3137 - val_loss: 0.3072\n",
            "Epoch 74/100\n",
            "60000/60000 [==============================] - 2s 36us/step - loss: 0.3077 - val_loss: 0.3022\n",
            "Epoch 75/100\n",
            "60000/60000 [==============================] - 2s 36us/step - loss: 0.3306 - val_loss: 0.3278\n",
            "Epoch 76/100\n",
            "60000/60000 [==============================] - 2s 36us/step - loss: 0.3215 - val_loss: 0.3130\n",
            "Epoch 77/100\n",
            "60000/60000 [==============================] - 2s 36us/step - loss: 0.3085 - val_loss: 0.3048\n",
            "Epoch 78/100\n",
            "60000/60000 [==============================] - 2s 36us/step - loss: 0.3104 - val_loss: 0.3092\n",
            "Epoch 79/100\n",
            "60000/60000 [==============================] - 2s 36us/step - loss: 0.3092 - val_loss: 0.3031\n",
            "Epoch 80/100\n",
            "60000/60000 [==============================] - 2s 36us/step - loss: 0.3271 - val_loss: 0.3174\n",
            "Epoch 81/100\n",
            "60000/60000 [==============================] - 2s 36us/step - loss: 0.3140 - val_loss: 0.3095\n",
            "Epoch 82/100\n",
            "60000/60000 [==============================] - 2s 36us/step - loss: 0.3134 - val_loss: 0.3180\n",
            "Epoch 83/100\n",
            "60000/60000 [==============================] - 2s 36us/step - loss: 0.3146 - val_loss: 0.3153\n",
            "Epoch 84/100\n",
            "60000/60000 [==============================] - 2s 36us/step - loss: 0.3143 - val_loss: 0.3091\n",
            "Epoch 85/100\n",
            "60000/60000 [==============================] - 2s 36us/step - loss: 0.3108 - val_loss: 0.3081\n",
            "Epoch 86/100\n",
            "60000/60000 [==============================] - 2s 36us/step - loss: 0.3108 - val_loss: 0.3221\n",
            "Epoch 87/100\n",
            "60000/60000 [==============================] - 2s 36us/step - loss: 0.3230 - val_loss: 0.3367\n",
            "Epoch 88/100\n",
            "60000/60000 [==============================] - 2s 36us/step - loss: 0.3204 - val_loss: 0.3116\n",
            "Epoch 89/100\n",
            "60000/60000 [==============================] - 2s 36us/step - loss: 0.3149 - val_loss: 0.3081\n",
            "Epoch 90/100\n",
            "60000/60000 [==============================] - 2s 36us/step - loss: 0.3092 - val_loss: 0.3069\n",
            "Epoch 91/100\n",
            "60000/60000 [==============================] - 2s 36us/step - loss: 0.3103 - val_loss: 0.3081\n",
            "Epoch 92/100\n",
            "60000/60000 [==============================] - 2s 36us/step - loss: 0.3068 - val_loss: 0.3020\n",
            "Epoch 93/100\n",
            "60000/60000 [==============================] - 2s 36us/step - loss: 0.3119 - val_loss: 0.3031\n",
            "Epoch 94/100\n",
            "60000/60000 [==============================] - 2s 36us/step - loss: 0.3213 - val_loss: 0.3097\n",
            "Epoch 95/100\n",
            "60000/60000 [==============================] - 2s 36us/step - loss: 0.3183 - val_loss: 0.3158\n",
            "Epoch 96/100\n",
            "60000/60000 [==============================] - 2s 37us/step - loss: 0.3187 - val_loss: 0.3152\n",
            "Epoch 97/100\n",
            "60000/60000 [==============================] - 2s 36us/step - loss: 0.3130 - val_loss: 0.3088\n",
            "Epoch 98/100\n",
            "60000/60000 [==============================] - 2s 36us/step - loss: 0.3105 - val_loss: 0.3094\n",
            "Epoch 99/100\n",
            "60000/60000 [==============================] - 2s 37us/step - loss: 0.3164 - val_loss: 0.3109\n",
            "Epoch 100/100\n",
            "60000/60000 [==============================] - 2s 36us/step - loss: 0.3127 - val_loss: 0.3077\n"
          ],
          "name": "stdout"
        }
      ]
    },
    {
      "cell_type": "code",
      "metadata": {
        "id": "MTzieAU8G8sS",
        "colab": {
          "base_uri": "https://localhost:8080/",
          "height": 431
        },
        "outputId": "f19c22da-d03f-4886-c374-615496c62b89"
      },
      "source": [
        "plt.figure(figsize=(10,6.5))\n",
        "plt.plot(autoencoder_fit.epoch,autoencoder_fit.history[\"loss\"],\"ro-\",lw=2)\n",
        "plt.plot(autoencoder_fit.epoch,autoencoder_fit.history[\"val_loss\"],\"bs-\",lw=2)\n",
        "plt.grid()\n",
        "plt.xlabel(\"model epoch\")\n",
        "plt.ylabel(\"binary_crossentropy\")\n",
        "plt.title(\"Autoencoder\")\n",
        "plt.show()"
      ],
      "execution_count": null,
      "outputs": [
        {
          "output_type": "display_data",
          "data": {
            "image/png": "[encoded data removed]",
            "text/plain": [
              "<Figure size 720x468 with 1 Axes>"
            ]
          },
          "metadata": {
            "tags": [],
            "needs_background": "light"
          }
        }
      ]
    },
    {
      "cell_type": "code",
      "metadata": {
        "id": "k93jy4jeJwFv",
        "colab": {
          "base_uri": "https://localhost:8080/",
          "height": 212
        },
        "outputId": "f128c423-7d2d-49a3-c317-0949ddd23547"
      },
      "source": [
        "encoder_fit = Model(input_img,encoder)\n",
        "encoded_imgs = encoder_fit.predict(x_test)\n",
        "print(encoded_imgs.shape)\n",
        "col_name = [\"feature\"+str(i+1) for i in range(8)]\n",
        "encoded_feture = pd.DataFrame(data = encoded_imgs, columns=col_name)\n",
        "encoded_feture[\"label\"] = [\"class_\"+str(i) for i in y_test]\n",
        "\n",
        "encoded_feture.head()"
      ],
      "execution_count": null,
      "outputs": [
        {
          "output_type": "stream",
          "text": [
            "(10000, 8)\n"
          ],
          "name": "stdout"
        },
        {
          "output_type": "execute_result",
          "data": {
            "text/html": [
              "<div>\n",
              "<style scoped>\n",
              "    .dataframe tbody tr th:only-of-type {\n",
              "        vertical-align: middle;\n",
              "    }\n",
              "\n",
              "    .dataframe tbody tr th {\n",
              "        vertical-align: top;\n",
              "    }\n",
              "\n",
              "    .dataframe thead th {\n",
              "        text-align: right;\n",
              "    }\n",
              "</style>\n",
              "<table border=\"1\" class=\"dataframe\">\n",
              "  <thead>\n",
              "    <tr style=\"text-align: right;\">\n",
              "      <th></th>\n",
              "      <th>feature1</th>\n",
              "      <th>feature2</th>\n",
              "      <th>feature3</th>\n",
              "      <th>feature4</th>\n",
              "      <th>feature5</th>\n",
              "      <th>feature6</th>\n",
              "      <th>feature7</th>\n",
              "      <th>feature8</th>\n",
              "      <th>label</th>\n",
              "    </tr>\n",
              "  </thead>\n",
              "  <tbody>\n",
              "    <tr>\n",
              "      <th>0</th>\n",
              "      <td>0.0</td>\n",
              "      <td>0.0</td>\n",
              "      <td>2.439606</td>\n",
              "      <td>0.000000</td>\n",
              "      <td>1.430385</td>\n",
              "      <td>4.895399</td>\n",
              "      <td>5.651615</td>\n",
              "      <td>2.465768</td>\n",
              "      <td>class_7</td>\n",
              "    </tr>\n",
              "    <tr>\n",
              "      <th>1</th>\n",
              "      <td>0.0</td>\n",
              "      <td>0.0</td>\n",
              "      <td>0.000000</td>\n",
              "      <td>4.871590</td>\n",
              "      <td>8.440814</td>\n",
              "      <td>4.086798</td>\n",
              "      <td>2.618961</td>\n",
              "      <td>0.507050</td>\n",
              "      <td>class_2</td>\n",
              "    </tr>\n",
              "    <tr>\n",
              "      <th>2</th>\n",
              "      <td>0.0</td>\n",
              "      <td>0.0</td>\n",
              "      <td>0.000000</td>\n",
              "      <td>1.097348</td>\n",
              "      <td>0.539355</td>\n",
              "      <td>0.320848</td>\n",
              "      <td>0.147695</td>\n",
              "      <td>0.261021</td>\n",
              "      <td>class_1</td>\n",
              "    </tr>\n",
              "    <tr>\n",
              "      <th>3</th>\n",
              "      <td>0.0</td>\n",
              "      <td>0.0</td>\n",
              "      <td>3.498133</td>\n",
              "      <td>2.168242</td>\n",
              "      <td>10.007637</td>\n",
              "      <td>5.020410</td>\n",
              "      <td>6.822068</td>\n",
              "      <td>3.156777</td>\n",
              "      <td>class_0</td>\n",
              "    </tr>\n",
              "    <tr>\n",
              "      <th>4</th>\n",
              "      <td>0.0</td>\n",
              "      <td>0.0</td>\n",
              "      <td>2.255636</td>\n",
              "      <td>1.673668</td>\n",
              "      <td>5.288986</td>\n",
              "      <td>6.098208</td>\n",
              "      <td>3.566464</td>\n",
              "      <td>1.802730</td>\n",
              "      <td>class_4</td>\n",
              "    </tr>\n",
              "  </tbody>\n",
              "</table>\n",
              "</div>"
            ],
            "text/plain": [
              "   feature1  feature2  feature3  ...  feature7  feature8    label\n",
              "0       0.0       0.0  2.439606  ...  5.651615  2.465768  class_7\n",
              "1       0.0       0.0  0.000000  ...  2.618961  0.507050  class_2\n",
              "2       0.0       0.0  0.000000  ...  0.147695  0.261021  class_1\n",
              "3       0.0       0.0  3.498133  ...  6.822068  3.156777  class_0\n",
              "4       0.0       0.0  2.255636  ...  3.566464  1.802730  class_4\n",
              "\n",
              "[5 rows x 9 columns]"
            ]
          },
          "metadata": {
            "tags": []
          },
          "execution_count": 39
        }
      ]
    }
  ]
}