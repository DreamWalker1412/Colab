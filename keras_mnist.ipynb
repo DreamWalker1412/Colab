{
  "nbformat": 4,
  "nbformat_minor": 0,
  "metadata": {
    "colab": {
      "name": "keras_mnist.ipynb",
      "provenance": [],
      "collapsed_sections": [],
      "authorship_tag": "ABX9TyMfIBoc9J31e0TNDrBzgGVg",
      "include_colab_link": true
    },
    "kernelspec": {
      "name": "python3",
      "display_name": "Python 3"
    },
    "accelerator": "GPU"
  },
  "cells": [
    {
      "cell_type": "markdown",
      "metadata": {
        "id": "view-in-github",
        "colab_type": "text"
      },
      "source": [
        "<a href=\"https://colab.research.google.com/github/DreamWalker1412/Colab/blob/main/keras_mnist.ipynb\" target=\"_parent\"><img src=\"https://colab.research.google.com/assets/colab-badge.svg\" alt=\"Open In Colab\"/></a>"
      ]
    },
    {
      "cell_type": "markdown",
      "metadata": {
        "id": "96U-ZARafA2u"
      },
      "source": [
        "导入keras版本\n",
        "\n",
        "Keras是一个高层神经网络API，为支持快速实验而生，能够把你的idea迅速转换为结果。"
      ]
    },
    {
      "cell_type": "code",
      "metadata": {
        "id": "NfxYZJvYdyY2",
        "colab": {
          "base_uri": "https://localhost:8080/"
        },
        "outputId": "a4bc8a1a-98e3-4219-b5fa-4f5db2f98998"
      },
      "source": [
        "%tensorflow_version 1.x\n",
        "import keras\n",
        "print(keras.__version__)"
      ],
      "execution_count": null,
      "outputs": [
        {
          "output_type": "stream",
          "text": [
            "TensorFlow 1.x selected.\n"
          ],
          "name": "stdout"
        },
        {
          "output_type": "stream",
          "text": [
            "Using TensorFlow backend.\n"
          ],
          "name": "stderr"
        },
        {
          "output_type": "stream",
          "text": [
            "2.3.1\n"
          ],
          "name": "stdout"
        }
      ]
    },
    {
      "cell_type": "markdown",
      "metadata": {
        "id": "jG5Wwxw7gxOf"
      },
      "source": [
        "1.1 选择模型<br>"
      ]
    },
    {
      "cell_type": "code",
      "metadata": {
        "id": "tWqZrHnVg08e",
        "colab": {
          "base_uri": "https://localhost:8080/"
        },
        "outputId": "8f1eb414-2cf8-490b-8543-3416161866a2"
      },
      "source": [
        "import numpy as np\n",
        "import matplotlib.pyplot as plt\n",
        "\n",
        "from keras.models import Sequential, Model\n",
        "from keras.utils import get_file, to_categorical\n",
        "from keras.layers import Dense\n",
        "\n",
        "model = Sequential()\n",
        "model.add(Dense(units=784, activation='relu', input_dim=784))\n",
        "model.add(Dense(units=10, activation='softmax'))\n",
        "model.compile(loss='categorical_crossentropy',optimizer='sgd',metrics=['accuracy'])\n",
        "model.summary()"
      ],
      "execution_count": null,
      "outputs": [
        {
          "output_type": "stream",
          "text": [
            "WARNING:tensorflow:From /tensorflow-1.15.2/python3.6/tensorflow_core/python/ops/resource_variable_ops.py:1630: calling BaseResourceVariable.__init__ (from tensorflow.python.ops.resource_variable_ops) with constraint is deprecated and will be removed in a future version.\n",
            "Instructions for updating:\n",
            "If using Keras pass *_constraint arguments to layers.\n",
            "Model: \"sequential_1\"\n",
            "_________________________________________________________________\n",
            "Layer (type)                 Output Shape              Param #   \n",
            "=================================================================\n",
            "dense_1 (Dense)              (None, 784)               615440    \n",
            "_________________________________________________________________\n",
            "dense_2 (Dense)              (None, 10)                7850      \n",
            "=================================================================\n",
            "Total params: 623,290\n",
            "Trainable params: 623,290\n",
            "Non-trainable params: 0\n",
            "_________________________________________________________________\n"
          ],
          "name": "stdout"
        }
      ]
    },
    {
      "cell_type": "markdown",
      "metadata": {
        "id": "E1VdCOeglQE7"
      },
      "source": [
        "2 读取数据集"
      ]
    },
    {
      "cell_type": "code",
      "metadata": {
        "id": "wWCGECFllS9f",
        "colab": {
          "base_uri": "https://localhost:8080/"
        },
        "outputId": "53349cf8-4ff7-4959-c907-0b36595002c8"
      },
      "source": [
        "path = get_file('mnist.npz',origin='https://s3.amazonaws.com/img-datasets/mnist.npz'\n",
        "    ,file_hash='8a61469f7ea1b51cbae51d4f78837e45')\n",
        "f = np.load(path)\n",
        "x_train, y_train = f['x_train'], f['y_train']\n",
        "x_test, y_test = f['x_test'], f['y_test']\n",
        "f.close()"
      ],
      "execution_count": null,
      "outputs": [
        {
          "output_type": "stream",
          "text": [
            "Downloading data from https://s3.amazonaws.com/img-datasets/mnist.npz\n",
            "11493376/11490434 [==============================] - 0s 0us/step\n"
          ],
          "name": "stdout"
        }
      ]
    },
    {
      "cell_type": "markdown",
      "metadata": {
        "id": "ytv9Tks9ryED"
      },
      "source": [
        "检查数据"
      ]
    },
    {
      "cell_type": "code",
      "metadata": {
        "id": "dbwC6EVnr1VE",
        "colab": {
          "base_uri": "https://localhost:8080/",
          "height": 217
        },
        "outputId": "fd0bf402-995d-4f9b-d3b6-dfc6eaf4abba"
      },
      "source": [
        "print(x_train.shape)\n",
        "print(x_test.shape)\n",
        "print(y_train.shape)\n",
        "print(y_test.shape)\n",
        "\n",
        "# 可视化查看一下\n",
        "fig = plt.figure(figsize = (20, 20))\n",
        "for i in range(6):\n",
        "    ax = fig.add_subplot(1, 6,i + 1, xticks = [], yticks = [])\n",
        "    ax.imshow(x_train[i], cmap = 'gray')\n",
        "    ax.set_title(str(y_train[i]))"
      ],
      "execution_count": null,
      "outputs": [
        {
          "output_type": "stream",
          "text": [
            "(60000, 28, 28)\n",
            "(10000, 28, 28)\n",
            "(60000,)\n",
            "(10000,)\n"
          ],
          "name": "stdout"
        },
        {
          "output_type": "display_data",
          "data": {
            "image/png": "[encoded data removed]",
            "text/plain": [
              "<Figure size 1440x1440 with 6 Axes>"
            ]
          },
          "metadata": {
            "tags": []
          }
        }
      ]
    },
    {
      "cell_type": "code",
      "metadata": {
        "id": "RU29rS-dvxNm"
      },
      "source": [
        "# 归一化\n",
        "x_train=x_train / 255\n",
        "x_test=x_test / 255\n",
        "\n",
        "x_train=x_train.reshape(-1,784)\n",
        "x_test=x_test.reshape(-1,784)"
      ],
      "execution_count": null,
      "outputs": []
    },
    {
      "cell_type": "code",
      "metadata": {
        "id": "l-n-nE89v-UT"
      },
      "source": [
        "y_train = to_categorical(y_train)\n",
        "y_test = to_categorical(y_test)"
      ],
      "execution_count": null,
      "outputs": []
    },
    {
      "cell_type": "markdown",
      "metadata": {
        "id": "B1zeVcnywUq_"
      },
      "source": [
        "3 训练"
      ]
    },
    {
      "cell_type": "code",
      "metadata": {
        "id": "iMor9kjowCzR",
        "colab": {
          "base_uri": "https://localhost:8080/",
          "height": 255
        },
        "outputId": "2c47ee6d-eb97-481f-c675-912255e7c3e8"
      },
      "source": [
        "model.fit(x_train, y_train, epochs=5, batch_size=32)"
      ],
      "execution_count": null,
      "outputs": [
        {
          "output_type": "stream",
          "text": [
            "WARNING:tensorflow:From /usr/local/lib/python3.6/dist-packages/keras/backend/tensorflow_backend.py:422: The name tf.global_variables is deprecated. Please use tf.compat.v1.global_variables instead.\n",
            "\n",
            "Epoch 1/5\n",
            "60000/60000 [==============================] - 8s 131us/step - loss: 0.5951 - accuracy: 0.8565\n",
            "Epoch 2/5\n",
            "60000/60000 [==============================] - 6s 105us/step - loss: 0.3173 - accuracy: 0.9121\n",
            "Epoch 3/5\n",
            "60000/60000 [==============================] - 6s 104us/step - loss: 0.2694 - accuracy: 0.9252\n",
            "Epoch 4/5\n",
            "60000/60000 [==============================] - 6s 104us/step - loss: 0.2389 - accuracy: 0.9335\n",
            "Epoch 5/5\n",
            "60000/60000 [==============================] - 6s 105us/step - loss: 0.2157 - accuracy: 0.9402\n"
          ],
          "name": "stdout"
        },
        {
          "output_type": "execute_result",
          "data": {
            "text/plain": [
              "<keras.callbacks.callbacks.History at 0x7f31b7900978>"
            ]
          },
          "metadata": {
            "tags": []
          },
          "execution_count": 7
        }
      ]
    },
    {
      "cell_type": "code",
      "metadata": {
        "id": "6xLWd5CDwdGT",
        "colab": {
          "base_uri": "https://localhost:8080/",
          "height": 67
        },
        "outputId": "b4566cac-d48f-488e-de0d-f303f342e5a5"
      },
      "source": [
        "score = model.evaluate(x_test,y_test,batch_size=128)\n",
        "print(\"loss:\",score[0])\n",
        "print(\"accuracy:\",score[1])"
      ],
      "execution_count": null,
      "outputs": [
        {
          "output_type": "stream",
          "text": [
            "10000/10000 [==============================] - 0s 25us/step\n",
            "loss: 0.20205275551080704\n",
            "accuracy: 0.9424999952316284\n"
          ],
          "name": "stdout"
        }
      ]
    },
    {
      "cell_type": "markdown",
      "metadata": {
        "id": "D_NlIi5gxHuz"
      },
      "source": [
        "4 预测"
      ]
    },
    {
      "cell_type": "code",
      "metadata": {
        "id": "nTmGuoq5xJnK",
        "colab": {
          "base_uri": "https://localhost:8080/",
          "height": 34
        },
        "outputId": "024aa9cb-ea27-47cc-dd9f-25002b182ddd"
      },
      "source": [
        "model.predict_classes(x_test,batch_size=128)"
      ],
      "execution_count": null,
      "outputs": [
        {
          "output_type": "execute_result",
          "data": {
            "text/plain": [
              "array([7, 2, 1, ..., 4, 5, 6])"
            ]
          },
          "metadata": {
            "tags": []
          },
          "execution_count": 9
        }
      ]
    },
    {
      "cell_type": "markdown",
      "metadata": {
        "id": "k8LoB4beynEG"
      },
      "source": [
        "5 保存模型参数为JSON文件"
      ]
    },
    {
      "cell_type": "code",
      "metadata": {
        "id": "Glufa2PkysLJ"
      },
      "source": [
        "model_json = model.to_json()\n",
        "json_file = open(\"model.json\", \"w\")\n",
        "json_file.write(model_json)\n",
        "json_file.close()\n",
        "# 保存权重\n",
        "model.save_weights(\"model.weights\")"
      ],
      "execution_count": null,
      "outputs": []
    },
    {
      "cell_type": "markdown",
      "metadata": {
        "id": "jJ4HHows1EfL"
      },
      "source": [
        "6 从文件中读取模型及参数\n",
        "\n"
      ]
    },
    {
      "cell_type": "code",
      "metadata": {
        "id": "gEP_BmMp1Mzc",
        "colab": {
          "base_uri": "https://localhost:8080/",
          "height": 67
        },
        "outputId": "183e9aa5-bfdd-4e41-88b9-8222720c2a87"
      },
      "source": [
        "from keras.models import model_from_json\n",
        "# 读取模型\n",
        "json_file = open('model.json', 'r')\n",
        "loaded_model_json = json_file.read()\n",
        "json_file.close()\n",
        "loaded_model = model_from_json(loaded_model_json)\n",
        "# 读取权重\n",
        "loaded_model.load_weights(\"model.weights\")\n",
        "\n",
        "\n",
        "# 使用之前记得要编译一下\n",
        "loaded_model.compile(loss='categorical_crossentropy',optimizer='sgd',metrics=['accuracy'])\n",
        "\n",
        "# 预测\n",
        "loaded_model.predict_classes(x_test,batch_size=128)\n",
        "score_loaded_model = loaded_model.evaluate(x_test,y_test,batch_size=128)\n",
        "print(\"loss:\",score_loaded_model[0])\n",
        "print(\"accuracy:\",score_loaded_model[1])"
      ],
      "execution_count": null,
      "outputs": [
        {
          "output_type": "stream",
          "text": [
            "10000/10000 [==============================] - 0s 24us/step\n",
            "loss: 0.20205275551080704\n",
            "accuracy: 0.9424999952316284\n"
          ],
          "name": "stdout"
        }
      ]
    },
    {
      "cell_type": "markdown",
      "metadata": {
        "id": "LlRSEtEzKqiC"
      },
      "source": [
        "7. RNN测试"
      ]
    },
    {
      "cell_type": "code",
      "metadata": {
        "id": "koFU6jhjKxGR",
        "colab": {
          "base_uri": "https://localhost:8080/"
        },
        "outputId": "57614ffd-f8bc-48dd-af3f-eb50d1bcda8a"
      },
      "source": [
        "from tensorflow.examples.tutorials.mnist import input_data\n",
        "import tensorflow as tf\n",
        "import os\n",
        "\n",
        "mnist = input_data.read_data_sets('MNIST_data',one_hot=True)\n",
        "\n",
        "n_inputs = 28\n",
        "max_time = 28\n",
        "lstm_size = 100\n",
        "n_classes = 10\n",
        "batch_size =50\n",
        "n_batch = mnist.train.num_examples//batch_size\n",
        "\n",
        "x = tf.placeholder(tf.float32,[None,784])\n",
        "y = tf.placeholder(tf.float32,[None,10])\n",
        "\n",
        "weights = tf.Variable(tf.truncated_normal([lstm_size,n_classes],stddev=0.1))\n",
        "biases = tf.Variable(tf.constant(0.1,shape=[n_classes]))\n"
      ],
      "execution_count": null,
      "outputs": [
        {
          "output_type": "stream",
          "text": [
            "WARNING:tensorflow:From <ipython-input-2-9e2a2916d286>:5: read_data_sets (from tensorflow.contrib.learn.python.learn.datasets.mnist) is deprecated and will be removed in a future version.\n",
            "Instructions for updating:\n",
            "Please use alternatives such as official/mnist/dataset.py from tensorflow/models.\n",
            "WARNING:tensorflow:From /tensorflow-1.15.2/python3.6/tensorflow_core/contrib/learn/python/learn/datasets/mnist.py:260: maybe_download (from tensorflow.contrib.learn.python.learn.datasets.base) is deprecated and will be removed in a future version.\n",
            "Instructions for updating:\n",
            "Please write your own downloading logic.\n",
            "WARNING:tensorflow:From /tensorflow-1.15.2/python3.6/tensorflow_core/contrib/learn/python/learn/datasets/base.py:252: _internal_retry.<locals>.wrap.<locals>.wrapped_fn (from tensorflow.contrib.learn.python.learn.datasets.base) is deprecated and will be removed in a future version.\n",
            "Instructions for updating:\n",
            "Please use urllib or similar directly.\n",
            "Successfully downloaded train-images-idx3-ubyte.gz 9912422 bytes.\n",
            "WARNING:tensorflow:From /tensorflow-1.15.2/python3.6/tensorflow_core/contrib/learn/python/learn/datasets/mnist.py:262: extract_images (from tensorflow.contrib.learn.python.learn.datasets.mnist) is deprecated and will be removed in a future version.\n",
            "Instructions for updating:\n",
            "Please use tf.data to implement this functionality.\n",
            "Extracting MNIST_data/train-images-idx3-ubyte.gz\n",
            "Successfully downloaded train-labels-idx1-ubyte.gz 28881 bytes.\n",
            "WARNING:tensorflow:From /tensorflow-1.15.2/python3.6/tensorflow_core/contrib/learn/python/learn/datasets/mnist.py:267: extract_labels (from tensorflow.contrib.learn.python.learn.datasets.mnist) is deprecated and will be removed in a future version.\n",
            "Instructions for updating:\n",
            "Please use tf.data to implement this functionality.\n",
            "Extracting MNIST_data/train-labels-idx1-ubyte.gz\n",
            "WARNING:tensorflow:From /tensorflow-1.15.2/python3.6/tensorflow_core/contrib/learn/python/learn/datasets/mnist.py:110: dense_to_one_hot (from tensorflow.contrib.learn.python.learn.datasets.mnist) is deprecated and will be removed in a future version.\n",
            "Instructions for updating:\n",
            "Please use tf.one_hot on tensors.\n",
            "Successfully downloaded t10k-images-idx3-ubyte.gz 1648877 bytes.\n",
            "Extracting MNIST_data/t10k-images-idx3-ubyte.gz\n",
            "Successfully downloaded t10k-labels-idx1-ubyte.gz 4542 bytes.\n",
            "Extracting MNIST_data/t10k-labels-idx1-ubyte.gz\n",
            "WARNING:tensorflow:From /tensorflow-1.15.2/python3.6/tensorflow_core/contrib/learn/python/learn/datasets/mnist.py:290: DataSet.__init__ (from tensorflow.contrib.learn.python.learn.datasets.mnist) is deprecated and will be removed in a future version.\n",
            "Instructions for updating:\n",
            "Please use alternatives such as official/mnist/dataset.py from tensorflow/models.\n"
          ],
          "name": "stdout"
        }
      ]
    },
    {
      "cell_type": "markdown",
      "metadata": {
        "id": "SDlwwW09M1jD"
      },
      "source": [
        "定义RNN(LSTM)网络"
      ]
    },
    {
      "cell_type": "code",
      "metadata": {
        "id": "CR_WzDbCM4jQ"
      },
      "source": [
        "from tensorflow.contrib import rnn\n",
        "\n",
        "def RNN(X, weights, biases):\n",
        "  inputs = tf.reshape(X,[-1,max_time,n_inputs])\n",
        "  lstm_cell = rnn.BasicLSTMCell(lstm_size)\n",
        "  outputs,final_state = tf.nn.dynamic_rnn(lstm_cell,inputs,dtype=tf.float32)\n",
        "  print('shape(outputs): ',outputs)\n",
        "  print('shape(final_state: ',outputs)\n",
        "  results = tf.nn.softmax(tf.matmul(final_state[1],weights)+biases)\n",
        "  return results\n"
      ],
      "execution_count": null,
      "outputs": []
    },
    {
      "cell_type": "markdown",
      "metadata": {
        "id": "gMEPBXC0OcDW"
      },
      "source": [
        "计算评估结果"
      ]
    },
    {
      "cell_type": "code",
      "metadata": {
        "id": "75-IVi95OiCo",
        "colab": {
          "base_uri": "https://localhost:8080/"
        },
        "outputId": "40eec67a-7256-4a23-e21a-a36b6b8a8141"
      },
      "source": [
        "prediction = RNN(x,weights,biases)\n",
        "cross_entropy = tf.reduce_mean(tf.nn.softmax_cross_entropy_with_logits_v2(labels=y,logits=prediction))\n",
        "train_op = tf.train.AdamOptimizer(1e-4).minimize(cross_entropy)\n",
        "crroect_prediction = tf.equal(tf.argmax(y,1),tf.argmax(prediction,1))\n",
        "accuracy = tf.reduce_mean(tf.cast(crroect_prediction,tf.float32))"
      ],
      "execution_count": null,
      "outputs": [
        {
          "output_type": "stream",
          "text": [
            "WARNING:tensorflow:From <ipython-input-4-1e464411db29>:5: BasicLSTMCell.__init__ (from tensorflow.python.ops.rnn_cell_impl) is deprecated and will be removed in a future version.\n",
            "Instructions for updating:\n",
            "This class is equivalent as tf.keras.layers.LSTMCell, and will be replaced by that in Tensorflow 2.0.\n",
            "WARNING:tensorflow:From <ipython-input-4-1e464411db29>:6: dynamic_rnn (from tensorflow.python.ops.rnn) is deprecated and will be removed in a future version.\n",
            "Instructions for updating:\n",
            "Please use `keras.layers.RNN(cell)`, which is equivalent to this API\n",
            "WARNING:tensorflow:From /tensorflow-1.15.2/python3.6/tensorflow_core/python/ops/rnn_cell_impl.py:735: Layer.add_variable (from tensorflow.python.keras.engine.base_layer) is deprecated and will be removed in a future version.\n",
            "Instructions for updating:\n",
            "Please use `layer.add_weight` method instead.\n",
            "WARNING:tensorflow:From /tensorflow-1.15.2/python3.6/tensorflow_core/python/ops/rnn_cell_impl.py:739: calling Zeros.__init__ (from tensorflow.python.ops.init_ops) with dtype is deprecated and will be removed in a future version.\n",
            "Instructions for updating:\n",
            "Call initializer instance with the dtype argument instead of passing it to the constructor\n",
            "shape(outputs):  Tensor(\"rnn/transpose_1:0\", shape=(?, 28, 100), dtype=float32)\n",
            "shape(final_state:  Tensor(\"rnn/transpose_1:0\", shape=(?, 28, 100), dtype=float32)\n"
          ],
          "name": "stdout"
        }
      ]
    },
    {
      "cell_type": "markdown",
      "metadata": {
        "id": "uJOIJtvAPnt4"
      },
      "source": [
        "开始训练模型"
      ]
    },
    {
      "cell_type": "code",
      "metadata": {
        "id": "SJ0nA8XFPm_7",
        "colab": {
          "base_uri": "https://localhost:8080/"
        },
        "outputId": "93cab042-7fd1-431a-d67f-3215bbccca04"
      },
      "source": [
        "with tf.Session() as sess:\n",
        "  sess.run(tf.global_variables_initializer())\n",
        "  for epoch in range(10):\n",
        "    for batch in range(n_batch):\n",
        "      batch_xs, batch_ys = mnist.train.next_batch(batch_size)\n",
        "      sess.run(train_op,feed_dict={x: batch_xs, y: batch_ys})\n",
        "    acc = sess.run(accuracy, feed_dict={x: mnist.test.images, y: mnist.test.labels})\n",
        "    print('Iter '+str(epoch)+', Testing Accuracy='+str(acc))"
      ],
      "execution_count": null,
      "outputs": [
        {
          "output_type": "stream",
          "text": [
            "Iter 0, Testing Accuracy=0.7237\n",
            "Iter 1, Testing Accuracy=0.8552\n",
            "Iter 2, Testing Accuracy=0.8795\n",
            "Iter 3, Testing Accuracy=0.9078\n",
            "Iter 4, Testing Accuracy=0.9153\n",
            "Iter 5, Testing Accuracy=0.9286\n",
            "Iter 6, Testing Accuracy=0.9318\n",
            "Iter 7, Testing Accuracy=0.9389\n",
            "Iter 8, Testing Accuracy=0.9433\n",
            "Iter 9, Testing Accuracy=0.9428\n"
          ],
          "name": "stdout"
        }
      ]
    },
    {
      "cell_type": "code",
      "metadata": {
        "id": "zzY_BF8KP6vX"
      },
      "source": [
        ""
      ],
      "execution_count": null,
      "outputs": []
    }
  ]
}