{
  "nbformat": 4,
  "nbformat_minor": 0,
  "metadata": {
    "accelerator": "GPU",
    "colab": {
      "name": "LDL.ipynb",
      "provenance": [],
      "collapsed_sections": [
        "5LLTBDU7Nuwm",
        "yCmYn3riunMF",
        "Uvhz4XTkuwWm",
        "Sy6qaOoUGjcH",
        "UcXvONf6N_ni",
        "sMQy1zWwXwYb",
        "uSD_adunU1IY",
        "XVDqqOTpBQbY",
        "ATa9pqdBcp53",
        "YYFDULfKGN-K"
      ],
      "toc_visible": true,
      "mount_file_id": "1FQMWsDB5NwR3zHj6r8SkSQtyyeiQDyge",
      "authorship_tag": "ABX9TyOOM4BauzMGnktOiaScG3aI",
      "include_colab_link": true
    },
    "kernelspec": {
      "display_name": "Python 3",
      "name": "python3"
    }
  },
  "cells": [
    {
      "cell_type": "markdown",
      "metadata": {
        "id": "view-in-github",
        "colab_type": "text"
      },
      "source": [
        "<a href=\"https://colab.research.google.com/github/DreamWalker1412/Colab/blob/main/LDL.ipynb\" target=\"_parent\"><img src=\"https://colab.research.google.com/assets/colab-badge.svg\" alt=\"Open In Colab\"/></a>"
      ]
    },
    {
      "cell_type": "markdown",
      "metadata": {
        "id": "rGUjPwOwsRQ2"
      },
      "source": [
        "GPU information"
      ]
    },
    {
      "cell_type": "code",
      "metadata": {
        "id": "PzwsDT0crfPq",
        "colab": {
          "base_uri": "https://localhost:8080/"
        },
        "outputId": "b7674e62-d4e5-4341-cf37-b871f96c1900"
      },
      "source": [
        "!nvidia-smi"
      ],
      "execution_count": null,
      "outputs": [
        {
          "output_type": "stream",
          "text": [
            "Thu Dec 24 09:08:27 2020       \n",
            "+-----------------------------------------------------------------------------+\n",
            "| NVIDIA-SMI 460.27.04    Driver Version: 418.67       CUDA Version: 10.1     |\n",
            "|-------------------------------+----------------------+----------------------+\n",
            "| GPU  Name        Persistence-M| Bus-Id        Disp.A | Volatile Uncorr. ECC |\n",
            "| Fan  Temp  Perf  Pwr:Usage/Cap|         Memory-Usage | GPU-Util  Compute M. |\n",
            "|                               |                      |               MIG M. |\n",
            "|===============================+======================+======================|\n",
            "|   0  Tesla P100-PCIE...  Off  | 00000000:00:04.0 Off |                    0 |\n",
            "| N/A   34C    P0    26W / 250W |      0MiB / 16280MiB |      0%      Default |\n",
            "|                               |                      |                 ERR! |\n",
            "+-------------------------------+----------------------+----------------------+\n",
            "                                                                               \n",
            "+-----------------------------------------------------------------------------+\n",
            "| Processes:                                                                  |\n",
            "|  GPU   GI   CI        PID   Type   Process name                  GPU Memory |\n",
            "|        ID   ID                                                   Usage      |\n",
            "|=============================================================================|\n",
            "|  No running processes found                                                 |\n",
            "+-----------------------------------------------------------------------------+\n"
          ],
          "name": "stdout"
        }
      ]
    },
    {
      "cell_type": "markdown",
      "metadata": {
        "id": "CZ8MI3tpBiM8"
      },
      "source": [
        "# Resource preparation"
      ]
    },
    {
      "cell_type": "markdown",
      "metadata": {
        "id": "kqT52g81N14a"
      },
      "source": [
        "## Import required libraries"
      ]
    },
    {
      "cell_type": "markdown",
      "metadata": {
        "id": "KWJXxHY3f7sG"
      },
      "source": [
        "Update pandas and pandas_profiling libraries before loading instance of pandas"
      ]
    },
    {
      "cell_type": "code",
      "metadata": {
        "id": "UVNqclCff08S"
      },
      "source": [
        "!pip install --upgrade pandas\n",
        "!pip install --upgrade pandas_profiling"
      ],
      "execution_count": null,
      "outputs": []
    },
    {
      "cell_type": "markdown",
      "metadata": {
        "id": "EYpiYkmOgMIe"
      },
      "source": [
        "Call tersorflow 2.x version to support auto-keras and other related libraries"
      ]
    },
    {
      "cell_type": "code",
      "metadata": {
        "id": "VZIrxQOatTPR"
      },
      "source": [
        "%tensorflow_version 2.x\n",
        "import sklearn\n",
        "from sklearn import preprocessing\n",
        "from sklearn import model_selection\n",
        "from sklearn.decomposition import PCA\n",
        "from sklearn.metrics import *\n",
        "\n",
        "import scipy\n",
        "from scipy import io as spio\n",
        "from scipy import stats\n",
        "import numpy as np\n",
        "import pandas as pd\n",
        "\n",
        "# Drawing tools\n",
        "import matplotlib.pyplot as plt\n",
        "import seaborn as sns"
      ],
      "execution_count": null,
      "outputs": []
    },
    {
      "cell_type": "markdown",
      "metadata": {
        "id": "RxBCeEplOGtp"
      },
      "source": [
        "## Download datasets"
      ]
    },
    {
      "cell_type": "markdown",
      "metadata": {
        "id": "WS6H3sXHgld8"
      },
      "source": [
        "Decompress the data stored in the Google disk to Colab, or you can download the data from Dropbox.\n",
        "\n",
        "\n",
        "```\n",
        "!wget -c https://www.dropbox.com/sh/oxk6087vnsazr60/AABgsh2rrC79aWDaXeC-4VXIa?dl=0 -O CADA_VAE.zip\n",
        "!unzip CADA_VAE.zip\n",
        "```\n",
        "\n"
      ]
    },
    {
      "cell_type": "code",
      "metadata": {
        "id": "beU9GPLc3mVb",
        "colab": {
          "base_uri": "https://localhost:8080/"
        },
        "outputId": "f3d34e22-c027-4fdb-c5ca-fb5daa2a177e"
      },
      "source": [
        "!unzip /content/drive/'My Drive'/data/LDL/LDL_datasets_mat.zip\n",
        "!unzip /content/drive/'My Drive'/data/MLL/MLL_datasets_mat.zip"
      ],
      "execution_count": null,
      "outputs": [
        {
          "output_type": "stream",
          "text": [
            "Archive:  /content/drive/My Drive/data/LDL/LDL_datasets_mat.zip\n",
            "   creating: data_mat/\n",
            "  inflating: data_mat/Flickr.mat     \n",
            "  inflating: data_mat/Human_Gene.mat  \n",
            "  inflating: data_mat/JAFFE(Fear Excluded).mat  \n",
            "  inflating: data_mat/JAFFE.mat      \n",
            "  inflating: data_mat/Movie.mat      \n",
            "  inflating: data_mat/Natural_Scene.mat  \n",
            "  inflating: data_mat/SBU_3DFE.mat   \n",
            "  inflating: data_mat/SJAFFE.mat     \n",
            "  inflating: data_mat/Twitter.mat    \n",
            "  inflating: data_mat/Yeast_alpha.mat  \n",
            "  inflating: data_mat/Yeast_cdc.mat  \n",
            "  inflating: data_mat/Yeast_cold.mat  \n",
            "  inflating: data_mat/Yeast_diau.mat  \n",
            "  inflating: data_mat/Yeast_dtt.mat  \n",
            "  inflating: data_mat/Yeast_elu.mat  \n",
            "  inflating: data_mat/Yeast_heat.mat  \n",
            "  inflating: data_mat/Yeast_spo.mat  \n",
            "  inflating: data_mat/Yeast_spo5.mat  \n",
            "  inflating: data_mat/Yeast_spoem.mat  \n",
            "Archive:  /content/drive/My Drive/data/MLL/MLL_datasets_mat.zip\n",
            "   creating: ML_datasets/\n",
            "  inflating: ML_datasets/Arts.mat    \n",
            "  inflating: ML_datasets/business.mat  \n",
            "  inflating: ML_datasets/cal500.mat  \n",
            "  inflating: ML_datasets/enron.mat   \n",
            "  inflating: ML_datasets/flags.mat   \n",
            "  inflating: ML_datasets/genbase.mat  \n",
            "  inflating: ML_datasets/health.mat  \n",
            "  inflating: ML_datasets/Image.mat   \n",
            "  inflating: ML_datasets/llog.mat    \n",
            "  inflating: ML_datasets/medical.mat  \n",
            "  inflating: ML_datasets/slashdot.mat  \n",
            "  inflating: ML_datasets/society.mat  \n",
            "  inflating: ML_datasets/yeast.mat   \n"
          ],
          "name": "stdout"
        }
      ]
    },
    {
      "cell_type": "markdown",
      "metadata": {
        "id": "BsbG4Qq0gciB"
      },
      "source": [
        "Store the dataset path in a dictionary structure"
      ]
    },
    {
      "cell_type": "code",
      "metadata": {
        "id": "hRDCt3E97e6C"
      },
      "source": [
        "data_path = dict(\n",
        "    # Label distribution learning datasets, beginning with an uppercase letter.\n",
        "    Human_Gene='/content/data_mat/Human_Gene.mat',\n",
        "    Movie='/content/data_mat/Movie.mat',\n",
        "    Natural_Scene='/content/data_mat/Natural_Scene.mat',\n",
        "    SBU_3DFE='/content/data_mat/SBU_3DFE.mat',\n",
        "    SJAFFE='/content/data_mat/SJAFFE.mat',\n",
        "    Yeast_alpha='/content/data_mat/Yeast_alpha.mat',\n",
        "    Yeast_cdc='/content/data_mat/Yeast_cdc.mat',\n",
        "    Yeast_cold='/content/data_mat/Yeast_cold.mat',\n",
        "    Yeast_diau='/content/data_mat/Yeast_diau.mat',\n",
        "    Yeast_dtt='/content/data_mat/Yeast_dtt.mat',\n",
        "    Yeast_elu='/content/data_mat/Yeast_elu.mat',\n",
        "    Yeast_heat='/content/data_mat/Yeast_heat.mat',\n",
        "    Yeast_spo='/content/data_mat/Yeast_spo.mat',\n",
        "    Yeast_spo5='/content/data_mat/Yeast_spo5.mat',\n",
        "    Yeast_spoem='/content/data_mat/Yeast_spoem.mat',\n",
        "    Flickr='/content/data_mat/Flickr.mat',\n",
        "    Twitter='/content/data_mat/Twitter.mat',\n",
        "\n",
        "    # Muti-label learning datasets, beginning with a lowercase letter.\n",
        "    yahoo_arts='/content/ML_datasets/Arts.mat', \n",
        "    image='/content/ML_datasets/Image.mat',\n",
        "    yahoo_business='/content/ML_datasets/business.mat',\n",
        "    cal500='/content/ML_datasets/cal500.mat',\n",
        "    enron='/content/ML_datasets/enron.mat',\n",
        "    flags='/content/ML_datasets/flags.mat',\n",
        "    genbase='/content/ML_datasets/genbase.mat',\n",
        "    health='/content/ML_datasets/health.mat',\n",
        "    llog='/content/ML_datasets/llog.mat',\n",
        "    medical='/content/ML_datasets/medical.mat',\n",
        "    slashdot='/content/ML_datasets/slashdot.mat',\n",
        "    society='/content/ML_datasets/society.mat',\n",
        "    yeast='/content/ML_datasets/yeast.mat'\n",
        "    )"
      ],
      "execution_count": null,
      "outputs": []
    },
    {
      "cell_type": "markdown",
      "metadata": {
        "id": "BWAAx3vSBxdM"
      },
      "source": [
        "## Load data"
      ]
    },
    {
      "cell_type": "markdown",
      "metadata": {
        "id": "YD3x-OuKrkfk"
      },
      "source": [
        "Use \"loadmat\" function of scipy to read data in mat format. If it is csv format data, use pandas to read."
      ]
    },
    {
      "cell_type": "code",
      "metadata": {
        "id": "CpJ3S7Ml4_Ra"
      },
      "source": [
        "dataset_name = 'SBU_3DFE'\n",
        "data = spio.loadmat(data_path[dataset_name])\n",
        "X = data['features']\n",
        "y = data['labels']"
      ],
      "execution_count": null,
      "outputs": []
    },
    {
      "cell_type": "code",
      "metadata": {
        "colab": {
          "base_uri": "https://localhost:8080/"
        },
        "id": "ZqMYyXRw9aWq",
        "outputId": "13c35993-32db-4622-d2f8-e9a304d5ef88"
      },
      "source": [
        "X_train,X_test,y_train,y_test = model_selection.train_test_split(X,y,test_size=0.2)\n",
        "print(X_train.shape, X_test.shape, y_train.shape, y_test.shape)"
      ],
      "execution_count": null,
      "outputs": [
        {
          "output_type": "stream",
          "text": [
            "(2000, 243) (500, 243) (2000, 6) (500, 6)\n"
          ],
          "name": "stdout"
        }
      ]
    },
    {
      "cell_type": "markdown",
      "metadata": {
        "id": "mRO-MtdQa02q"
      },
      "source": [
        "convent to single label and muli-label"
      ]
    },
    {
      "cell_type": "code",
      "metadata": {
        "id": "hJ7R0IAJU2At"
      },
      "source": [
        "import numpy as np\n",
        "import copy\n",
        "\n",
        "# single label\n",
        "def get_single_label(y):\n",
        "  maxInRows = np.amax(y,axis=1)\n",
        "  result = [np.where(y[i] == maxInRows[i],1,0) for i in range(len(y))]\n",
        "  single_label = np.array(result)\n",
        "  return single_label\n",
        "\n",
        "# multi-label\n",
        "def get_multi_label(y,set_threshold=0.3):\n",
        "  ls = list() \n",
        "  index_sort = np.argsort(-y,axis=-1)\n",
        "  for i in range(y.shape[0]):\n",
        "    sum = 0\n",
        "    y_sort_row = y[i][index_sort[i]]\n",
        "    for j in range(y.shape[1]):\n",
        "      sum += y_sort_row[j]\n",
        "      if sum>=set_threshold:\n",
        "        ls.append(y_sort_row[j])\n",
        "        break\n",
        "  result = [np.where(y[i] >= ls[i],1,0) for i in range(len(y))]\n",
        "  multi_label = np.array(result)\n",
        "  return multi_label"
      ],
      "execution_count": null,
      "outputs": []
    },
    {
      "cell_type": "code",
      "metadata": {
        "colab": {
          "base_uri": "https://localhost:8080/"
        },
        "id": "CanQJ1Ybho7J",
        "outputId": "b082239c-b53f-476d-8dfd-10734d2aa619"
      },
      "source": [
        "y_sl_train = get_single_label(y_train)\n",
        "y_sl_test = get_single_label(y_test)\n",
        "\n",
        "y_ml_train = get_multi_label(y_train)\n",
        "y_ml_test = get_multi_label(y_test)\n",
        "print(y_sl_train.shape, y_sl_test.shape)\n",
        "print(y_ml_train.shape, y_ml_test.shape)"
      ],
      "execution_count": null,
      "outputs": [
        {
          "output_type": "stream",
          "text": [
            "(2000, 6) (500, 6)\n",
            "(2000, 6) (500, 6)\n"
          ],
          "name": "stdout"
        }
      ]
    },
    {
      "cell_type": "markdown",
      "metadata": {
        "id": "xP12CosGjSox"
      },
      "source": [
        "Convert to DataFrame format data, check the statistical characteristics of features and labels."
      ]
    },
    {
      "cell_type": "code",
      "metadata": {
        "colab": {
          "base_uri": "https://localhost:8080/",
          "height": 284
        },
        "id": "j_rJti_Mjf2W",
        "outputId": "2cb290df-4cb2-4de5-e5a8-7ed638968fdd"
      },
      "source": [
        "features = pd.DataFrame(X)\n",
        "labels = pd.DataFrame(get_single_label(y))\n",
        "\n",
        "labels.describe()"
      ],
      "execution_count": null,
      "outputs": [
        {
          "output_type": "execute_result",
          "data": {
            "text/html": [
              "<div>\n",
              "<style scoped>\n",
              "    .dataframe tbody tr th:only-of-type {\n",
              "        vertical-align: middle;\n",
              "    }\n",
              "\n",
              "    .dataframe tbody tr th {\n",
              "        vertical-align: top;\n",
              "    }\n",
              "\n",
              "    .dataframe thead th {\n",
              "        text-align: right;\n",
              "    }\n",
              "</style>\n",
              "<table border=\"1\" class=\"dataframe\">\n",
              "  <thead>\n",
              "    <tr style=\"text-align: right;\">\n",
              "      <th></th>\n",
              "      <th>0</th>\n",
              "      <th>1</th>\n",
              "      <th>2</th>\n",
              "      <th>3</th>\n",
              "      <th>4</th>\n",
              "      <th>5</th>\n",
              "      <th>6</th>\n",
              "      <th>7</th>\n",
              "    </tr>\n",
              "  </thead>\n",
              "  <tbody>\n",
              "    <tr>\n",
              "      <th>count</th>\n",
              "      <td>11150.000000</td>\n",
              "      <td>11150.000000</td>\n",
              "      <td>11150.000000</td>\n",
              "      <td>11150.000000</td>\n",
              "      <td>11150.000000</td>\n",
              "      <td>11150.000000</td>\n",
              "      <td>11150.000000</td>\n",
              "      <td>11150.000000</td>\n",
              "    </tr>\n",
              "    <tr>\n",
              "      <th>mean</th>\n",
              "      <td>0.102870</td>\n",
              "      <td>0.126099</td>\n",
              "      <td>0.594888</td>\n",
              "      <td>0.057937</td>\n",
              "      <td>0.020628</td>\n",
              "      <td>0.047803</td>\n",
              "      <td>0.068969</td>\n",
              "      <td>0.081525</td>\n",
              "    </tr>\n",
              "    <tr>\n",
              "      <th>std</th>\n",
              "      <td>0.303803</td>\n",
              "      <td>0.331975</td>\n",
              "      <td>0.490936</td>\n",
              "      <td>0.233635</td>\n",
              "      <td>0.142141</td>\n",
              "      <td>0.213358</td>\n",
              "      <td>0.253412</td>\n",
              "      <td>0.273651</td>\n",
              "    </tr>\n",
              "    <tr>\n",
              "      <th>min</th>\n",
              "      <td>0.000000</td>\n",
              "      <td>0.000000</td>\n",
              "      <td>0.000000</td>\n",
              "      <td>0.000000</td>\n",
              "      <td>0.000000</td>\n",
              "      <td>0.000000</td>\n",
              "      <td>0.000000</td>\n",
              "      <td>0.000000</td>\n",
              "    </tr>\n",
              "    <tr>\n",
              "      <th>25%</th>\n",
              "      <td>0.000000</td>\n",
              "      <td>0.000000</td>\n",
              "      <td>0.000000</td>\n",
              "      <td>0.000000</td>\n",
              "      <td>0.000000</td>\n",
              "      <td>0.000000</td>\n",
              "      <td>0.000000</td>\n",
              "      <td>0.000000</td>\n",
              "    </tr>\n",
              "    <tr>\n",
              "      <th>50%</th>\n",
              "      <td>0.000000</td>\n",
              "      <td>0.000000</td>\n",
              "      <td>1.000000</td>\n",
              "      <td>0.000000</td>\n",
              "      <td>0.000000</td>\n",
              "      <td>0.000000</td>\n",
              "      <td>0.000000</td>\n",
              "      <td>0.000000</td>\n",
              "    </tr>\n",
              "    <tr>\n",
              "      <th>75%</th>\n",
              "      <td>0.000000</td>\n",
              "      <td>0.000000</td>\n",
              "      <td>1.000000</td>\n",
              "      <td>0.000000</td>\n",
              "      <td>0.000000</td>\n",
              "      <td>0.000000</td>\n",
              "      <td>0.000000</td>\n",
              "      <td>0.000000</td>\n",
              "    </tr>\n",
              "    <tr>\n",
              "      <th>max</th>\n",
              "      <td>1.000000</td>\n",
              "      <td>1.000000</td>\n",
              "      <td>1.000000</td>\n",
              "      <td>1.000000</td>\n",
              "      <td>1.000000</td>\n",
              "      <td>1.000000</td>\n",
              "      <td>1.000000</td>\n",
              "      <td>1.000000</td>\n",
              "    </tr>\n",
              "  </tbody>\n",
              "</table>\n",
              "</div>"
            ],
            "text/plain": [
              "                  0             1  ...             6             7\n",
              "count  11150.000000  11150.000000  ...  11150.000000  11150.000000\n",
              "mean       0.102870      0.126099  ...      0.068969      0.081525\n",
              "std        0.303803      0.331975  ...      0.253412      0.273651\n",
              "min        0.000000      0.000000  ...      0.000000      0.000000\n",
              "25%        0.000000      0.000000  ...      0.000000      0.000000\n",
              "50%        0.000000      0.000000  ...      0.000000      0.000000\n",
              "75%        0.000000      0.000000  ...      0.000000      0.000000\n",
              "max        1.000000      1.000000  ...      1.000000      1.000000\n",
              "\n",
              "[8 rows x 8 columns]"
            ]
          },
          "metadata": {
            "tags": []
          },
          "execution_count": 18
        }
      ]
    },
    {
      "cell_type": "code",
      "metadata": {
        "id": "wNx6wo6DGxx3",
        "colab": {
          "base_uri": "https://localhost:8080/",
          "height": 284
        },
        "outputId": "11c7dfa4-028e-4768-94ed-69b529f8490f"
      },
      "source": [
        "# Special for emotion datasets: \"SJAFFE\" & \"SBU_3DFE\"\n",
        "if dataset_name in ['SJAFFE','SBU_3DFE']:\n",
        "  labels = pd.DataFrame(y,columns=['Happy', 'Sad', 'Surprise', 'Anger', 'Disgust', 'Fear'])\n",
        "elif dataset_name in ['Flickr','Twitter']:\n",
        "  labels = pd.DataFrame(y,columns=['Amusement', 'Awe', 'Contentment', 'Excitement', 'Anger', 'Disgust','Fear','Sadness'])\n",
        "\n",
        "labels.describe()"
      ],
      "execution_count": null,
      "outputs": [
        {
          "output_type": "execute_result",
          "data": {
            "text/html": [
              "<div>\n",
              "<style scoped>\n",
              "    .dataframe tbody tr th:only-of-type {\n",
              "        vertical-align: middle;\n",
              "    }\n",
              "\n",
              "    .dataframe tbody tr th {\n",
              "        vertical-align: top;\n",
              "    }\n",
              "\n",
              "    .dataframe thead th {\n",
              "        text-align: right;\n",
              "    }\n",
              "</style>\n",
              "<table border=\"1\" class=\"dataframe\">\n",
              "  <thead>\n",
              "    <tr style=\"text-align: right;\">\n",
              "      <th></th>\n",
              "      <th>Amusement</th>\n",
              "      <th>Awe</th>\n",
              "      <th>Contentment</th>\n",
              "      <th>Excitement</th>\n",
              "      <th>Anger</th>\n",
              "      <th>Disgust</th>\n",
              "      <th>Fear</th>\n",
              "      <th>Sadness</th>\n",
              "    </tr>\n",
              "  </thead>\n",
              "  <tbody>\n",
              "    <tr>\n",
              "      <th>count</th>\n",
              "      <td>11150.000000</td>\n",
              "      <td>11150.000000</td>\n",
              "      <td>11150.000000</td>\n",
              "      <td>11150.000000</td>\n",
              "      <td>11150.000000</td>\n",
              "      <td>11150.000000</td>\n",
              "      <td>11150.000000</td>\n",
              "      <td>11150.000000</td>\n",
              "    </tr>\n",
              "    <tr>\n",
              "      <th>mean</th>\n",
              "      <td>0.111570</td>\n",
              "      <td>0.115793</td>\n",
              "      <td>0.429735</td>\n",
              "      <td>0.091431</td>\n",
              "      <td>0.024688</td>\n",
              "      <td>0.063041</td>\n",
              "      <td>0.077350</td>\n",
              "      <td>0.086392</td>\n",
              "    </tr>\n",
              "    <tr>\n",
              "      <th>std</th>\n",
              "      <td>0.156394</td>\n",
              "      <td>0.187092</td>\n",
              "      <td>0.245724</td>\n",
              "      <td>0.138768</td>\n",
              "      <td>0.076649</td>\n",
              "      <td>0.127267</td>\n",
              "      <td>0.138386</td>\n",
              "      <td>0.166581</td>\n",
              "    </tr>\n",
              "    <tr>\n",
              "      <th>min</th>\n",
              "      <td>0.000000</td>\n",
              "      <td>0.000000</td>\n",
              "      <td>0.000000</td>\n",
              "      <td>0.000000</td>\n",
              "      <td>0.000000</td>\n",
              "      <td>0.000000</td>\n",
              "      <td>0.000000</td>\n",
              "      <td>0.000000</td>\n",
              "    </tr>\n",
              "    <tr>\n",
              "      <th>25%</th>\n",
              "      <td>0.000000</td>\n",
              "      <td>0.000000</td>\n",
              "      <td>0.272727</td>\n",
              "      <td>0.000000</td>\n",
              "      <td>0.000000</td>\n",
              "      <td>0.000000</td>\n",
              "      <td>0.000000</td>\n",
              "      <td>0.000000</td>\n",
              "    </tr>\n",
              "    <tr>\n",
              "      <th>50%</th>\n",
              "      <td>0.090909</td>\n",
              "      <td>0.000000</td>\n",
              "      <td>0.454545</td>\n",
              "      <td>0.000000</td>\n",
              "      <td>0.000000</td>\n",
              "      <td>0.000000</td>\n",
              "      <td>0.000000</td>\n",
              "      <td>0.000000</td>\n",
              "    </tr>\n",
              "    <tr>\n",
              "      <th>75%</th>\n",
              "      <td>0.181818</td>\n",
              "      <td>0.181818</td>\n",
              "      <td>0.636364</td>\n",
              "      <td>0.090909</td>\n",
              "      <td>0.000000</td>\n",
              "      <td>0.090909</td>\n",
              "      <td>0.090909</td>\n",
              "      <td>0.090909</td>\n",
              "    </tr>\n",
              "    <tr>\n",
              "      <th>max</th>\n",
              "      <td>0.909091</td>\n",
              "      <td>0.909091</td>\n",
              "      <td>1.000000</td>\n",
              "      <td>0.909091</td>\n",
              "      <td>0.909091</td>\n",
              "      <td>1.000000</td>\n",
              "      <td>1.000000</td>\n",
              "      <td>1.000000</td>\n",
              "    </tr>\n",
              "  </tbody>\n",
              "</table>\n",
              "</div>"
            ],
            "text/plain": [
              "          Amusement           Awe  ...          Fear       Sadness\n",
              "count  11150.000000  11150.000000  ...  11150.000000  11150.000000\n",
              "mean       0.111570      0.115793  ...      0.077350      0.086392\n",
              "std        0.156394      0.187092  ...      0.138386      0.166581\n",
              "min        0.000000      0.000000  ...      0.000000      0.000000\n",
              "25%        0.000000      0.000000  ...      0.000000      0.000000\n",
              "50%        0.090909      0.000000  ...      0.000000      0.000000\n",
              "75%        0.181818      0.181818  ...      0.090909      0.090909\n",
              "max        0.909091      0.909091  ...      1.000000      1.000000\n",
              "\n",
              "[8 rows x 8 columns]"
            ]
          },
          "metadata": {
            "tags": []
          },
          "execution_count": 19
        }
      ]
    },
    {
      "cell_type": "code",
      "metadata": {
        "colab": {
          "base_uri": "https://localhost:8080/",
          "height": 284
        },
        "id": "T3nd7JgqMJt2",
        "outputId": "7647e672-e728-48d8-cbf2-efdf74a0a16a"
      },
      "source": [
        "labels_T = labels.transpose()\n",
        "labels_T.std()\n",
        "label_normalization =  (labels_T-labels_T.min())/(labels_T.max()-labels_T.min())\n",
        "label_normalization.transpose().describe()"
      ],
      "execution_count": null,
      "outputs": [
        {
          "output_type": "execute_result",
          "data": {
            "text/html": [
              "<div>\n",
              "<style scoped>\n",
              "    .dataframe tbody tr th:only-of-type {\n",
              "        vertical-align: middle;\n",
              "    }\n",
              "\n",
              "    .dataframe tbody tr th {\n",
              "        vertical-align: top;\n",
              "    }\n",
              "\n",
              "    .dataframe thead th {\n",
              "        text-align: right;\n",
              "    }\n",
              "</style>\n",
              "<table border=\"1\" class=\"dataframe\">\n",
              "  <thead>\n",
              "    <tr style=\"text-align: right;\">\n",
              "      <th></th>\n",
              "      <th>Amusement</th>\n",
              "      <th>Awe</th>\n",
              "      <th>Contentment</th>\n",
              "      <th>Excitement</th>\n",
              "      <th>Anger</th>\n",
              "      <th>Disgust</th>\n",
              "      <th>Fear</th>\n",
              "      <th>Sadness</th>\n",
              "    </tr>\n",
              "  </thead>\n",
              "  <tbody>\n",
              "    <tr>\n",
              "      <th>count</th>\n",
              "      <td>11150.000000</td>\n",
              "      <td>11150.000000</td>\n",
              "      <td>11150.000000</td>\n",
              "      <td>11150.000000</td>\n",
              "      <td>11150.000000</td>\n",
              "      <td>11150.000000</td>\n",
              "      <td>11150.000000</td>\n",
              "      <td>11150.000000</td>\n",
              "    </tr>\n",
              "    <tr>\n",
              "      <th>mean</th>\n",
              "      <td>0.229528</td>\n",
              "      <td>0.219736</td>\n",
              "      <td>0.755411</td>\n",
              "      <td>0.177816</td>\n",
              "      <td>0.056368</td>\n",
              "      <td>0.125741</td>\n",
              "      <td>0.162405</td>\n",
              "      <td>0.167480</td>\n",
              "    </tr>\n",
              "    <tr>\n",
              "      <th>std</th>\n",
              "      <td>0.321093</td>\n",
              "      <td>0.344294</td>\n",
              "      <td>0.341291</td>\n",
              "      <td>0.268416</td>\n",
              "      <td>0.176366</td>\n",
              "      <td>0.244504</td>\n",
              "      <td>0.282105</td>\n",
              "      <td>0.297326</td>\n",
              "    </tr>\n",
              "    <tr>\n",
              "      <th>min</th>\n",
              "      <td>0.000000</td>\n",
              "      <td>0.000000</td>\n",
              "      <td>0.000000</td>\n",
              "      <td>0.000000</td>\n",
              "      <td>0.000000</td>\n",
              "      <td>0.000000</td>\n",
              "      <td>0.000000</td>\n",
              "      <td>0.000000</td>\n",
              "    </tr>\n",
              "    <tr>\n",
              "      <th>25%</th>\n",
              "      <td>0.000000</td>\n",
              "      <td>0.000000</td>\n",
              "      <td>0.500000</td>\n",
              "      <td>0.000000</td>\n",
              "      <td>0.000000</td>\n",
              "      <td>0.000000</td>\n",
              "      <td>0.000000</td>\n",
              "      <td>0.000000</td>\n",
              "    </tr>\n",
              "    <tr>\n",
              "      <th>50%</th>\n",
              "      <td>0.111111</td>\n",
              "      <td>0.000000</td>\n",
              "      <td>1.000000</td>\n",
              "      <td>0.000000</td>\n",
              "      <td>0.000000</td>\n",
              "      <td>0.000000</td>\n",
              "      <td>0.000000</td>\n",
              "      <td>0.000000</td>\n",
              "    </tr>\n",
              "    <tr>\n",
              "      <th>75%</th>\n",
              "      <td>0.333333</td>\n",
              "      <td>0.250000</td>\n",
              "      <td>1.000000</td>\n",
              "      <td>0.250000</td>\n",
              "      <td>0.000000</td>\n",
              "      <td>0.166667</td>\n",
              "      <td>0.200000</td>\n",
              "      <td>0.200000</td>\n",
              "    </tr>\n",
              "    <tr>\n",
              "      <th>max</th>\n",
              "      <td>1.000000</td>\n",
              "      <td>1.000000</td>\n",
              "      <td>1.000000</td>\n",
              "      <td>1.000000</td>\n",
              "      <td>1.000000</td>\n",
              "      <td>1.000000</td>\n",
              "      <td>1.000000</td>\n",
              "      <td>1.000000</td>\n",
              "    </tr>\n",
              "  </tbody>\n",
              "</table>\n",
              "</div>"
            ],
            "text/plain": [
              "          Amusement           Awe  ...          Fear       Sadness\n",
              "count  11150.000000  11150.000000  ...  11150.000000  11150.000000\n",
              "mean       0.229528      0.219736  ...      0.162405      0.167480\n",
              "std        0.321093      0.344294  ...      0.282105      0.297326\n",
              "min        0.000000      0.000000  ...      0.000000      0.000000\n",
              "25%        0.000000      0.000000  ...      0.000000      0.000000\n",
              "50%        0.111111      0.000000  ...      0.000000      0.000000\n",
              "75%        0.333333      0.250000  ...      0.200000      0.200000\n",
              "max        1.000000      1.000000  ...      1.000000      1.000000\n",
              "\n",
              "[8 rows x 8 columns]"
            ]
          },
          "metadata": {
            "tags": []
          },
          "execution_count": 12
        }
      ]
    },
    {
      "cell_type": "code",
      "metadata": {
        "colab": {
          "base_uri": "https://localhost:8080/",
          "height": 284
        },
        "id": "_UyUXMPlPCuF",
        "outputId": "6ed54d8d-064e-4a23-d0c5-d9f5981ee388"
      },
      "source": [
        "labels_T.std().describe()\n",
        "labels_z = (labels_T-labels_T.mean())/labels_T.std()\n",
        "labels_z.transpose().describe()"
      ],
      "execution_count": null,
      "outputs": [
        {
          "output_type": "execute_result",
          "data": {
            "text/html": [
              "<div>\n",
              "<style scoped>\n",
              "    .dataframe tbody tr th:only-of-type {\n",
              "        vertical-align: middle;\n",
              "    }\n",
              "\n",
              "    .dataframe tbody tr th {\n",
              "        vertical-align: top;\n",
              "    }\n",
              "\n",
              "    .dataframe thead th {\n",
              "        text-align: right;\n",
              "    }\n",
              "</style>\n",
              "<table border=\"1\" class=\"dataframe\">\n",
              "  <thead>\n",
              "    <tr style=\"text-align: right;\">\n",
              "      <th></th>\n",
              "      <th>Happy</th>\n",
              "      <th>Sad</th>\n",
              "      <th>Surprise</th>\n",
              "      <th>Anger</th>\n",
              "      <th>Disgust</th>\n",
              "      <th>Fear</th>\n",
              "    </tr>\n",
              "  </thead>\n",
              "  <tbody>\n",
              "    <tr>\n",
              "      <th>count</th>\n",
              "      <td>2500.000000</td>\n",
              "      <td>2500.000000</td>\n",
              "      <td>2500.000000</td>\n",
              "      <td>2500.000000</td>\n",
              "      <td>2500.000000</td>\n",
              "      <td>2500.000000</td>\n",
              "    </tr>\n",
              "    <tr>\n",
              "      <th>mean</th>\n",
              "      <td>-0.022777</td>\n",
              "      <td>-0.024897</td>\n",
              "      <td>0.349866</td>\n",
              "      <td>0.021246</td>\n",
              "      <td>-0.235502</td>\n",
              "      <td>-0.087935</td>\n",
              "    </tr>\n",
              "    <tr>\n",
              "      <th>std</th>\n",
              "      <td>1.133335</td>\n",
              "      <td>0.793839</td>\n",
              "      <td>1.009938</td>\n",
              "      <td>0.664282</td>\n",
              "      <td>0.598188</td>\n",
              "      <td>1.039727</td>\n",
              "    </tr>\n",
              "    <tr>\n",
              "      <th>min</th>\n",
              "      <td>-1.932503</td>\n",
              "      <td>-1.488131</td>\n",
              "      <td>-1.651388</td>\n",
              "      <td>-1.459804</td>\n",
              "      <td>-1.936583</td>\n",
              "      <td>-1.852939</td>\n",
              "    </tr>\n",
              "    <tr>\n",
              "      <th>25%</th>\n",
              "      <td>-0.770892</td>\n",
              "      <td>-0.534903</td>\n",
              "      <td>-0.463033</td>\n",
              "      <td>-0.430860</td>\n",
              "      <td>-0.586595</td>\n",
              "      <td>-0.745163</td>\n",
              "    </tr>\n",
              "    <tr>\n",
              "      <th>50%</th>\n",
              "      <td>-0.560248</td>\n",
              "      <td>-0.408248</td>\n",
              "      <td>-0.193782</td>\n",
              "      <td>-0.242527</td>\n",
              "      <td>-0.408248</td>\n",
              "      <td>-0.529301</td>\n",
              "    </tr>\n",
              "    <tr>\n",
              "      <th>75%</th>\n",
              "      <td>0.550482</td>\n",
              "      <td>0.346046</td>\n",
              "      <td>1.447817</td>\n",
              "      <td>0.333323</td>\n",
              "      <td>-0.098439</td>\n",
              "      <td>0.000200</td>\n",
              "    </tr>\n",
              "    <tr>\n",
              "      <th>max</th>\n",
              "      <td>2.041241</td>\n",
              "      <td>2.036787</td>\n",
              "      <td>2.037014</td>\n",
              "      <td>2.026201</td>\n",
              "      <td>1.999115</td>\n",
              "      <td>2.041241</td>\n",
              "    </tr>\n",
              "  </tbody>\n",
              "</table>\n",
              "</div>"
            ],
            "text/plain": [
              "             Happy          Sad  ...      Disgust         Fear\n",
              "count  2500.000000  2500.000000  ...  2500.000000  2500.000000\n",
              "mean     -0.022777    -0.024897  ...    -0.235502    -0.087935\n",
              "std       1.133335     0.793839  ...     0.598188     1.039727\n",
              "min      -1.932503    -1.488131  ...    -1.936583    -1.852939\n",
              "25%      -0.770892    -0.534903  ...    -0.586595    -0.745163\n",
              "50%      -0.560248    -0.408248  ...    -0.408248    -0.529301\n",
              "75%       0.550482     0.346046  ...    -0.098439     0.000200\n",
              "max       2.041241     2.036787  ...     1.999115     2.041241\n",
              "\n",
              "[8 rows x 6 columns]"
            ]
          },
          "metadata": {
            "tags": []
          },
          "execution_count": 39
        }
      ]
    },
    {
      "cell_type": "code",
      "metadata": {
        "colab": {
          "base_uri": "https://localhost:8080/",
          "height": 284
        },
        "id": "cBwYAagbnDIL",
        "outputId": "d5c396bd-44f0-4158-bfde-acf1974f096b"
      },
      "source": [
        "# Special for emotion datasets: \"SJAFFE\" & \"SBU_3DFE\"\n",
        "if dataset_name in ['SJAFFE','SBU_3DFE']:\n",
        "  label_train = pd.DataFrame(y_train,columns=['Happy', 'Sad', 'Surprise', 'Anger', 'Disgust', 'Fear'])\n",
        "else:\n",
        "  label_train = pd.DataFrame(y_train)\n",
        "\n",
        "label_train.describe()"
      ],
      "execution_count": null,
      "outputs": [
        {
          "output_type": "execute_result",
          "data": {
            "text/html": [
              "<div>\n",
              "<style scoped>\n",
              "    .dataframe tbody tr th:only-of-type {\n",
              "        vertical-align: middle;\n",
              "    }\n",
              "\n",
              "    .dataframe tbody tr th {\n",
              "        vertical-align: top;\n",
              "    }\n",
              "\n",
              "    .dataframe thead th {\n",
              "        text-align: right;\n",
              "    }\n",
              "</style>\n",
              "<table border=\"1\" class=\"dataframe\">\n",
              "  <thead>\n",
              "    <tr style=\"text-align: right;\">\n",
              "      <th></th>\n",
              "      <th>Happy</th>\n",
              "      <th>Sad</th>\n",
              "      <th>Surprise</th>\n",
              "      <th>Anger</th>\n",
              "      <th>Disgust</th>\n",
              "      <th>Fear</th>\n",
              "    </tr>\n",
              "  </thead>\n",
              "  <tbody>\n",
              "    <tr>\n",
              "      <th>count</th>\n",
              "      <td>1750.000000</td>\n",
              "      <td>1750.000000</td>\n",
              "      <td>1750.000000</td>\n",
              "      <td>1750.000000</td>\n",
              "      <td>1750.000000</td>\n",
              "      <td>1750.000000</td>\n",
              "    </tr>\n",
              "    <tr>\n",
              "      <th>mean</th>\n",
              "      <td>0.178437</td>\n",
              "      <td>0.156376</td>\n",
              "      <td>0.180185</td>\n",
              "      <td>0.159376</td>\n",
              "      <td>0.151039</td>\n",
              "      <td>0.174587</td>\n",
              "    </tr>\n",
              "    <tr>\n",
              "      <th>std</th>\n",
              "      <td>0.109652</td>\n",
              "      <td>0.056219</td>\n",
              "      <td>0.075269</td>\n",
              "      <td>0.044231</td>\n",
              "      <td>0.041548</td>\n",
              "      <td>0.096124</td>\n",
              "    </tr>\n",
              "    <tr>\n",
              "      <th>min</th>\n",
              "      <td>0.083333</td>\n",
              "      <td>0.085714</td>\n",
              "      <td>0.085714</td>\n",
              "      <td>0.085714</td>\n",
              "      <td>0.085714</td>\n",
              "      <td>0.090452</td>\n",
              "    </tr>\n",
              "    <tr>\n",
              "      <th>25%</th>\n",
              "      <td>0.111111</td>\n",
              "      <td>0.115699</td>\n",
              "      <td>0.118422</td>\n",
              "      <td>0.122179</td>\n",
              "      <td>0.125002</td>\n",
              "      <td>0.116883</td>\n",
              "    </tr>\n",
              "    <tr>\n",
              "      <th>50%</th>\n",
              "      <td>0.126866</td>\n",
              "      <td>0.137808</td>\n",
              "      <td>0.155708</td>\n",
              "      <td>0.154103</td>\n",
              "      <td>0.140422</td>\n",
              "      <td>0.132206</td>\n",
              "    </tr>\n",
              "    <tr>\n",
              "      <th>75%</th>\n",
              "      <td>0.181101</td>\n",
              "      <td>0.180440</td>\n",
              "      <td>0.223698</td>\n",
              "      <td>0.181822</td>\n",
              "      <td>0.161022</td>\n",
              "      <td>0.167802</td>\n",
              "    </tr>\n",
              "    <tr>\n",
              "      <th>max</th>\n",
              "      <td>0.488638</td>\n",
              "      <td>0.414014</td>\n",
              "      <td>0.416666</td>\n",
              "      <td>0.341931</td>\n",
              "      <td>0.391959</td>\n",
              "      <td>0.459456</td>\n",
              "    </tr>\n",
              "  </tbody>\n",
              "</table>\n",
              "</div>"
            ],
            "text/plain": [
              "             Happy          Sad  ...      Disgust         Fear\n",
              "count  1750.000000  1750.000000  ...  1750.000000  1750.000000\n",
              "mean      0.178437     0.156376  ...     0.151039     0.174587\n",
              "std       0.109652     0.056219  ...     0.041548     0.096124\n",
              "min       0.083333     0.085714  ...     0.085714     0.090452\n",
              "25%       0.111111     0.115699  ...     0.125002     0.116883\n",
              "50%       0.126866     0.137808  ...     0.140422     0.132206\n",
              "75%       0.181101     0.180440  ...     0.161022     0.167802\n",
              "max       0.488638     0.414014  ...     0.391959     0.459456\n",
              "\n",
              "[8 rows x 6 columns]"
            ]
          },
          "metadata": {
            "tags": []
          },
          "execution_count": 40
        }
      ]
    },
    {
      "cell_type": "code",
      "metadata": {
        "colab": {
          "base_uri": "https://localhost:8080/",
          "height": 284
        },
        "id": "uLwqT54FnKe4",
        "outputId": "1c9c3828-3220-42fa-ab43-4da0d00a0c70"
      },
      "source": [
        "# Special for emotion datasets: \"SJAFFE\" & \"SBU_3DFE\"\n",
        "if dataset_name in ['SJAFFE','SBU_3DFE']:\n",
        "  label_test = pd.DataFrame(y_test,columns=['Happy', 'Sad', 'Surprise', 'Anger', 'Disgust', 'Fear'])\n",
        "else:\n",
        "  label_test = pd.DataFrame(y_test)\n",
        "  \n",
        "label_test.describe()"
      ],
      "execution_count": null,
      "outputs": [
        {
          "output_type": "execute_result",
          "data": {
            "text/html": [
              "<div>\n",
              "<style scoped>\n",
              "    .dataframe tbody tr th:only-of-type {\n",
              "        vertical-align: middle;\n",
              "    }\n",
              "\n",
              "    .dataframe tbody tr th {\n",
              "        vertical-align: top;\n",
              "    }\n",
              "\n",
              "    .dataframe thead th {\n",
              "        text-align: right;\n",
              "    }\n",
              "</style>\n",
              "<table border=\"1\" class=\"dataframe\">\n",
              "  <thead>\n",
              "    <tr style=\"text-align: right;\">\n",
              "      <th></th>\n",
              "      <th>Happy</th>\n",
              "      <th>Sad</th>\n",
              "      <th>Surprise</th>\n",
              "      <th>Anger</th>\n",
              "      <th>Disgust</th>\n",
              "      <th>Fear</th>\n",
              "    </tr>\n",
              "  </thead>\n",
              "  <tbody>\n",
              "    <tr>\n",
              "      <th>count</th>\n",
              "      <td>750.000000</td>\n",
              "      <td>750.000000</td>\n",
              "      <td>750.000000</td>\n",
              "      <td>750.000000</td>\n",
              "      <td>750.000000</td>\n",
              "      <td>750.000000</td>\n",
              "    </tr>\n",
              "    <tr>\n",
              "      <th>mean</th>\n",
              "      <td>0.180769</td>\n",
              "      <td>0.156049</td>\n",
              "      <td>0.180289</td>\n",
              "      <td>0.160913</td>\n",
              "      <td>0.148441</td>\n",
              "      <td>0.173539</td>\n",
              "    </tr>\n",
              "    <tr>\n",
              "      <th>std</th>\n",
              "      <td>0.107860</td>\n",
              "      <td>0.053896</td>\n",
              "      <td>0.073252</td>\n",
              "      <td>0.046159</td>\n",
              "      <td>0.036113</td>\n",
              "      <td>0.093595</td>\n",
              "    </tr>\n",
              "    <tr>\n",
              "      <th>min</th>\n",
              "      <td>0.078602</td>\n",
              "      <td>0.090000</td>\n",
              "      <td>0.090000</td>\n",
              "      <td>0.091837</td>\n",
              "      <td>0.093264</td>\n",
              "      <td>0.091892</td>\n",
              "    </tr>\n",
              "    <tr>\n",
              "      <th>25%</th>\n",
              "      <td>0.113334</td>\n",
              "      <td>0.117075</td>\n",
              "      <td>0.121023</td>\n",
              "      <td>0.124391</td>\n",
              "      <td>0.125000</td>\n",
              "      <td>0.117647</td>\n",
              "    </tr>\n",
              "    <tr>\n",
              "      <th>50%</th>\n",
              "      <td>0.130601</td>\n",
              "      <td>0.138071</td>\n",
              "      <td>0.160005</td>\n",
              "      <td>0.155050</td>\n",
              "      <td>0.141628</td>\n",
              "      <td>0.132231</td>\n",
              "    </tr>\n",
              "    <tr>\n",
              "      <th>75%</th>\n",
              "      <td>0.192511</td>\n",
              "      <td>0.179963</td>\n",
              "      <td>0.217211</td>\n",
              "      <td>0.181820</td>\n",
              "      <td>0.159420</td>\n",
              "      <td>0.162538</td>\n",
              "    </tr>\n",
              "    <tr>\n",
              "      <th>max</th>\n",
              "      <td>0.494050</td>\n",
              "      <td>0.422624</td>\n",
              "      <td>0.437498</td>\n",
              "      <td>0.325926</td>\n",
              "      <td>0.335050</td>\n",
              "      <td>0.442107</td>\n",
              "    </tr>\n",
              "  </tbody>\n",
              "</table>\n",
              "</div>"
            ],
            "text/plain": [
              "            Happy         Sad    Surprise       Anger     Disgust        Fear\n",
              "count  750.000000  750.000000  750.000000  750.000000  750.000000  750.000000\n",
              "mean     0.180769    0.156049    0.180289    0.160913    0.148441    0.173539\n",
              "std      0.107860    0.053896    0.073252    0.046159    0.036113    0.093595\n",
              "min      0.078602    0.090000    0.090000    0.091837    0.093264    0.091892\n",
              "25%      0.113334    0.117075    0.121023    0.124391    0.125000    0.117647\n",
              "50%      0.130601    0.138071    0.160005    0.155050    0.141628    0.132231\n",
              "75%      0.192511    0.179963    0.217211    0.181820    0.159420    0.162538\n",
              "max      0.494050    0.422624    0.437498    0.325926    0.335050    0.442107"
            ]
          },
          "metadata": {
            "tags": []
          },
          "execution_count": 41
        }
      ]
    },
    {
      "cell_type": "markdown",
      "metadata": {
        "id": "_lxNj1cPC-1Z"
      },
      "source": [
        "Distribution to logic label"
      ]
    },
    {
      "cell_type": "code",
      "metadata": {
        "id": "vLCTGQmdIXcU"
      },
      "source": [
        "single_label = get_single_label(y)\n",
        "multi_label = get_multi_label(y)"
      ],
      "execution_count": null,
      "outputs": []
    },
    {
      "cell_type": "code",
      "metadata": {
        "id": "asX1iGPIqsgP"
      },
      "source": [
        "def get_label_groups(X=X,y=y):\n",
        "  logic_label = get_single_label(y)\n",
        "  X_ls = [[]*j for j in range(logic_label.shape[1])]\n",
        "  y_ls = [[]*j for j in range(logic_label.shape[1])]\n",
        "  for i in range(logic_label.shape[0]):\n",
        "    for j in range(logic_label.shape[1]):\n",
        "      if logic_label[i][j] == 1:\n",
        "        X_ls[j].append(X[i])\n",
        "        y_ls[j].append(y[i])\n",
        "  for j in range(y.shape[1]):\n",
        "    X_ls[j]=np.asarray(X_ls[j])\n",
        "    y_ls[j]=np.asarray(y_ls[j])\n",
        "  return X_ls,y_ls"
      ],
      "execution_count": null,
      "outputs": []
    },
    {
      "cell_type": "code",
      "metadata": {
        "id": "1BneW9jfvI7w"
      },
      "source": [
        "(X_ls,y_ls) = get_label_groups(X_train,y_train)\n"
      ],
      "execution_count": null,
      "outputs": []
    },
    {
      "cell_type": "code",
      "metadata": {
        "id": "0sQp-meav3zq"
      },
      "source": [
        "import copy\n",
        "\n",
        "def cal_kurt_skew_entropy(labels):\n",
        "  label_kurtosis = scipy.stats.kurtosis(labels, axis=1, fisher=False, bias=True)\n",
        "  label_skewness = scipy.stats.skew(labels, axis=1, bias=True)\n",
        "  label_entropy = scipy.stats.entropy(labels, axis=1)\n",
        "  label_kurt_skew_entropy = np.c_[labels,label_kurtosis,label_skewness,label_entropy]\n",
        "  return label_kurt_skew_entropy\n",
        "\n",
        "def label_enhancement(label_groups):\n",
        "  label_enhanced = copy.deepcopy(label_groups)\n",
        "  num_label = label_groups[0].shape[1]\n",
        "  ls = []\n",
        "  for j in range(num_label):\n",
        "    ls.append(y_ls[j].mean(axis=0))\n",
        "  group_mean = np.asarray(ls) \n",
        "  mean_arr = np.asarray([group_mean[j,j] for j in range(num_label)])\n",
        "  # dif = mean_arr - mean_arr.mean()\n",
        "  dif = mean_arr - 0.6\n",
        "  for j in range(num_label):\n",
        "    labels = label_enhanced[j]\n",
        "    labels += dif[j]/(num_label-1)\n",
        "    labels[:,j] -= dif[j]/(num_label-1)+dif[j]\n",
        "    label_enhanced[j] = labels\n",
        "  return label_enhanced"
      ],
      "execution_count": null,
      "outputs": []
    },
    {
      "cell_type": "code",
      "metadata": {
        "id": "GakcDbJ_Mp0Q"
      },
      "source": [
        "label_enhanced = label_enhancement(y_ls)\n",
        "X_train_new = np.vstack( [X_ls[j] for j in range(y.shape[1])])\n",
        "y_train_new = np.vstack( [label_enhanced[j] for j in range(y.shape[1])])"
      ],
      "execution_count": null,
      "outputs": []
    },
    {
      "cell_type": "code",
      "metadata": {
        "colab": {
          "base_uri": "https://localhost:8080/",
          "height": 284
        },
        "id": "wtLc7VwaaZFL",
        "outputId": "2562a4d0-75c3-43c9-a83e-2a5fa2bd9ab0"
      },
      "source": [
        "# Special for emotion datasets: \"SJAFFE\" & \"SBU_3DFE\"\n",
        "if dataset_name in ['SBU_3DFE','SJAFFE']:\n",
        "  y_train_new_pd = pd.DataFrame(y_train_new,columns=['Happy', 'Sad', 'Surprise', 'Anger', 'Disgust', 'Fear'])\n",
        "else:\n",
        "  y_train_new_pd = pd.DataFrame(y_train_new)\n",
        "y_train_new_pd.describe()\n"
      ],
      "execution_count": null,
      "outputs": [
        {
          "output_type": "execute_result",
          "data": {
            "text/html": [
              "<div>\n",
              "<style scoped>\n",
              "    .dataframe tbody tr th:only-of-type {\n",
              "        vertical-align: middle;\n",
              "    }\n",
              "\n",
              "    .dataframe tbody tr th {\n",
              "        vertical-align: top;\n",
              "    }\n",
              "\n",
              "    .dataframe thead th {\n",
              "        text-align: right;\n",
              "    }\n",
              "</style>\n",
              "<table border=\"1\" class=\"dataframe\">\n",
              "  <thead>\n",
              "    <tr style=\"text-align: right;\">\n",
              "      <th></th>\n",
              "      <th>Happy</th>\n",
              "      <th>Sad</th>\n",
              "      <th>Surprise</th>\n",
              "      <th>Anger</th>\n",
              "      <th>Disgust</th>\n",
              "      <th>Fear</th>\n",
              "    </tr>\n",
              "  </thead>\n",
              "  <tbody>\n",
              "    <tr>\n",
              "      <th>count</th>\n",
              "      <td>1802.000000</td>\n",
              "      <td>1802.000000</td>\n",
              "      <td>1802.000000</td>\n",
              "      <td>1802.000000</td>\n",
              "      <td>1802.000000</td>\n",
              "      <td>1802.000000</td>\n",
              "    </tr>\n",
              "    <tr>\n",
              "      <th>mean</th>\n",
              "      <td>0.181885</td>\n",
              "      <td>0.155310</td>\n",
              "      <td>0.233079</td>\n",
              "      <td>0.142013</td>\n",
              "      <td>0.116660</td>\n",
              "      <td>0.171053</td>\n",
              "    </tr>\n",
              "    <tr>\n",
              "      <th>std</th>\n",
              "      <td>0.228080</td>\n",
              "      <td>0.183305</td>\n",
              "      <td>0.237202</td>\n",
              "      <td>0.152323</td>\n",
              "      <td>0.127316</td>\n",
              "      <td>0.212022</td>\n",
              "    </tr>\n",
              "    <tr>\n",
              "      <th>min</th>\n",
              "      <td>0.014155</td>\n",
              "      <td>0.020597</td>\n",
              "      <td>0.020597</td>\n",
              "      <td>0.022967</td>\n",
              "      <td>0.022284</td>\n",
              "      <td>0.025399</td>\n",
              "    </tr>\n",
              "    <tr>\n",
              "      <th>25%</th>\n",
              "      <td>0.048208</td>\n",
              "      <td>0.063130</td>\n",
              "      <td>0.067000</td>\n",
              "      <td>0.071811</td>\n",
              "      <td>0.065468</td>\n",
              "      <td>0.054701</td>\n",
              "    </tr>\n",
              "    <tr>\n",
              "      <th>50%</th>\n",
              "      <td>0.065469</td>\n",
              "      <td>0.080808</td>\n",
              "      <td>0.096594</td>\n",
              "      <td>0.092747</td>\n",
              "      <td>0.079914</td>\n",
              "      <td>0.071779</td>\n",
              "    </tr>\n",
              "    <tr>\n",
              "      <th>75%</th>\n",
              "      <td>0.117889</td>\n",
              "      <td>0.119894</td>\n",
              "      <td>0.537402</td>\n",
              "      <td>0.121795</td>\n",
              "      <td>0.105361</td>\n",
              "      <td>0.106519</td>\n",
              "    </tr>\n",
              "    <tr>\n",
              "      <th>max</th>\n",
              "      <td>0.728537</td>\n",
              "      <td>0.753334</td>\n",
              "      <td>0.739207</td>\n",
              "      <td>0.697998</td>\n",
              "      <td>0.729385</td>\n",
              "      <td>0.705289</td>\n",
              "    </tr>\n",
              "  </tbody>\n",
              "</table>\n",
              "</div>"
            ],
            "text/plain": [
              "             Happy          Sad  ...      Disgust         Fear\n",
              "count  1802.000000  1802.000000  ...  1802.000000  1802.000000\n",
              "mean      0.181885     0.155310  ...     0.116660     0.171053\n",
              "std       0.228080     0.183305  ...     0.127316     0.212022\n",
              "min       0.014155     0.020597  ...     0.022284     0.025399\n",
              "25%       0.048208     0.063130  ...     0.065468     0.054701\n",
              "50%       0.065469     0.080808  ...     0.079914     0.071779\n",
              "75%       0.117889     0.119894  ...     0.105361     0.106519\n",
              "max       0.728537     0.753334  ...     0.729385     0.705289\n",
              "\n",
              "[8 rows x 6 columns]"
            ]
          },
          "metadata": {
            "tags": []
          },
          "execution_count": 47
        }
      ]
    },
    {
      "cell_type": "markdown",
      "metadata": {
        "id": "geYaEMc6ONVy"
      },
      "source": [
        "# Data analysis\n"
      ]
    },
    {
      "cell_type": "markdown",
      "metadata": {
        "id": "5LLTBDU7Nuwm"
      },
      "source": [
        "## Pandas_profiling\n"
      ]
    },
    {
      "cell_type": "markdown",
      "metadata": {
        "id": "N511BnAJB3jc"
      },
      "source": [
        "If you need further analysis, you can form an HTML report by pandas_profiling.\n",
        "\n",
        "*Note that in the colab environment, the pandas and pandas_profiling libraries need to be updated before the pandas instance runs, and the data needs to be converted to the DataFrame type in pandas.*\n"
      ]
    },
    {
      "cell_type": "code",
      "metadata": {
        "id": "yGyRqbHzJP7q"
      },
      "source": [
        "import pandas_profiling\n",
        "# profile_feature = pandas_profiling.ProfileReport(features)\n",
        "# profile_feature.to_file(\"feature report.html\") \n",
        "profile_label = pandas_profiling.ProfileReport(labels)\n",
        "profile_label.to_file(\"/content/drive/MyDrive/ProfileReport/label_report.html\")"
      ],
      "execution_count": null,
      "outputs": []
    },
    {
      "cell_type": "code",
      "metadata": {
        "id": "o3fbvcq8KPkh"
      },
      "source": [
        "def changeNumToChar(toSmallChar=None, toBigChar=None):\n",
        "  init_number=0\n",
        "  increment=0\n",
        "  res_char = ''\n",
        "  if toSmallChar!=None:\n",
        "    init_number = toSmallChar\n",
        "    increment = ord('a')\n",
        "  else:\n",
        "\t  init_number = toBigChar\n",
        "\t  increment = ord('A')\n",
        "  shang,yu = divmod(init_number, 26)\n",
        "  char = chr(yu + increment)\n",
        "  res_char = char * (shang + 1)\n",
        "  return res_char"
      ],
      "execution_count": null,
      "outputs": []
    },
    {
      "cell_type": "code",
      "metadata": {
        "id": "j9z9ZC_jS4W4"
      },
      "source": [
        "analysis_dict = dict( \n",
        "    SBU_3DFE='/content/data_mat/SBU_3DFE.mat',\n",
        "    SJAFFE='/content/data_mat/SJAFFE.mat',\n",
        "    Flickr='/content/data_mat/Flickr.mat',\n",
        "    Twitter='/content/data_mat/Twitter.mat',)\n",
        "\n",
        "label_list_1 = ['Happy', 'Sad', 'Surprise', 'Anger', 'Disgust', 'Fear', 'Kurtosis', 'Skewness', 'Entropy']\n",
        "label_list_2 = ['Amusement', 'Awe', 'Contentment', 'Excitement', 'Anger', 'Disgust','Fear', 'Sadness', 'Kurtosis', 'Skewness', 'Entropy']\n",
        "\n",
        "import pandas_profiling\n",
        "for name in analysis_dict:\n",
        "  data = spio.loadmat(data_path[name])\n",
        "  X = data['features']\n",
        "  y = data['labels']\n",
        "  \n",
        "  # features = pd.DataFrame(X)\n",
        "  # profile_feature = pandas_profiling.ProfileReport(features)\n",
        "  # profile_feature.to_file(name+\"_feature_report.html\")\n",
        "  if name!='Human_Gene':\n",
        "    labels = pd.DataFrame(y)\n",
        "    label_kurtosis = scipy.stats.kurtosis(labels, axis=1, fisher=False, bias=True)\n",
        "    label_skewness = scipy.stats.skew(labels, axis=1, bias=True)\n",
        "    label_entropy = scipy.stats.entropy(labels, axis=1)\n",
        "    label_kurt_skew_entropy = np.c_[y,label_kurtosis,label_skewness,label_entropy]\n",
        "    if name in ['SBU_3DFE','SJAFFE']:\n",
        "      label_kurt_skew_entropy = pd.DataFrame(label_kurt_skew_entropy,columns=label_list_1)\n",
        "    elif name in ['Flickr','Twitter']:\n",
        "      label_kurt_skew_entropy = pd.DataFrame(label_kurt_skew_entropy,columns=label_list_2)\n",
        "    else:\n",
        "      num_label = label_kurt_skew_entropy.shape[1]\n",
        "      label_kurt_skew_entropy = pd.DataFrame(label_kurt_skew_entropy,columns=[\"label(\"+changeNumToChar(i)+')' for i in range(num_label)])\n",
        "      label_kurt_skew_entropy.rename(columns={'label('+changeNumToChar(num_label-3)+')':'kurtosis',\n",
        "                          'label('+changeNumToChar(num_label-2)+')':'skewness',\n",
        "                          'label('+changeNumToChar(num_label-1)+')':'entropy'},inplace=True)\n",
        "    profile_label = pandas_profiling.ProfileReport(label_kurt_skew_entropy)\n",
        "    profile_label.to_file(\"/content/drive/MyDrive/ProfileReport/LDL/\"+name+\"_label_report.html\")\n",
        "\n"
      ],
      "execution_count": null,
      "outputs": []
    },
    {
      "cell_type": "markdown",
      "metadata": {
        "id": "b_ACQUlCBlTc"
      },
      "source": [
        "## Kurtosis and skewness analysis"
      ]
    },
    {
      "cell_type": "markdown",
      "metadata": {
        "id": "Zn17MlsqdRtW"
      },
      "source": [
        "Calculate Kurtosis of Every Annotated Label"
      ]
    },
    {
      "cell_type": "code",
      "metadata": {
        "id": "RRveay39eaN6"
      },
      "source": [
        "label_kurtosis = scipy.stats.kurtosis(labels, axis=1, fisher=False, bias=True)\n",
        "label_kurtosis = np.c_[y,label_kurtosis]\n",
        "label_kurtosis = pd.DataFrame(label_kurtosis)\n",
        "kurtosis_sort = label_kurtosis.sort_values(labels.shape[1]-1,axis=0)\n",
        "\n",
        "# kurtosis_sort.columns=['Happy', 'Sad', 'Surprise', 'Anger', 'Disgust', 'Fear','Kurtosis']\n",
        "kurtosis_sort.describe()"
      ],
      "execution_count": null,
      "outputs": []
    },
    {
      "cell_type": "code",
      "metadata": {
        "id": "VV8D0tmsljyC"
      },
      "source": [
        "kurtosis_sort[-30:]"
      ],
      "execution_count": null,
      "outputs": []
    },
    {
      "cell_type": "code",
      "metadata": {
        "id": "ePUpAGEvgmNe"
      },
      "source": [
        "label_skewness = scipy.stats.skew(labels, axis=1, bias=True)\n",
        "label_skewness = np.c_[y,label_skewness]\n",
        "label_skewness = pd.DataFrame(label_skewness)\n",
        "skewness_sort = label_skewness.sort_values(labels.shape[1]-1,axis=0)\n",
        "\n",
        "# skewness_sort.columns=['Happy', 'Sad', 'Surprise', 'Anger', 'Disgust', 'Fear','Skewness']\n",
        "skewness_sort.describe()"
      ],
      "execution_count": null,
      "outputs": []
    },
    {
      "cell_type": "code",
      "metadata": {
        "id": "abmSz-SkI-ot"
      },
      "source": [
        "label_entropy = scipy.stats.entropy(labels, axis=1)\n",
        "label_entropy = np.c_[y,label_entropy]\n",
        "label_entropy = pd.DataFrame(label_entropy)\n",
        "entropy_sort = label_entropy.sort_values(labels.shape[1]-1,axis=0)\n",
        "\n",
        "# entropy_sort.columns=['Happy', 'Sad', 'Surprise', 'Anger', 'Disgust', 'Fear','Entropy']\n",
        "entropy_sort.describe()"
      ],
      "execution_count": null,
      "outputs": []
    },
    {
      "cell_type": "markdown",
      "metadata": {
        "id": "yCmYn3riunMF"
      },
      "source": [
        "## Preprocess features"
      ]
    },
    {
      "cell_type": "markdown",
      "metadata": {
        "id": "qudf6M7lkfIM"
      },
      "source": [
        "Not all algorithms need to pre-process the features in advance. If confirmed, you can normalize or reduce the dimensions of the features."
      ]
    },
    {
      "cell_type": "code",
      "metadata": {
        "id": "HHscEDFNA5nx"
      },
      "source": [
        "scalerstd = preprocessing.StandardScaler().fit(X)\n",
        "X = scalerstd.transform(X)"
      ],
      "execution_count": null,
      "outputs": []
    },
    {
      "cell_type": "code",
      "metadata": {
        "id": "0z4kPDWmIEM1"
      },
      "source": [
        "scalermm = preprocessing.MinMaxScaler().fit(X)\n",
        "X = scalermm.transform(X)"
      ],
      "execution_count": null,
      "outputs": []
    },
    {
      "cell_type": "markdown",
      "metadata": {
        "id": "OC76Siock5lJ"
      },
      "source": [
        "Check feature statistics after preprocessing."
      ]
    },
    {
      "cell_type": "code",
      "metadata": {
        "id": "gjmsTS7tk60I"
      },
      "source": [
        "features_processed = pd.DataFrame(X)\n",
        "features_processed.describe()\n"
      ],
      "execution_count": null,
      "outputs": []
    },
    {
      "cell_type": "markdown",
      "metadata": {
        "id": "-61wpUQbFTom"
      },
      "source": [
        "# Define metrics"
      ]
    },
    {
      "cell_type": "markdown",
      "metadata": {
        "id": "kfkwW0Z8FqJY"
      },
      "source": [
        "## Multi-label learning"
      ]
    },
    {
      "cell_type": "markdown",
      "metadata": {
        "id": "RyHCaHNYrzCK"
      },
      "source": [
        "Define multi-label problem metrics\n",
        "\n",
        "\n",
        "> Since some instances of missing labels may appear in the test set during random division, it is more appropriate to use the micro method to evaluate the classification model.\n",
        "\n",
        "\n"
      ]
    },
    {
      "cell_type": "code",
      "metadata": {
        "id": "du9YUj6bF0Gk"
      },
      "source": [
        "from sklearn.metrics import *\n",
        "\n",
        "def clf_eval(y_test, y_pred, y_scores):\n",
        "  acc = accuracy_score(y_test,y_pred)\n",
        "  print(\"acc:\",acc)\n",
        "\n",
        "  f1_micro = f1_score(y_test, y_pred,average=\"micro\") \n",
        "  print(\"f1 score(micro):\",f1_micro)\n",
        "\n",
        "  precision_micro = precision_score(y_test, y_pred,average=\"micro\") \n",
        "  print(\"precision score(micro):\",precision_micro)\n",
        "\n",
        "  recall_micro = recall_score(y_test, y_pred,average=\"micro\") \n",
        "  print(\"recall score(micro):\",recall_micro)\n",
        "\n",
        "  AUC_micro = roc_auc_score(y_test, y_pred, average='micro')\n",
        "  print(\"AUC score(micro):\",AUC_micro)\n",
        "\n",
        "  loss_hamming = hamming_loss(y_test, y_pred)  \n",
        "  print(\"hamming loss:\",loss_hamming)\n",
        "\n",
        "  loss_ranking = label_ranking_loss(y_test, y_scores)\n",
        "  print(\"label ranking loss:\",loss_ranking)\n",
        "  \n",
        "  confusion_matrix = multilabel_confusion_matrix(y_test, y_pred)\n",
        "  print(\"confusion matrix:\",confusion_matrix)\n",
        "  return acc, f1_micro, precision_micro, recall_micro, loss_hamming, loss_ranking, confusion_matrix\n",
        "  \n",
        "  #l = label_ranking_average_precision_score(y_test, y_pred)\n",
        "  #print(\"label ranking average precision score：\",l)\n",
        "\n",
        "  #c = coverage_error(y_test, y_scores)\n",
        "  #print(\"coverage error:\",c)\n",
        "\n"
      ],
      "execution_count": null,
      "outputs": []
    },
    {
      "cell_type": "markdown",
      "metadata": {
        "id": "5jOswDf3-884"
      },
      "source": [
        "## Label distribution learning"
      ]
    },
    {
      "cell_type": "markdown",
      "metadata": {
        "id": "wMV0bOzn_FZx"
      },
      "source": [
        "Define LDL metrics"
      ]
    },
    {
      "cell_type": "code",
      "metadata": {
        "id": "_I8k0u4n_hY2"
      },
      "source": [
        "from sklearn.metrics import *\n",
        "import scipy\n",
        "from scipy.spatial import distance\n",
        "import numpy as np\n",
        "\n",
        "def ldl_eval(y_test, y_pred):\n",
        "  eps = np.finfo(np.float64).eps\n",
        "  for i in range(len(y_test)):\n",
        "    y_test[i] = y_test[i]/np.sum(y_test[i])\n",
        "    y_pred[i] = y_pred[i]/np.sum(y_pred[i])\n",
        "  \n",
        "  # distance\n",
        "  kl = np.mean(scipy.stats.entropy(y_test+eps,y_pred+eps,axis=1))\n",
        "  print(\"Kullback–Leibler divergence: \",kl)\n",
        "\n",
        "  euclidean_distance = np.mean(np.linalg.norm(y_test-y_pred,axis=1))\n",
        "  print(\"Euclidean distance: \",euclidean_distance)\n",
        "\n",
        "  mse = np.mean(np.power(y_test-y_pred,2))\n",
        "  print(\"MSE: \",mse)\n",
        "\n",
        "  chebyshev = np.mean(np.max(np.abs(y_test-y_pred),axis=1))\n",
        "  print(\"Chebyshev distance: \",chebyshev)\n",
        "\n",
        "  clark = np.mean(np.sqrt(np.sum(np.power(y_test-y_pred,2)/np.power(y_test+y_pred,2),axis=1)))\n",
        "  print(\"Clark distance: \",clark)\n",
        "\n",
        "  canberra = np.mean(np.sum(np.abs(y_test-y_pred)/(y_test+y_pred),axis=1))\n",
        "  print(\"Canberra distance: \",canberra)\n",
        "\n",
        "  # similarity\n",
        "  cosine = np.mean( [1.0-scipy.spatial.distance.cosine(y_test[i],y_pred[i]) for i in range(len(y_test))])\n",
        "  print(\"Cosine similarity: \",cosine)\n",
        "\n",
        "  intersection = np.mean(np.sum(np.min([y_test,y_pred],axis=0),axis=1))\n",
        "  print(\"Intersection similarity: \",intersection)\n",
        "\n",
        "  # ambiguity \n",
        "  kurtosis_pred = scipy.stats.kurtosis(y_pred, axis=1, fisher=False, bias=True)\n",
        "  kurtosis_test = scipy.stats.kurtosis(y_test, axis=1, fisher=False, bias=True)\n",
        "  kurtosis_dif = kurtosis_pred - kurtosis_test\n",
        "  kurtosis_signed_offset = np.mean(kurtosis_dif)\n",
        "  kurtosis_abs_offset = np.mean(np.abs(kurtosis_dif))\n",
        "  laloss = np.mean([ -x if x < 0 else 0 for x in kurtosis_dif])\n",
        "  print(\"Kurtosis_signed_offset: \",kurtosis_signed_offset)\n",
        "  print(\"Kurtosis_abs_offset: \",kurtosis_abs_offset)\n",
        "  print(\"Laloss: \",laloss)\n",
        "\n",
        "\n",
        "\n",
        "  return kl, euclidean_distance, mse, chebyshev,\n",
        "  clark, canberra, cosine, intersection,\n",
        "  kurtosis_signed_offset, kurtosis_abs_offset, laloss"
      ],
      "execution_count": null,
      "outputs": []
    },
    {
      "cell_type": "markdown",
      "metadata": {
        "id": "FKj8sQVLnUml"
      },
      "source": [
        "# Sklearn"
      ]
    },
    {
      "cell_type": "markdown",
      "metadata": {
        "id": "buwCtht5GUb9"
      },
      "source": [
        "## Classification model (special for multi-label problems)"
      ]
    },
    {
      "cell_type": "markdown",
      "metadata": {
        "id": "JYmnytjB3Aa8"
      },
      "source": [
        "Define multi-label specific prediction function to get the prediction labels and scores."
      ]
    },
    {
      "cell_type": "code",
      "metadata": {
        "id": "aRt4Lo5BjCSx"
      },
      "source": [
        "def clf_pre(clf, X_test):\n",
        "  y_pred = clf.predict(X_test)\n",
        "  y_proba = clf.predict_proba(X_test)\n",
        "  y_scores = np.zeros(y_pred.shape)\n",
        "  y_scores_t = y_scores.T\n",
        "  for i in range(len(y_scores_t)):\n",
        "    for j in range(len(y_scores_t[0])):\n",
        "      y_scores_t[i][j] = 1 - y_proba[i][j,0]\n",
        "  y_scores = y_scores_t.T\n",
        "  return y_pred, y_scores\n"
      ],
      "execution_count": null,
      "outputs": []
    },
    {
      "cell_type": "markdown",
      "metadata": {
        "id": "YYemVM4PyI2p"
      },
      "source": [
        "### KNN classifier"
      ]
    },
    {
      "cell_type": "code",
      "metadata": {
        "id": "F6P_KH8pyWbg"
      },
      "source": [
        "from sklearn.neighbors import KNeighborsClassifier\n",
        "clf_KNN = KNeighborsClassifier()\n",
        "clf_KNN.fit(X_train, y_ml_train)\n",
        "y_pred, y_scores = clf_pre(clf_KNN,X_test)\n",
        "print('KNN Eval')\n",
        "eval_KNN = clf_eval(y_ml_test,y_pred,y_scores)\n",
        "eval_KNN2 = ldl_eval(y_test,y_scores)"
      ],
      "execution_count": null,
      "outputs": []
    },
    {
      "cell_type": "markdown",
      "metadata": {
        "id": "vb8lUToAx_jE"
      },
      "source": [
        "### Random forest classifier"
      ]
    },
    {
      "cell_type": "code",
      "metadata": {
        "id": "aZEQibGqyAKs"
      },
      "source": [
        "from sklearn.ensemble import RandomForestClassifier\n",
        "clf_RandomForest = RandomForestClassifier(n_estimators=100)\n",
        "clf_RandomForest.fit(X_train, y_ml_train)\n",
        "y_pred, y_scores = clf_pre(clf_RandomForest,X_test)\n",
        "print('RandomForest Eval')\n",
        "eval_RF = clf_eval(y_ml_test,y_pred,y_scores)\n",
        "eval_RF2 = ldl_eval(y_test,y_scores)"
      ],
      "execution_count": null,
      "outputs": []
    },
    {
      "cell_type": "markdown",
      "metadata": {
        "id": "ycmZnbGBINF8"
      },
      "source": [
        "On training set"
      ]
    },
    {
      "cell_type": "code",
      "metadata": {
        "id": "3ShqEhnpIPmt"
      },
      "source": [
        "y_pred, y_scores = clf_pre(clf_RandomForest,X_train)\n",
        "print('RandomForest Eval')\n",
        "print('On training Set')\n",
        "eval_RF = clf_eval(y_ml_train,y_pred,y_scores)"
      ],
      "execution_count": null,
      "outputs": []
    },
    {
      "cell_type": "markdown",
      "metadata": {
        "id": "Sy6qaOoUGjcH"
      },
      "source": [
        "### Feature engineering attempt"
      ]
    },
    {
      "cell_type": "markdown",
      "metadata": {
        "id": "904qIE5jMahG"
      },
      "source": [
        "Get the top ten features with the largest information gain."
      ]
    },
    {
      "cell_type": "code",
      "metadata": {
        "id": "AKE9ebBK1Wzj"
      },
      "source": [
        "importances = clf_RandomForest.feature_importances_\n",
        "indices = np.argsort(importances)[::-1]\n",
        "print(\"Importance of the top 10 features\")\n",
        "for f in range(min(20,X_train.shape[1])):\n",
        "    print (\"%2d) %-*s %f\" % (f+1,30,indices[f],importances[indices[f]]) )"
      ],
      "execution_count": null,
      "outputs": []
    },
    {
      "cell_type": "markdown",
      "metadata": {
        "id": "-qpZqLK98Fq1"
      },
      "source": [
        "Try: combine the top 10 features"
      ]
    },
    {
      "cell_type": "code",
      "metadata": {
        "id": "tgVf61tJ75nd"
      },
      "source": [
        "X_train_processed = X_train.copy()\n",
        "X_test_processed = X_test.copy()\n",
        "for i in range(min(10,X_train.shape[1])):\n",
        "  for j in range(min(10,X_train.shape[1])):\n",
        "    if i>=j:\n",
        "      features_combined_train = X_train[:,indices[i]] * X_train[:,indices[j]]\n",
        "      X_train_processed = np.column_stack((X_train,features_combined_train.T))\n",
        "      features_combined_test = X_test[:,indices[i]] * X_test[:,indices[j]]\n",
        "      X_test_processed = np.column_stack((X_test,features_combined_test.T))\n",
        "\n",
        "print(X_train_processed.shape)\n",
        "print(X_test_processed.shape)"
      ],
      "execution_count": null,
      "outputs": []
    },
    {
      "cell_type": "markdown",
      "metadata": {
        "id": "G5LDvkggHajm"
      },
      "source": [
        "Evaluated by RF classifier"
      ]
    },
    {
      "cell_type": "code",
      "metadata": {
        "id": "1EKIZ_A-r6jZ"
      },
      "source": [
        "from sklearn.ensemble import RandomForestClassifier\n",
        "clf_RandomForest = RandomForestClassifier(n_estimators=100)\n",
        "clf_RandomForest.fit(X_train_processed, y_train)\n",
        "y_pred, y_scores = clf_pre(clf_RandomForest,X_test_processed)\n",
        "print('RandomForest Eval')\n",
        "eval_RF = clf_eval(y_test,y_pred,y_scores)"
      ],
      "execution_count": null,
      "outputs": []
    },
    {
      "cell_type": "markdown",
      "metadata": {
        "id": "zLRw2iNKGTJN"
      },
      "source": [
        "## Regression model (special for label distribution problems)"
      ]
    },
    {
      "cell_type": "markdown",
      "metadata": {
        "id": "guDY76yl_mWA"
      },
      "source": [
        "### SVR"
      ]
    },
    {
      "cell_type": "code",
      "metadata": {
        "colab": {
          "base_uri": "https://localhost:8080/"
        },
        "id": "pOfvNdGuAAuT",
        "outputId": "a213eba6-bcfc-4165-c131-3f928b9adb3c"
      },
      "source": [
        "from sklearn import svm\n",
        "from sklearn.multioutput import MultiOutputRegressor\n",
        "regressor_svr = MultiOutputRegressor(svm.SVR())\n",
        "regressor_svr.fit(X_train, y_train)"
      ],
      "execution_count": null,
      "outputs": [
        {
          "output_type": "execute_result",
          "data": {
            "text/plain": [
              "MultiOutputRegressor(estimator=SVR(C=1.0, cache_size=200, coef0=0.0, degree=3,\n",
              "                                   epsilon=0.1, gamma='scale', kernel='rbf',\n",
              "                                   max_iter=-1, shrinking=True, tol=0.001,\n",
              "                                   verbose=False),\n",
              "                     n_jobs=None)"
            ]
          },
          "metadata": {
            "tags": []
          },
          "execution_count": 48
        }
      ]
    },
    {
      "cell_type": "code",
      "metadata": {
        "colab": {
          "base_uri": "https://localhost:8080/"
        },
        "id": "gREt5xQmAV-x",
        "outputId": "3201c696-a65d-424e-c726-1532c3796cfb"
      },
      "source": [
        "y_pred = regressor_svr.predict(X_test)\n",
        "for i in range(len(y_pred)):\n",
        "  y_pred[i] = y_pred[i]/np.sum(y_pred[i])\n",
        "\n",
        "print(\"Testing set\")\n",
        "\n",
        "sl_eval = clf_eval(get_single_label(y_test),get_single_label(y_pred),y_pred)\n",
        "ml_eval = clf_eval(get_multi_label(y_test),get_multi_label(y_pred),y_pred)\n",
        "loss_test_mean = ldl_eval(y_test,y_pred)"
      ],
      "execution_count": null,
      "outputs": [
        {
          "output_type": "stream",
          "text": [
            "Testing set\n",
            "acc: 0.37333333333333335\n",
            "f1 score(micro): 0.37319316688567666\n",
            "precision score(micro): 0.37866666666666665\n",
            "recall score(micro): 0.36787564766839376\n",
            "AUC score(micro): 0.6214378238341969\n",
            "hamming loss: 0.212\n",
            "label ranking loss: 0.3287888888888889\n",
            "confusion matrix: [[[501  76]\n",
            "  [112  61]]\n",
            "\n",
            " [[650   0]\n",
            "  [100   0]]\n",
            "\n",
            " [[327 193]\n",
            "  [106 124]]\n",
            "\n",
            " [[662   0]\n",
            "  [ 88   0]]\n",
            "\n",
            " [[713   0]\n",
            "  [ 37   0]]\n",
            "\n",
            " [[409 197]\n",
            "  [ 45  99]]]\n",
            "acc: 0.04533333333333334\n",
            "f1 score(micro): 0.425359380759307\n",
            "precision score(micro): 0.38466666666666666\n",
            "recall score(micro): 0.4756801319043693\n",
            "AUC score(micro): 0.5974384839625284\n",
            "hamming loss: 0.34644444444444444\n",
            "label ranking loss: 0.3589259259259259\n",
            "confusion matrix: [[[221 317]\n",
            "  [ 44 168]]\n",
            "\n",
            " [[507  33]\n",
            "  [182  28]]\n",
            "\n",
            " [[145 285]\n",
            "  [ 59 261]]\n",
            "\n",
            " [[534   0]\n",
            "  [216   0]]\n",
            "\n",
            " [[606  58]\n",
            "  [ 84   2]]\n",
            "\n",
            " [[351 230]\n",
            "  [ 51 118]]]\n",
            "Kullback–Leibler divergence:  0.0763776037678445\n",
            "Euclidean distance:  0.15873612697394243\n",
            "MSE:  0.005132965883368118\n",
            "Chebyshev distance:  0.1308476705422391\n",
            "Clark distance:  0.3948085105858768\n",
            "Canberra distance:  0.8629585023464994\n",
            "Cosine similarity:  0.925627471871945\n",
            "Intersection similarity:  0.8459884504808337\n",
            "Kurtosis_signed_offset:  -0.19410576477080518\n",
            "Kurtosis_abs_offset:  1.0550180257408395\n",
            "Laloss:  0.6245618952558223\n"
          ],
          "name": "stdout"
        }
      ]
    },
    {
      "cell_type": "markdown",
      "metadata": {
        "id": "R70hQwPwirEM"
      },
      "source": [
        "### Random Forest Regressor"
      ]
    },
    {
      "cell_type": "code",
      "metadata": {
        "colab": {
          "base_uri": "https://localhost:8080/"
        },
        "id": "8WtolTHMckXV",
        "outputId": "743bd28c-b5bb-4f5d-9ee6-b9b64f45d530"
      },
      "source": [
        "from sklearn.ensemble import RandomForestRegressor\n",
        "\n",
        "regressor = RandomForestRegressor(n_estimators=100)\n",
        "regressor.fit(X_train, y_train)\n"
      ],
      "execution_count": null,
      "outputs": [
        {
          "output_type": "execute_result",
          "data": {
            "text/plain": [
              "RandomForestRegressor(bootstrap=True, ccp_alpha=0.0, criterion='mse',\n",
              "                      max_depth=None, max_features='auto', max_leaf_nodes=None,\n",
              "                      max_samples=None, min_impurity_decrease=0.0,\n",
              "                      min_impurity_split=None, min_samples_leaf=1,\n",
              "                      min_samples_split=2, min_weight_fraction_leaf=0.0,\n",
              "                      n_estimators=100, n_jobs=None, oob_score=False,\n",
              "                      random_state=None, verbose=0, warm_start=False)"
            ]
          },
          "metadata": {
            "tags": []
          },
          "execution_count": 50
        }
      ]
    },
    {
      "cell_type": "markdown",
      "metadata": {
        "id": "niNDKeJQHLvD"
      },
      "source": [
        "Evaluate the kl loss on the training set."
      ]
    },
    {
      "cell_type": "code",
      "metadata": {
        "colab": {
          "base_uri": "https://localhost:8080/"
        },
        "id": "oRQj37A4j__5",
        "outputId": "e25651f5-d050-42a3-8341-67cecf504886"
      },
      "source": [
        "y_pred_train = regressor.predict(X_train)\n",
        "\n",
        "for i in range(len(y_pred_train)):\n",
        "  y_pred_train[i] = y_pred_train[i]/sum(y_pred_train[i])\n",
        "  \n",
        "print(\"Training set\")\n",
        "loss_train_mean = ldl_eval(y_train,y_pred_train)"
      ],
      "execution_count": null,
      "outputs": [
        {
          "output_type": "stream",
          "text": [
            "Training set\n",
            "Kullback–Leibler divergence:  0.14403391478037555\n",
            "Euclidean distance:  0.14535064036678005\n",
            "MSE:  0.0031256182596449654\n",
            "Chebyshev distance:  0.11341969017529563\n",
            "Clark distance:  nan\n",
            "Canberra distance:  nan\n"
          ],
          "name": "stdout"
        },
        {
          "output_type": "stream",
          "text": [
            "/usr/local/lib/python3.6/dist-packages/ipykernel_launcher.py:25: RuntimeWarning: invalid value encountered in true_divide\n",
            "/usr/local/lib/python3.6/dist-packages/ipykernel_launcher.py:28: RuntimeWarning: invalid value encountered in true_divide\n"
          ],
          "name": "stderr"
        },
        {
          "output_type": "stream",
          "text": [
            "Cosine similarity:  0.9780090306270477\n",
            "Intersection similarity:  0.8488760701182225\n",
            "Kurtosis_signed_offset:  -0.015575000196273248\n",
            "Kurtosis_abs_offset:  0.6084820865960565\n",
            "Laloss:  0.312028543396165\n"
          ],
          "name": "stdout"
        }
      ]
    },
    {
      "cell_type": "markdown",
      "metadata": {
        "id": "rmtYVnewHYiv"
      },
      "source": [
        "Evaluate the kl loss on the testing set"
      ]
    },
    {
      "cell_type": "code",
      "metadata": {
        "colab": {
          "base_uri": "https://localhost:8080/"
        },
        "id": "QUohepez7hod",
        "outputId": "0e39625b-1e4a-4150-d27c-69ae2e2e1ae9"
      },
      "source": [
        "y_pred = regressor.predict(X_test)\n",
        "for i in range(len(y_pred)):\n",
        "  y_pred[i] = y_pred[i]/np.sum(y_pred[i])\n",
        "\n",
        "print(\"Testing set\")\n",
        "\n",
        "sl_eval = clf_eval(get_single_label(y_test),get_single_label(y_pred),y_pred)\n",
        "ml_eval = clf_eval(get_multi_label(y_test),get_multi_label(y_pred),y_pred)\n",
        "loss_test_mean = ldl_eval(y_test,y_pred)"
      ],
      "execution_count": null,
      "outputs": [
        {
          "output_type": "stream",
          "text": [
            "Testing set\n",
            "acc: 0.48933333333333334\n",
            "f1 score(micro): 0.49408672798948744\n",
            "precision score(micro): 0.5013333333333333\n",
            "recall score(micro): 0.48704663212435234\n",
            "AUC score(micro): 0.6933623718561676\n",
            "hamming loss: 0.1711111111111111\n",
            "label ranking loss: 0.23394814814814816\n",
            "confusion matrix: [[[472 105]\n",
            "  [ 64 109]]\n",
            "\n",
            " [[640  10]\n",
            "  [ 90  10]]\n",
            "\n",
            " [[329 191]\n",
            "  [ 68 162]]\n",
            "\n",
            " [[659   3]\n",
            "  [ 85   3]]\n",
            "\n",
            " [[710   3]\n",
            "  [ 37   0]]\n",
            "\n",
            " [[544  62]\n",
            "  [ 52  92]]]\n",
            "acc: 0.156\n",
            "f1 score(micro): 0.5132275132275133\n",
            "precision score(micro): 0.473831123517097\n",
            "recall score(micro): 0.5597691673536686\n",
            "AUC score(micro): 0.665190333600777\n",
            "hamming loss: 0.2862222222222222\n",
            "label ranking loss: 0.24960370370370372\n",
            "confusion matrix: [[[342 196]\n",
            "  [ 56 156]]\n",
            "\n",
            " [[483  57]\n",
            "  [138  72]]\n",
            "\n",
            " [[161 269]\n",
            "  [ 36 284]]\n",
            "\n",
            " [[442  92]\n",
            "  [161  55]]\n",
            "\n",
            " [[635  29]\n",
            "  [ 83   3]]\n",
            "\n",
            " [[470 111]\n",
            "  [ 60 109]]]\n",
            "Kullback–Leibler divergence:  0.055973061029926004\n",
            "Euclidean distance:  0.13400012910974346\n",
            "MSE:  0.0037962159548448468\n",
            "Chebyshev distance:  0.10734642399549746\n",
            "Clark distance:  0.336009419557134\n",
            "Canberra distance:  0.7157363323423451\n",
            "Cosine similarity:  0.9445842628853243\n",
            "Intersection similarity:  0.8715007472424151\n",
            "Kurtosis_signed_offset:  -0.3091121267644367\n",
            "Kurtosis_abs_offset:  0.9557403809129121\n",
            "Laloss:  0.6324262538386745\n"
          ],
          "name": "stdout"
        }
      ]
    },
    {
      "cell_type": "code",
      "metadata": {
        "colab": {
          "base_uri": "https://localhost:8080/"
        },
        "id": "oRkEj52SRCsX",
        "outputId": "47f29b13-7d11-46ae-fab4-205dd2cbb043"
      },
      "source": [
        "y_pred = regressor2.predict(X_test)\n",
        "for i in range(len(y_pred)):\n",
        "  y_pred[i] = y_pred[i]/np.sum(y_pred[i])\n",
        "\n",
        "print(\"Testing set\")\n",
        "\n",
        "sl_eval = clf_eval(get_single_label(y_test),get_single_label(y_pred),y_pred)\n",
        "ml_eval = clf_eval(get_multi_label(y_test),get_multi_label(y_pred),y_pred)\n",
        "loss_test_mean = ldl_eval(y_test,y_pred)"
      ],
      "execution_count": null,
      "outputs": [
        {
          "output_type": "stream",
          "text": [
            "Testing set\n",
            "acc: 0.48533333333333334\n",
            "f1 score(micro): 0.4907407407407407\n",
            "precision score(micro): 0.49466666666666664\n",
            "recall score(micro): 0.4868766404199475\n",
            "AUC score(micro): 0.6927427610874483\n",
            "hamming loss: 0.1711111111111111\n",
            "label ranking loss: 0.23013333333333333\n",
            "confusion matrix: [[[512  69]\n",
            "  [ 73  96]]\n",
            "\n",
            " [[622  22]\n",
            "  [ 91  15]]\n",
            "\n",
            " [[298 241]\n",
            "  [ 40 171]]\n",
            "\n",
            " [[652  18]\n",
            "  [ 70  10]]\n",
            "\n",
            " [[702   3]\n",
            "  [ 44   1]]\n",
            "\n",
            " [[573  26]\n",
            "  [ 73  78]]]\n",
            "acc: 0.204\n",
            "f1 score(micro): 0.5363601385148133\n",
            "precision score(micro): 0.49750178443968596\n",
            "recall score(micro): 0.5818030050083473\n",
            "AUC score(micro): 0.6842994431462088\n",
            "hamming loss: 0.2677777777777778\n",
            "label ranking loss: 0.23342962962962963\n",
            "confusion matrix: [[[433 117]\n",
            "  [ 73 127]]\n",
            "\n",
            " [[408 139]\n",
            "  [ 97 106]]\n",
            "\n",
            " [[165 272]\n",
            "  [ 24 289]]\n",
            "\n",
            " [[446  99]\n",
            "  [141  64]]\n",
            "\n",
            " [[633  18]\n",
            "  [ 87  12]]\n",
            "\n",
            " [[513  59]\n",
            "  [ 79  99]]]\n",
            "Kullback–Leibler divergence:  0.05999203885618337\n",
            "Euclidean distance:  0.1386967649513472\n",
            "MSE:  0.004099387457888263\n",
            "Chebyshev distance:  0.1093024047480481\n",
            "Clark distance:  0.3466428013692079\n",
            "Canberra distance:  0.7217363439786784\n",
            "Cosine similarity:  0.9405430925090364\n",
            "Intersection similarity:  0.8687410098563141\n",
            "Kurtosis_signed_offset:  -0.34412789009816536\n",
            "Kurtosis_abs_offset:  1.0364143425694794\n",
            "Laloss:  0.6902711163338223\n"
          ],
          "name": "stdout"
        }
      ]
    },
    {
      "cell_type": "markdown",
      "metadata": {
        "id": "rZ9I5t7D9Qu7"
      },
      "source": [
        "Calculate Kurtosis of Annotated Labels on Test Set"
      ]
    },
    {
      "cell_type": "code",
      "metadata": {
        "id": "IcMVRXep9Z7K",
        "colab": {
          "base_uri": "https://localhost:8080/",
          "height": 284
        },
        "outputId": "43baa7e6-e60c-4807-9a52-f196d64c71f5"
      },
      "source": [
        "label_kurtosis = scipy.stats.kurtosis(y_test, axis=1, fisher=False, bias=True)\n",
        "label_kurtosis = np.c_[y_test,label_kurtosis]\n",
        "label_kurtosis = pd.DataFrame(label_kurtosis)\n",
        "kurtosis_sort = label_kurtosis.sort_values(labels.shape[1]-1,axis=0)\n",
        "\n",
        "# kurtosis_sort.columns=['Happy', 'Sad', 'Surprise', 'Anger', 'Disgust', 'Fear','Kurtosis']\n",
        "kurtosis_sort.describe()"
      ],
      "execution_count": null,
      "outputs": [
        {
          "output_type": "execute_result",
          "data": {
            "text/html": [
              "<div>\n",
              "<style scoped>\n",
              "    .dataframe tbody tr th:only-of-type {\n",
              "        vertical-align: middle;\n",
              "    }\n",
              "\n",
              "    .dataframe tbody tr th {\n",
              "        vertical-align: top;\n",
              "    }\n",
              "\n",
              "    .dataframe thead th {\n",
              "        text-align: right;\n",
              "    }\n",
              "</style>\n",
              "<table border=\"1\" class=\"dataframe\">\n",
              "  <thead>\n",
              "    <tr style=\"text-align: right;\">\n",
              "      <th></th>\n",
              "      <th>0</th>\n",
              "      <th>1</th>\n",
              "      <th>2</th>\n",
              "      <th>3</th>\n",
              "      <th>4</th>\n",
              "      <th>5</th>\n",
              "      <th>6</th>\n",
              "    </tr>\n",
              "  </thead>\n",
              "  <tbody>\n",
              "    <tr>\n",
              "      <th>count</th>\n",
              "      <td>64.000000</td>\n",
              "      <td>64.000000</td>\n",
              "      <td>64.000000</td>\n",
              "      <td>64.000000</td>\n",
              "      <td>64.000000</td>\n",
              "      <td>64.000000</td>\n",
              "      <td>64.000000</td>\n",
              "    </tr>\n",
              "    <tr>\n",
              "      <th>mean</th>\n",
              "      <td>0.164181</td>\n",
              "      <td>0.173232</td>\n",
              "      <td>0.163764</td>\n",
              "      <td>0.164016</td>\n",
              "      <td>0.181437</td>\n",
              "      <td>0.153370</td>\n",
              "      <td>2.767488</td>\n",
              "    </tr>\n",
              "    <tr>\n",
              "      <th>std</th>\n",
              "      <td>0.112310</td>\n",
              "      <td>0.052366</td>\n",
              "      <td>0.075027</td>\n",
              "      <td>0.056674</td>\n",
              "      <td>0.057771</td>\n",
              "      <td>0.028992</td>\n",
              "      <td>0.882297</td>\n",
              "    </tr>\n",
              "    <tr>\n",
              "      <th>min</th>\n",
              "      <td>0.067433</td>\n",
              "      <td>0.099451</td>\n",
              "      <td>0.086907</td>\n",
              "      <td>0.096532</td>\n",
              "      <td>0.100281</td>\n",
              "      <td>0.099458</td>\n",
              "      <td>1.357919</td>\n",
              "    </tr>\n",
              "    <tr>\n",
              "      <th>25%</th>\n",
              "      <td>0.086074</td>\n",
              "      <td>0.133765</td>\n",
              "      <td>0.114018</td>\n",
              "      <td>0.122685</td>\n",
              "      <td>0.127356</td>\n",
              "      <td>0.131960</td>\n",
              "      <td>2.050240</td>\n",
              "    </tr>\n",
              "    <tr>\n",
              "      <th>50%</th>\n",
              "      <td>0.113784</td>\n",
              "      <td>0.162520</td>\n",
              "      <td>0.130567</td>\n",
              "      <td>0.141802</td>\n",
              "      <td>0.173124</td>\n",
              "      <td>0.152279</td>\n",
              "      <td>2.662803</td>\n",
              "    </tr>\n",
              "    <tr>\n",
              "      <th>75%</th>\n",
              "      <td>0.184334</td>\n",
              "      <td>0.192755</td>\n",
              "      <td>0.179354</td>\n",
              "      <td>0.197822</td>\n",
              "      <td>0.235069</td>\n",
              "      <td>0.171473</td>\n",
              "      <td>3.425403</td>\n",
              "    </tr>\n",
              "    <tr>\n",
              "      <th>max</th>\n",
              "      <td>0.456420</td>\n",
              "      <td>0.330827</td>\n",
              "      <td>0.358845</td>\n",
              "      <td>0.317175</td>\n",
              "      <td>0.306174</td>\n",
              "      <td>0.233681</td>\n",
              "      <td>4.188581</td>\n",
              "    </tr>\n",
              "  </tbody>\n",
              "</table>\n",
              "</div>"
            ],
            "text/plain": [
              "               0          1          2  ...          4          5          6\n",
              "count  64.000000  64.000000  64.000000  ...  64.000000  64.000000  64.000000\n",
              "mean    0.164181   0.173232   0.163764  ...   0.181437   0.153370   2.767488\n",
              "std     0.112310   0.052366   0.075027  ...   0.057771   0.028992   0.882297\n",
              "min     0.067433   0.099451   0.086907  ...   0.100281   0.099458   1.357919\n",
              "25%     0.086074   0.133765   0.114018  ...   0.127356   0.131960   2.050240\n",
              "50%     0.113784   0.162520   0.130567  ...   0.173124   0.152279   2.662803\n",
              "75%     0.184334   0.192755   0.179354  ...   0.235069   0.171473   3.425403\n",
              "max     0.456420   0.330827   0.358845  ...   0.306174   0.233681   4.188581\n",
              "\n",
              "[8 rows x 7 columns]"
            ]
          },
          "metadata": {
            "tags": []
          },
          "execution_count": 34
        }
      ]
    },
    {
      "cell_type": "markdown",
      "metadata": {
        "id": "mAqdBkNG8Hc2"
      },
      "source": [
        "Calculate Kurtosis of Predicted Labels on Test Set （need y_pred）"
      ]
    },
    {
      "cell_type": "code",
      "metadata": {
        "id": "7e2489oL7iD5",
        "colab": {
          "base_uri": "https://localhost:8080/",
          "height": 284
        },
        "outputId": "de0823f8-5a62-45eb-fea7-d96fac1b3e32"
      },
      "source": [
        "label_kurtosis = scipy.stats.kurtosis(y_pred, axis=1, fisher=False, bias=True)\n",
        "label_kurtosis = np.c_[y_pred,label_kurtosis]\n",
        "label_kurtosis = pd.DataFrame(label_kurtosis)\n",
        "kurtosis_sort = label_kurtosis.sort_values(labels.shape[1]-1,axis=0)\n",
        "\n",
        "# kurtosis_sort.columns=['Happy', 'Sad', 'Surprise', 'Anger', 'Disgust', 'Fear','Kurtosis']\n",
        "kurtosis_sort.describe()"
      ],
      "execution_count": null,
      "outputs": [
        {
          "output_type": "execute_result",
          "data": {
            "text/html": [
              "<div>\n",
              "<style scoped>\n",
              "    .dataframe tbody tr th:only-of-type {\n",
              "        vertical-align: middle;\n",
              "    }\n",
              "\n",
              "    .dataframe tbody tr th {\n",
              "        vertical-align: top;\n",
              "    }\n",
              "\n",
              "    .dataframe thead th {\n",
              "        text-align: right;\n",
              "    }\n",
              "</style>\n",
              "<table border=\"1\" class=\"dataframe\">\n",
              "  <thead>\n",
              "    <tr style=\"text-align: right;\">\n",
              "      <th></th>\n",
              "      <th>0</th>\n",
              "      <th>1</th>\n",
              "      <th>2</th>\n",
              "      <th>3</th>\n",
              "      <th>4</th>\n",
              "      <th>5</th>\n",
              "      <th>6</th>\n",
              "    </tr>\n",
              "  </thead>\n",
              "  <tbody>\n",
              "    <tr>\n",
              "      <th>count</th>\n",
              "      <td>64.000000</td>\n",
              "      <td>64.000000</td>\n",
              "      <td>64.000000</td>\n",
              "      <td>64.000000</td>\n",
              "      <td>64.000000</td>\n",
              "      <td>64.000000</td>\n",
              "      <td>64.000000</td>\n",
              "    </tr>\n",
              "    <tr>\n",
              "      <th>mean</th>\n",
              "      <td>0.155469</td>\n",
              "      <td>0.175041</td>\n",
              "      <td>0.166498</td>\n",
              "      <td>0.164355</td>\n",
              "      <td>0.182326</td>\n",
              "      <td>0.156312</td>\n",
              "      <td>2.199864</td>\n",
              "    </tr>\n",
              "    <tr>\n",
              "      <th>std</th>\n",
              "      <td>0.035653</td>\n",
              "      <td>0.011751</td>\n",
              "      <td>0.027917</td>\n",
              "      <td>0.016113</td>\n",
              "      <td>0.019079</td>\n",
              "      <td>0.007720</td>\n",
              "      <td>0.823385</td>\n",
              "    </tr>\n",
              "    <tr>\n",
              "      <th>min</th>\n",
              "      <td>0.107750</td>\n",
              "      <td>0.143283</td>\n",
              "      <td>0.124946</td>\n",
              "      <td>0.123986</td>\n",
              "      <td>0.129556</td>\n",
              "      <td>0.129489</td>\n",
              "      <td>1.260523</td>\n",
              "    </tr>\n",
              "    <tr>\n",
              "      <th>25%</th>\n",
              "      <td>0.135349</td>\n",
              "      <td>0.166956</td>\n",
              "      <td>0.146199</td>\n",
              "      <td>0.152428</td>\n",
              "      <td>0.171541</td>\n",
              "      <td>0.152960</td>\n",
              "      <td>1.618657</td>\n",
              "    </tr>\n",
              "    <tr>\n",
              "      <th>50%</th>\n",
              "      <td>0.145497</td>\n",
              "      <td>0.177620</td>\n",
              "      <td>0.158399</td>\n",
              "      <td>0.163267</td>\n",
              "      <td>0.182870</td>\n",
              "      <td>0.156812</td>\n",
              "      <td>1.906927</td>\n",
              "    </tr>\n",
              "    <tr>\n",
              "      <th>75%</th>\n",
              "      <td>0.162892</td>\n",
              "      <td>0.182972</td>\n",
              "      <td>0.182037</td>\n",
              "      <td>0.176285</td>\n",
              "      <td>0.197734</td>\n",
              "      <td>0.161615</td>\n",
              "      <td>2.655288</td>\n",
              "    </tr>\n",
              "    <tr>\n",
              "      <th>max</th>\n",
              "      <td>0.303983</td>\n",
              "      <td>0.192161</td>\n",
              "      <td>0.257398</td>\n",
              "      <td>0.211255</td>\n",
              "      <td>0.221861</td>\n",
              "      <td>0.170987</td>\n",
              "      <td>3.994224</td>\n",
              "    </tr>\n",
              "  </tbody>\n",
              "</table>\n",
              "</div>"
            ],
            "text/plain": [
              "               0          1          2  ...          4          5          6\n",
              "count  64.000000  64.000000  64.000000  ...  64.000000  64.000000  64.000000\n",
              "mean    0.155469   0.175041   0.166498  ...   0.182326   0.156312   2.199864\n",
              "std     0.035653   0.011751   0.027917  ...   0.019079   0.007720   0.823385\n",
              "min     0.107750   0.143283   0.124946  ...   0.129556   0.129489   1.260523\n",
              "25%     0.135349   0.166956   0.146199  ...   0.171541   0.152960   1.618657\n",
              "50%     0.145497   0.177620   0.158399  ...   0.182870   0.156812   1.906927\n",
              "75%     0.162892   0.182972   0.182037  ...   0.197734   0.161615   2.655288\n",
              "max     0.303983   0.192161   0.257398  ...   0.221861   0.170987   3.994224\n",
              "\n",
              "[8 rows x 7 columns]"
            ]
          },
          "metadata": {
            "tags": []
          },
          "execution_count": 35
        }
      ]
    },
    {
      "cell_type": "markdown",
      "metadata": {
        "id": "AysvNM-F3lb9"
      },
      "source": [
        "# keras"
      ]
    },
    {
      "cell_type": "code",
      "metadata": {
        "id": "jxd2-6ZifBne"
      },
      "source": [
        "# Using TensorFlow as keras backend\n",
        "import tensorflow as tf\n",
        "\n",
        "from tensorflow import keras\n",
        "import numpy as np\n",
        "from keras.datasets import mnist\n",
        "from keras.models import Sequential,Model\n",
        "from keras.layers import Dense,Dropout,Input\n",
        "from keras.utils import get_file,to_categorical\n",
        "from keras import regularizers\n",
        "\n",
        "from keras import backend as K"
      ],
      "execution_count": null,
      "outputs": []
    },
    {
      "cell_type": "markdown",
      "metadata": {
        "id": "9i6k_ZgtCSLZ"
      },
      "source": [
        "## Define Loss functions"
      ]
    },
    {
      "cell_type": "markdown",
      "metadata": {
        "id": "YBAdVKG0Caw5"
      },
      "source": [
        "Define LDL loss functions"
      ]
    },
    {
      "cell_type": "code",
      "metadata": {
        "id": "Sjdfg9acCd86"
      },
      "source": [
        "def kurt_cal(y):\n",
        "  mean = tf.reduce_mean(y,axis=-1,keepdims=True)\n",
        "  std = tf.keras.backend.std(y,axis=-1,keepdims=True)\n",
        "  kurt = tf.reduce_mean(tf.pow((y-mean)/std,4),axis=-1)\n",
        "  return kurt\n",
        "\n",
        "def new_kurt_cal(y):\n",
        "  mean = tf.reduce_mean(y,axis=-1,keepdims=True)\n",
        "  std = tf.keras.backend.std(y,axis=-1,keepdims=True)\n",
        "  dif = y-mean\n",
        "  dif_above_zero = tf.reduce_max([dif,tf.zeros_like(dif)],axis=0)\n",
        "  new_kurt = tf.reduce_mean(tf.pow((dif_above_zero)/std,4),axis=-1)\n",
        "  return new_kurt\n",
        "  \n",
        "def label_ambiguity_loss(y_true, y_pred):\n",
        "  kurt_dif = kurt_cal(y_true)-kurt_cal(y_pred)\n",
        "  # la_loss = tf.reduce_max([kurt_dif,tf.zeros_like(kurt_dif)])\n",
        "  laloss_abs = tf.abs(kurt_cal(y_true)-kurt_cal(y_pred))\n",
        "  # mse = tf.reduce_mean(tf.pow((y_true-y_pred),2))\n",
        "  kl = tf.keras.losses.KLDivergence()\n",
        "  kl_loss = kl(y_true, y_pred)\n",
        "  loss = kl_loss * laloss_abs\n",
        "  return loss\n",
        "\n",
        "def new_label_ambiguity_loss(y_true, y_pred):\n",
        "  kurt_dif = new_kurt_cal(y_true)-new_kurt_cal(y_pred)\n",
        "  la_loss = tf.reduce_max([kurt_dif,tf.zeros_like(kurt_dif)])\n",
        "  # laloss_abs = tf.abs(kurt_cal(y_true)-kurt_cal(y_pred))\n",
        "  # mse = tf.reduce_mean(tf.pow((y_true-y_pred),2))\n",
        "  kl = tf.keras.losses.KLDivergence()\n",
        "  kl_loss = kl(y_true, y_pred)\n",
        "  loss = kl_loss + 0.001 * la_loss\n",
        "  return loss\n",
        "\n",
        "def weighted_kl(y_true, y_pred):\n",
        "  kl = tf.keras.losses.KLDivergence()\n",
        "  weight = kurt_cal(y_true)\n",
        "  weighted_kl = kl(y_true, y_pred, sample_weight= tf.reduce_min([weight,tf.ones_like(weight)*3],axis=0))\n",
        "  return weighted_kl"
      ],
      "execution_count": null,
      "outputs": []
    },
    {
      "cell_type": "code",
      "metadata": {
        "colab": {
          "base_uri": "https://localhost:8080/"
        },
        "id": "RenTcYfQrD1N",
        "outputId": "c14b3a65-4b8e-48ef-9e76-f6f8a9f37461"
      },
      "source": [
        "\"\"\"\n",
        "y = tf.constant([[0.1,0.3,0.4,0.2],[0.2,0.6,0.1,0.3]])\n",
        "mean = tf.reduce_mean(y,axis=-1,keepdims=True)\n",
        "std = tf.keras.backend.std(y,axis=-1,keepdims=True)\n",
        "kurt = tf.reduce_mean(tf.pow((y-mean)/std,4),axis=-1)\n",
        "kurt.numpy()\n",
        "kurtosis_scipy = scipy.stats.kurtosis(y.numpy(), axis=1, fisher=False, bias=True)\n",
        "kurtosis_scipy-kurt.numpy()\n",
        "\n",
        "y_true = y\n",
        "y_pred = y/std\n",
        "kurt_dif = kurt_cal(y_true)-kurt_cal(y_pred)\n",
        "laloss = tf.reduce_max([-kurt_dif,tf.zeros(kurt_dif.shape)],axis=0)\n",
        "kl = tf.keras.losses.KLDivergence()\n",
        "weight = kurt_cal(y_true)\n",
        "tf.ones_like(weight)*3\n",
        "weighted_kl = kl(y_true, y_pred, sample_weight= tf.reduce_min([weight,tf.ones_like(weight)*3],axis=0))\n",
        "mean = tf.reduce_mean(y,axis=-1,keepdims=True)\n",
        "std = tf.keras.backend.std(y,axis=-1,keepdims=True)\n",
        "dif = y-mean\n",
        "dif_above_zero = tf.reduce_max([dif,tf.zeros_like(dif)],axis=0)\n",
        "new_kurt = tf.reduce_mean(tf.pow((dif_above_zero)/std,4),axis=-1)\n",
        "new_kurt\n",
        "\"\"\""
      ],
      "execution_count": null,
      "outputs": [
        {
          "output_type": "execute_result",
          "data": {
            "application/vnd.google.colaboratory.intrinsic+json": {
              "type": "string"
            },
            "text/plain": [
              "'\\ny = tf.constant([[0.1,0.3,0.4,0.2],[0.2,0.6,0.1,0.3]])\\nmean = tf.reduce_mean(y,axis=-1,keepdims=True)\\nstd = tf.keras.backend.std(y,axis=-1,keepdims=True)\\nkurt = tf.reduce_mean(tf.pow((y-mean)/std,4),axis=-1)\\nkurt.numpy()\\nkurtosis_scipy = scipy.stats.kurtosis(y.numpy(), axis=1, fisher=False, bias=True)\\nkurtosis_scipy-kurt.numpy()\\n\\ny_true = y\\ny_pred = y/std\\nkurt_dif = kurt_cal(y_true)-kurt_cal(y_pred)\\nlaloss = tf.reduce_max([-kurt_dif,tf.zeros(kurt_dif.shape)],axis=0)\\nkl = tf.keras.losses.KLDivergence()\\nweight = kurt_cal(y_true)\\ntf.ones_like(weight)*3\\nweighted_kl = kl(y_true, y_pred, sample_weight= tf.reduce_min([weight,tf.ones_like(weight)*3],axis=0))\\nmean = tf.reduce_mean(y,axis=-1,keepdims=True)\\nstd = tf.keras.backend.std(y,axis=-1,keepdims=True)\\ndif = y-mean\\ndif_above_zero = tf.reduce_max([dif,tf.zeros_like(dif)],axis=0)\\nnew_kurt = tf.reduce_mean(tf.pow((dif_above_zero)/std,4),axis=-1)\\nnew_kurt\\n'"
            ]
          },
          "metadata": {
            "tags": []
          },
          "execution_count": 64
        }
      ]
    },
    {
      "cell_type": "markdown",
      "metadata": {
        "id": "EaSMKNxgumaZ"
      },
      "source": [
        "## Define Metrics"
      ]
    },
    {
      "cell_type": "code",
      "metadata": {
        "id": "HCXsoTIRurhj"
      },
      "source": [
        "def laloss(y_true, y_pred):\n",
        "  kurt_dif = kurt_cal(y_true)-kurt_cal(y_pred)\n",
        "  laloss = tf.reduce_max([kurt_dif,tf.zeros_like(kurt_dif)])\n",
        "  return laloss\n",
        "\n",
        "def new_laloss(y_true, y_pred):\n",
        "  kurt_dif = new_kurt_cal(y_true)-new_kurt_cal(y_pred)\n",
        "  laloss = tf.reduce_max([kurt_dif,tf.zeros_like(kurt_dif)])\n",
        "  return laloss"
      ],
      "execution_count": null,
      "outputs": []
    },
    {
      "cell_type": "markdown",
      "metadata": {
        "id": "8M15ksnvFa3h"
      },
      "source": [
        "## LDL net"
      ]
    },
    {
      "cell_type": "code",
      "metadata": {
        "id": "QVf82TQ5FgKP"
      },
      "source": [
        "feature_dim = X.shape[1]\n",
        "label_dim = y.shape[1]\n",
        "\n",
        "def get_model():\n",
        "  model = Sequential()\n",
        "  model.add(Dense(64,activation='relu',input_shape=(feature_dim,)))\n",
        "  model.add(Dropout(0.4))\n",
        "  model.add(Dense(64,activation='relu'))\n",
        "  model.add(Dense(label_dim, activation='softmax'))\n",
        "  return model\n",
        "\n",
        "def get_model_baseline():\n",
        "  model = Sequential()\n",
        "  model.add(Dense(64,activation='relu',input_shape=(feature_dim,)))\n",
        "  model.add(Dropout(0.4))\n",
        "  model.add(Dense(64,activation='relu'))\n",
        "  model.add(Dense(label_dim, activation='softmax'))\n",
        "  model.compile(optimizer=keras.optimizers.RMSprop(lr=1e-3),loss= 'kullback_leibler_divergence', metrics=['kullback_leibler_divergence',laloss,new_laloss,weighted_kl])\n",
        "  return model"
      ],
      "execution_count": null,
      "outputs": []
    },
    {
      "cell_type": "markdown",
      "metadata": {
        "id": "HcWfq4bLDUs2"
      },
      "source": [
        "### Validate"
      ]
    },
    {
      "cell_type": "code",
      "metadata": {
        "colab": {
          "base_uri": "https://localhost:8080/"
        },
        "id": "3yWW9wlvJu2o",
        "outputId": "419dc0f3-74fd-49d1-f455-604b7ee2694d"
      },
      "source": [
        "val_num = np.int32(len(X_train)/10)\n",
        "X_val = X_train[:val_num]\n",
        "partial_X_train = X_train[val_num:]\n",
        "y_val = y_train[:val_num]\n",
        "partial_y_train = y_train[val_num:]\n",
        "val_num"
      ],
      "execution_count": null,
      "outputs": [
        {
          "output_type": "execute_result",
          "data": {
            "text/plain": [
              "200"
            ]
          },
          "metadata": {
            "tags": []
          },
          "execution_count": 32
        }
      ]
    },
    {
      "cell_type": "code",
      "metadata": {
        "id": "dIsyiz2IJs0E"
      },
      "source": [
        "model = get_model()\n",
        "model.compile(optimizer=keras.optimizers.RMSprop(),loss= label_ambiguity_loss, metrics=['acc','kullback_leibler_divergence',laloss])\n",
        "history = model.fit(partial_X_train,partial_y_train,batch_size=256,epochs=200,validation_data=(X_val,y_val),verbose=1)"
      ],
      "execution_count": null,
      "outputs": []
    },
    {
      "cell_type": "code",
      "metadata": {
        "id": "JBaJyCVx8zhR",
        "colab": {
          "base_uri": "https://localhost:8080/"
        },
        "outputId": "92c778b1-eb2b-47dc-e4b0-4acdfcdc2bb6"
      },
      "source": [
        "model_baseline = get_model()\n",
        "model_baseline.compile(optimizer=keras.optimizers.RMSprop(),loss= 'kullback_leibler_divergence', metrics=['acc','kullback_leibler_divergence',laloss])\n",
        "history_baseline = model_baseline.fit(partial_X_train,partial_y_train,batch_size=256,epochs=200,validation_data=(X_val,y_val),verbose=1)"
      ],
      "execution_count": null,
      "outputs": [
        {
          "output_type": "stream",
          "text": [
            "Epoch 1/200\n",
            "8/8 [==============================] - 1s 31ms/step - loss: 0.0841 - acc: 0.2023 - kullback_leibler_divergence: 0.0841 - laloss: 2.8734 - val_loss: 0.0841 - val_acc: 0.2750 - val_kullback_leibler_divergence: 0.0841 - val_laloss: 2.2106\n",
            "Epoch 2/200\n",
            "8/8 [==============================] - 0s 7ms/step - loss: 0.0838 - acc: 0.2990 - kullback_leibler_divergence: 0.0838 - laloss: 2.8964 - val_loss: 0.0836 - val_acc: 0.2750 - val_kullback_leibler_divergence: 0.0836 - val_laloss: 2.5828\n",
            "Epoch 3/200\n",
            "8/8 [==============================] - 0s 7ms/step - loss: 0.0836 - acc: 0.2854 - kullback_leibler_divergence: 0.0836 - laloss: 2.9430 - val_loss: 0.0834 - val_acc: 0.2750 - val_kullback_leibler_divergence: 0.0834 - val_laloss: 2.3658\n",
            "Epoch 4/200\n",
            "8/8 [==============================] - 0s 7ms/step - loss: 0.0814 - acc: 0.2639 - kullback_leibler_divergence: 0.0814 - laloss: 2.8974 - val_loss: 0.0834 - val_acc: 0.2300 - val_kullback_leibler_divergence: 0.0834 - val_laloss: 2.7850\n",
            "Epoch 5/200\n",
            "8/8 [==============================] - 0s 7ms/step - loss: 0.0829 - acc: 0.2543 - kullback_leibler_divergence: 0.0829 - laloss: 2.9940 - val_loss: 0.0835 - val_acc: 0.2750 - val_kullback_leibler_divergence: 0.0835 - val_laloss: 2.9144\n",
            "Epoch 6/200\n",
            "8/8 [==============================] - 0s 7ms/step - loss: 0.0810 - acc: 0.2885 - kullback_leibler_divergence: 0.0810 - laloss: 3.0718 - val_loss: 0.0837 - val_acc: 0.2900 - val_kullback_leibler_divergence: 0.0837 - val_laloss: 3.0201\n",
            "Epoch 7/200\n",
            "8/8 [==============================] - 0s 7ms/step - loss: 0.0818 - acc: 0.2936 - kullback_leibler_divergence: 0.0818 - laloss: 3.1412 - val_loss: 0.0836 - val_acc: 0.2750 - val_kullback_leibler_divergence: 0.0836 - val_laloss: 3.0167\n",
            "Epoch 8/200\n",
            "8/8 [==============================] - 0s 7ms/step - loss: 0.0834 - acc: 0.3030 - kullback_leibler_divergence: 0.0834 - laloss: 3.1522 - val_loss: 0.0837 - val_acc: 0.2100 - val_kullback_leibler_divergence: 0.0837 - val_laloss: 3.0533\n",
            "Epoch 9/200\n",
            "8/8 [==============================] - 0s 7ms/step - loss: 0.0820 - acc: 0.2586 - kullback_leibler_divergence: 0.0820 - laloss: 3.1183 - val_loss: 0.0835 - val_acc: 0.3250 - val_kullback_leibler_divergence: 0.0835 - val_laloss: 3.1374\n",
            "Epoch 10/200\n",
            "8/8 [==============================] - 0s 7ms/step - loss: 0.0831 - acc: 0.2986 - kullback_leibler_divergence: 0.0831 - laloss: 3.1266 - val_loss: 0.0833 - val_acc: 0.2750 - val_kullback_leibler_divergence: 0.0833 - val_laloss: 2.8852\n",
            "Epoch 11/200\n",
            "8/8 [==============================] - 0s 7ms/step - loss: 0.0801 - acc: 0.3085 - kullback_leibler_divergence: 0.0801 - laloss: 3.0737 - val_loss: 0.0838 - val_acc: 0.1700 - val_kullback_leibler_divergence: 0.0838 - val_laloss: 3.1037\n",
            "Epoch 12/200\n",
            "8/8 [==============================] - 0s 7ms/step - loss: 0.0833 - acc: 0.2333 - kullback_leibler_divergence: 0.0833 - laloss: 3.1214 - val_loss: 0.0832 - val_acc: 0.3000 - val_kullback_leibler_divergence: 0.0832 - val_laloss: 3.0128\n",
            "Epoch 13/200\n",
            "8/8 [==============================] - 0s 7ms/step - loss: 0.0829 - acc: 0.2801 - kullback_leibler_divergence: 0.0829 - laloss: 3.1391 - val_loss: 0.0832 - val_acc: 0.2300 - val_kullback_leibler_divergence: 0.0832 - val_laloss: 2.9152\n",
            "Epoch 14/200\n",
            "8/8 [==============================] - 0s 7ms/step - loss: 0.0828 - acc: 0.2425 - kullback_leibler_divergence: 0.0828 - laloss: 3.0833 - val_loss: 0.0830 - val_acc: 0.2500 - val_kullback_leibler_divergence: 0.0830 - val_laloss: 2.8204\n",
            "Epoch 15/200\n",
            "8/8 [==============================] - 0s 7ms/step - loss: 0.0813 - acc: 0.2846 - kullback_leibler_divergence: 0.0813 - laloss: 2.9989 - val_loss: 0.0832 - val_acc: 0.2750 - val_kullback_leibler_divergence: 0.0832 - val_laloss: 2.8518\n",
            "Epoch 16/200\n",
            "8/8 [==============================] - 0s 7ms/step - loss: 0.0805 - acc: 0.3113 - kullback_leibler_divergence: 0.0805 - laloss: 3.0673 - val_loss: 0.0829 - val_acc: 0.2750 - val_kullback_leibler_divergence: 0.0829 - val_laloss: 2.8345\n",
            "Epoch 17/200\n",
            "8/8 [==============================] - 0s 7ms/step - loss: 0.0820 - acc: 0.2928 - kullback_leibler_divergence: 0.0820 - laloss: 3.0183 - val_loss: 0.0830 - val_acc: 0.2550 - val_kullback_leibler_divergence: 0.0830 - val_laloss: 2.9766\n",
            "Epoch 18/200\n",
            "8/8 [==============================] - 0s 7ms/step - loss: 0.0813 - acc: 0.2818 - kullback_leibler_divergence: 0.0813 - laloss: 3.0814 - val_loss: 0.0830 - val_acc: 0.2050 - val_kullback_leibler_divergence: 0.0830 - val_laloss: 3.1198\n",
            "Epoch 19/200\n",
            "8/8 [==============================] - 0s 7ms/step - loss: 0.0825 - acc: 0.2763 - kullback_leibler_divergence: 0.0825 - laloss: 3.1548 - val_loss: 0.0828 - val_acc: 0.3200 - val_kullback_leibler_divergence: 0.0828 - val_laloss: 3.0170\n",
            "Epoch 20/200\n",
            "8/8 [==============================] - 0s 7ms/step - loss: 0.0816 - acc: 0.2860 - kullback_leibler_divergence: 0.0816 - laloss: 3.1016 - val_loss: 0.0826 - val_acc: 0.2500 - val_kullback_leibler_divergence: 0.0826 - val_laloss: 2.9062\n",
            "Epoch 21/200\n",
            "8/8 [==============================] - 0s 7ms/step - loss: 0.0817 - acc: 0.2924 - kullback_leibler_divergence: 0.0817 - laloss: 3.0168 - val_loss: 0.0825 - val_acc: 0.2850 - val_kullback_leibler_divergence: 0.0825 - val_laloss: 2.9857\n",
            "Epoch 22/200\n",
            "8/8 [==============================] - 0s 7ms/step - loss: 0.0808 - acc: 0.3169 - kullback_leibler_divergence: 0.0808 - laloss: 3.0876 - val_loss: 0.0825 - val_acc: 0.3150 - val_kullback_leibler_divergence: 0.0825 - val_laloss: 2.9925\n",
            "Epoch 23/200\n",
            "8/8 [==============================] - 0s 7ms/step - loss: 0.0801 - acc: 0.3254 - kullback_leibler_divergence: 0.0801 - laloss: 3.0822 - val_loss: 0.0825 - val_acc: 0.3200 - val_kullback_leibler_divergence: 0.0825 - val_laloss: 3.1169\n",
            "Epoch 24/200\n",
            "8/8 [==============================] - 0s 7ms/step - loss: 0.0800 - acc: 0.3062 - kullback_leibler_divergence: 0.0800 - laloss: 3.1378 - val_loss: 0.0825 - val_acc: 0.2900 - val_kullback_leibler_divergence: 0.0825 - val_laloss: 3.0419\n",
            "Epoch 25/200\n",
            "8/8 [==============================] - 0s 7ms/step - loss: 0.0810 - acc: 0.3251 - kullback_leibler_divergence: 0.0810 - laloss: 3.1213 - val_loss: 0.0823 - val_acc: 0.3150 - val_kullback_leibler_divergence: 0.0823 - val_laloss: 2.9595\n",
            "Epoch 26/200\n",
            "8/8 [==============================] - 0s 7ms/step - loss: 0.0811 - acc: 0.2976 - kullback_leibler_divergence: 0.0811 - laloss: 3.0649 - val_loss: 0.0818 - val_acc: 0.2850 - val_kullback_leibler_divergence: 0.0818 - val_laloss: 2.8226\n",
            "Epoch 27/200\n",
            "8/8 [==============================] - 0s 7ms/step - loss: 0.0813 - acc: 0.3160 - kullback_leibler_divergence: 0.0813 - laloss: 2.9624 - val_loss: 0.0819 - val_acc: 0.3300 - val_kullback_leibler_divergence: 0.0819 - val_laloss: 3.0454\n",
            "Epoch 28/200\n",
            "8/8 [==============================] - 0s 7ms/step - loss: 0.0828 - acc: 0.3320 - kullback_leibler_divergence: 0.0828 - laloss: 3.1205 - val_loss: 0.0819 - val_acc: 0.3050 - val_kullback_leibler_divergence: 0.0819 - val_laloss: 2.7295\n",
            "Epoch 29/200\n",
            "8/8 [==============================] - 0s 7ms/step - loss: 0.0817 - acc: 0.3286 - kullback_leibler_divergence: 0.0817 - laloss: 3.0006 - val_loss: 0.0816 - val_acc: 0.3150 - val_kullback_leibler_divergence: 0.0816 - val_laloss: 3.0086\n",
            "Epoch 30/200\n",
            "8/8 [==============================] - 0s 7ms/step - loss: 0.0817 - acc: 0.3212 - kullback_leibler_divergence: 0.0817 - laloss: 3.0831 - val_loss: 0.0817 - val_acc: 0.3050 - val_kullback_leibler_divergence: 0.0817 - val_laloss: 2.8466\n",
            "Epoch 31/200\n",
            "8/8 [==============================] - 0s 8ms/step - loss: 0.0809 - acc: 0.3321 - kullback_leibler_divergence: 0.0809 - laloss: 2.9695 - val_loss: 0.0813 - val_acc: 0.3150 - val_kullback_leibler_divergence: 0.0813 - val_laloss: 2.9189\n",
            "Epoch 32/200\n",
            "8/8 [==============================] - 0s 7ms/step - loss: 0.0794 - acc: 0.3289 - kullback_leibler_divergence: 0.0794 - laloss: 3.0053 - val_loss: 0.0816 - val_acc: 0.2600 - val_kullback_leibler_divergence: 0.0816 - val_laloss: 3.0923\n",
            "Epoch 33/200\n",
            "8/8 [==============================] - 0s 7ms/step - loss: 0.0797 - acc: 0.3321 - kullback_leibler_divergence: 0.0797 - laloss: 3.0731 - val_loss: 0.0813 - val_acc: 0.3200 - val_kullback_leibler_divergence: 0.0813 - val_laloss: 3.0975\n",
            "Epoch 34/200\n",
            "8/8 [==============================] - 0s 7ms/step - loss: 0.0808 - acc: 0.3409 - kullback_leibler_divergence: 0.0808 - laloss: 3.1159 - val_loss: 0.0819 - val_acc: 0.3100 - val_kullback_leibler_divergence: 0.0819 - val_laloss: 3.0131\n",
            "Epoch 35/200\n",
            "8/8 [==============================] - 0s 7ms/step - loss: 0.0805 - acc: 0.3467 - kullback_leibler_divergence: 0.0805 - laloss: 3.0571 - val_loss: 0.0812 - val_acc: 0.2700 - val_kullback_leibler_divergence: 0.0812 - val_laloss: 3.0391\n",
            "Epoch 36/200\n",
            "8/8 [==============================] - 0s 7ms/step - loss: 0.0796 - acc: 0.3225 - kullback_leibler_divergence: 0.0796 - laloss: 3.0615 - val_loss: 0.0816 - val_acc: 0.2550 - val_kullback_leibler_divergence: 0.0816 - val_laloss: 3.0783\n",
            "Epoch 37/200\n",
            "8/8 [==============================] - 0s 7ms/step - loss: 0.0796 - acc: 0.3223 - kullback_leibler_divergence: 0.0796 - laloss: 3.0757 - val_loss: 0.0806 - val_acc: 0.2950 - val_kullback_leibler_divergence: 0.0806 - val_laloss: 2.9592\n",
            "Epoch 38/200\n",
            "8/8 [==============================] - 0s 7ms/step - loss: 0.0787 - acc: 0.3313 - kullback_leibler_divergence: 0.0787 - laloss: 2.9676 - val_loss: 0.0808 - val_acc: 0.2550 - val_kullback_leibler_divergence: 0.0808 - val_laloss: 2.8180\n",
            "Epoch 39/200\n",
            "8/8 [==============================] - 0s 7ms/step - loss: 0.0809 - acc: 0.3160 - kullback_leibler_divergence: 0.0809 - laloss: 2.8985 - val_loss: 0.0805 - val_acc: 0.2850 - val_kullback_leibler_divergence: 0.0805 - val_laloss: 2.8079\n",
            "Epoch 40/200\n",
            "8/8 [==============================] - 0s 7ms/step - loss: 0.0798 - acc: 0.3510 - kullback_leibler_divergence: 0.0798 - laloss: 3.0197 - val_loss: 0.0816 - val_acc: 0.3150 - val_kullback_leibler_divergence: 0.0816 - val_laloss: 2.9570\n",
            "Epoch 41/200\n",
            "8/8 [==============================] - 0s 7ms/step - loss: 0.0782 - acc: 0.3328 - kullback_leibler_divergence: 0.0782 - laloss: 3.0123 - val_loss: 0.0805 - val_acc: 0.3200 - val_kullback_leibler_divergence: 0.0805 - val_laloss: 2.9411\n",
            "Epoch 42/200\n",
            "8/8 [==============================] - 0s 7ms/step - loss: 0.0771 - acc: 0.3527 - kullback_leibler_divergence: 0.0771 - laloss: 3.0126 - val_loss: 0.0801 - val_acc: 0.3150 - val_kullback_leibler_divergence: 0.0801 - val_laloss: 3.1046\n",
            "Epoch 43/200\n",
            "8/8 [==============================] - 0s 7ms/step - loss: 0.0779 - acc: 0.3257 - kullback_leibler_divergence: 0.0779 - laloss: 3.0705 - val_loss: 0.0799 - val_acc: 0.3050 - val_kullback_leibler_divergence: 0.0799 - val_laloss: 2.8830\n",
            "Epoch 44/200\n",
            "8/8 [==============================] - 0s 7ms/step - loss: 0.0777 - acc: 0.3510 - kullback_leibler_divergence: 0.0777 - laloss: 2.9410 - val_loss: 0.0819 - val_acc: 0.2300 - val_kullback_leibler_divergence: 0.0819 - val_laloss: 2.9672\n",
            "Epoch 45/200\n",
            "8/8 [==============================] - 0s 7ms/step - loss: 0.0778 - acc: 0.3249 - kullback_leibler_divergence: 0.0778 - laloss: 2.9371 - val_loss: 0.0803 - val_acc: 0.3250 - val_kullback_leibler_divergence: 0.0803 - val_laloss: 2.9019\n",
            "Epoch 46/200\n",
            "8/8 [==============================] - 0s 7ms/step - loss: 0.0764 - acc: 0.3482 - kullback_leibler_divergence: 0.0764 - laloss: 2.9413 - val_loss: 0.0803 - val_acc: 0.3350 - val_kullback_leibler_divergence: 0.0803 - val_laloss: 2.9568\n",
            "Epoch 47/200\n",
            "8/8 [==============================] - 0s 7ms/step - loss: 0.0781 - acc: 0.3506 - kullback_leibler_divergence: 0.0781 - laloss: 3.0660 - val_loss: 0.0794 - val_acc: 0.2900 - val_kullback_leibler_divergence: 0.0794 - val_laloss: 3.0018\n",
            "Epoch 48/200\n",
            "8/8 [==============================] - 0s 7ms/step - loss: 0.0777 - acc: 0.3432 - kullback_leibler_divergence: 0.0777 - laloss: 3.0558 - val_loss: 0.0796 - val_acc: 0.2900 - val_kullback_leibler_divergence: 0.0796 - val_laloss: 3.0521\n",
            "Epoch 49/200\n",
            "8/8 [==============================] - 0s 7ms/step - loss: 0.0766 - acc: 0.3451 - kullback_leibler_divergence: 0.0766 - laloss: 3.0675 - val_loss: 0.0794 - val_acc: 0.2750 - val_kullback_leibler_divergence: 0.0794 - val_laloss: 2.9180\n",
            "Epoch 50/200\n",
            "8/8 [==============================] - 0s 7ms/step - loss: 0.0783 - acc: 0.3517 - kullback_leibler_divergence: 0.0783 - laloss: 2.9706 - val_loss: 0.0790 - val_acc: 0.2850 - val_kullback_leibler_divergence: 0.0790 - val_laloss: 2.9216\n",
            "Epoch 51/200\n",
            "8/8 [==============================] - 0s 8ms/step - loss: 0.0772 - acc: 0.3522 - kullback_leibler_divergence: 0.0772 - laloss: 3.0034 - val_loss: 0.0801 - val_acc: 0.2500 - val_kullback_leibler_divergence: 0.0801 - val_laloss: 2.9128\n",
            "Epoch 52/200\n",
            "8/8 [==============================] - 0s 8ms/step - loss: 0.0786 - acc: 0.3230 - kullback_leibler_divergence: 0.0786 - laloss: 2.9754 - val_loss: 0.0826 - val_acc: 0.3100 - val_kullback_leibler_divergence: 0.0826 - val_laloss: 2.8158\n",
            "Epoch 53/200\n",
            "8/8 [==============================] - 0s 8ms/step - loss: 0.0794 - acc: 0.3569 - kullback_leibler_divergence: 0.0794 - laloss: 2.9536 - val_loss: 0.0800 - val_acc: 0.3250 - val_kullback_leibler_divergence: 0.0800 - val_laloss: 2.8706\n",
            "Epoch 54/200\n",
            "8/8 [==============================] - 0s 8ms/step - loss: 0.0758 - acc: 0.3636 - kullback_leibler_divergence: 0.0758 - laloss: 2.9317 - val_loss: 0.0820 - val_acc: 0.2450 - val_kullback_leibler_divergence: 0.0820 - val_laloss: 3.0061\n",
            "Epoch 55/200\n",
            "8/8 [==============================] - 0s 8ms/step - loss: 0.0775 - acc: 0.3203 - kullback_leibler_divergence: 0.0775 - laloss: 3.0280 - val_loss: 0.0810 - val_acc: 0.2700 - val_kullback_leibler_divergence: 0.0810 - val_laloss: 3.0678\n",
            "Epoch 56/200\n",
            "8/8 [==============================] - 0s 8ms/step - loss: 0.0757 - acc: 0.3218 - kullback_leibler_divergence: 0.0757 - laloss: 3.0574 - val_loss: 0.0807 - val_acc: 0.2950 - val_kullback_leibler_divergence: 0.0807 - val_laloss: 2.9926\n",
            "Epoch 57/200\n",
            "8/8 [==============================] - 0s 8ms/step - loss: 0.0766 - acc: 0.3201 - kullback_leibler_divergence: 0.0766 - laloss: 3.0427 - val_loss: 0.0797 - val_acc: 0.3050 - val_kullback_leibler_divergence: 0.0797 - val_laloss: 2.9785\n",
            "Epoch 58/200\n",
            "8/8 [==============================] - 0s 9ms/step - loss: 0.0782 - acc: 0.3403 - kullback_leibler_divergence: 0.0782 - laloss: 2.9557 - val_loss: 0.0788 - val_acc: 0.2800 - val_kullback_leibler_divergence: 0.0788 - val_laloss: 2.9733\n",
            "Epoch 59/200\n",
            "8/8 [==============================] - 0s 8ms/step - loss: 0.0769 - acc: 0.3370 - kullback_leibler_divergence: 0.0769 - laloss: 3.0499 - val_loss: 0.0786 - val_acc: 0.2950 - val_kullback_leibler_divergence: 0.0786 - val_laloss: 2.9609\n",
            "Epoch 60/200\n",
            "8/8 [==============================] - 0s 8ms/step - loss: 0.0768 - acc: 0.3529 - kullback_leibler_divergence: 0.0768 - laloss: 3.0004 - val_loss: 0.0820 - val_acc: 0.3250 - val_kullback_leibler_divergence: 0.0820 - val_laloss: 3.0463\n",
            "Epoch 61/200\n",
            "8/8 [==============================] - 0s 7ms/step - loss: 0.0776 - acc: 0.3622 - kullback_leibler_divergence: 0.0776 - laloss: 3.0055 - val_loss: 0.0803 - val_acc: 0.3250 - val_kullback_leibler_divergence: 0.0803 - val_laloss: 3.0036\n",
            "Epoch 62/200\n",
            "8/8 [==============================] - 0s 7ms/step - loss: 0.0772 - acc: 0.3520 - kullback_leibler_divergence: 0.0772 - laloss: 3.0157 - val_loss: 0.0788 - val_acc: 0.2750 - val_kullback_leibler_divergence: 0.0788 - val_laloss: 3.0299\n",
            "Epoch 63/200\n",
            "8/8 [==============================] - 0s 27ms/step - loss: 0.0765 - acc: 0.3276 - kullback_leibler_divergence: 0.0765 - laloss: 3.0633 - val_loss: 0.0790 - val_acc: 0.3050 - val_kullback_leibler_divergence: 0.0790 - val_laloss: 3.0543\n",
            "Epoch 64/200\n",
            "8/8 [==============================] - 0s 8ms/step - loss: 0.0785 - acc: 0.3516 - kullback_leibler_divergence: 0.0785 - laloss: 3.0131 - val_loss: 0.0787 - val_acc: 0.2900 - val_kullback_leibler_divergence: 0.0787 - val_laloss: 2.7663\n",
            "Epoch 65/200\n",
            "8/8 [==============================] - 0s 8ms/step - loss: 0.0753 - acc: 0.3504 - kullback_leibler_divergence: 0.0753 - laloss: 3.0607 - val_loss: 0.0787 - val_acc: 0.2900 - val_kullback_leibler_divergence: 0.0787 - val_laloss: 2.8764\n",
            "Epoch 66/200\n",
            "8/8 [==============================] - 0s 8ms/step - loss: 0.0770 - acc: 0.3394 - kullback_leibler_divergence: 0.0770 - laloss: 3.0391 - val_loss: 0.0787 - val_acc: 0.2750 - val_kullback_leibler_divergence: 0.0787 - val_laloss: 3.0066\n",
            "Epoch 67/200\n",
            "8/8 [==============================] - 0s 8ms/step - loss: 0.0765 - acc: 0.3599 - kullback_leibler_divergence: 0.0765 - laloss: 3.0864 - val_loss: 0.0834 - val_acc: 0.3050 - val_kullback_leibler_divergence: 0.0834 - val_laloss: 3.0573\n",
            "Epoch 68/200\n",
            "8/8 [==============================] - 0s 8ms/step - loss: 0.0764 - acc: 0.3583 - kullback_leibler_divergence: 0.0764 - laloss: 3.0781 - val_loss: 0.0806 - val_acc: 0.3350 - val_kullback_leibler_divergence: 0.0806 - val_laloss: 2.9715\n",
            "Epoch 69/200\n",
            "8/8 [==============================] - 0s 8ms/step - loss: 0.0775 - acc: 0.3309 - kullback_leibler_divergence: 0.0775 - laloss: 2.9995 - val_loss: 0.0784 - val_acc: 0.2950 - val_kullback_leibler_divergence: 0.0784 - val_laloss: 2.9318\n",
            "Epoch 70/200\n",
            "8/8 [==============================] - 0s 8ms/step - loss: 0.0743 - acc: 0.3584 - kullback_leibler_divergence: 0.0743 - laloss: 3.0573 - val_loss: 0.0783 - val_acc: 0.2850 - val_kullback_leibler_divergence: 0.0783 - val_laloss: 2.9918\n",
            "Epoch 71/200\n",
            "8/8 [==============================] - 0s 8ms/step - loss: 0.0749 - acc: 0.3477 - kullback_leibler_divergence: 0.0749 - laloss: 3.0354 - val_loss: 0.0786 - val_acc: 0.3200 - val_kullback_leibler_divergence: 0.0786 - val_laloss: 3.0596\n",
            "Epoch 72/200\n",
            "8/8 [==============================] - 0s 8ms/step - loss: 0.0751 - acc: 0.3494 - kullback_leibler_divergence: 0.0751 - laloss: 3.0122 - val_loss: 0.0783 - val_acc: 0.2800 - val_kullback_leibler_divergence: 0.0783 - val_laloss: 2.8715\n",
            "Epoch 73/200\n",
            "8/8 [==============================] - 0s 8ms/step - loss: 0.0759 - acc: 0.3409 - kullback_leibler_divergence: 0.0759 - laloss: 3.0171 - val_loss: 0.0788 - val_acc: 0.2900 - val_kullback_leibler_divergence: 0.0788 - val_laloss: 3.0309\n",
            "Epoch 74/200\n",
            "8/8 [==============================] - 0s 9ms/step - loss: 0.0742 - acc: 0.3329 - kullback_leibler_divergence: 0.0742 - laloss: 3.0570 - val_loss: 0.0812 - val_acc: 0.3200 - val_kullback_leibler_divergence: 0.0812 - val_laloss: 3.0274\n",
            "Epoch 75/200\n",
            "8/8 [==============================] - 0s 8ms/step - loss: 0.0766 - acc: 0.3626 - kullback_leibler_divergence: 0.0766 - laloss: 2.9468 - val_loss: 0.0789 - val_acc: 0.2850 - val_kullback_leibler_divergence: 0.0789 - val_laloss: 2.9003\n",
            "Epoch 76/200\n",
            "8/8 [==============================] - 0s 7ms/step - loss: 0.0741 - acc: 0.3519 - kullback_leibler_divergence: 0.0741 - laloss: 2.9534 - val_loss: 0.0793 - val_acc: 0.3350 - val_kullback_leibler_divergence: 0.0793 - val_laloss: 2.8202\n",
            "Epoch 77/200\n",
            "8/8 [==============================] - 0s 8ms/step - loss: 0.0762 - acc: 0.3477 - kullback_leibler_divergence: 0.0762 - laloss: 2.9357 - val_loss: 0.0799 - val_acc: 0.2650 - val_kullback_leibler_divergence: 0.0799 - val_laloss: 3.1029\n",
            "Epoch 78/200\n",
            "8/8 [==============================] - 0s 8ms/step - loss: 0.0759 - acc: 0.3405 - kullback_leibler_divergence: 0.0759 - laloss: 3.0740 - val_loss: 0.0793 - val_acc: 0.2750 - val_kullback_leibler_divergence: 0.0793 - val_laloss: 2.7772\n",
            "Epoch 79/200\n",
            "8/8 [==============================] - 0s 8ms/step - loss: 0.0752 - acc: 0.3629 - kullback_leibler_divergence: 0.0752 - laloss: 2.9691 - val_loss: 0.0803 - val_acc: 0.3350 - val_kullback_leibler_divergence: 0.0803 - val_laloss: 2.8649\n",
            "Epoch 80/200\n",
            "8/8 [==============================] - 0s 8ms/step - loss: 0.0759 - acc: 0.3551 - kullback_leibler_divergence: 0.0759 - laloss: 2.9078 - val_loss: 0.0819 - val_acc: 0.3000 - val_kullback_leibler_divergence: 0.0819 - val_laloss: 2.9488\n",
            "Epoch 81/200\n",
            "8/8 [==============================] - 0s 8ms/step - loss: 0.0772 - acc: 0.3494 - kullback_leibler_divergence: 0.0772 - laloss: 2.9816 - val_loss: 0.0795 - val_acc: 0.2950 - val_kullback_leibler_divergence: 0.0795 - val_laloss: 3.0211\n",
            "Epoch 82/200\n",
            "8/8 [==============================] - 0s 7ms/step - loss: 0.0769 - acc: 0.3476 - kullback_leibler_divergence: 0.0769 - laloss: 2.9853 - val_loss: 0.0788 - val_acc: 0.2900 - val_kullback_leibler_divergence: 0.0788 - val_laloss: 3.0561\n",
            "Epoch 83/200\n",
            "8/8 [==============================] - 0s 8ms/step - loss: 0.0757 - acc: 0.3431 - kullback_leibler_divergence: 0.0757 - laloss: 3.0264 - val_loss: 0.0822 - val_acc: 0.3100 - val_kullback_leibler_divergence: 0.0822 - val_laloss: 2.8645\n",
            "Epoch 84/200\n",
            "8/8 [==============================] - 0s 8ms/step - loss: 0.0770 - acc: 0.3466 - kullback_leibler_divergence: 0.0770 - laloss: 2.9370 - val_loss: 0.0800 - val_acc: 0.3350 - val_kullback_leibler_divergence: 0.0800 - val_laloss: 2.9325\n",
            "Epoch 85/200\n",
            "8/8 [==============================] - 0s 8ms/step - loss: 0.0749 - acc: 0.3509 - kullback_leibler_divergence: 0.0749 - laloss: 2.9557 - val_loss: 0.0782 - val_acc: 0.3050 - val_kullback_leibler_divergence: 0.0782 - val_laloss: 2.9680\n",
            "Epoch 86/200\n",
            "8/8 [==============================] - 0s 9ms/step - loss: 0.0747 - acc: 0.3673 - kullback_leibler_divergence: 0.0747 - laloss: 3.0355 - val_loss: 0.0794 - val_acc: 0.3200 - val_kullback_leibler_divergence: 0.0794 - val_laloss: 2.8002\n",
            "Epoch 87/200\n",
            "8/8 [==============================] - 0s 7ms/step - loss: 0.0751 - acc: 0.3558 - kullback_leibler_divergence: 0.0751 - laloss: 2.9703 - val_loss: 0.0795 - val_acc: 0.3250 - val_kullback_leibler_divergence: 0.0795 - val_laloss: 2.8427\n",
            "Epoch 88/200\n",
            "8/8 [==============================] - 0s 7ms/step - loss: 0.0740 - acc: 0.3658 - kullback_leibler_divergence: 0.0740 - laloss: 2.9733 - val_loss: 0.0783 - val_acc: 0.2950 - val_kullback_leibler_divergence: 0.0783 - val_laloss: 3.0618\n",
            "Epoch 89/200\n",
            "8/8 [==============================] - 0s 7ms/step - loss: 0.0749 - acc: 0.3611 - kullback_leibler_divergence: 0.0749 - laloss: 2.9864 - val_loss: 0.0795 - val_acc: 0.3000 - val_kullback_leibler_divergence: 0.0795 - val_laloss: 3.0253\n",
            "Epoch 90/200\n",
            "8/8 [==============================] - 0s 7ms/step - loss: 0.0751 - acc: 0.3462 - kullback_leibler_divergence: 0.0751 - laloss: 2.9800 - val_loss: 0.0810 - val_acc: 0.2800 - val_kullback_leibler_divergence: 0.0810 - val_laloss: 2.8737\n",
            "Epoch 91/200\n",
            "8/8 [==============================] - 0s 8ms/step - loss: 0.0776 - acc: 0.3349 - kullback_leibler_divergence: 0.0776 - laloss: 2.9099 - val_loss: 0.0812 - val_acc: 0.3150 - val_kullback_leibler_divergence: 0.0812 - val_laloss: 2.9198\n",
            "Epoch 92/200\n",
            "8/8 [==============================] - 0s 7ms/step - loss: 0.0781 - acc: 0.3682 - kullback_leibler_divergence: 0.0781 - laloss: 2.8744 - val_loss: 0.0794 - val_acc: 0.3350 - val_kullback_leibler_divergence: 0.0794 - val_laloss: 2.8907\n",
            "Epoch 93/200\n",
            "8/8 [==============================] - 0s 8ms/step - loss: 0.0753 - acc: 0.3589 - kullback_leibler_divergence: 0.0753 - laloss: 2.9724 - val_loss: 0.0783 - val_acc: 0.3050 - val_kullback_leibler_divergence: 0.0783 - val_laloss: 2.9506\n",
            "Epoch 94/200\n",
            "8/8 [==============================] - 0s 7ms/step - loss: 0.0735 - acc: 0.3755 - kullback_leibler_divergence: 0.0735 - laloss: 2.9583 - val_loss: 0.0805 - val_acc: 0.3200 - val_kullback_leibler_divergence: 0.0805 - val_laloss: 2.8964\n",
            "Epoch 95/200\n",
            "8/8 [==============================] - 0s 7ms/step - loss: 0.0760 - acc: 0.3703 - kullback_leibler_divergence: 0.0760 - laloss: 2.8972 - val_loss: 0.0804 - val_acc: 0.3300 - val_kullback_leibler_divergence: 0.0804 - val_laloss: 2.8970\n",
            "Epoch 96/200\n",
            "8/8 [==============================] - 0s 8ms/step - loss: 0.0756 - acc: 0.3368 - kullback_leibler_divergence: 0.0756 - laloss: 2.9153 - val_loss: 0.0792 - val_acc: 0.3100 - val_kullback_leibler_divergence: 0.0792 - val_laloss: 2.7178\n",
            "Epoch 97/200\n",
            "8/8 [==============================] - 0s 8ms/step - loss: 0.0750 - acc: 0.3583 - kullback_leibler_divergence: 0.0750 - laloss: 2.8645 - val_loss: 0.0782 - val_acc: 0.2900 - val_kullback_leibler_divergence: 0.0782 - val_laloss: 2.8760\n",
            "Epoch 98/200\n",
            "8/8 [==============================] - 0s 7ms/step - loss: 0.0736 - acc: 0.3425 - kullback_leibler_divergence: 0.0736 - laloss: 2.9525 - val_loss: 0.0781 - val_acc: 0.3200 - val_kullback_leibler_divergence: 0.0781 - val_laloss: 2.9422\n",
            "Epoch 99/200\n",
            "8/8 [==============================] - 0s 8ms/step - loss: 0.0766 - acc: 0.3600 - kullback_leibler_divergence: 0.0766 - laloss: 2.9642 - val_loss: 0.0849 - val_acc: 0.3250 - val_kullback_leibler_divergence: 0.0849 - val_laloss: 2.8754\n",
            "Epoch 100/200\n",
            "8/8 [==============================] - 0s 8ms/step - loss: 0.0759 - acc: 0.3575 - kullback_leibler_divergence: 0.0759 - laloss: 2.8646 - val_loss: 0.0797 - val_acc: 0.3250 - val_kullback_leibler_divergence: 0.0797 - val_laloss: 2.7877\n",
            "Epoch 101/200\n",
            "8/8 [==============================] - 0s 8ms/step - loss: 0.0750 - acc: 0.3648 - kullback_leibler_divergence: 0.0750 - laloss: 2.9423 - val_loss: 0.0798 - val_acc: 0.3350 - val_kullback_leibler_divergence: 0.0798 - val_laloss: 2.9472\n",
            "Epoch 102/200\n",
            "8/8 [==============================] - 0s 8ms/step - loss: 0.0760 - acc: 0.3561 - kullback_leibler_divergence: 0.0760 - laloss: 3.0386 - val_loss: 0.0796 - val_acc: 0.3200 - val_kullback_leibler_divergence: 0.0796 - val_laloss: 2.9101\n",
            "Epoch 103/200\n",
            "8/8 [==============================] - 0s 8ms/step - loss: 0.0764 - acc: 0.3593 - kullback_leibler_divergence: 0.0764 - laloss: 2.9711 - val_loss: 0.0819 - val_acc: 0.2900 - val_kullback_leibler_divergence: 0.0819 - val_laloss: 3.0859\n",
            "Epoch 104/200\n",
            "8/8 [==============================] - 0s 8ms/step - loss: 0.0738 - acc: 0.3703 - kullback_leibler_divergence: 0.0738 - laloss: 3.0142 - val_loss: 0.0786 - val_acc: 0.2900 - val_kullback_leibler_divergence: 0.0786 - val_laloss: 2.9980\n",
            "Epoch 105/200\n",
            "8/8 [==============================] - 0s 7ms/step - loss: 0.0752 - acc: 0.3579 - kullback_leibler_divergence: 0.0752 - laloss: 3.0381 - val_loss: 0.0785 - val_acc: 0.2950 - val_kullback_leibler_divergence: 0.0785 - val_laloss: 2.8429\n",
            "Epoch 106/200\n",
            "8/8 [==============================] - 0s 9ms/step - loss: 0.0729 - acc: 0.3557 - kullback_leibler_divergence: 0.0729 - laloss: 2.9323 - val_loss: 0.0782 - val_acc: 0.2950 - val_kullback_leibler_divergence: 0.0782 - val_laloss: 2.9449\n",
            "Epoch 107/200\n",
            "8/8 [==============================] - 0s 8ms/step - loss: 0.0749 - acc: 0.3503 - kullback_leibler_divergence: 0.0749 - laloss: 3.0015 - val_loss: 0.0798 - val_acc: 0.3200 - val_kullback_leibler_divergence: 0.0798 - val_laloss: 2.9624\n",
            "Epoch 108/200\n",
            "8/8 [==============================] - 0s 8ms/step - loss: 0.0744 - acc: 0.3678 - kullback_leibler_divergence: 0.0744 - laloss: 2.9566 - val_loss: 0.0799 - val_acc: 0.3350 - val_kullback_leibler_divergence: 0.0799 - val_laloss: 2.9407\n",
            "Epoch 109/200\n",
            "8/8 [==============================] - 0s 8ms/step - loss: 0.0736 - acc: 0.3520 - kullback_leibler_divergence: 0.0736 - laloss: 3.0273 - val_loss: 0.0796 - val_acc: 0.3200 - val_kullback_leibler_divergence: 0.0796 - val_laloss: 2.9737\n",
            "Epoch 110/200\n",
            "8/8 [==============================] - 0s 8ms/step - loss: 0.0752 - acc: 0.3450 - kullback_leibler_divergence: 0.0752 - laloss: 3.0092 - val_loss: 0.0786 - val_acc: 0.2900 - val_kullback_leibler_divergence: 0.0786 - val_laloss: 2.9280\n",
            "Epoch 111/200\n",
            "8/8 [==============================] - 0s 7ms/step - loss: 0.0740 - acc: 0.3524 - kullback_leibler_divergence: 0.0740 - laloss: 2.9594 - val_loss: 0.0884 - val_acc: 0.3250 - val_kullback_leibler_divergence: 0.0884 - val_laloss: 2.8259\n",
            "Epoch 112/200\n",
            "8/8 [==============================] - 0s 8ms/step - loss: 0.0776 - acc: 0.3451 - kullback_leibler_divergence: 0.0776 - laloss: 2.9900 - val_loss: 0.0784 - val_acc: 0.3150 - val_kullback_leibler_divergence: 0.0784 - val_laloss: 3.0427\n",
            "Epoch 113/200\n",
            "8/8 [==============================] - 0s 7ms/step - loss: 0.0731 - acc: 0.3632 - kullback_leibler_divergence: 0.0731 - laloss: 3.0244 - val_loss: 0.0901 - val_acc: 0.3250 - val_kullback_leibler_divergence: 0.0901 - val_laloss: 2.9269\n",
            "Epoch 114/200\n",
            "8/8 [==============================] - 0s 8ms/step - loss: 0.0779 - acc: 0.3487 - kullback_leibler_divergence: 0.0779 - laloss: 2.9637 - val_loss: 0.0791 - val_acc: 0.2800 - val_kullback_leibler_divergence: 0.0791 - val_laloss: 2.9635\n",
            "Epoch 115/200\n",
            "8/8 [==============================] - 0s 7ms/step - loss: 0.0753 - acc: 0.3575 - kullback_leibler_divergence: 0.0753 - laloss: 2.9839 - val_loss: 0.0795 - val_acc: 0.3200 - val_kullback_leibler_divergence: 0.0795 - val_laloss: 2.8248\n",
            "Epoch 116/200\n",
            "8/8 [==============================] - 0s 9ms/step - loss: 0.0744 - acc: 0.3623 - kullback_leibler_divergence: 0.0744 - laloss: 2.9152 - val_loss: 0.0788 - val_acc: 0.3300 - val_kullback_leibler_divergence: 0.0788 - val_laloss: 2.7793\n",
            "Epoch 117/200\n",
            "8/8 [==============================] - 0s 7ms/step - loss: 0.0737 - acc: 0.3670 - kullback_leibler_divergence: 0.0737 - laloss: 2.9305 - val_loss: 0.0797 - val_acc: 0.3300 - val_kullback_leibler_divergence: 0.0797 - val_laloss: 2.8695\n",
            "Epoch 118/200\n",
            "8/8 [==============================] - 0s 8ms/step - loss: 0.0740 - acc: 0.3776 - kullback_leibler_divergence: 0.0740 - laloss: 2.9230 - val_loss: 0.0788 - val_acc: 0.3050 - val_kullback_leibler_divergence: 0.0788 - val_laloss: 2.9648\n",
            "Epoch 119/200\n",
            "8/8 [==============================] - 0s 8ms/step - loss: 0.0748 - acc: 0.3628 - kullback_leibler_divergence: 0.0748 - laloss: 3.0249 - val_loss: 0.0786 - val_acc: 0.3050 - val_kullback_leibler_divergence: 0.0786 - val_laloss: 2.8657\n",
            "Epoch 120/200\n",
            "8/8 [==============================] - 0s 7ms/step - loss: 0.0757 - acc: 0.3429 - kullback_leibler_divergence: 0.0757 - laloss: 2.9210 - val_loss: 0.0805 - val_acc: 0.3400 - val_kullback_leibler_divergence: 0.0805 - val_laloss: 2.9996\n",
            "Epoch 121/200\n",
            "8/8 [==============================] - 0s 8ms/step - loss: 0.0749 - acc: 0.3551 - kullback_leibler_divergence: 0.0749 - laloss: 2.9913 - val_loss: 0.0821 - val_acc: 0.3200 - val_kullback_leibler_divergence: 0.0821 - val_laloss: 2.7443\n",
            "Epoch 122/200\n",
            "8/8 [==============================] - 0s 9ms/step - loss: 0.0772 - acc: 0.3609 - kullback_leibler_divergence: 0.0772 - laloss: 2.9835 - val_loss: 0.0792 - val_acc: 0.3100 - val_kullback_leibler_divergence: 0.0792 - val_laloss: 2.8388\n",
            "Epoch 123/200\n",
            "8/8 [==============================] - 0s 8ms/step - loss: 0.0750 - acc: 0.3571 - kullback_leibler_divergence: 0.0750 - laloss: 2.9051 - val_loss: 0.0794 - val_acc: 0.2900 - val_kullback_leibler_divergence: 0.0794 - val_laloss: 3.0135\n",
            "Epoch 124/200\n",
            "8/8 [==============================] - 0s 8ms/step - loss: 0.0749 - acc: 0.3598 - kullback_leibler_divergence: 0.0749 - laloss: 2.9529 - val_loss: 0.0885 - val_acc: 0.2700 - val_kullback_leibler_divergence: 0.0885 - val_laloss: 3.0483\n",
            "Epoch 125/200\n",
            "8/8 [==============================] - 0s 8ms/step - loss: 0.0760 - acc: 0.3539 - kullback_leibler_divergence: 0.0760 - laloss: 2.9952 - val_loss: 0.0799 - val_acc: 0.3350 - val_kullback_leibler_divergence: 0.0799 - val_laloss: 2.8093\n",
            "Epoch 126/200\n",
            "8/8 [==============================] - 0s 8ms/step - loss: 0.0757 - acc: 0.3655 - kullback_leibler_divergence: 0.0757 - laloss: 2.9403 - val_loss: 0.0882 - val_acc: 0.3200 - val_kullback_leibler_divergence: 0.0882 - val_laloss: 2.9304\n",
            "Epoch 127/200\n",
            "8/8 [==============================] - 0s 7ms/step - loss: 0.0771 - acc: 0.3476 - kullback_leibler_divergence: 0.0771 - laloss: 2.9053 - val_loss: 0.0793 - val_acc: 0.3050 - val_kullback_leibler_divergence: 0.0793 - val_laloss: 3.0698\n",
            "Epoch 128/200\n",
            "8/8 [==============================] - 0s 7ms/step - loss: 0.0742 - acc: 0.3631 - kullback_leibler_divergence: 0.0742 - laloss: 2.9424 - val_loss: 0.0810 - val_acc: 0.3250 - val_kullback_leibler_divergence: 0.0810 - val_laloss: 3.1322\n",
            "Epoch 129/200\n",
            "8/8 [==============================] - 0s 8ms/step - loss: 0.0743 - acc: 0.3575 - kullback_leibler_divergence: 0.0743 - laloss: 3.0526 - val_loss: 0.0791 - val_acc: 0.3400 - val_kullback_leibler_divergence: 0.0791 - val_laloss: 2.8594\n",
            "Epoch 130/200\n",
            "8/8 [==============================] - 0s 7ms/step - loss: 0.0733 - acc: 0.3823 - kullback_leibler_divergence: 0.0733 - laloss: 2.8892 - val_loss: 0.0783 - val_acc: 0.3400 - val_kullback_leibler_divergence: 0.0783 - val_laloss: 2.8514\n",
            "Epoch 131/200\n",
            "8/8 [==============================] - 0s 24ms/step - loss: 0.0745 - acc: 0.3741 - kullback_leibler_divergence: 0.0745 - laloss: 2.9376 - val_loss: 0.0796 - val_acc: 0.3250 - val_kullback_leibler_divergence: 0.0796 - val_laloss: 2.9752\n",
            "Epoch 132/200\n",
            "8/8 [==============================] - 0s 8ms/step - loss: 0.0725 - acc: 0.3754 - kullback_leibler_divergence: 0.0725 - laloss: 2.9449 - val_loss: 0.0786 - val_acc: 0.3150 - val_kullback_leibler_divergence: 0.0786 - val_laloss: 2.8816\n",
            "Epoch 133/200\n",
            "8/8 [==============================] - 0s 8ms/step - loss: 0.0737 - acc: 0.3595 - kullback_leibler_divergence: 0.0737 - laloss: 2.8764 - val_loss: 0.0829 - val_acc: 0.3150 - val_kullback_leibler_divergence: 0.0829 - val_laloss: 2.7832\n",
            "Epoch 134/200\n",
            "8/8 [==============================] - 0s 8ms/step - loss: 0.0746 - acc: 0.3610 - kullback_leibler_divergence: 0.0746 - laloss: 2.8143 - val_loss: 0.0787 - val_acc: 0.3050 - val_kullback_leibler_divergence: 0.0787 - val_laloss: 2.7510\n",
            "Epoch 135/200\n",
            "8/8 [==============================] - 0s 8ms/step - loss: 0.0741 - acc: 0.3656 - kullback_leibler_divergence: 0.0741 - laloss: 2.8897 - val_loss: 0.0786 - val_acc: 0.3300 - val_kullback_leibler_divergence: 0.0786 - val_laloss: 2.9986\n",
            "Epoch 136/200\n",
            "8/8 [==============================] - 0s 8ms/step - loss: 0.0740 - acc: 0.3557 - kullback_leibler_divergence: 0.0740 - laloss: 2.9541 - val_loss: 0.0814 - val_acc: 0.2850 - val_kullback_leibler_divergence: 0.0814 - val_laloss: 3.0403\n",
            "Epoch 137/200\n",
            "8/8 [==============================] - 0s 7ms/step - loss: 0.0757 - acc: 0.3724 - kullback_leibler_divergence: 0.0757 - laloss: 2.9689 - val_loss: 0.0797 - val_acc: 0.3400 - val_kullback_leibler_divergence: 0.0797 - val_laloss: 2.8371\n",
            "Epoch 138/200\n",
            "8/8 [==============================] - 0s 8ms/step - loss: 0.0725 - acc: 0.3760 - kullback_leibler_divergence: 0.0725 - laloss: 2.9951 - val_loss: 0.0786 - val_acc: 0.3050 - val_kullback_leibler_divergence: 0.0786 - val_laloss: 2.9284\n",
            "Epoch 139/200\n",
            "8/8 [==============================] - 0s 7ms/step - loss: 0.0738 - acc: 0.3695 - kullback_leibler_divergence: 0.0738 - laloss: 2.9011 - val_loss: 0.0787 - val_acc: 0.3300 - val_kullback_leibler_divergence: 0.0787 - val_laloss: 2.7535\n",
            "Epoch 140/200\n",
            "8/8 [==============================] - 0s 7ms/step - loss: 0.0752 - acc: 0.3499 - kullback_leibler_divergence: 0.0752 - laloss: 2.9953 - val_loss: 0.0806 - val_acc: 0.3250 - val_kullback_leibler_divergence: 0.0806 - val_laloss: 2.7013\n",
            "Epoch 141/200\n",
            "8/8 [==============================] - 0s 8ms/step - loss: 0.0752 - acc: 0.3415 - kullback_leibler_divergence: 0.0752 - laloss: 2.8257 - val_loss: 0.0784 - val_acc: 0.3300 - val_kullback_leibler_divergence: 0.0784 - val_laloss: 2.9310\n",
            "Epoch 142/200\n",
            "8/8 [==============================] - 0s 8ms/step - loss: 0.0735 - acc: 0.3724 - kullback_leibler_divergence: 0.0735 - laloss: 2.9257 - val_loss: 0.0784 - val_acc: 0.3100 - val_kullback_leibler_divergence: 0.0784 - val_laloss: 2.7611\n",
            "Epoch 143/200\n",
            "8/8 [==============================] - 0s 7ms/step - loss: 0.0741 - acc: 0.3744 - kullback_leibler_divergence: 0.0741 - laloss: 2.8689 - val_loss: 0.0798 - val_acc: 0.2950 - val_kullback_leibler_divergence: 0.0798 - val_laloss: 2.9077\n",
            "Epoch 144/200\n",
            "8/8 [==============================] - 0s 8ms/step - loss: 0.0738 - acc: 0.3766 - kullback_leibler_divergence: 0.0738 - laloss: 2.9190 - val_loss: 0.0793 - val_acc: 0.3050 - val_kullback_leibler_divergence: 0.0793 - val_laloss: 2.7787\n",
            "Epoch 145/200\n",
            "8/8 [==============================] - 0s 7ms/step - loss: 0.0742 - acc: 0.3556 - kullback_leibler_divergence: 0.0742 - laloss: 2.7874 - val_loss: 0.0785 - val_acc: 0.3350 - val_kullback_leibler_divergence: 0.0785 - val_laloss: 2.7754\n",
            "Epoch 146/200\n",
            "8/8 [==============================] - 0s 7ms/step - loss: 0.0738 - acc: 0.3696 - kullback_leibler_divergence: 0.0738 - laloss: 2.8989 - val_loss: 0.0825 - val_acc: 0.3400 - val_kullback_leibler_divergence: 0.0825 - val_laloss: 2.7511\n",
            "Epoch 147/200\n",
            "8/8 [==============================] - 0s 8ms/step - loss: 0.0753 - acc: 0.3599 - kullback_leibler_divergence: 0.0753 - laloss: 2.8817 - val_loss: 0.0782 - val_acc: 0.3500 - val_kullback_leibler_divergence: 0.0782 - val_laloss: 2.8911\n",
            "Epoch 148/200\n",
            "8/8 [==============================] - 0s 7ms/step - loss: 0.0734 - acc: 0.3594 - kullback_leibler_divergence: 0.0734 - laloss: 2.9251 - val_loss: 0.0836 - val_acc: 0.3150 - val_kullback_leibler_divergence: 0.0836 - val_laloss: 2.8386\n",
            "Epoch 149/200\n",
            "8/8 [==============================] - 0s 7ms/step - loss: 0.0748 - acc: 0.3511 - kullback_leibler_divergence: 0.0748 - laloss: 2.8826 - val_loss: 0.0796 - val_acc: 0.3350 - val_kullback_leibler_divergence: 0.0796 - val_laloss: 2.9488\n",
            "Epoch 150/200\n",
            "8/8 [==============================] - 0s 8ms/step - loss: 0.0737 - acc: 0.3823 - kullback_leibler_divergence: 0.0737 - laloss: 2.8947 - val_loss: 0.0801 - val_acc: 0.2700 - val_kullback_leibler_divergence: 0.0801 - val_laloss: 2.9486\n",
            "Epoch 151/200\n",
            "8/8 [==============================] - 0s 8ms/step - loss: 0.0728 - acc: 0.3605 - kullback_leibler_divergence: 0.0728 - laloss: 2.9438 - val_loss: 0.0804 - val_acc: 0.3300 - val_kullback_leibler_divergence: 0.0804 - val_laloss: 3.0169\n",
            "Epoch 152/200\n",
            "8/8 [==============================] - 0s 8ms/step - loss: 0.0733 - acc: 0.3767 - kullback_leibler_divergence: 0.0733 - laloss: 2.9592 - val_loss: 0.0810 - val_acc: 0.3200 - val_kullback_leibler_divergence: 0.0810 - val_laloss: 2.9277\n",
            "Epoch 153/200\n",
            "8/8 [==============================] - 0s 8ms/step - loss: 0.0742 - acc: 0.3649 - kullback_leibler_divergence: 0.0742 - laloss: 2.9325 - val_loss: 0.0867 - val_acc: 0.2900 - val_kullback_leibler_divergence: 0.0867 - val_laloss: 3.0273\n",
            "Epoch 154/200\n",
            "8/8 [==============================] - 0s 8ms/step - loss: 0.0756 - acc: 0.3443 - kullback_leibler_divergence: 0.0756 - laloss: 2.8854 - val_loss: 0.0848 - val_acc: 0.3350 - val_kullback_leibler_divergence: 0.0848 - val_laloss: 2.8208\n",
            "Epoch 155/200\n",
            "8/8 [==============================] - 0s 8ms/step - loss: 0.0743 - acc: 0.3613 - kullback_leibler_divergence: 0.0743 - laloss: 2.9570 - val_loss: 0.0785 - val_acc: 0.3250 - val_kullback_leibler_divergence: 0.0785 - val_laloss: 2.6980\n",
            "Epoch 156/200\n",
            "8/8 [==============================] - 0s 8ms/step - loss: 0.0727 - acc: 0.3606 - kullback_leibler_divergence: 0.0727 - laloss: 2.8445 - val_loss: 0.0793 - val_acc: 0.3400 - val_kullback_leibler_divergence: 0.0793 - val_laloss: 2.7769\n",
            "Epoch 157/200\n",
            "8/8 [==============================] - 0s 7ms/step - loss: 0.0730 - acc: 0.3670 - kullback_leibler_divergence: 0.0730 - laloss: 2.8321 - val_loss: 0.0786 - val_acc: 0.3300 - val_kullback_leibler_divergence: 0.0786 - val_laloss: 2.7167\n",
            "Epoch 158/200\n",
            "8/8 [==============================] - 0s 9ms/step - loss: 0.0728 - acc: 0.3733 - kullback_leibler_divergence: 0.0728 - laloss: 2.9279 - val_loss: 0.0802 - val_acc: 0.3200 - val_kullback_leibler_divergence: 0.0802 - val_laloss: 3.0203\n",
            "Epoch 159/200\n",
            "8/8 [==============================] - 0s 7ms/step - loss: 0.0740 - acc: 0.3839 - kullback_leibler_divergence: 0.0740 - laloss: 2.8045 - val_loss: 0.0798 - val_acc: 0.3350 - val_kullback_leibler_divergence: 0.0798 - val_laloss: 2.8433\n",
            "Epoch 160/200\n",
            "8/8 [==============================] - 0s 8ms/step - loss: 0.0741 - acc: 0.3739 - kullback_leibler_divergence: 0.0741 - laloss: 2.8155 - val_loss: 0.0804 - val_acc: 0.2850 - val_kullback_leibler_divergence: 0.0804 - val_laloss: 2.9781\n",
            "Epoch 161/200\n",
            "8/8 [==============================] - 0s 8ms/step - loss: 0.0742 - acc: 0.3711 - kullback_leibler_divergence: 0.0742 - laloss: 2.9374 - val_loss: 0.0782 - val_acc: 0.3100 - val_kullback_leibler_divergence: 0.0782 - val_laloss: 2.7771\n",
            "Epoch 162/200\n",
            "8/8 [==============================] - 0s 7ms/step - loss: 0.0728 - acc: 0.3715 - kullback_leibler_divergence: 0.0728 - laloss: 2.8348 - val_loss: 0.0808 - val_acc: 0.3300 - val_kullback_leibler_divergence: 0.0808 - val_laloss: 2.9096\n",
            "Epoch 163/200\n",
            "8/8 [==============================] - 0s 8ms/step - loss: 0.0756 - acc: 0.3526 - kullback_leibler_divergence: 0.0756 - laloss: 2.8023 - val_loss: 0.0782 - val_acc: 0.3350 - val_kullback_leibler_divergence: 0.0782 - val_laloss: 2.7039\n",
            "Epoch 164/200\n",
            "8/8 [==============================] - 0s 8ms/step - loss: 0.0734 - acc: 0.3564 - kullback_leibler_divergence: 0.0734 - laloss: 2.7621 - val_loss: 0.0895 - val_acc: 0.3150 - val_kullback_leibler_divergence: 0.0895 - val_laloss: 2.8261\n",
            "Epoch 165/200\n",
            "8/8 [==============================] - 0s 7ms/step - loss: 0.0764 - acc: 0.3494 - kullback_leibler_divergence: 0.0764 - laloss: 2.9196 - val_loss: 0.0780 - val_acc: 0.3100 - val_kullback_leibler_divergence: 0.0780 - val_laloss: 2.9615\n",
            "Epoch 166/200\n",
            "8/8 [==============================] - 0s 8ms/step - loss: 0.0723 - acc: 0.3767 - kullback_leibler_divergence: 0.0723 - laloss: 2.9270 - val_loss: 0.0799 - val_acc: 0.3100 - val_kullback_leibler_divergence: 0.0799 - val_laloss: 2.8337\n",
            "Epoch 167/200\n",
            "8/8 [==============================] - 0s 8ms/step - loss: 0.0733 - acc: 0.3710 - kullback_leibler_divergence: 0.0733 - laloss: 2.9375 - val_loss: 0.0796 - val_acc: 0.3350 - val_kullback_leibler_divergence: 0.0796 - val_laloss: 2.9343\n",
            "Epoch 168/200\n",
            "8/8 [==============================] - 0s 9ms/step - loss: 0.0746 - acc: 0.3818 - kullback_leibler_divergence: 0.0746 - laloss: 2.9090 - val_loss: 0.0781 - val_acc: 0.3400 - val_kullback_leibler_divergence: 0.0781 - val_laloss: 2.7235\n",
            "Epoch 169/200\n",
            "8/8 [==============================] - 0s 8ms/step - loss: 0.0740 - acc: 0.3742 - kullback_leibler_divergence: 0.0740 - laloss: 2.8885 - val_loss: 0.0790 - val_acc: 0.3400 - val_kullback_leibler_divergence: 0.0790 - val_laloss: 2.8583\n",
            "Epoch 170/200\n",
            "8/8 [==============================] - 0s 7ms/step - loss: 0.0742 - acc: 0.3732 - kullback_leibler_divergence: 0.0742 - laloss: 2.8815 - val_loss: 0.0817 - val_acc: 0.2800 - val_kullback_leibler_divergence: 0.0817 - val_laloss: 2.9072\n",
            "Epoch 171/200\n",
            "8/8 [==============================] - 0s 8ms/step - loss: 0.0724 - acc: 0.3791 - kullback_leibler_divergence: 0.0724 - laloss: 2.9534 - val_loss: 0.0801 - val_acc: 0.3250 - val_kullback_leibler_divergence: 0.0801 - val_laloss: 3.0000\n",
            "Epoch 172/200\n",
            "8/8 [==============================] - 0s 8ms/step - loss: 0.0721 - acc: 0.3744 - kullback_leibler_divergence: 0.0721 - laloss: 2.8536 - val_loss: 0.0782 - val_acc: 0.3400 - val_kullback_leibler_divergence: 0.0782 - val_laloss: 2.7236\n",
            "Epoch 173/200\n",
            "8/8 [==============================] - 0s 8ms/step - loss: 0.0738 - acc: 0.3474 - kullback_leibler_divergence: 0.0738 - laloss: 2.8350 - val_loss: 0.0792 - val_acc: 0.3200 - val_kullback_leibler_divergence: 0.0792 - val_laloss: 2.8806\n",
            "Epoch 174/200\n",
            "8/8 [==============================] - 0s 8ms/step - loss: 0.0745 - acc: 0.3570 - kullback_leibler_divergence: 0.0745 - laloss: 2.8120 - val_loss: 0.0812 - val_acc: 0.2900 - val_kullback_leibler_divergence: 0.0812 - val_laloss: 2.9169\n",
            "Epoch 175/200\n",
            "8/8 [==============================] - 0s 8ms/step - loss: 0.0752 - acc: 0.3750 - kullback_leibler_divergence: 0.0752 - laloss: 2.9161 - val_loss: 0.0891 - val_acc: 0.2850 - val_kullback_leibler_divergence: 0.0891 - val_laloss: 2.8890\n",
            "Epoch 176/200\n",
            "8/8 [==============================] - 0s 7ms/step - loss: 0.0772 - acc: 0.3593 - kullback_leibler_divergence: 0.0772 - laloss: 2.8311 - val_loss: 0.0782 - val_acc: 0.3400 - val_kullback_leibler_divergence: 0.0782 - val_laloss: 2.7144\n",
            "Epoch 177/200\n",
            "8/8 [==============================] - 0s 7ms/step - loss: 0.0729 - acc: 0.3782 - kullback_leibler_divergence: 0.0729 - laloss: 2.8097 - val_loss: 0.0803 - val_acc: 0.3300 - val_kullback_leibler_divergence: 0.0803 - val_laloss: 2.8950\n",
            "Epoch 178/200\n",
            "8/8 [==============================] - 0s 8ms/step - loss: 0.0726 - acc: 0.3867 - kullback_leibler_divergence: 0.0726 - laloss: 2.7627 - val_loss: 0.0800 - val_acc: 0.3550 - val_kullback_leibler_divergence: 0.0800 - val_laloss: 2.7894\n",
            "Epoch 179/200\n",
            "8/8 [==============================] - 0s 8ms/step - loss: 0.0717 - acc: 0.3861 - kullback_leibler_divergence: 0.0717 - laloss: 2.7810 - val_loss: 0.0825 - val_acc: 0.3000 - val_kullback_leibler_divergence: 0.0825 - val_laloss: 2.7394\n",
            "Epoch 180/200\n",
            "8/8 [==============================] - 0s 9ms/step - loss: 0.0746 - acc: 0.3545 - kullback_leibler_divergence: 0.0746 - laloss: 2.6878 - val_loss: 0.0789 - val_acc: 0.3450 - val_kullback_leibler_divergence: 0.0789 - val_laloss: 2.7176\n",
            "Epoch 181/200\n",
            "8/8 [==============================] - 0s 8ms/step - loss: 0.0718 - acc: 0.3963 - kullback_leibler_divergence: 0.0718 - laloss: 2.7903 - val_loss: 0.0806 - val_acc: 0.3300 - val_kullback_leibler_divergence: 0.0806 - val_laloss: 2.8601\n",
            "Epoch 182/200\n",
            "8/8 [==============================] - 0s 7ms/step - loss: 0.0738 - acc: 0.3813 - kullback_leibler_divergence: 0.0738 - laloss: 2.7235 - val_loss: 0.0801 - val_acc: 0.3350 - val_kullback_leibler_divergence: 0.0801 - val_laloss: 2.7969\n",
            "Epoch 183/200\n",
            "8/8 [==============================] - 0s 8ms/step - loss: 0.0746 - acc: 0.3819 - kullback_leibler_divergence: 0.0746 - laloss: 2.7784 - val_loss: 0.0806 - val_acc: 0.3200 - val_kullback_leibler_divergence: 0.0806 - val_laloss: 2.7988\n",
            "Epoch 184/200\n",
            "8/8 [==============================] - 0s 7ms/step - loss: 0.0744 - acc: 0.3818 - kullback_leibler_divergence: 0.0744 - laloss: 2.7948 - val_loss: 0.0782 - val_acc: 0.3350 - val_kullback_leibler_divergence: 0.0782 - val_laloss: 2.7944\n",
            "Epoch 185/200\n",
            "8/8 [==============================] - 0s 8ms/step - loss: 0.0727 - acc: 0.3712 - kullback_leibler_divergence: 0.0727 - laloss: 2.7946 - val_loss: 0.0813 - val_acc: 0.3400 - val_kullback_leibler_divergence: 0.0813 - val_laloss: 2.7061\n",
            "Epoch 186/200\n",
            "8/8 [==============================] - 0s 8ms/step - loss: 0.0747 - acc: 0.3543 - kullback_leibler_divergence: 0.0747 - laloss: 2.8111 - val_loss: 0.0778 - val_acc: 0.3350 - val_kullback_leibler_divergence: 0.0778 - val_laloss: 2.8746\n",
            "Epoch 187/200\n",
            "8/8 [==============================] - 0s 9ms/step - loss: 0.0721 - acc: 0.3861 - kullback_leibler_divergence: 0.0721 - laloss: 2.9512 - val_loss: 0.0797 - val_acc: 0.3250 - val_kullback_leibler_divergence: 0.0797 - val_laloss: 2.6941\n",
            "Epoch 188/200\n",
            "8/8 [==============================] - 0s 8ms/step - loss: 0.0749 - acc: 0.3660 - kullback_leibler_divergence: 0.0749 - laloss: 2.8557 - val_loss: 0.0785 - val_acc: 0.3400 - val_kullback_leibler_divergence: 0.0785 - val_laloss: 2.8492\n",
            "Epoch 189/200\n",
            "8/8 [==============================] - 0s 9ms/step - loss: 0.0730 - acc: 0.3776 - kullback_leibler_divergence: 0.0730 - laloss: 2.9089 - val_loss: 0.0779 - val_acc: 0.3150 - val_kullback_leibler_divergence: 0.0779 - val_laloss: 2.9003\n",
            "Epoch 190/200\n",
            "8/8 [==============================] - 0s 8ms/step - loss: 0.0722 - acc: 0.3722 - kullback_leibler_divergence: 0.0722 - laloss: 2.8936 - val_loss: 0.0808 - val_acc: 0.3100 - val_kullback_leibler_divergence: 0.0808 - val_laloss: 2.6931\n",
            "Epoch 191/200\n",
            "8/8 [==============================] - 0s 8ms/step - loss: 0.0747 - acc: 0.3441 - kullback_leibler_divergence: 0.0747 - laloss: 2.8442 - val_loss: 0.0783 - val_acc: 0.3300 - val_kullback_leibler_divergence: 0.0783 - val_laloss: 2.8332\n",
            "Epoch 192/200\n",
            "8/8 [==============================] - 0s 8ms/step - loss: 0.0720 - acc: 0.3789 - kullback_leibler_divergence: 0.0720 - laloss: 2.8898 - val_loss: 0.0815 - val_acc: 0.3500 - val_kullback_leibler_divergence: 0.0815 - val_laloss: 2.7833\n",
            "Epoch 193/200\n",
            "8/8 [==============================] - 0s 8ms/step - loss: 0.0735 - acc: 0.3517 - kullback_leibler_divergence: 0.0735 - laloss: 2.9037 - val_loss: 0.0778 - val_acc: 0.3400 - val_kullback_leibler_divergence: 0.0778 - val_laloss: 2.6583\n",
            "Epoch 194/200\n",
            "8/8 [==============================] - 0s 8ms/step - loss: 0.0736 - acc: 0.3921 - kullback_leibler_divergence: 0.0736 - laloss: 2.8944 - val_loss: 0.0871 - val_acc: 0.3300 - val_kullback_leibler_divergence: 0.0871 - val_laloss: 2.8464\n",
            "Epoch 195/200\n",
            "8/8 [==============================] - 0s 8ms/step - loss: 0.0751 - acc: 0.3618 - kullback_leibler_divergence: 0.0751 - laloss: 2.8518 - val_loss: 0.0794 - val_acc: 0.3300 - val_kullback_leibler_divergence: 0.0794 - val_laloss: 2.8563\n",
            "Epoch 196/200\n",
            "8/8 [==============================] - 0s 9ms/step - loss: 0.0744 - acc: 0.3836 - kullback_leibler_divergence: 0.0744 - laloss: 2.7605 - val_loss: 0.0777 - val_acc: 0.3350 - val_kullback_leibler_divergence: 0.0777 - val_laloss: 2.8425\n",
            "Epoch 197/200\n",
            "8/8 [==============================] - 0s 8ms/step - loss: 0.0733 - acc: 0.3856 - kullback_leibler_divergence: 0.0733 - laloss: 2.8212 - val_loss: 0.0801 - val_acc: 0.2900 - val_kullback_leibler_divergence: 0.0801 - val_laloss: 2.6748\n",
            "Epoch 198/200\n",
            "8/8 [==============================] - 0s 7ms/step - loss: 0.0729 - acc: 0.3457 - kullback_leibler_divergence: 0.0729 - laloss: 2.7208 - val_loss: 0.0799 - val_acc: 0.3150 - val_kullback_leibler_divergence: 0.0799 - val_laloss: 2.6642\n",
            "Epoch 199/200\n",
            "8/8 [==============================] - 0s 26ms/step - loss: 0.0737 - acc: 0.3413 - kullback_leibler_divergence: 0.0737 - laloss: 2.7329 - val_loss: 0.0774 - val_acc: 0.3400 - val_kullback_leibler_divergence: 0.0774 - val_laloss: 2.6917\n",
            "Epoch 200/200\n",
            "8/8 [==============================] - 0s 9ms/step - loss: 0.0732 - acc: 0.3735 - kullback_leibler_divergence: 0.0732 - laloss: 2.7524 - val_loss: 0.0824 - val_acc: 0.3000 - val_kullback_leibler_divergence: 0.0824 - val_laloss: 2.8486\n"
          ],
          "name": "stdout"
        }
      ]
    },
    {
      "cell_type": "code",
      "metadata": {
        "colab": {
          "base_uri": "https://localhost:8080/"
        },
        "id": "Qw3xEWzO8-Qi",
        "outputId": "6fdc9cf2-c8b4-486c-a073-b660f4a79eec"
      },
      "source": [
        "y_pred_baseline = model_baseline.predict(X_test)\n",
        "\n",
        "eval_baseline_sll = clf_eval(y_sl_test,get_single_label(y_pred_baseline),y_pred)\n",
        "eval_baseline_mll = clf_eval(y_ml_test,get_multi_label(y_pred_baseline),y_pred)\n",
        "eval_baseline = ldl_eval(y_test,y_pred_baseline)"
      ],
      "execution_count": null,
      "outputs": [
        {
          "output_type": "stream",
          "text": [
            "acc: 0.336\n",
            "f1 score(micro): 0.3444881889763779\n",
            "precision score(micro): 0.35\n",
            "recall score(micro): 0.3391472868217054\n",
            "AUC score(micro): 0.6041549638617383\n",
            "hamming loss: 0.222\n",
            "label ranking loss: 0.32535000000000003\n",
            "confusion matrix: [[[373  11]\n",
            "  [101  15]]\n",
            "\n",
            " [[418   0]\n",
            "  [ 82   0]]\n",
            "\n",
            " [[187 162]\n",
            "  [ 57  94]]\n",
            "\n",
            " [[447   0]\n",
            "  [ 53   0]]\n",
            "\n",
            " [[475   0]\n",
            "  [ 25   0]]\n",
            "\n",
            " [[259 152]\n",
            "  [ 23  66]]]\n",
            "acc: 0.1\n",
            "f1 score(micro): 0.4031981724728726\n",
            "precision score(micro): 0.37236286919831224\n",
            "recall score(micro): 0.4396014943960149\n",
            "AUC score(micro): 0.5843888218452538\n",
            "hamming loss: 0.34833333333333333\n",
            "label ranking loss: 0.32190555555555556\n",
            "confusion matrix: [[[187 177]\n",
            "  [ 37  99]]\n",
            "\n",
            " [[326  12]\n",
            "  [154   8]]\n",
            "\n",
            " [[106 184]\n",
            "  [ 45 165]]\n",
            "\n",
            " [[370   0]\n",
            "  [130   0]]\n",
            "\n",
            " [[395  48]\n",
            "  [ 51   6]]\n",
            "\n",
            " [[218 174]\n",
            "  [ 33  75]]]\n",
            "Kullback–Leibler divergence:  0.07822978994203554\n",
            "Euclidean distance:  0.15877945818945868\n",
            "MSE:  0.005309593031847453\n",
            "Chebyshev distance:  0.1281805452083467\n",
            "Clark distance:  0.3932137098298129\n",
            "Canberra distance:  0.8354767095205718\n",
            "Cosine similarity:  0.9228523772059668\n",
            "Intersection similarity:  0.8487188461872034\n",
            "Kurtosis_signed_offset:  -0.17324235567122914\n",
            "Kurtosis_abs_offset:  1.1024632706664494\n",
            "Laloss:  0.6378528131688392\n"
          ],
          "name": "stdout"
        }
      ]
    },
    {
      "cell_type": "code",
      "metadata": {
        "colab": {
          "base_uri": "https://localhost:8080/"
        },
        "id": "s8v8mP8IRLxJ",
        "outputId": "7c1685d4-3a04-4893-8bb3-9920f81f42c1"
      },
      "source": [
        "model = model_baseline\n",
        "model.compile(optimizer=keras.optimizers.RMSprop(learning_rate=0.0001),loss= label_ambiguity_loss, metrics=['acc','kullback_leibler_divergence',laloss])\n",
        "history = model.fit(partial_X_train,partial_y_train,batch_size=256,epochs=100,validation_data=(X_val,y_val),verbose=1)"
      ],
      "execution_count": null,
      "outputs": [
        {
          "output_type": "stream",
          "text": [
            "Epoch 1/100\n",
            "8/8 [==============================] - 1s 37ms/step - loss: 0.0806 - acc: 0.3556 - kullback_leibler_divergence: 0.0762 - laloss: 2.8134 - val_loss: 0.0823 - val_acc: 0.2850 - val_kullback_leibler_divergence: 0.0806 - val_laloss: 2.8006\n",
            "Epoch 2/100\n",
            "8/8 [==============================] - 0s 8ms/step - loss: 0.0785 - acc: 0.3551 - kullback_leibler_divergence: 0.0774 - laloss: 2.6844 - val_loss: 0.0778 - val_acc: 0.3100 - val_kullback_leibler_divergence: 0.0794 - val_laloss: 2.8353\n",
            "Epoch 3/100\n",
            "8/8 [==============================] - 0s 8ms/step - loss: 0.0730 - acc: 0.3580 - kullback_leibler_divergence: 0.0745 - laloss: 2.6465 - val_loss: 0.0763 - val_acc: 0.3150 - val_kullback_leibler_divergence: 0.0793 - val_laloss: 2.7404\n",
            "Epoch 4/100\n",
            "8/8 [==============================] - 0s 7ms/step - loss: 0.0734 - acc: 0.3529 - kullback_leibler_divergence: 0.0752 - laloss: 2.7153 - val_loss: 0.0747 - val_acc: 0.3050 - val_kullback_leibler_divergence: 0.0793 - val_laloss: 2.6485\n",
            "Epoch 5/100\n",
            "8/8 [==============================] - 0s 8ms/step - loss: 0.0711 - acc: 0.3648 - kullback_leibler_divergence: 0.0751 - laloss: 2.7029 - val_loss: 0.0730 - val_acc: 0.3050 - val_kullback_leibler_divergence: 0.0795 - val_laloss: 2.5181\n",
            "Epoch 6/100\n",
            "8/8 [==============================] - 0s 8ms/step - loss: 0.0739 - acc: 0.3596 - kullback_leibler_divergence: 0.0755 - laloss: 2.6943 - val_loss: 0.0731 - val_acc: 0.3100 - val_kullback_leibler_divergence: 0.0795 - val_laloss: 2.5777\n",
            "Epoch 7/100\n",
            "8/8 [==============================] - 0s 7ms/step - loss: 0.0708 - acc: 0.3604 - kullback_leibler_divergence: 0.0740 - laloss: 2.6234 - val_loss: 0.0721 - val_acc: 0.3100 - val_kullback_leibler_divergence: 0.0795 - val_laloss: 2.4172\n",
            "Epoch 8/100\n",
            "8/8 [==============================] - 0s 7ms/step - loss: 0.0693 - acc: 0.3781 - kullback_leibler_divergence: 0.0734 - laloss: 2.7333 - val_loss: 0.0721 - val_acc: 0.3100 - val_kullback_leibler_divergence: 0.0794 - val_laloss: 2.4844\n",
            "Epoch 9/100\n",
            "8/8 [==============================] - 0s 7ms/step - loss: 0.0735 - acc: 0.3667 - kullback_leibler_divergence: 0.0746 - laloss: 2.6498 - val_loss: 0.0720 - val_acc: 0.3050 - val_kullback_leibler_divergence: 0.0794 - val_laloss: 2.6015\n",
            "Epoch 10/100\n",
            "8/8 [==============================] - 0s 8ms/step - loss: 0.0708 - acc: 0.3636 - kullback_leibler_divergence: 0.0733 - laloss: 2.6865 - val_loss: 0.0720 - val_acc: 0.3100 - val_kullback_leibler_divergence: 0.0798 - val_laloss: 2.6541\n",
            "Epoch 11/100\n",
            "8/8 [==============================] - 0s 7ms/step - loss: 0.0715 - acc: 0.3728 - kullback_leibler_divergence: 0.0742 - laloss: 2.5871 - val_loss: 0.0727 - val_acc: 0.3050 - val_kullback_leibler_divergence: 0.0799 - val_laloss: 2.5790\n",
            "Epoch 12/100\n",
            "8/8 [==============================] - 0s 8ms/step - loss: 0.0708 - acc: 0.3694 - kullback_leibler_divergence: 0.0745 - laloss: 2.7010 - val_loss: 0.0740 - val_acc: 0.3150 - val_kullback_leibler_divergence: 0.0801 - val_laloss: 2.5831\n",
            "Epoch 13/100\n",
            "8/8 [==============================] - 0s 8ms/step - loss: 0.0722 - acc: 0.3607 - kullback_leibler_divergence: 0.0744 - laloss: 2.7434 - val_loss: 0.0739 - val_acc: 0.3150 - val_kullback_leibler_divergence: 0.0801 - val_laloss: 2.5455\n",
            "Epoch 14/100\n",
            "8/8 [==============================] - 0s 7ms/step - loss: 0.0703 - acc: 0.3653 - kullback_leibler_divergence: 0.0741 - laloss: 2.6239 - val_loss: 0.0721 - val_acc: 0.3100 - val_kullback_leibler_divergence: 0.0796 - val_laloss: 2.6559\n",
            "Epoch 15/100\n",
            "8/8 [==============================] - 0s 7ms/step - loss: 0.0697 - acc: 0.3739 - kullback_leibler_divergence: 0.0738 - laloss: 2.4793 - val_loss: 0.0719 - val_acc: 0.3100 - val_kullback_leibler_divergence: 0.0796 - val_laloss: 2.6586\n",
            "Epoch 16/100\n",
            "8/8 [==============================] - 0s 7ms/step - loss: 0.0718 - acc: 0.3639 - kullback_leibler_divergence: 0.0758 - laloss: 2.7283 - val_loss: 0.0716 - val_acc: 0.3050 - val_kullback_leibler_divergence: 0.0795 - val_laloss: 2.5950\n",
            "Epoch 17/100\n",
            "8/8 [==============================] - 0s 8ms/step - loss: 0.0691 - acc: 0.3640 - kullback_leibler_divergence: 0.0722 - laloss: 2.6321 - val_loss: 0.0721 - val_acc: 0.3100 - val_kullback_leibler_divergence: 0.0797 - val_laloss: 2.5631\n",
            "Epoch 18/100\n",
            "8/8 [==============================] - 0s 7ms/step - loss: 0.0667 - acc: 0.3819 - kullback_leibler_divergence: 0.0727 - laloss: 2.6910 - val_loss: 0.0715 - val_acc: 0.3050 - val_kullback_leibler_divergence: 0.0798 - val_laloss: 2.6587\n",
            "Epoch 19/100\n",
            "8/8 [==============================] - 0s 8ms/step - loss: 0.0720 - acc: 0.3667 - kullback_leibler_divergence: 0.0754 - laloss: 2.5831 - val_loss: 0.0715 - val_acc: 0.3050 - val_kullback_leibler_divergence: 0.0797 - val_laloss: 2.6413\n",
            "Epoch 20/100\n",
            "8/8 [==============================] - 0s 8ms/step - loss: 0.0700 - acc: 0.3652 - kullback_leibler_divergence: 0.0739 - laloss: 2.7626 - val_loss: 0.0717 - val_acc: 0.3050 - val_kullback_leibler_divergence: 0.0798 - val_laloss: 2.6620\n",
            "Epoch 21/100\n",
            "8/8 [==============================] - 0s 7ms/step - loss: 0.0695 - acc: 0.3562 - kullback_leibler_divergence: 0.0748 - laloss: 2.6486 - val_loss: 0.0716 - val_acc: 0.3050 - val_kullback_leibler_divergence: 0.0797 - val_laloss: 2.6210\n",
            "Epoch 22/100\n",
            "8/8 [==============================] - 0s 7ms/step - loss: 0.0678 - acc: 0.3655 - kullback_leibler_divergence: 0.0729 - laloss: 2.6072 - val_loss: 0.0714 - val_acc: 0.3100 - val_kullback_leibler_divergence: 0.0797 - val_laloss: 2.4178\n",
            "Epoch 23/100\n",
            "8/8 [==============================] - 0s 8ms/step - loss: 0.0687 - acc: 0.3727 - kullback_leibler_divergence: 0.0737 - laloss: 2.6055 - val_loss: 0.0709 - val_acc: 0.3200 - val_kullback_leibler_divergence: 0.0797 - val_laloss: 2.5055\n",
            "Epoch 24/100\n",
            "8/8 [==============================] - 0s 7ms/step - loss: 0.0701 - acc: 0.3835 - kullback_leibler_divergence: 0.0738 - laloss: 2.6510 - val_loss: 0.0709 - val_acc: 0.3150 - val_kullback_leibler_divergence: 0.0798 - val_laloss: 2.4837\n",
            "Epoch 25/100\n",
            "8/8 [==============================] - 0s 7ms/step - loss: 0.0706 - acc: 0.3573 - kullback_leibler_divergence: 0.0752 - laloss: 2.6019 - val_loss: 0.0708 - val_acc: 0.3100 - val_kullback_leibler_divergence: 0.0798 - val_laloss: 2.4455\n",
            "Epoch 26/100\n",
            "8/8 [==============================] - 0s 7ms/step - loss: 0.0705 - acc: 0.3638 - kullback_leibler_divergence: 0.0753 - laloss: 2.5972 - val_loss: 0.0709 - val_acc: 0.3050 - val_kullback_leibler_divergence: 0.0800 - val_laloss: 2.5774\n",
            "Epoch 27/100\n",
            "8/8 [==============================] - 0s 7ms/step - loss: 0.0696 - acc: 0.3701 - kullback_leibler_divergence: 0.0750 - laloss: 2.6283 - val_loss: 0.0713 - val_acc: 0.3050 - val_kullback_leibler_divergence: 0.0799 - val_laloss: 2.6534\n",
            "Epoch 28/100\n",
            "8/8 [==============================] - 0s 8ms/step - loss: 0.0674 - acc: 0.3798 - kullback_leibler_divergence: 0.0743 - laloss: 2.6487 - val_loss: 0.0727 - val_acc: 0.3050 - val_kullback_leibler_divergence: 0.0802 - val_laloss: 2.5166\n",
            "Epoch 29/100\n",
            "8/8 [==============================] - 0s 8ms/step - loss: 0.0708 - acc: 0.3524 - kullback_leibler_divergence: 0.0752 - laloss: 2.4414 - val_loss: 0.0712 - val_acc: 0.3050 - val_kullback_leibler_divergence: 0.0800 - val_laloss: 2.6622\n",
            "Epoch 30/100\n",
            "8/8 [==============================] - 0s 8ms/step - loss: 0.0696 - acc: 0.3639 - kullback_leibler_divergence: 0.0743 - laloss: 2.5074 - val_loss: 0.0716 - val_acc: 0.3100 - val_kullback_leibler_divergence: 0.0801 - val_laloss: 2.6312\n",
            "Epoch 31/100\n",
            "8/8 [==============================] - 0s 8ms/step - loss: 0.0705 - acc: 0.3608 - kullback_leibler_divergence: 0.0745 - laloss: 2.6787 - val_loss: 0.0728 - val_acc: 0.3050 - val_kullback_leibler_divergence: 0.0802 - val_laloss: 2.5564\n",
            "Epoch 32/100\n",
            "8/8 [==============================] - 0s 8ms/step - loss: 0.0683 - acc: 0.3542 - kullback_leibler_divergence: 0.0745 - laloss: 2.5147 - val_loss: 0.0719 - val_acc: 0.3100 - val_kullback_leibler_divergence: 0.0800 - val_laloss: 2.5280\n",
            "Epoch 33/100\n",
            "8/8 [==============================] - 0s 8ms/step - loss: 0.0683 - acc: 0.3601 - kullback_leibler_divergence: 0.0739 - laloss: 2.6605 - val_loss: 0.0709 - val_acc: 0.3050 - val_kullback_leibler_divergence: 0.0799 - val_laloss: 2.5998\n",
            "Epoch 34/100\n",
            "8/8 [==============================] - 0s 8ms/step - loss: 0.0732 - acc: 0.3570 - kullback_leibler_divergence: 0.0767 - laloss: 2.6129 - val_loss: 0.0705 - val_acc: 0.3050 - val_kullback_leibler_divergence: 0.0799 - val_laloss: 2.5605\n",
            "Epoch 35/100\n",
            "8/8 [==============================] - 0s 9ms/step - loss: 0.0692 - acc: 0.3721 - kullback_leibler_divergence: 0.0740 - laloss: 2.6604 - val_loss: 0.0719 - val_acc: 0.3100 - val_kullback_leibler_divergence: 0.0798 - val_laloss: 2.6018\n",
            "Epoch 36/100\n",
            "8/8 [==============================] - 0s 7ms/step - loss: 0.0698 - acc: 0.3628 - kullback_leibler_divergence: 0.0738 - laloss: 2.6172 - val_loss: 0.0709 - val_acc: 0.3050 - val_kullback_leibler_divergence: 0.0799 - val_laloss: 2.6519\n",
            "Epoch 37/100\n",
            "8/8 [==============================] - 0s 7ms/step - loss: 0.0707 - acc: 0.3756 - kullback_leibler_divergence: 0.0745 - laloss: 2.5035 - val_loss: 0.0729 - val_acc: 0.3050 - val_kullback_leibler_divergence: 0.0800 - val_laloss: 2.5545\n",
            "Epoch 38/100\n",
            "8/8 [==============================] - 0s 8ms/step - loss: 0.0688 - acc: 0.3677 - kullback_leibler_divergence: 0.0734 - laloss: 2.6559 - val_loss: 0.0724 - val_acc: 0.3100 - val_kullback_leibler_divergence: 0.0799 - val_laloss: 2.4686\n",
            "Epoch 39/100\n",
            "8/8 [==============================] - 0s 8ms/step - loss: 0.0702 - acc: 0.3654 - kullback_leibler_divergence: 0.0744 - laloss: 2.6555 - val_loss: 0.0738 - val_acc: 0.3050 - val_kullback_leibler_divergence: 0.0800 - val_laloss: 2.6979\n",
            "Epoch 40/100\n",
            "8/8 [==============================] - 0s 7ms/step - loss: 0.0697 - acc: 0.3743 - kullback_leibler_divergence: 0.0740 - laloss: 2.6981 - val_loss: 0.0739 - val_acc: 0.3050 - val_kullback_leibler_divergence: 0.0800 - val_laloss: 2.6967\n",
            "Epoch 41/100\n",
            "8/8 [==============================] - 0s 7ms/step - loss: 0.0713 - acc: 0.3494 - kullback_leibler_divergence: 0.0760 - laloss: 2.7013 - val_loss: 0.0741 - val_acc: 0.3050 - val_kullback_leibler_divergence: 0.0799 - val_laloss: 2.6833\n",
            "Epoch 42/100\n",
            "8/8 [==============================] - 0s 7ms/step - loss: 0.0692 - acc: 0.3620 - kullback_leibler_divergence: 0.0742 - laloss: 2.6532 - val_loss: 0.0732 - val_acc: 0.3050 - val_kullback_leibler_divergence: 0.0798 - val_laloss: 2.6074\n",
            "Epoch 43/100\n",
            "8/8 [==============================] - 0s 8ms/step - loss: 0.0705 - acc: 0.3628 - kullback_leibler_divergence: 0.0746 - laloss: 2.7324 - val_loss: 0.0717 - val_acc: 0.3100 - val_kullback_leibler_divergence: 0.0799 - val_laloss: 2.5093\n",
            "Epoch 44/100\n",
            "8/8 [==============================] - 0s 8ms/step - loss: 0.0699 - acc: 0.3677 - kullback_leibler_divergence: 0.0752 - laloss: 2.5932 - val_loss: 0.0720 - val_acc: 0.3100 - val_kullback_leibler_divergence: 0.0798 - val_laloss: 2.4545\n",
            "Epoch 45/100\n",
            "8/8 [==============================] - 0s 8ms/step - loss: 0.0710 - acc: 0.3585 - kullback_leibler_divergence: 0.0751 - laloss: 2.4876 - val_loss: 0.0723 - val_acc: 0.3050 - val_kullback_leibler_divergence: 0.0799 - val_laloss: 2.5208\n",
            "Epoch 46/100\n",
            "8/8 [==============================] - 0s 8ms/step - loss: 0.0693 - acc: 0.3568 - kullback_leibler_divergence: 0.0741 - laloss: 2.5186 - val_loss: 0.0737 - val_acc: 0.3150 - val_kullback_leibler_divergence: 0.0801 - val_laloss: 2.5986\n",
            "Epoch 47/100\n",
            "8/8 [==============================] - 0s 7ms/step - loss: 0.0708 - acc: 0.3589 - kullback_leibler_divergence: 0.0757 - laloss: 2.6509 - val_loss: 0.0727 - val_acc: 0.3100 - val_kullback_leibler_divergence: 0.0798 - val_laloss: 2.4961\n",
            "Epoch 48/100\n",
            "8/8 [==============================] - 0s 7ms/step - loss: 0.0691 - acc: 0.3674 - kullback_leibler_divergence: 0.0746 - laloss: 2.5263 - val_loss: 0.0730 - val_acc: 0.3050 - val_kullback_leibler_divergence: 0.0800 - val_laloss: 2.6171\n",
            "Epoch 49/100\n",
            "8/8 [==============================] - 0s 7ms/step - loss: 0.0691 - acc: 0.3518 - kullback_leibler_divergence: 0.0747 - laloss: 2.6301 - val_loss: 0.0720 - val_acc: 0.3100 - val_kullback_leibler_divergence: 0.0799 - val_laloss: 2.4838\n",
            "Epoch 50/100\n",
            "8/8 [==============================] - 0s 8ms/step - loss: 0.0672 - acc: 0.3712 - kullback_leibler_divergence: 0.0726 - laloss: 2.5576 - val_loss: 0.0703 - val_acc: 0.3100 - val_kullback_leibler_divergence: 0.0798 - val_laloss: 2.4039\n",
            "Epoch 51/100\n",
            "8/8 [==============================] - 0s 8ms/step - loss: 0.0687 - acc: 0.3600 - kullback_leibler_divergence: 0.0744 - laloss: 2.4992 - val_loss: 0.0708 - val_acc: 0.3050 - val_kullback_leibler_divergence: 0.0798 - val_laloss: 2.6099\n",
            "Epoch 52/100\n",
            "8/8 [==============================] - 0s 8ms/step - loss: 0.0714 - acc: 0.3493 - kullback_leibler_divergence: 0.0751 - laloss: 2.5858 - val_loss: 0.0711 - val_acc: 0.3050 - val_kullback_leibler_divergence: 0.0798 - val_laloss: 2.6430\n",
            "Epoch 53/100\n",
            "8/8 [==============================] - 0s 26ms/step - loss: 0.0713 - acc: 0.3637 - kullback_leibler_divergence: 0.0761 - laloss: 2.5208 - val_loss: 0.0713 - val_acc: 0.3100 - val_kullback_leibler_divergence: 0.0800 - val_laloss: 2.5934\n",
            "Epoch 54/100\n",
            "8/8 [==============================] - 0s 7ms/step - loss: 0.0701 - acc: 0.3592 - kullback_leibler_divergence: 0.0760 - laloss: 2.5797 - val_loss: 0.0709 - val_acc: 0.3050 - val_kullback_leibler_divergence: 0.0797 - val_laloss: 2.5500\n",
            "Epoch 55/100\n",
            "8/8 [==============================] - 0s 8ms/step - loss: 0.0681 - acc: 0.3581 - kullback_leibler_divergence: 0.0746 - laloss: 2.5318 - val_loss: 0.0714 - val_acc: 0.3050 - val_kullback_leibler_divergence: 0.0797 - val_laloss: 2.6274\n",
            "Epoch 56/100\n",
            "8/8 [==============================] - 0s 9ms/step - loss: 0.0672 - acc: 0.3629 - kullback_leibler_divergence: 0.0731 - laloss: 2.6498 - val_loss: 0.0721 - val_acc: 0.3100 - val_kullback_leibler_divergence: 0.0798 - val_laloss: 2.4916\n",
            "Epoch 57/100\n",
            "8/8 [==============================] - 0s 8ms/step - loss: 0.0659 - acc: 0.3650 - kullback_leibler_divergence: 0.0731 - laloss: 2.5062 - val_loss: 0.0710 - val_acc: 0.3050 - val_kullback_leibler_divergence: 0.0797 - val_laloss: 2.5673\n",
            "Epoch 58/100\n",
            "8/8 [==============================] - 0s 8ms/step - loss: 0.0701 - acc: 0.3656 - kullback_leibler_divergence: 0.0753 - laloss: 2.4585 - val_loss: 0.0720 - val_acc: 0.3100 - val_kullback_leibler_divergence: 0.0799 - val_laloss: 2.4412\n",
            "Epoch 59/100\n",
            "8/8 [==============================] - 0s 7ms/step - loss: 0.0683 - acc: 0.3635 - kullback_leibler_divergence: 0.0739 - laloss: 2.5914 - val_loss: 0.0732 - val_acc: 0.3050 - val_kullback_leibler_divergence: 0.0800 - val_laloss: 2.6776\n",
            "Epoch 60/100\n",
            "8/8 [==============================] - 0s 7ms/step - loss: 0.0685 - acc: 0.3595 - kullback_leibler_divergence: 0.0752 - laloss: 2.4956 - val_loss: 0.0715 - val_acc: 0.3100 - val_kullback_leibler_divergence: 0.0798 - val_laloss: 2.5645\n",
            "Epoch 61/100\n",
            "8/8 [==============================] - 0s 8ms/step - loss: 0.0708 - acc: 0.3682 - kullback_leibler_divergence: 0.0754 - laloss: 2.5276 - val_loss: 0.0708 - val_acc: 0.3050 - val_kullback_leibler_divergence: 0.0798 - val_laloss: 2.6543\n",
            "Epoch 62/100\n",
            "8/8 [==============================] - 0s 8ms/step - loss: 0.0678 - acc: 0.3527 - kullback_leibler_divergence: 0.0753 - laloss: 2.5062 - val_loss: 0.0706 - val_acc: 0.3050 - val_kullback_leibler_divergence: 0.0798 - val_laloss: 2.3977\n",
            "Epoch 63/100\n",
            "8/8 [==============================] - 0s 8ms/step - loss: 0.0653 - acc: 0.3745 - kullback_leibler_divergence: 0.0728 - laloss: 2.5839 - val_loss: 0.0702 - val_acc: 0.3200 - val_kullback_leibler_divergence: 0.0798 - val_laloss: 2.4658\n",
            "Epoch 64/100\n",
            "8/8 [==============================] - 0s 8ms/step - loss: 0.0703 - acc: 0.3529 - kullback_leibler_divergence: 0.0748 - laloss: 2.5428 - val_loss: 0.0701 - val_acc: 0.3200 - val_kullback_leibler_divergence: 0.0798 - val_laloss: 2.4906\n",
            "Epoch 65/100\n",
            "8/8 [==============================] - 0s 8ms/step - loss: 0.0677 - acc: 0.3801 - kullback_leibler_divergence: 0.0744 - laloss: 2.5246 - val_loss: 0.0704 - val_acc: 0.3250 - val_kullback_leibler_divergence: 0.0799 - val_laloss: 2.2440\n",
            "Epoch 66/100\n",
            "8/8 [==============================] - 0s 8ms/step - loss: 0.0681 - acc: 0.3782 - kullback_leibler_divergence: 0.0745 - laloss: 2.3752 - val_loss: 0.0701 - val_acc: 0.3250 - val_kullback_leibler_divergence: 0.0799 - val_laloss: 2.0964\n",
            "Epoch 67/100\n",
            "8/8 [==============================] - 0s 7ms/step - loss: 0.0676 - acc: 0.3617 - kullback_leibler_divergence: 0.0735 - laloss: 2.4746 - val_loss: 0.0696 - val_acc: 0.3250 - val_kullback_leibler_divergence: 0.0799 - val_laloss: 2.1088\n",
            "Epoch 68/100\n",
            "8/8 [==============================] - 0s 8ms/step - loss: 0.0686 - acc: 0.3751 - kullback_leibler_divergence: 0.0730 - laloss: 2.4447 - val_loss: 0.0693 - val_acc: 0.3350 - val_kullback_leibler_divergence: 0.0801 - val_laloss: 2.4915\n",
            "Epoch 69/100\n",
            "8/8 [==============================] - 0s 8ms/step - loss: 0.0677 - acc: 0.3659 - kullback_leibler_divergence: 0.0744 - laloss: 2.5009 - val_loss: 0.0701 - val_acc: 0.3250 - val_kullback_leibler_divergence: 0.0797 - val_laloss: 2.1639\n",
            "Epoch 70/100\n",
            "8/8 [==============================] - 0s 8ms/step - loss: 0.0672 - acc: 0.3655 - kullback_leibler_divergence: 0.0745 - laloss: 2.4890 - val_loss: 0.0707 - val_acc: 0.3050 - val_kullback_leibler_divergence: 0.0797 - val_laloss: 2.3834\n",
            "Epoch 71/100\n",
            "8/8 [==============================] - 0s 8ms/step - loss: 0.0687 - acc: 0.3557 - kullback_leibler_divergence: 0.0744 - laloss: 2.5051 - val_loss: 0.0705 - val_acc: 0.3150 - val_kullback_leibler_divergence: 0.0796 - val_laloss: 2.5077\n",
            "Epoch 72/100\n",
            "8/8 [==============================] - 0s 8ms/step - loss: 0.0688 - acc: 0.3779 - kullback_leibler_divergence: 0.0739 - laloss: 2.5195 - val_loss: 0.0705 - val_acc: 0.3150 - val_kullback_leibler_divergence: 0.0796 - val_laloss: 2.4889\n",
            "Epoch 73/100\n",
            "8/8 [==============================] - 0s 8ms/step - loss: 0.0679 - acc: 0.3704 - kullback_leibler_divergence: 0.0734 - laloss: 2.4942 - val_loss: 0.0708 - val_acc: 0.3050 - val_kullback_leibler_divergence: 0.0797 - val_laloss: 2.2343\n",
            "Epoch 74/100\n",
            "8/8 [==============================] - 0s 7ms/step - loss: 0.0664 - acc: 0.3740 - kullback_leibler_divergence: 0.0727 - laloss: 2.5601 - val_loss: 0.0708 - val_acc: 0.3100 - val_kullback_leibler_divergence: 0.0797 - val_laloss: 2.3862\n",
            "Epoch 75/100\n",
            "8/8 [==============================] - 0s 7ms/step - loss: 0.0662 - acc: 0.3704 - kullback_leibler_divergence: 0.0734 - laloss: 2.3484 - val_loss: 0.0716 - val_acc: 0.3050 - val_kullback_leibler_divergence: 0.0798 - val_laloss: 2.6244\n",
            "Epoch 76/100\n",
            "8/8 [==============================] - 0s 7ms/step - loss: 0.0691 - acc: 0.3506 - kullback_leibler_divergence: 0.0746 - laloss: 2.4533 - val_loss: 0.0722 - val_acc: 0.3050 - val_kullback_leibler_divergence: 0.0796 - val_laloss: 2.6011\n",
            "Epoch 77/100\n",
            "8/8 [==============================] - 0s 8ms/step - loss: 0.0657 - acc: 0.3681 - kullback_leibler_divergence: 0.0726 - laloss: 2.4532 - val_loss: 0.0722 - val_acc: 0.3100 - val_kullback_leibler_divergence: 0.0799 - val_laloss: 2.4626\n",
            "Epoch 78/100\n",
            "8/8 [==============================] - 0s 8ms/step - loss: 0.0687 - acc: 0.3540 - kullback_leibler_divergence: 0.0733 - laloss: 2.5065 - val_loss: 0.0729 - val_acc: 0.3100 - val_kullback_leibler_divergence: 0.0800 - val_laloss: 2.4425\n",
            "Epoch 79/100\n",
            "8/8 [==============================] - 0s 7ms/step - loss: 0.0664 - acc: 0.3650 - kullback_leibler_divergence: 0.0737 - laloss: 2.4776 - val_loss: 0.0733 - val_acc: 0.3000 - val_kullback_leibler_divergence: 0.0800 - val_laloss: 2.5810\n",
            "Epoch 80/100\n",
            "8/8 [==============================] - 0s 7ms/step - loss: 0.0690 - acc: 0.3735 - kullback_leibler_divergence: 0.0751 - laloss: 2.5460 - val_loss: 0.0724 - val_acc: 0.3100 - val_kullback_leibler_divergence: 0.0800 - val_laloss: 2.4290\n",
            "Epoch 81/100\n",
            "8/8 [==============================] - 0s 7ms/step - loss: 0.0699 - acc: 0.3565 - kullback_leibler_divergence: 0.0760 - laloss: 2.4849 - val_loss: 0.0712 - val_acc: 0.3050 - val_kullback_leibler_divergence: 0.0798 - val_laloss: 2.3628\n",
            "Epoch 82/100\n",
            "8/8 [==============================] - 0s 7ms/step - loss: 0.0667 - acc: 0.3834 - kullback_leibler_divergence: 0.0725 - laloss: 2.5054 - val_loss: 0.0700 - val_acc: 0.3150 - val_kullback_leibler_divergence: 0.0799 - val_laloss: 2.5074\n",
            "Epoch 83/100\n",
            "8/8 [==============================] - 0s 8ms/step - loss: 0.0676 - acc: 0.3731 - kullback_leibler_divergence: 0.0749 - laloss: 2.4338 - val_loss: 0.0709 - val_acc: 0.3100 - val_kullback_leibler_divergence: 0.0798 - val_laloss: 2.2604\n",
            "Epoch 84/100\n",
            "8/8 [==============================] - 0s 9ms/step - loss: 0.0677 - acc: 0.3711 - kullback_leibler_divergence: 0.0747 - laloss: 2.4776 - val_loss: 0.0704 - val_acc: 0.3150 - val_kullback_leibler_divergence: 0.0798 - val_laloss: 2.5145\n",
            "Epoch 85/100\n",
            "8/8 [==============================] - 0s 8ms/step - loss: 0.0691 - acc: 0.3771 - kullback_leibler_divergence: 0.0748 - laloss: 2.4725 - val_loss: 0.0713 - val_acc: 0.3050 - val_kullback_leibler_divergence: 0.0798 - val_laloss: 2.3927\n",
            "Epoch 86/100\n",
            "8/8 [==============================] - 0s 8ms/step - loss: 0.0654 - acc: 0.3756 - kullback_leibler_divergence: 0.0724 - laloss: 2.4650 - val_loss: 0.0718 - val_acc: 0.3050 - val_kullback_leibler_divergence: 0.0798 - val_laloss: 2.5606\n",
            "Epoch 87/100\n",
            "8/8 [==============================] - 0s 8ms/step - loss: 0.0694 - acc: 0.3675 - kullback_leibler_divergence: 0.0745 - laloss: 2.5106 - val_loss: 0.0703 - val_acc: 0.3100 - val_kullback_leibler_divergence: 0.0798 - val_laloss: 2.4047\n",
            "Epoch 88/100\n",
            "8/8 [==============================] - 0s 8ms/step - loss: 0.0691 - acc: 0.3693 - kullback_leibler_divergence: 0.0757 - laloss: 2.4080 - val_loss: 0.0703 - val_acc: 0.3100 - val_kullback_leibler_divergence: 0.0798 - val_laloss: 2.5036\n",
            "Epoch 89/100\n",
            "8/8 [==============================] - 0s 8ms/step - loss: 0.0701 - acc: 0.3624 - kullback_leibler_divergence: 0.0756 - laloss: 2.4133 - val_loss: 0.0709 - val_acc: 0.3100 - val_kullback_leibler_divergence: 0.0797 - val_laloss: 2.5192\n",
            "Epoch 90/100\n",
            "8/8 [==============================] - 0s 8ms/step - loss: 0.0682 - acc: 0.3538 - kullback_leibler_divergence: 0.0749 - laloss: 2.4542 - val_loss: 0.0706 - val_acc: 0.3100 - val_kullback_leibler_divergence: 0.0797 - val_laloss: 2.5459\n",
            "Epoch 91/100\n",
            "8/8 [==============================] - 0s 8ms/step - loss: 0.0685 - acc: 0.3609 - kullback_leibler_divergence: 0.0748 - laloss: 2.3288 - val_loss: 0.0702 - val_acc: 0.3200 - val_kullback_leibler_divergence: 0.0798 - val_laloss: 2.4654\n",
            "Epoch 92/100\n",
            "8/8 [==============================] - 0s 8ms/step - loss: 0.0690 - acc: 0.3725 - kullback_leibler_divergence: 0.0747 - laloss: 2.3065 - val_loss: 0.0713 - val_acc: 0.3050 - val_kullback_leibler_divergence: 0.0799 - val_laloss: 2.4662\n",
            "Epoch 93/100\n",
            "8/8 [==============================] - 0s 8ms/step - loss: 0.0672 - acc: 0.3657 - kullback_leibler_divergence: 0.0736 - laloss: 2.4526 - val_loss: 0.0705 - val_acc: 0.3100 - val_kullback_leibler_divergence: 0.0800 - val_laloss: 2.5087\n",
            "Epoch 94/100\n",
            "8/8 [==============================] - 0s 8ms/step - loss: 0.0666 - acc: 0.3627 - kullback_leibler_divergence: 0.0739 - laloss: 2.4599 - val_loss: 0.0702 - val_acc: 0.3200 - val_kullback_leibler_divergence: 0.0799 - val_laloss: 2.4814\n",
            "Epoch 95/100\n",
            "8/8 [==============================] - 0s 8ms/step - loss: 0.0650 - acc: 0.3863 - kullback_leibler_divergence: 0.0740 - laloss: 2.3457 - val_loss: 0.0731 - val_acc: 0.3000 - val_kullback_leibler_divergence: 0.0804 - val_laloss: 2.5153\n",
            "Epoch 96/100\n",
            "8/8 [==============================] - 0s 7ms/step - loss: 0.0679 - acc: 0.3617 - kullback_leibler_divergence: 0.0741 - laloss: 2.4188 - val_loss: 0.0709 - val_acc: 0.3050 - val_kullback_leibler_divergence: 0.0801 - val_laloss: 2.5007\n",
            "Epoch 97/100\n",
            "8/8 [==============================] - 0s 8ms/step - loss: 0.0667 - acc: 0.3711 - kullback_leibler_divergence: 0.0734 - laloss: 2.4235 - val_loss: 0.0716 - val_acc: 0.3100 - val_kullback_leibler_divergence: 0.0803 - val_laloss: 2.3940\n",
            "Epoch 98/100\n",
            "8/8 [==============================] - 0s 8ms/step - loss: 0.0672 - acc: 0.3632 - kullback_leibler_divergence: 0.0741 - laloss: 2.4628 - val_loss: 0.0711 - val_acc: 0.3050 - val_kullback_leibler_divergence: 0.0800 - val_laloss: 2.3440\n",
            "Epoch 99/100\n",
            "8/8 [==============================] - 0s 9ms/step - loss: 0.0676 - acc: 0.3593 - kullback_leibler_divergence: 0.0741 - laloss: 2.2441 - val_loss: 0.0699 - val_acc: 0.3100 - val_kullback_leibler_divergence: 0.0801 - val_laloss: 2.4697\n",
            "Epoch 100/100\n",
            "8/8 [==============================] - 0s 8ms/step - loss: 0.0673 - acc: 0.3816 - kullback_leibler_divergence: 0.0748 - laloss: 2.3120 - val_loss: 0.0704 - val_acc: 0.3050 - val_kullback_leibler_divergence: 0.0802 - val_laloss: 2.4229\n"
          ],
          "name": "stdout"
        }
      ]
    },
    {
      "cell_type": "code",
      "metadata": {
        "colab": {
          "base_uri": "https://localhost:8080/"
        },
        "id": "e8AQ7aEIlZYq",
        "outputId": "408b4652-6e9b-4458-8e23-ce3e990b79ee"
      },
      "source": [
        "y_pred = model.predict(X_test)\n",
        "\n",
        "eval_sll = clf_eval(y_sl_test,get_single_label(y_pred),y_pred)\n",
        "eval_mll = clf_eval(y_ml_test,get_multi_label(y_pred),y_pred)\n",
        "eval = ldl_eval(y_test,y_pred)"
      ],
      "execution_count": null,
      "outputs": [
        {
          "output_type": "stream",
          "text": [
            "acc: 0.336\n",
            "f1 score(micro): 0.35236220472440943\n",
            "precision score(micro): 0.358\n",
            "recall score(micro): 0.34689922480620156\n",
            "AUC score(micro): 0.6088360858330525\n",
            "hamming loss: 0.21933333333333332\n",
            "label ranking loss: 0.33914999999999995\n",
            "confusion matrix: [[[384   0]\n",
            "  [116   0]]\n",
            "\n",
            " [[418   0]\n",
            "  [ 82   0]]\n",
            "\n",
            " [[100 249]\n",
            "  [ 24 127]]\n",
            "\n",
            " [[447   0]\n",
            "  [ 53   0]]\n",
            "\n",
            " [[475   0]\n",
            "  [ 25   0]]\n",
            "\n",
            " [[339  72]\n",
            "  [ 37  52]]]\n",
            "acc: 0.104\n",
            "f1 score(micro): 0.4242424242424242\n",
            "precision score(micro): 0.3861082737487232\n",
            "recall score(micro): 0.47073474470734744\n",
            "AUC score(micro): 0.5985899485940014\n",
            "hamming loss: 0.342\n",
            "label ranking loss: 0.33656666666666674\n",
            "confusion matrix: [[[334  30]\n",
            "  [108  28]]\n",
            "\n",
            " [[333   5]\n",
            "  [156   6]]\n",
            "\n",
            " [[ 64 226]\n",
            "  [ 20 190]]\n",
            "\n",
            " [[169 201]\n",
            "  [ 39  91]]\n",
            "\n",
            " [[386  57]\n",
            "  [ 51   6]]\n",
            "\n",
            " [[310  82]\n",
            "  [ 51  57]]]\n",
            "Kullback–Leibler divergence:  0.07486880607699026\n",
            "Euclidean distance:  0.15361646616715408\n",
            "MSE:  0.005036652605300524\n",
            "Chebyshev distance:  0.12604370790029545\n",
            "Clark distance:  0.3800501997564805\n",
            "Canberra distance:  0.827307927122582\n",
            "Cosine similarity:  0.9274275774254322\n",
            "Intersection similarity:  0.8516695946182499\n",
            "Kurtosis_signed_offset:  0.2106348136994221\n",
            "Kurtosis_abs_offset:  0.9433599528124046\n",
            "Laloss:  0.36636256955649127\n"
          ],
          "name": "stdout"
        }
      ]
    },
    {
      "cell_type": "code",
      "metadata": {
        "colab": {
          "base_uri": "https://localhost:8080/",
          "height": 295
        },
        "id": "4TmKMK72LVnv",
        "outputId": "8683508f-a1b9-42c2-8f7e-17ad0507b033"
      },
      "source": [
        "import matplotlib.pyplot as plt\n",
        "\n",
        "loss = history.history['loss']\n",
        "val_loss = history.history['val_loss']\n",
        "epochs = range(1,len(loss)+1)\n",
        "\n",
        "plt.plot(epochs[10:],loss[10:],'ro',label='Training loss')\n",
        "plt.plot(epochs[10:],val_loss[10:],'r',label='Validation loss')\n",
        "plt.title('Training and validation loss')\n",
        "plt.xlabel('Epochs')\n",
        "plt.ylabel('Loss')\n",
        "plt.legend()\n",
        "\n",
        "plt.show()"
      ],
      "execution_count": null,
      "outputs": [
        {
          "output_type": "display_data",
          "data": {
            "image/png": "[encoded data removed]",
            "text/plain": [
              "<Figure size 432x288 with 1 Axes>"
            ]
          },
          "metadata": {
            "tags": [],
            "needs_background": "light"
          }
        }
      ]
    },
    {
      "cell_type": "code",
      "metadata": {
        "colab": {
          "base_uri": "https://localhost:8080/",
          "height": 295
        },
        "id": "Od034qbDME_E",
        "outputId": "f9ba71ab-1919-4391-8a41-1e5022945699"
      },
      "source": [
        "plt.clf()\n",
        "kullback_leibler_divergence = history.history['kullback_leibler_divergence']\n",
        "val_kullback_leibler_divergence = history.history['val_kullback_leibler_divergence']\n",
        "epochs = range(1,len(kullback_leibler_divergence)+1)\n",
        "\n",
        "plt.plot(epochs[10:],kullback_leibler_divergence[10:],'ro',label='Training kullback_leibler_divergence')\n",
        "plt.plot(epochs[10:],val_kullback_leibler_divergence[10:],'r',label='Validation kullback_leibler_divergence')\n",
        "plt.title('Training and validation kullback_leibler_divergence')\n",
        "plt.xlabel('Epochs')\n",
        "plt.ylabel('Kullback_leibler_divergence')\n",
        "plt.legend()\n",
        "\n",
        "plt.show()"
      ],
      "execution_count": null,
      "outputs": [
        {
          "output_type": "display_data",
          "data": {
            "image/png": "[encoded data removed]",
            "text/plain": [
              "<Figure size 432x288 with 1 Axes>"
            ]
          },
          "metadata": {
            "tags": [],
            "needs_background": "light"
          }
        }
      ]
    },
    {
      "cell_type": "code",
      "metadata": {
        "colab": {
          "base_uri": "https://localhost:8080/",
          "height": 295
        },
        "id": "OlgOIbzVmEu4",
        "outputId": "e82ca5a7-a0d6-4472-f2fb-9ce0c97e79ec"
      },
      "source": [
        "def smooth_curve(points,factor=0.9):\n",
        "  smoothed_points=[]\n",
        "  for point in points:\n",
        "    if smoothed_points:\n",
        "      previous = smoothed_points[-1]\n",
        "      smoothed_points.append(previous*factor + point*(1-factor))\n",
        "    else:\n",
        "      smoothed_points.append(point)\n",
        "  return smoothed_points\n",
        "\n",
        "plt.clf()\n",
        "kullback_leibler_divergence = history.history['kullback_leibler_divergence']\n",
        "val_kullback_leibler_divergence = history.history['val_kullback_leibler_divergence']\n",
        "\n",
        "smooth_kl_history = smooth_curve(kullback_leibler_divergence)\n",
        "smooth_val_kl_history = smooth_curve(val_kullback_leibler_divergence)\n",
        "epochs = range(1,len(kullback_leibler_divergence)+1)\n",
        "\n",
        "plt.plot(epochs[10:],smooth_kl_history[10:],'ro',label='Training kullback_leibler_divergence')\n",
        "plt.plot(epochs[10:],smooth_val_kl_history[10:],'r',label='Validation kullback_leibler_divergence')\n",
        "plt.title('Training and validation smoothed kullback_leibler_divergence')\n",
        "plt.xlabel('Epochs')\n",
        "plt.ylabel('Kullback_leibler_divergence')\n",
        "plt.legend()\n",
        "\n",
        "plt.show()"
      ],
      "execution_count": null,
      "outputs": [
        {
          "output_type": "display_data",
          "data": {
            "image/png": "[encoded data removed]",
            "text/plain": [
              "<Figure size 432x288 with 1 Axes>"
            ]
          },
          "metadata": {
            "tags": [],
            "needs_background": "light"
          }
        }
      ]
    },
    {
      "cell_type": "code",
      "metadata": {
        "colab": {
          "base_uri": "https://localhost:8080/",
          "height": 622
        },
        "id": "lo_D7A759H10",
        "outputId": "b784eaca-9084-4f5a-b26a-d762b3c21fe2"
      },
      "source": [
        "def smooth_curve(points,factor=0.9):\n",
        "  smoothed_points=[]\n",
        "  for point in points:\n",
        "    if smoothed_points:\n",
        "      previous = smoothed_points[-1]\n",
        "      smoothed_points.append(previous*factor + point*(1-factor))\n",
        "    else:\n",
        "      smoothed_points.append(point)\n",
        "  return smoothed_points\n",
        "\n",
        "plt.clf()\n",
        "kullback_leibler_divergence = history.history['kullback_leibler_divergence']\n",
        "val_kullback_leibler_divergence = history.history['val_kullback_leibler_divergence']\n",
        "kullback_leibler_divergence_baseline = history_baseline.history['kullback_leibler_divergence']\n",
        "val_kullback_leibler_divergence_baseline = history_baseline.history['val_kullback_leibler_divergence']\n",
        "\n",
        "smooth_kl_history = smooth_curve(kullback_leibler_divergence)\n",
        "smooth_val_kl_history = smooth_curve(val_kullback_leibler_divergence)\n",
        "smooth_kl_history_baseline = smooth_curve(kullback_leibler_divergence_baseline)\n",
        "smooth_val_kl_history_baseline = smooth_curve(val_kullback_leibler_divergence_baseline)\n",
        "epochs = range(1,len(kullback_leibler_divergence)+1)\n",
        "\n",
        "plt.plot(epochs[1:],smooth_kl_history[1:],'ro',label='Training kullback_leibler_divergence')\n",
        "plt.plot(epochs[1:],smooth_val_kl_history[1:],'r',label='Validation kullback_leibler_divergence')\n",
        "plt.plot(epochs[1:],smooth_kl_history_baseline[1:],'bo',label='Training kullback_leibler_divergence baseline')\n",
        "plt.plot(epochs[1:],smooth_val_kl_history_baseline[1:],'b',label='Validation kullback_leibler_divergence baseline')\n",
        "plt.title('Training and validation smoothed kullback_leibler_divergence')\n",
        "plt.xlabel('Epochs')\n",
        "plt.ylabel('Kullback_leibler_divergence')\n",
        "plt.legend()\n",
        "\n",
        "plt.show()"
      ],
      "execution_count": null,
      "outputs": [
        {
          "output_type": "error",
          "ename": "ValueError",
          "evalue": "ignored",
          "traceback": [
            "\u001b[0;31m---------------------------------------------------------------------------\u001b[0m",
            "\u001b[0;31mValueError\u001b[0m                                Traceback (most recent call last)",
            "\u001b[0;32m<ipython-input-112-f2976af922d4>\u001b[0m in \u001b[0;36m<module>\u001b[0;34m()\u001b[0m\n\u001b[1;32m     23\u001b[0m \u001b[0mplt\u001b[0m\u001b[0;34m.\u001b[0m\u001b[0mplot\u001b[0m\u001b[0;34m(\u001b[0m\u001b[0mepochs\u001b[0m\u001b[0;34m[\u001b[0m\u001b[0;36m1\u001b[0m\u001b[0;34m:\u001b[0m\u001b[0;34m]\u001b[0m\u001b[0;34m,\u001b[0m\u001b[0msmooth_kl_history\u001b[0m\u001b[0;34m[\u001b[0m\u001b[0;36m1\u001b[0m\u001b[0;34m:\u001b[0m\u001b[0;34m]\u001b[0m\u001b[0;34m,\u001b[0m\u001b[0;34m'ro'\u001b[0m\u001b[0;34m,\u001b[0m\u001b[0mlabel\u001b[0m\u001b[0;34m=\u001b[0m\u001b[0;34m'Training kullback_leibler_divergence'\u001b[0m\u001b[0;34m)\u001b[0m\u001b[0;34m\u001b[0m\u001b[0;34m\u001b[0m\u001b[0m\n\u001b[1;32m     24\u001b[0m \u001b[0mplt\u001b[0m\u001b[0;34m.\u001b[0m\u001b[0mplot\u001b[0m\u001b[0;34m(\u001b[0m\u001b[0mepochs\u001b[0m\u001b[0;34m[\u001b[0m\u001b[0;36m1\u001b[0m\u001b[0;34m:\u001b[0m\u001b[0;34m]\u001b[0m\u001b[0;34m,\u001b[0m\u001b[0msmooth_val_kl_history\u001b[0m\u001b[0;34m[\u001b[0m\u001b[0;36m1\u001b[0m\u001b[0;34m:\u001b[0m\u001b[0;34m]\u001b[0m\u001b[0;34m,\u001b[0m\u001b[0;34m'r'\u001b[0m\u001b[0;34m,\u001b[0m\u001b[0mlabel\u001b[0m\u001b[0;34m=\u001b[0m\u001b[0;34m'Validation kullback_leibler_divergence'\u001b[0m\u001b[0;34m)\u001b[0m\u001b[0;34m\u001b[0m\u001b[0;34m\u001b[0m\u001b[0m\n\u001b[0;32m---> 25\u001b[0;31m \u001b[0mplt\u001b[0m\u001b[0;34m.\u001b[0m\u001b[0mplot\u001b[0m\u001b[0;34m(\u001b[0m\u001b[0mepochs\u001b[0m\u001b[0;34m[\u001b[0m\u001b[0;36m1\u001b[0m\u001b[0;34m:\u001b[0m\u001b[0;34m]\u001b[0m\u001b[0;34m,\u001b[0m\u001b[0msmooth_kl_history_baseline\u001b[0m\u001b[0;34m[\u001b[0m\u001b[0;36m1\u001b[0m\u001b[0;34m:\u001b[0m\u001b[0;34m]\u001b[0m\u001b[0;34m,\u001b[0m\u001b[0;34m'bo'\u001b[0m\u001b[0;34m,\u001b[0m\u001b[0mlabel\u001b[0m\u001b[0;34m=\u001b[0m\u001b[0;34m'Training kullback_leibler_divergence baseline'\u001b[0m\u001b[0;34m)\u001b[0m\u001b[0;34m\u001b[0m\u001b[0;34m\u001b[0m\u001b[0m\n\u001b[0m\u001b[1;32m     26\u001b[0m \u001b[0mplt\u001b[0m\u001b[0;34m.\u001b[0m\u001b[0mplot\u001b[0m\u001b[0;34m(\u001b[0m\u001b[0mepochs\u001b[0m\u001b[0;34m[\u001b[0m\u001b[0;36m1\u001b[0m\u001b[0;34m:\u001b[0m\u001b[0;34m]\u001b[0m\u001b[0;34m,\u001b[0m\u001b[0msmooth_val_kl_history_baseline\u001b[0m\u001b[0;34m[\u001b[0m\u001b[0;36m1\u001b[0m\u001b[0;34m:\u001b[0m\u001b[0;34m]\u001b[0m\u001b[0;34m,\u001b[0m\u001b[0;34m'b'\u001b[0m\u001b[0;34m,\u001b[0m\u001b[0mlabel\u001b[0m\u001b[0;34m=\u001b[0m\u001b[0;34m'Validation kullback_leibler_divergence baseline'\u001b[0m\u001b[0;34m)\u001b[0m\u001b[0;34m\u001b[0m\u001b[0;34m\u001b[0m\u001b[0m\n\u001b[1;32m     27\u001b[0m \u001b[0mplt\u001b[0m\u001b[0;34m.\u001b[0m\u001b[0mtitle\u001b[0m\u001b[0;34m(\u001b[0m\u001b[0;34m'Training and validation smoothed kullback_leibler_divergence'\u001b[0m\u001b[0;34m)\u001b[0m\u001b[0;34m\u001b[0m\u001b[0;34m\u001b[0m\u001b[0m\n",
            "\u001b[0;32m/usr/local/lib/python3.6/dist-packages/matplotlib/pyplot.py\u001b[0m in \u001b[0;36mplot\u001b[0;34m(scalex, scaley, data, *args, **kwargs)\u001b[0m\n\u001b[1;32m   2761\u001b[0m     return gca().plot(\n\u001b[1;32m   2762\u001b[0m         *args, scalex=scalex, scaley=scaley, **({\"data\": data} if data\n\u001b[0;32m-> 2763\u001b[0;31m         is not None else {}), **kwargs)\n\u001b[0m\u001b[1;32m   2764\u001b[0m \u001b[0;34m\u001b[0m\u001b[0m\n\u001b[1;32m   2765\u001b[0m \u001b[0;34m\u001b[0m\u001b[0m\n",
            "\u001b[0;32m/usr/local/lib/python3.6/dist-packages/matplotlib/axes/_axes.py\u001b[0m in \u001b[0;36mplot\u001b[0;34m(self, scalex, scaley, data, *args, **kwargs)\u001b[0m\n\u001b[1;32m   1645\u001b[0m         \"\"\"\n\u001b[1;32m   1646\u001b[0m         \u001b[0mkwargs\u001b[0m \u001b[0;34m=\u001b[0m \u001b[0mcbook\u001b[0m\u001b[0;34m.\u001b[0m\u001b[0mnormalize_kwargs\u001b[0m\u001b[0;34m(\u001b[0m\u001b[0mkwargs\u001b[0m\u001b[0;34m,\u001b[0m \u001b[0mmlines\u001b[0m\u001b[0;34m.\u001b[0m\u001b[0mLine2D\u001b[0m\u001b[0;34m)\u001b[0m\u001b[0;34m\u001b[0m\u001b[0;34m\u001b[0m\u001b[0m\n\u001b[0;32m-> 1647\u001b[0;31m         \u001b[0mlines\u001b[0m \u001b[0;34m=\u001b[0m \u001b[0;34m[\u001b[0m\u001b[0;34m*\u001b[0m\u001b[0mself\u001b[0m\u001b[0;34m.\u001b[0m\u001b[0m_get_lines\u001b[0m\u001b[0;34m(\u001b[0m\u001b[0;34m*\u001b[0m\u001b[0margs\u001b[0m\u001b[0;34m,\u001b[0m \u001b[0mdata\u001b[0m\u001b[0;34m=\u001b[0m\u001b[0mdata\u001b[0m\u001b[0;34m,\u001b[0m \u001b[0;34m**\u001b[0m\u001b[0mkwargs\u001b[0m\u001b[0;34m)\u001b[0m\u001b[0;34m]\u001b[0m\u001b[0;34m\u001b[0m\u001b[0;34m\u001b[0m\u001b[0m\n\u001b[0m\u001b[1;32m   1648\u001b[0m         \u001b[0;32mfor\u001b[0m \u001b[0mline\u001b[0m \u001b[0;32min\u001b[0m \u001b[0mlines\u001b[0m\u001b[0;34m:\u001b[0m\u001b[0;34m\u001b[0m\u001b[0;34m\u001b[0m\u001b[0m\n\u001b[1;32m   1649\u001b[0m             \u001b[0mself\u001b[0m\u001b[0;34m.\u001b[0m\u001b[0madd_line\u001b[0m\u001b[0;34m(\u001b[0m\u001b[0mline\u001b[0m\u001b[0;34m)\u001b[0m\u001b[0;34m\u001b[0m\u001b[0;34m\u001b[0m\u001b[0m\n",
            "\u001b[0;32m/usr/local/lib/python3.6/dist-packages/matplotlib/axes/_base.py\u001b[0m in \u001b[0;36m__call__\u001b[0;34m(self, *args, **kwargs)\u001b[0m\n\u001b[1;32m    214\u001b[0m                 \u001b[0mthis\u001b[0m \u001b[0;34m+=\u001b[0m \u001b[0margs\u001b[0m\u001b[0;34m[\u001b[0m\u001b[0;36m0\u001b[0m\u001b[0;34m]\u001b[0m\u001b[0;34m,\u001b[0m\u001b[0;34m\u001b[0m\u001b[0;34m\u001b[0m\u001b[0m\n\u001b[1;32m    215\u001b[0m                 \u001b[0margs\u001b[0m \u001b[0;34m=\u001b[0m \u001b[0margs\u001b[0m\u001b[0;34m[\u001b[0m\u001b[0;36m1\u001b[0m\u001b[0;34m:\u001b[0m\u001b[0;34m]\u001b[0m\u001b[0;34m\u001b[0m\u001b[0;34m\u001b[0m\u001b[0m\n\u001b[0;32m--> 216\u001b[0;31m             \u001b[0;32myield\u001b[0m \u001b[0;32mfrom\u001b[0m \u001b[0mself\u001b[0m\u001b[0;34m.\u001b[0m\u001b[0m_plot_args\u001b[0m\u001b[0;34m(\u001b[0m\u001b[0mthis\u001b[0m\u001b[0;34m,\u001b[0m \u001b[0mkwargs\u001b[0m\u001b[0;34m)\u001b[0m\u001b[0;34m\u001b[0m\u001b[0;34m\u001b[0m\u001b[0m\n\u001b[0m\u001b[1;32m    217\u001b[0m \u001b[0;34m\u001b[0m\u001b[0m\n\u001b[1;32m    218\u001b[0m     \u001b[0;32mdef\u001b[0m \u001b[0mget_next_color\u001b[0m\u001b[0;34m(\u001b[0m\u001b[0mself\u001b[0m\u001b[0;34m)\u001b[0m\u001b[0;34m:\u001b[0m\u001b[0;34m\u001b[0m\u001b[0;34m\u001b[0m\u001b[0m\n",
            "\u001b[0;32m/usr/local/lib/python3.6/dist-packages/matplotlib/axes/_base.py\u001b[0m in \u001b[0;36m_plot_args\u001b[0;34m(self, tup, kwargs)\u001b[0m\n\u001b[1;32m    340\u001b[0m \u001b[0;34m\u001b[0m\u001b[0m\n\u001b[1;32m    341\u001b[0m         \u001b[0;32mif\u001b[0m \u001b[0mx\u001b[0m\u001b[0;34m.\u001b[0m\u001b[0mshape\u001b[0m\u001b[0;34m[\u001b[0m\u001b[0;36m0\u001b[0m\u001b[0;34m]\u001b[0m \u001b[0;34m!=\u001b[0m \u001b[0my\u001b[0m\u001b[0;34m.\u001b[0m\u001b[0mshape\u001b[0m\u001b[0;34m[\u001b[0m\u001b[0;36m0\u001b[0m\u001b[0;34m]\u001b[0m\u001b[0;34m:\u001b[0m\u001b[0;34m\u001b[0m\u001b[0;34m\u001b[0m\u001b[0m\n\u001b[0;32m--> 342\u001b[0;31m             raise ValueError(f\"x and y must have same first dimension, but \"\n\u001b[0m\u001b[1;32m    343\u001b[0m                              f\"have shapes {x.shape} and {y.shape}\")\n\u001b[1;32m    344\u001b[0m         \u001b[0;32mif\u001b[0m \u001b[0mx\u001b[0m\u001b[0;34m.\u001b[0m\u001b[0mndim\u001b[0m \u001b[0;34m>\u001b[0m \u001b[0;36m2\u001b[0m \u001b[0;32mor\u001b[0m \u001b[0my\u001b[0m\u001b[0;34m.\u001b[0m\u001b[0mndim\u001b[0m \u001b[0;34m>\u001b[0m \u001b[0;36m2\u001b[0m\u001b[0;34m:\u001b[0m\u001b[0;34m\u001b[0m\u001b[0;34m\u001b[0m\u001b[0m\n",
            "\u001b[0;31mValueError\u001b[0m: x and y must have same first dimension, but have shapes (99,) and (199,)"
          ]
        },
        {
          "output_type": "display_data",
          "data": {
            "image/png": "[encoded data removed]",
            "text/plain": [
              "<Figure size 432x288 with 1 Axes>"
            ]
          },
          "metadata": {
            "tags": [],
            "needs_background": "light"
          }
        }
      ]
    },
    {
      "cell_type": "markdown",
      "metadata": {
        "id": "WjmnD4ojDGGa"
      },
      "source": [
        "### Final fit"
      ]
    },
    {
      "cell_type": "code",
      "metadata": {
        "id": "yXmGJbdYuA3T",
        "colab": {
          "base_uri": "https://localhost:8080/"
        },
        "outputId": "b268bc9f-d4a7-444f-ea32-dcc4e3907fa0"
      },
      "source": [
        "model_baseline_final = get_model_baseline()\n",
        "model_baseline_final.compile(optimizer=keras.optimizers.RMSprop(),loss= 'kullback_leibler_divergence', metrics=['acc','kullback_leibler_divergence'])\n",
        "history_baseline_final = model_baseline_final.fit(X_train,y_train,batch_size=256,epochs=200,validation_data=(X_test,y_test),verbose=1)"
      ],
      "execution_count": null,
      "outputs": [
        {
          "output_type": "stream",
          "text": [
            "Epoch 1/200\n",
            "8/8 [==============================] - 1s 24ms/step - loss: 0.0837 - acc: 0.1970 - kullback_leibler_divergence: 0.0837 - val_loss: 0.0830 - val_acc: 0.2320 - val_kullback_leibler_divergence: 0.0830\n",
            "Epoch 2/200\n",
            "8/8 [==============================] - 0s 7ms/step - loss: 0.0811 - acc: 0.2389 - kullback_leibler_divergence: 0.0811 - val_loss: 0.0830 - val_acc: 0.2320 - val_kullback_leibler_divergence: 0.0830\n",
            "Epoch 3/200\n",
            "8/8 [==============================] - 0s 6ms/step - loss: 0.0822 - acc: 0.2527 - kullback_leibler_divergence: 0.0822 - val_loss: 0.0829 - val_acc: 0.2840 - val_kullback_leibler_divergence: 0.0829\n",
            "Epoch 4/200\n",
            "8/8 [==============================] - 0s 7ms/step - loss: 0.0820 - acc: 0.2851 - kullback_leibler_divergence: 0.0820 - val_loss: 0.0829 - val_acc: 0.2880 - val_kullback_leibler_divergence: 0.0829\n",
            "Epoch 5/200\n",
            "8/8 [==============================] - 0s 7ms/step - loss: 0.0815 - acc: 0.2662 - kullback_leibler_divergence: 0.0815 - val_loss: 0.0828 - val_acc: 0.2840 - val_kullback_leibler_divergence: 0.0828\n",
            "Epoch 6/200\n",
            "8/8 [==============================] - 0s 7ms/step - loss: 0.0824 - acc: 0.2736 - kullback_leibler_divergence: 0.0824 - val_loss: 0.0828 - val_acc: 0.2840 - val_kullback_leibler_divergence: 0.0828\n",
            "Epoch 7/200\n",
            "8/8 [==============================] - 0s 7ms/step - loss: 0.0823 - acc: 0.2620 - kullback_leibler_divergence: 0.0823 - val_loss: 0.0828 - val_acc: 0.2720 - val_kullback_leibler_divergence: 0.0828\n",
            "Epoch 8/200\n",
            "8/8 [==============================] - 0s 7ms/step - loss: 0.0834 - acc: 0.2527 - kullback_leibler_divergence: 0.0834 - val_loss: 0.0827 - val_acc: 0.3320 - val_kullback_leibler_divergence: 0.0827\n",
            "Epoch 9/200\n",
            "8/8 [==============================] - 0s 7ms/step - loss: 0.0814 - acc: 0.2904 - kullback_leibler_divergence: 0.0814 - val_loss: 0.0826 - val_acc: 0.2520 - val_kullback_leibler_divergence: 0.0826\n",
            "Epoch 10/200\n",
            "8/8 [==============================] - 0s 7ms/step - loss: 0.0813 - acc: 0.2917 - kullback_leibler_divergence: 0.0813 - val_loss: 0.0825 - val_acc: 0.2560 - val_kullback_leibler_divergence: 0.0825\n",
            "Epoch 11/200\n",
            "8/8 [==============================] - 0s 6ms/step - loss: 0.0818 - acc: 0.2582 - kullback_leibler_divergence: 0.0818 - val_loss: 0.0824 - val_acc: 0.3080 - val_kullback_leibler_divergence: 0.0824\n",
            "Epoch 12/200\n",
            "8/8 [==============================] - 0s 7ms/step - loss: 0.0826 - acc: 0.2812 - kullback_leibler_divergence: 0.0826 - val_loss: 0.0823 - val_acc: 0.3460 - val_kullback_leibler_divergence: 0.0823\n",
            "Epoch 13/200\n",
            "8/8 [==============================] - 0s 7ms/step - loss: 0.0818 - acc: 0.3266 - kullback_leibler_divergence: 0.0818 - val_loss: 0.0823 - val_acc: 0.3220 - val_kullback_leibler_divergence: 0.0823\n",
            "Epoch 14/200\n",
            "8/8 [==============================] - 0s 7ms/step - loss: 0.0821 - acc: 0.3082 - kullback_leibler_divergence: 0.0821 - val_loss: 0.0821 - val_acc: 0.3560 - val_kullback_leibler_divergence: 0.0821\n",
            "Epoch 15/200\n",
            "8/8 [==============================] - 0s 7ms/step - loss: 0.0825 - acc: 0.3130 - kullback_leibler_divergence: 0.0825 - val_loss: 0.0819 - val_acc: 0.2880 - val_kullback_leibler_divergence: 0.0819\n",
            "Epoch 16/200\n",
            "8/8 [==============================] - 0s 6ms/step - loss: 0.0799 - acc: 0.3139 - kullback_leibler_divergence: 0.0799 - val_loss: 0.0819 - val_acc: 0.3420 - val_kullback_leibler_divergence: 0.0819\n",
            "Epoch 17/200\n",
            "8/8 [==============================] - 0s 7ms/step - loss: 0.0817 - acc: 0.3204 - kullback_leibler_divergence: 0.0817 - val_loss: 0.0816 - val_acc: 0.3540 - val_kullback_leibler_divergence: 0.0816\n",
            "Epoch 18/200\n",
            "8/8 [==============================] - 0s 7ms/step - loss: 0.0804 - acc: 0.3075 - kullback_leibler_divergence: 0.0804 - val_loss: 0.0814 - val_acc: 0.3520 - val_kullback_leibler_divergence: 0.0814\n",
            "Epoch 19/200\n",
            "8/8 [==============================] - 0s 7ms/step - loss: 0.0801 - acc: 0.3316 - kullback_leibler_divergence: 0.0801 - val_loss: 0.0813 - val_acc: 0.3320 - val_kullback_leibler_divergence: 0.0813\n",
            "Epoch 20/200\n",
            "8/8 [==============================] - 0s 7ms/step - loss: 0.0795 - acc: 0.3183 - kullback_leibler_divergence: 0.0795 - val_loss: 0.0811 - val_acc: 0.3080 - val_kullback_leibler_divergence: 0.0811\n",
            "Epoch 21/200\n",
            "8/8 [==============================] - 0s 6ms/step - loss: 0.0800 - acc: 0.3360 - kullback_leibler_divergence: 0.0800 - val_loss: 0.0810 - val_acc: 0.2900 - val_kullback_leibler_divergence: 0.0810\n",
            "Epoch 22/200\n",
            "8/8 [==============================] - 0s 6ms/step - loss: 0.0811 - acc: 0.3271 - kullback_leibler_divergence: 0.0811 - val_loss: 0.0808 - val_acc: 0.2920 - val_kullback_leibler_divergence: 0.0808\n",
            "Epoch 23/200\n",
            "8/8 [==============================] - 0s 9ms/step - loss: 0.0810 - acc: 0.3226 - kullback_leibler_divergence: 0.0810 - val_loss: 0.0804 - val_acc: 0.3440 - val_kullback_leibler_divergence: 0.0804\n",
            "Epoch 24/200\n",
            "8/8 [==============================] - 0s 6ms/step - loss: 0.0790 - acc: 0.3368 - kullback_leibler_divergence: 0.0790 - val_loss: 0.0802 - val_acc: 0.3560 - val_kullback_leibler_divergence: 0.0802\n",
            "Epoch 25/200\n",
            "8/8 [==============================] - 0s 7ms/step - loss: 0.0785 - acc: 0.3373 - kullback_leibler_divergence: 0.0785 - val_loss: 0.0800 - val_acc: 0.3260 - val_kullback_leibler_divergence: 0.0800\n",
            "Epoch 26/200\n",
            "8/8 [==============================] - 0s 6ms/step - loss: 0.0797 - acc: 0.3195 - kullback_leibler_divergence: 0.0797 - val_loss: 0.0798 - val_acc: 0.3400 - val_kullback_leibler_divergence: 0.0798\n",
            "Epoch 27/200\n",
            "8/8 [==============================] - 0s 6ms/step - loss: 0.0782 - acc: 0.3410 - kullback_leibler_divergence: 0.0782 - val_loss: 0.0799 - val_acc: 0.2860 - val_kullback_leibler_divergence: 0.0799\n",
            "Epoch 28/200\n",
            "8/8 [==============================] - 0s 7ms/step - loss: 0.0798 - acc: 0.3166 - kullback_leibler_divergence: 0.0798 - val_loss: 0.0795 - val_acc: 0.2980 - val_kullback_leibler_divergence: 0.0795\n",
            "Epoch 29/200\n",
            "8/8 [==============================] - 0s 6ms/step - loss: 0.0791 - acc: 0.3216 - kullback_leibler_divergence: 0.0791 - val_loss: 0.0791 - val_acc: 0.3220 - val_kullback_leibler_divergence: 0.0791\n",
            "Epoch 30/200\n",
            "8/8 [==============================] - 0s 7ms/step - loss: 0.0791 - acc: 0.3209 - kullback_leibler_divergence: 0.0791 - val_loss: 0.0788 - val_acc: 0.3220 - val_kullback_leibler_divergence: 0.0788\n",
            "Epoch 31/200\n",
            "8/8 [==============================] - 0s 27ms/step - loss: 0.0780 - acc: 0.3511 - kullback_leibler_divergence: 0.0780 - val_loss: 0.0787 - val_acc: 0.3360 - val_kullback_leibler_divergence: 0.0787\n",
            "Epoch 32/200\n",
            "8/8 [==============================] - 0s 7ms/step - loss: 0.0788 - acc: 0.3497 - kullback_leibler_divergence: 0.0788 - val_loss: 0.0784 - val_acc: 0.3340 - val_kullback_leibler_divergence: 0.0784\n",
            "Epoch 33/200\n",
            "8/8 [==============================] - 0s 7ms/step - loss: 0.0757 - acc: 0.3337 - kullback_leibler_divergence: 0.0757 - val_loss: 0.0781 - val_acc: 0.3320 - val_kullback_leibler_divergence: 0.0781\n",
            "Epoch 34/200\n",
            "8/8 [==============================] - 0s 6ms/step - loss: 0.0773 - acc: 0.3493 - kullback_leibler_divergence: 0.0773 - val_loss: 0.0780 - val_acc: 0.3320 - val_kullback_leibler_divergence: 0.0780\n",
            "Epoch 35/200\n",
            "8/8 [==============================] - 0s 6ms/step - loss: 0.0766 - acc: 0.3478 - kullback_leibler_divergence: 0.0766 - val_loss: 0.0783 - val_acc: 0.3060 - val_kullback_leibler_divergence: 0.0783\n",
            "Epoch 36/200\n",
            "8/8 [==============================] - 0s 7ms/step - loss: 0.0771 - acc: 0.3344 - kullback_leibler_divergence: 0.0771 - val_loss: 0.0777 - val_acc: 0.3300 - val_kullback_leibler_divergence: 0.0777\n",
            "Epoch 37/200\n",
            "8/8 [==============================] - 0s 7ms/step - loss: 0.0751 - acc: 0.3419 - kullback_leibler_divergence: 0.0751 - val_loss: 0.0774 - val_acc: 0.3540 - val_kullback_leibler_divergence: 0.0774\n",
            "Epoch 38/200\n",
            "8/8 [==============================] - 0s 8ms/step - loss: 0.0770 - acc: 0.3306 - kullback_leibler_divergence: 0.0770 - val_loss: 0.0775 - val_acc: 0.3320 - val_kullback_leibler_divergence: 0.0775\n",
            "Epoch 39/200\n",
            "8/8 [==============================] - 0s 7ms/step - loss: 0.0769 - acc: 0.3588 - kullback_leibler_divergence: 0.0769 - val_loss: 0.0773 - val_acc: 0.3420 - val_kullback_leibler_divergence: 0.0773\n",
            "Epoch 40/200\n",
            "8/8 [==============================] - 0s 7ms/step - loss: 0.0751 - acc: 0.3585 - kullback_leibler_divergence: 0.0751 - val_loss: 0.0779 - val_acc: 0.3100 - val_kullback_leibler_divergence: 0.0779\n",
            "Epoch 41/200\n",
            "8/8 [==============================] - 0s 7ms/step - loss: 0.0770 - acc: 0.3449 - kullback_leibler_divergence: 0.0770 - val_loss: 0.0769 - val_acc: 0.3320 - val_kullback_leibler_divergence: 0.0769\n",
            "Epoch 42/200\n",
            "8/8 [==============================] - 0s 6ms/step - loss: 0.0764 - acc: 0.3649 - kullback_leibler_divergence: 0.0764 - val_loss: 0.0767 - val_acc: 0.3320 - val_kullback_leibler_divergence: 0.0767\n",
            "Epoch 43/200\n",
            "8/8 [==============================] - 0s 6ms/step - loss: 0.0760 - acc: 0.3452 - kullback_leibler_divergence: 0.0760 - val_loss: 0.0765 - val_acc: 0.3420 - val_kullback_leibler_divergence: 0.0765\n",
            "Epoch 44/200\n",
            "8/8 [==============================] - 0s 7ms/step - loss: 0.0756 - acc: 0.3377 - kullback_leibler_divergence: 0.0756 - val_loss: 0.0767 - val_acc: 0.3220 - val_kullback_leibler_divergence: 0.0767\n",
            "Epoch 45/200\n",
            "8/8 [==============================] - 0s 7ms/step - loss: 0.0768 - acc: 0.3489 - kullback_leibler_divergence: 0.0768 - val_loss: 0.0764 - val_acc: 0.3340 - val_kullback_leibler_divergence: 0.0764\n",
            "Epoch 46/200\n",
            "8/8 [==============================] - 0s 7ms/step - loss: 0.0765 - acc: 0.3431 - kullback_leibler_divergence: 0.0765 - val_loss: 0.0763 - val_acc: 0.3400 - val_kullback_leibler_divergence: 0.0763\n",
            "Epoch 47/200\n",
            "8/8 [==============================] - 0s 7ms/step - loss: 0.0749 - acc: 0.3548 - kullback_leibler_divergence: 0.0749 - val_loss: 0.0770 - val_acc: 0.3280 - val_kullback_leibler_divergence: 0.0770\n",
            "Epoch 48/200\n",
            "8/8 [==============================] - 0s 7ms/step - loss: 0.0779 - acc: 0.3433 - kullback_leibler_divergence: 0.0779 - val_loss: 0.0761 - val_acc: 0.3460 - val_kullback_leibler_divergence: 0.0761\n",
            "Epoch 49/200\n",
            "8/8 [==============================] - 0s 7ms/step - loss: 0.0744 - acc: 0.3552 - kullback_leibler_divergence: 0.0744 - val_loss: 0.0760 - val_acc: 0.3400 - val_kullback_leibler_divergence: 0.0760\n",
            "Epoch 50/200\n",
            "8/8 [==============================] - 0s 7ms/step - loss: 0.0750 - acc: 0.3465 - kullback_leibler_divergence: 0.0750 - val_loss: 0.0759 - val_acc: 0.3320 - val_kullback_leibler_divergence: 0.0759\n",
            "Epoch 51/200\n",
            "8/8 [==============================] - 0s 7ms/step - loss: 0.0768 - acc: 0.3500 - kullback_leibler_divergence: 0.0768 - val_loss: 0.0763 - val_acc: 0.3500 - val_kullback_leibler_divergence: 0.0763\n",
            "Epoch 52/200\n",
            "8/8 [==============================] - 0s 7ms/step - loss: 0.0775 - acc: 0.3515 - kullback_leibler_divergence: 0.0775 - val_loss: 0.0762 - val_acc: 0.3300 - val_kullback_leibler_divergence: 0.0762\n",
            "Epoch 53/200\n",
            "8/8 [==============================] - 0s 7ms/step - loss: 0.0763 - acc: 0.3469 - kullback_leibler_divergence: 0.0763 - val_loss: 0.0769 - val_acc: 0.3240 - val_kullback_leibler_divergence: 0.0769\n",
            "Epoch 54/200\n",
            "8/8 [==============================] - 0s 7ms/step - loss: 0.0751 - acc: 0.3587 - kullback_leibler_divergence: 0.0751 - val_loss: 0.0758 - val_acc: 0.3400 - val_kullback_leibler_divergence: 0.0758\n",
            "Epoch 55/200\n",
            "8/8 [==============================] - 0s 6ms/step - loss: 0.0758 - acc: 0.3550 - kullback_leibler_divergence: 0.0758 - val_loss: 0.0756 - val_acc: 0.3480 - val_kullback_leibler_divergence: 0.0756\n",
            "Epoch 56/200\n",
            "8/8 [==============================] - 0s 6ms/step - loss: 0.0753 - acc: 0.3624 - kullback_leibler_divergence: 0.0753 - val_loss: 0.0755 - val_acc: 0.3560 - val_kullback_leibler_divergence: 0.0755\n",
            "Epoch 57/200\n",
            "8/8 [==============================] - 0s 8ms/step - loss: 0.0759 - acc: 0.3491 - kullback_leibler_divergence: 0.0759 - val_loss: 0.0752 - val_acc: 0.3380 - val_kullback_leibler_divergence: 0.0752\n",
            "Epoch 58/200\n",
            "8/8 [==============================] - 0s 8ms/step - loss: 0.0761 - acc: 0.3475 - kullback_leibler_divergence: 0.0761 - val_loss: 0.0751 - val_acc: 0.3520 - val_kullback_leibler_divergence: 0.0751\n",
            "Epoch 59/200\n",
            "8/8 [==============================] - 0s 6ms/step - loss: 0.0747 - acc: 0.3622 - kullback_leibler_divergence: 0.0747 - val_loss: 0.0751 - val_acc: 0.3480 - val_kullback_leibler_divergence: 0.0751\n",
            "Epoch 60/200\n",
            "8/8 [==============================] - 0s 7ms/step - loss: 0.0744 - acc: 0.3592 - kullback_leibler_divergence: 0.0744 - val_loss: 0.0755 - val_acc: 0.3540 - val_kullback_leibler_divergence: 0.0755\n",
            "Epoch 61/200\n",
            "8/8 [==============================] - 0s 7ms/step - loss: 0.0748 - acc: 0.3437 - kullback_leibler_divergence: 0.0748 - val_loss: 0.0749 - val_acc: 0.3420 - val_kullback_leibler_divergence: 0.0749\n",
            "Epoch 62/200\n",
            "8/8 [==============================] - 0s 7ms/step - loss: 0.0761 - acc: 0.3479 - kullback_leibler_divergence: 0.0761 - val_loss: 0.0749 - val_acc: 0.3420 - val_kullback_leibler_divergence: 0.0749\n",
            "Epoch 63/200\n",
            "8/8 [==============================] - 0s 7ms/step - loss: 0.0737 - acc: 0.3636 - kullback_leibler_divergence: 0.0737 - val_loss: 0.0750 - val_acc: 0.3620 - val_kullback_leibler_divergence: 0.0750\n",
            "Epoch 64/200\n",
            "8/8 [==============================] - 0s 7ms/step - loss: 0.0739 - acc: 0.3615 - kullback_leibler_divergence: 0.0739 - val_loss: 0.0751 - val_acc: 0.3580 - val_kullback_leibler_divergence: 0.0751\n",
            "Epoch 65/200\n",
            "8/8 [==============================] - 0s 7ms/step - loss: 0.0760 - acc: 0.3549 - kullback_leibler_divergence: 0.0760 - val_loss: 0.0750 - val_acc: 0.3600 - val_kullback_leibler_divergence: 0.0750\n",
            "Epoch 66/200\n",
            "8/8 [==============================] - 0s 7ms/step - loss: 0.0749 - acc: 0.3569 - kullback_leibler_divergence: 0.0749 - val_loss: 0.0746 - val_acc: 0.3400 - val_kullback_leibler_divergence: 0.0746\n",
            "Epoch 67/200\n",
            "8/8 [==============================] - 0s 8ms/step - loss: 0.0736 - acc: 0.3599 - kullback_leibler_divergence: 0.0736 - val_loss: 0.0747 - val_acc: 0.3520 - val_kullback_leibler_divergence: 0.0747\n",
            "Epoch 68/200\n",
            "8/8 [==============================] - 0s 7ms/step - loss: 0.0748 - acc: 0.3459 - kullback_leibler_divergence: 0.0748 - val_loss: 0.0778 - val_acc: 0.3380 - val_kullback_leibler_divergence: 0.0778\n",
            "Epoch 69/200\n",
            "8/8 [==============================] - 0s 7ms/step - loss: 0.0753 - acc: 0.3461 - kullback_leibler_divergence: 0.0753 - val_loss: 0.0745 - val_acc: 0.3440 - val_kullback_leibler_divergence: 0.0745\n",
            "Epoch 70/200\n",
            "8/8 [==============================] - 0s 7ms/step - loss: 0.0741 - acc: 0.3569 - kullback_leibler_divergence: 0.0741 - val_loss: 0.0747 - val_acc: 0.3540 - val_kullback_leibler_divergence: 0.0747\n",
            "Epoch 71/200\n",
            "8/8 [==============================] - 0s 7ms/step - loss: 0.0751 - acc: 0.3487 - kullback_leibler_divergence: 0.0751 - val_loss: 0.0745 - val_acc: 0.3580 - val_kullback_leibler_divergence: 0.0745\n",
            "Epoch 72/200\n",
            "8/8 [==============================] - 0s 7ms/step - loss: 0.0755 - acc: 0.3576 - kullback_leibler_divergence: 0.0755 - val_loss: 0.0747 - val_acc: 0.3480 - val_kullback_leibler_divergence: 0.0747\n",
            "Epoch 73/200\n",
            "8/8 [==============================] - 0s 7ms/step - loss: 0.0743 - acc: 0.3523 - kullback_leibler_divergence: 0.0743 - val_loss: 0.0749 - val_acc: 0.3560 - val_kullback_leibler_divergence: 0.0749\n",
            "Epoch 74/200\n",
            "8/8 [==============================] - 0s 9ms/step - loss: 0.0759 - acc: 0.3469 - kullback_leibler_divergence: 0.0759 - val_loss: 0.0748 - val_acc: 0.3640 - val_kullback_leibler_divergence: 0.0748\n",
            "Epoch 75/200\n",
            "8/8 [==============================] - 0s 8ms/step - loss: 0.0753 - acc: 0.3648 - kullback_leibler_divergence: 0.0753 - val_loss: 0.0751 - val_acc: 0.3480 - val_kullback_leibler_divergence: 0.0751\n",
            "Epoch 76/200\n",
            "8/8 [==============================] - 0s 7ms/step - loss: 0.0735 - acc: 0.3635 - kullback_leibler_divergence: 0.0735 - val_loss: 0.0742 - val_acc: 0.3620 - val_kullback_leibler_divergence: 0.0742\n",
            "Epoch 77/200\n",
            "8/8 [==============================] - 0s 7ms/step - loss: 0.0735 - acc: 0.3596 - kullback_leibler_divergence: 0.0735 - val_loss: 0.0744 - val_acc: 0.3680 - val_kullback_leibler_divergence: 0.0744\n",
            "Epoch 78/200\n",
            "8/8 [==============================] - 0s 6ms/step - loss: 0.0743 - acc: 0.3652 - kullback_leibler_divergence: 0.0743 - val_loss: 0.0740 - val_acc: 0.3580 - val_kullback_leibler_divergence: 0.0740\n",
            "Epoch 79/200\n",
            "8/8 [==============================] - 0s 7ms/step - loss: 0.0734 - acc: 0.3660 - kullback_leibler_divergence: 0.0734 - val_loss: 0.0750 - val_acc: 0.3760 - val_kullback_leibler_divergence: 0.0750\n",
            "Epoch 80/200\n",
            "8/8 [==============================] - 0s 7ms/step - loss: 0.0762 - acc: 0.3346 - kullback_leibler_divergence: 0.0762 - val_loss: 0.0740 - val_acc: 0.3600 - val_kullback_leibler_divergence: 0.0740\n",
            "Epoch 81/200\n",
            "8/8 [==============================] - 0s 6ms/step - loss: 0.0756 - acc: 0.3539 - kullback_leibler_divergence: 0.0756 - val_loss: 0.0745 - val_acc: 0.3640 - val_kullback_leibler_divergence: 0.0745\n",
            "Epoch 82/200\n",
            "8/8 [==============================] - 0s 7ms/step - loss: 0.0749 - acc: 0.3645 - kullback_leibler_divergence: 0.0749 - val_loss: 0.0748 - val_acc: 0.3740 - val_kullback_leibler_divergence: 0.0748\n",
            "Epoch 83/200\n",
            "8/8 [==============================] - 0s 7ms/step - loss: 0.0743 - acc: 0.3571 - kullback_leibler_divergence: 0.0743 - val_loss: 0.0738 - val_acc: 0.3580 - val_kullback_leibler_divergence: 0.0738\n",
            "Epoch 84/200\n",
            "8/8 [==============================] - 0s 6ms/step - loss: 0.0736 - acc: 0.3743 - kullback_leibler_divergence: 0.0736 - val_loss: 0.0739 - val_acc: 0.3720 - val_kullback_leibler_divergence: 0.0739\n",
            "Epoch 85/200\n",
            "8/8 [==============================] - 0s 6ms/step - loss: 0.0735 - acc: 0.3710 - kullback_leibler_divergence: 0.0735 - val_loss: 0.0740 - val_acc: 0.3740 - val_kullback_leibler_divergence: 0.0740\n",
            "Epoch 86/200\n",
            "8/8 [==============================] - 0s 7ms/step - loss: 0.0749 - acc: 0.3858 - kullback_leibler_divergence: 0.0749 - val_loss: 0.0768 - val_acc: 0.3420 - val_kullback_leibler_divergence: 0.0768\n",
            "Epoch 87/200\n",
            "8/8 [==============================] - 0s 6ms/step - loss: 0.0747 - acc: 0.3598 - kullback_leibler_divergence: 0.0747 - val_loss: 0.0738 - val_acc: 0.3620 - val_kullback_leibler_divergence: 0.0738\n",
            "Epoch 88/200\n",
            "8/8 [==============================] - 0s 7ms/step - loss: 0.0741 - acc: 0.3566 - kullback_leibler_divergence: 0.0741 - val_loss: 0.0737 - val_acc: 0.3840 - val_kullback_leibler_divergence: 0.0737\n",
            "Epoch 89/200\n",
            "8/8 [==============================] - 0s 7ms/step - loss: 0.0738 - acc: 0.3853 - kullback_leibler_divergence: 0.0738 - val_loss: 0.0737 - val_acc: 0.3700 - val_kullback_leibler_divergence: 0.0737\n",
            "Epoch 90/200\n",
            "8/8 [==============================] - 0s 7ms/step - loss: 0.0751 - acc: 0.3550 - kullback_leibler_divergence: 0.0751 - val_loss: 0.0741 - val_acc: 0.3720 - val_kullback_leibler_divergence: 0.0741\n",
            "Epoch 91/200\n",
            "8/8 [==============================] - 0s 7ms/step - loss: 0.0742 - acc: 0.3597 - kullback_leibler_divergence: 0.0742 - val_loss: 0.0736 - val_acc: 0.3800 - val_kullback_leibler_divergence: 0.0736\n",
            "Epoch 92/200\n",
            "8/8 [==============================] - 0s 7ms/step - loss: 0.0736 - acc: 0.3891 - kullback_leibler_divergence: 0.0736 - val_loss: 0.0746 - val_acc: 0.3340 - val_kullback_leibler_divergence: 0.0746\n",
            "Epoch 93/200\n",
            "8/8 [==============================] - 0s 7ms/step - loss: 0.0749 - acc: 0.3363 - kullback_leibler_divergence: 0.0749 - val_loss: 0.0737 - val_acc: 0.3740 - val_kullback_leibler_divergence: 0.0737\n",
            "Epoch 94/200\n",
            "8/8 [==============================] - 0s 7ms/step - loss: 0.0721 - acc: 0.3659 - kullback_leibler_divergence: 0.0721 - val_loss: 0.0738 - val_acc: 0.3740 - val_kullback_leibler_divergence: 0.0738\n",
            "Epoch 95/200\n",
            "8/8 [==============================] - 0s 22ms/step - loss: 0.0748 - acc: 0.3631 - kullback_leibler_divergence: 0.0748 - val_loss: 0.0735 - val_acc: 0.3740 - val_kullback_leibler_divergence: 0.0735\n",
            "Epoch 96/200\n",
            "8/8 [==============================] - 0s 7ms/step - loss: 0.0745 - acc: 0.3764 - kullback_leibler_divergence: 0.0745 - val_loss: 0.0746 - val_acc: 0.3700 - val_kullback_leibler_divergence: 0.0746\n",
            "Epoch 97/200\n",
            "8/8 [==============================] - 0s 7ms/step - loss: 0.0744 - acc: 0.3633 - kullback_leibler_divergence: 0.0744 - val_loss: 0.0734 - val_acc: 0.3640 - val_kullback_leibler_divergence: 0.0734\n",
            "Epoch 98/200\n",
            "8/8 [==============================] - 0s 7ms/step - loss: 0.0740 - acc: 0.3721 - kullback_leibler_divergence: 0.0740 - val_loss: 0.0738 - val_acc: 0.3720 - val_kullback_leibler_divergence: 0.0738\n",
            "Epoch 99/200\n",
            "8/8 [==============================] - 0s 7ms/step - loss: 0.0725 - acc: 0.3686 - kullback_leibler_divergence: 0.0725 - val_loss: 0.0737 - val_acc: 0.3620 - val_kullback_leibler_divergence: 0.0737\n",
            "Epoch 100/200\n",
            "8/8 [==============================] - 0s 7ms/step - loss: 0.0728 - acc: 0.3802 - kullback_leibler_divergence: 0.0728 - val_loss: 0.0732 - val_acc: 0.3800 - val_kullback_leibler_divergence: 0.0732\n",
            "Epoch 101/200\n",
            "8/8 [==============================] - 0s 7ms/step - loss: 0.0714 - acc: 0.3886 - kullback_leibler_divergence: 0.0714 - val_loss: 0.0733 - val_acc: 0.3900 - val_kullback_leibler_divergence: 0.0733\n",
            "Epoch 102/200\n",
            "8/8 [==============================] - 0s 7ms/step - loss: 0.0733 - acc: 0.3660 - kullback_leibler_divergence: 0.0733 - val_loss: 0.0758 - val_acc: 0.3460 - val_kullback_leibler_divergence: 0.0758\n",
            "Epoch 103/200\n",
            "8/8 [==============================] - 0s 7ms/step - loss: 0.0760 - acc: 0.3574 - kullback_leibler_divergence: 0.0760 - val_loss: 0.0733 - val_acc: 0.3800 - val_kullback_leibler_divergence: 0.0733\n",
            "Epoch 104/200\n",
            "8/8 [==============================] - 0s 8ms/step - loss: 0.0715 - acc: 0.3816 - kullback_leibler_divergence: 0.0715 - val_loss: 0.0740 - val_acc: 0.3640 - val_kullback_leibler_divergence: 0.0740\n",
            "Epoch 105/200\n",
            "8/8 [==============================] - 0s 7ms/step - loss: 0.0725 - acc: 0.3699 - kullback_leibler_divergence: 0.0725 - val_loss: 0.0731 - val_acc: 0.3780 - val_kullback_leibler_divergence: 0.0731\n",
            "Epoch 106/200\n",
            "8/8 [==============================] - 0s 6ms/step - loss: 0.0736 - acc: 0.3636 - kullback_leibler_divergence: 0.0736 - val_loss: 0.0735 - val_acc: 0.3840 - val_kullback_leibler_divergence: 0.0735\n",
            "Epoch 107/200\n",
            "8/8 [==============================] - 0s 7ms/step - loss: 0.0738 - acc: 0.3651 - kullback_leibler_divergence: 0.0738 - val_loss: 0.0747 - val_acc: 0.3660 - val_kullback_leibler_divergence: 0.0747\n",
            "Epoch 108/200\n",
            "8/8 [==============================] - 0s 9ms/step - loss: 0.0731 - acc: 0.3642 - kullback_leibler_divergence: 0.0731 - val_loss: 0.0738 - val_acc: 0.3880 - val_kullback_leibler_divergence: 0.0738\n",
            "Epoch 109/200\n",
            "8/8 [==============================] - 0s 7ms/step - loss: 0.0749 - acc: 0.3681 - kullback_leibler_divergence: 0.0749 - val_loss: 0.0729 - val_acc: 0.3800 - val_kullback_leibler_divergence: 0.0729\n",
            "Epoch 110/200\n",
            "8/8 [==============================] - 0s 7ms/step - loss: 0.0736 - acc: 0.3662 - kullback_leibler_divergence: 0.0736 - val_loss: 0.0730 - val_acc: 0.3800 - val_kullback_leibler_divergence: 0.0730\n",
            "Epoch 111/200\n",
            "8/8 [==============================] - 0s 7ms/step - loss: 0.0731 - acc: 0.3855 - kullback_leibler_divergence: 0.0731 - val_loss: 0.0731 - val_acc: 0.3860 - val_kullback_leibler_divergence: 0.0731\n",
            "Epoch 112/200\n",
            "8/8 [==============================] - 0s 7ms/step - loss: 0.0711 - acc: 0.3518 - kullback_leibler_divergence: 0.0711 - val_loss: 0.0730 - val_acc: 0.3700 - val_kullback_leibler_divergence: 0.0730\n",
            "Epoch 113/200\n",
            "8/8 [==============================] - 0s 7ms/step - loss: 0.0748 - acc: 0.3718 - kullback_leibler_divergence: 0.0748 - val_loss: 0.0728 - val_acc: 0.3740 - val_kullback_leibler_divergence: 0.0728\n",
            "Epoch 114/200\n",
            "8/8 [==============================] - 0s 7ms/step - loss: 0.0732 - acc: 0.3651 - kullback_leibler_divergence: 0.0732 - val_loss: 0.0742 - val_acc: 0.3780 - val_kullback_leibler_divergence: 0.0742\n",
            "Epoch 115/200\n",
            "8/8 [==============================] - 0s 7ms/step - loss: 0.0719 - acc: 0.3667 - kullback_leibler_divergence: 0.0719 - val_loss: 0.0728 - val_acc: 0.3620 - val_kullback_leibler_divergence: 0.0728\n",
            "Epoch 116/200\n",
            "8/8 [==============================] - 0s 6ms/step - loss: 0.0744 - acc: 0.3716 - kullback_leibler_divergence: 0.0744 - val_loss: 0.0727 - val_acc: 0.3960 - val_kullback_leibler_divergence: 0.0727\n",
            "Epoch 117/200\n",
            "8/8 [==============================] - 0s 7ms/step - loss: 0.0732 - acc: 0.3633 - kullback_leibler_divergence: 0.0732 - val_loss: 0.0781 - val_acc: 0.3460 - val_kullback_leibler_divergence: 0.0781\n",
            "Epoch 118/200\n",
            "8/8 [==============================] - 0s 7ms/step - loss: 0.0746 - acc: 0.3577 - kullback_leibler_divergence: 0.0746 - val_loss: 0.0727 - val_acc: 0.3740 - val_kullback_leibler_divergence: 0.0727\n",
            "Epoch 119/200\n",
            "8/8 [==============================] - 0s 7ms/step - loss: 0.0734 - acc: 0.3523 - kullback_leibler_divergence: 0.0734 - val_loss: 0.0735 - val_acc: 0.3660 - val_kullback_leibler_divergence: 0.0735\n",
            "Epoch 120/200\n",
            "8/8 [==============================] - 0s 7ms/step - loss: 0.0739 - acc: 0.3733 - kullback_leibler_divergence: 0.0739 - val_loss: 0.0727 - val_acc: 0.3760 - val_kullback_leibler_divergence: 0.0727\n",
            "Epoch 121/200\n",
            "8/8 [==============================] - 0s 7ms/step - loss: 0.0752 - acc: 0.3699 - kullback_leibler_divergence: 0.0752 - val_loss: 0.0728 - val_acc: 0.3900 - val_kullback_leibler_divergence: 0.0728\n",
            "Epoch 122/200\n",
            "8/8 [==============================] - 0s 7ms/step - loss: 0.0723 - acc: 0.3609 - kullback_leibler_divergence: 0.0723 - val_loss: 0.0726 - val_acc: 0.3800 - val_kullback_leibler_divergence: 0.0726\n",
            "Epoch 123/200\n",
            "8/8 [==============================] - 0s 10ms/step - loss: 0.0751 - acc: 0.3531 - kullback_leibler_divergence: 0.0751 - val_loss: 0.0726 - val_acc: 0.3920 - val_kullback_leibler_divergence: 0.0726\n",
            "Epoch 124/200\n",
            "8/8 [==============================] - 0s 7ms/step - loss: 0.0737 - acc: 0.3810 - kullback_leibler_divergence: 0.0737 - val_loss: 0.0727 - val_acc: 0.3640 - val_kullback_leibler_divergence: 0.0727\n",
            "Epoch 125/200\n",
            "8/8 [==============================] - 0s 7ms/step - loss: 0.0737 - acc: 0.3791 - kullback_leibler_divergence: 0.0737 - val_loss: 0.0725 - val_acc: 0.3860 - val_kullback_leibler_divergence: 0.0725\n",
            "Epoch 126/200\n",
            "8/8 [==============================] - 0s 7ms/step - loss: 0.0731 - acc: 0.3732 - kullback_leibler_divergence: 0.0731 - val_loss: 0.0727 - val_acc: 0.3800 - val_kullback_leibler_divergence: 0.0727\n",
            "Epoch 127/200\n",
            "8/8 [==============================] - 0s 7ms/step - loss: 0.0754 - acc: 0.3693 - kullback_leibler_divergence: 0.0754 - val_loss: 0.0727 - val_acc: 0.3880 - val_kullback_leibler_divergence: 0.0727\n",
            "Epoch 128/200\n",
            "8/8 [==============================] - 0s 7ms/step - loss: 0.0739 - acc: 0.3618 - kullback_leibler_divergence: 0.0739 - val_loss: 0.0725 - val_acc: 0.3840 - val_kullback_leibler_divergence: 0.0725\n",
            "Epoch 129/200\n",
            "8/8 [==============================] - 0s 7ms/step - loss: 0.0723 - acc: 0.3754 - kullback_leibler_divergence: 0.0723 - val_loss: 0.0725 - val_acc: 0.3700 - val_kullback_leibler_divergence: 0.0725\n",
            "Epoch 130/200\n",
            "8/8 [==============================] - 0s 7ms/step - loss: 0.0734 - acc: 0.3706 - kullback_leibler_divergence: 0.0734 - val_loss: 0.0726 - val_acc: 0.3880 - val_kullback_leibler_divergence: 0.0726\n",
            "Epoch 131/200\n",
            "8/8 [==============================] - 0s 7ms/step - loss: 0.0753 - acc: 0.3894 - kullback_leibler_divergence: 0.0753 - val_loss: 0.0724 - val_acc: 0.3920 - val_kullback_leibler_divergence: 0.0724\n",
            "Epoch 132/200\n",
            "8/8 [==============================] - 0s 7ms/step - loss: 0.0731 - acc: 0.3751 - kullback_leibler_divergence: 0.0731 - val_loss: 0.0738 - val_acc: 0.3800 - val_kullback_leibler_divergence: 0.0738\n",
            "Epoch 133/200\n",
            "8/8 [==============================] - 0s 7ms/step - loss: 0.0732 - acc: 0.3736 - kullback_leibler_divergence: 0.0732 - val_loss: 0.0724 - val_acc: 0.3880 - val_kullback_leibler_divergence: 0.0724\n",
            "Epoch 134/200\n",
            "8/8 [==============================] - 0s 7ms/step - loss: 0.0723 - acc: 0.3848 - kullback_leibler_divergence: 0.0723 - val_loss: 0.0722 - val_acc: 0.3900 - val_kullback_leibler_divergence: 0.0722\n",
            "Epoch 135/200\n",
            "8/8 [==============================] - 0s 7ms/step - loss: 0.0732 - acc: 0.3746 - kullback_leibler_divergence: 0.0732 - val_loss: 0.0724 - val_acc: 0.3880 - val_kullback_leibler_divergence: 0.0724\n",
            "Epoch 136/200\n",
            "8/8 [==============================] - 0s 6ms/step - loss: 0.0712 - acc: 0.3726 - kullback_leibler_divergence: 0.0712 - val_loss: 0.0728 - val_acc: 0.3780 - val_kullback_leibler_divergence: 0.0728\n",
            "Epoch 137/200\n",
            "8/8 [==============================] - 0s 8ms/step - loss: 0.0730 - acc: 0.3833 - kullback_leibler_divergence: 0.0730 - val_loss: 0.0732 - val_acc: 0.3760 - val_kullback_leibler_divergence: 0.0732\n",
            "Epoch 138/200\n",
            "8/8 [==============================] - 0s 7ms/step - loss: 0.0713 - acc: 0.3844 - kullback_leibler_divergence: 0.0713 - val_loss: 0.0727 - val_acc: 0.3920 - val_kullback_leibler_divergence: 0.0727\n",
            "Epoch 139/200\n",
            "8/8 [==============================] - 0s 7ms/step - loss: 0.0730 - acc: 0.3780 - kullback_leibler_divergence: 0.0730 - val_loss: 0.0726 - val_acc: 0.3860 - val_kullback_leibler_divergence: 0.0726\n",
            "Epoch 140/200\n",
            "8/8 [==============================] - 0s 7ms/step - loss: 0.0723 - acc: 0.3803 - kullback_leibler_divergence: 0.0723 - val_loss: 0.0720 - val_acc: 0.3860 - val_kullback_leibler_divergence: 0.0720\n",
            "Epoch 141/200\n",
            "8/8 [==============================] - 0s 7ms/step - loss: 0.0741 - acc: 0.3901 - kullback_leibler_divergence: 0.0741 - val_loss: 0.0720 - val_acc: 0.3900 - val_kullback_leibler_divergence: 0.0720\n",
            "Epoch 142/200\n",
            "8/8 [==============================] - 0s 9ms/step - loss: 0.0721 - acc: 0.3667 - kullback_leibler_divergence: 0.0721 - val_loss: 0.0720 - val_acc: 0.3880 - val_kullback_leibler_divergence: 0.0720\n",
            "Epoch 143/200\n",
            "8/8 [==============================] - 0s 7ms/step - loss: 0.0725 - acc: 0.3876 - kullback_leibler_divergence: 0.0725 - val_loss: 0.0723 - val_acc: 0.3920 - val_kullback_leibler_divergence: 0.0723\n",
            "Epoch 144/200\n",
            "8/8 [==============================] - 0s 7ms/step - loss: 0.0737 - acc: 0.3934 - kullback_leibler_divergence: 0.0737 - val_loss: 0.0720 - val_acc: 0.3700 - val_kullback_leibler_divergence: 0.0720\n",
            "Epoch 145/200\n",
            "8/8 [==============================] - 0s 7ms/step - loss: 0.0725 - acc: 0.3708 - kullback_leibler_divergence: 0.0725 - val_loss: 0.0731 - val_acc: 0.3840 - val_kullback_leibler_divergence: 0.0731\n",
            "Epoch 146/200\n",
            "8/8 [==============================] - 0s 7ms/step - loss: 0.0739 - acc: 0.3875 - kullback_leibler_divergence: 0.0739 - val_loss: 0.0718 - val_acc: 0.3940 - val_kullback_leibler_divergence: 0.0718\n",
            "Epoch 147/200\n",
            "8/8 [==============================] - 0s 7ms/step - loss: 0.0730 - acc: 0.3793 - kullback_leibler_divergence: 0.0730 - val_loss: 0.0721 - val_acc: 0.3500 - val_kullback_leibler_divergence: 0.0721\n",
            "Epoch 148/200\n",
            "8/8 [==============================] - 0s 7ms/step - loss: 0.0724 - acc: 0.3696 - kullback_leibler_divergence: 0.0724 - val_loss: 0.0719 - val_acc: 0.3860 - val_kullback_leibler_divergence: 0.0719\n",
            "Epoch 149/200\n",
            "8/8 [==============================] - 0s 7ms/step - loss: 0.0715 - acc: 0.3961 - kullback_leibler_divergence: 0.0715 - val_loss: 0.0721 - val_acc: 0.3760 - val_kullback_leibler_divergence: 0.0721\n",
            "Epoch 150/200\n",
            "8/8 [==============================] - 0s 7ms/step - loss: 0.0728 - acc: 0.3626 - kullback_leibler_divergence: 0.0728 - val_loss: 0.0728 - val_acc: 0.3780 - val_kullback_leibler_divergence: 0.0728\n",
            "Epoch 151/200\n",
            "8/8 [==============================] - 0s 7ms/step - loss: 0.0742 - acc: 0.3698 - kullback_leibler_divergence: 0.0742 - val_loss: 0.0717 - val_acc: 0.4000 - val_kullback_leibler_divergence: 0.0717\n",
            "Epoch 152/200\n",
            "8/8 [==============================] - 0s 8ms/step - loss: 0.0722 - acc: 0.3682 - kullback_leibler_divergence: 0.0722 - val_loss: 0.0724 - val_acc: 0.3340 - val_kullback_leibler_divergence: 0.0724\n",
            "Epoch 153/200\n",
            "8/8 [==============================] - 0s 7ms/step - loss: 0.0726 - acc: 0.3676 - kullback_leibler_divergence: 0.0726 - val_loss: 0.0717 - val_acc: 0.3940 - val_kullback_leibler_divergence: 0.0717\n",
            "Epoch 154/200\n",
            "8/8 [==============================] - 0s 7ms/step - loss: 0.0729 - acc: 0.3821 - kullback_leibler_divergence: 0.0729 - val_loss: 0.0718 - val_acc: 0.3960 - val_kullback_leibler_divergence: 0.0718\n",
            "Epoch 155/200\n",
            "8/8 [==============================] - 0s 7ms/step - loss: 0.0728 - acc: 0.3728 - kullback_leibler_divergence: 0.0728 - val_loss: 0.0715 - val_acc: 0.4000 - val_kullback_leibler_divergence: 0.0715\n",
            "Epoch 156/200\n",
            "8/8 [==============================] - 0s 7ms/step - loss: 0.0721 - acc: 0.3931 - kullback_leibler_divergence: 0.0721 - val_loss: 0.0727 - val_acc: 0.4020 - val_kullback_leibler_divergence: 0.0727\n",
            "Epoch 157/200\n",
            "8/8 [==============================] - 0s 7ms/step - loss: 0.0738 - acc: 0.3723 - kullback_leibler_divergence: 0.0738 - val_loss: 0.0719 - val_acc: 0.3860 - val_kullback_leibler_divergence: 0.0719\n",
            "Epoch 158/200\n",
            "8/8 [==============================] - 0s 7ms/step - loss: 0.0717 - acc: 0.3801 - kullback_leibler_divergence: 0.0717 - val_loss: 0.0716 - val_acc: 0.3980 - val_kullback_leibler_divergence: 0.0716\n",
            "Epoch 159/200\n",
            "8/8 [==============================] - 0s 24ms/step - loss: 0.0721 - acc: 0.3886 - kullback_leibler_divergence: 0.0721 - val_loss: 0.0720 - val_acc: 0.3920 - val_kullback_leibler_divergence: 0.0720\n",
            "Epoch 160/200\n",
            "8/8 [==============================] - 0s 7ms/step - loss: 0.0733 - acc: 0.3736 - kullback_leibler_divergence: 0.0733 - val_loss: 0.0726 - val_acc: 0.3920 - val_kullback_leibler_divergence: 0.0726\n",
            "Epoch 161/200\n",
            "8/8 [==============================] - 0s 7ms/step - loss: 0.0715 - acc: 0.3789 - kullback_leibler_divergence: 0.0715 - val_loss: 0.0720 - val_acc: 0.3580 - val_kullback_leibler_divergence: 0.0720\n",
            "Epoch 162/200\n",
            "8/8 [==============================] - 0s 7ms/step - loss: 0.0736 - acc: 0.3846 - kullback_leibler_divergence: 0.0736 - val_loss: 0.0723 - val_acc: 0.3940 - val_kullback_leibler_divergence: 0.0723\n",
            "Epoch 163/200\n",
            "8/8 [==============================] - 0s 7ms/step - loss: 0.0718 - acc: 0.3924 - kullback_leibler_divergence: 0.0718 - val_loss: 0.0714 - val_acc: 0.3980 - val_kullback_leibler_divergence: 0.0714\n",
            "Epoch 164/200\n",
            "8/8 [==============================] - 0s 7ms/step - loss: 0.0720 - acc: 0.3817 - kullback_leibler_divergence: 0.0720 - val_loss: 0.0716 - val_acc: 0.3960 - val_kullback_leibler_divergence: 0.0716\n",
            "Epoch 165/200\n",
            "8/8 [==============================] - 0s 7ms/step - loss: 0.0707 - acc: 0.3998 - kullback_leibler_divergence: 0.0707 - val_loss: 0.0713 - val_acc: 0.3900 - val_kullback_leibler_divergence: 0.0713\n",
            "Epoch 166/200\n",
            "8/8 [==============================] - 0s 7ms/step - loss: 0.0721 - acc: 0.3865 - kullback_leibler_divergence: 0.0721 - val_loss: 0.0729 - val_acc: 0.3680 - val_kullback_leibler_divergence: 0.0729\n",
            "Epoch 167/200\n",
            "8/8 [==============================] - 0s 7ms/step - loss: 0.0745 - acc: 0.3799 - kullback_leibler_divergence: 0.0745 - val_loss: 0.0715 - val_acc: 0.3980 - val_kullback_leibler_divergence: 0.0715\n",
            "Epoch 168/200\n",
            "8/8 [==============================] - 0s 8ms/step - loss: 0.0710 - acc: 0.3847 - kullback_leibler_divergence: 0.0710 - val_loss: 0.0719 - val_acc: 0.3560 - val_kullback_leibler_divergence: 0.0719\n",
            "Epoch 169/200\n",
            "8/8 [==============================] - 0s 7ms/step - loss: 0.0735 - acc: 0.3656 - kullback_leibler_divergence: 0.0735 - val_loss: 0.0727 - val_acc: 0.3820 - val_kullback_leibler_divergence: 0.0727\n",
            "Epoch 170/200\n",
            "8/8 [==============================] - 0s 7ms/step - loss: 0.0727 - acc: 0.3767 - kullback_leibler_divergence: 0.0727 - val_loss: 0.0715 - val_acc: 0.3920 - val_kullback_leibler_divergence: 0.0715\n",
            "Epoch 171/200\n",
            "8/8 [==============================] - 0s 7ms/step - loss: 0.0697 - acc: 0.3895 - kullback_leibler_divergence: 0.0697 - val_loss: 0.0716 - val_acc: 0.3780 - val_kullback_leibler_divergence: 0.0716\n",
            "Epoch 172/200\n",
            "8/8 [==============================] - 0s 8ms/step - loss: 0.0716 - acc: 0.3901 - kullback_leibler_divergence: 0.0716 - val_loss: 0.0760 - val_acc: 0.3360 - val_kullback_leibler_divergence: 0.0760\n",
            "Epoch 173/200\n",
            "8/8 [==============================] - 0s 7ms/step - loss: 0.0747 - acc: 0.3660 - kullback_leibler_divergence: 0.0747 - val_loss: 0.0721 - val_acc: 0.3980 - val_kullback_leibler_divergence: 0.0721\n",
            "Epoch 174/200\n",
            "8/8 [==============================] - 0s 7ms/step - loss: 0.0734 - acc: 0.3788 - kullback_leibler_divergence: 0.0734 - val_loss: 0.0716 - val_acc: 0.3880 - val_kullback_leibler_divergence: 0.0716\n",
            "Epoch 175/200\n",
            "8/8 [==============================] - 0s 9ms/step - loss: 0.0738 - acc: 0.3800 - kullback_leibler_divergence: 0.0738 - val_loss: 0.0710 - val_acc: 0.4040 - val_kullback_leibler_divergence: 0.0710\n",
            "Epoch 176/200\n",
            "8/8 [==============================] - 0s 7ms/step - loss: 0.0741 - acc: 0.3911 - kullback_leibler_divergence: 0.0741 - val_loss: 0.0716 - val_acc: 0.3400 - val_kullback_leibler_divergence: 0.0716\n",
            "Epoch 177/200\n",
            "8/8 [==============================] - 0s 7ms/step - loss: 0.0722 - acc: 0.3656 - kullback_leibler_divergence: 0.0722 - val_loss: 0.0711 - val_acc: 0.3920 - val_kullback_leibler_divergence: 0.0711\n",
            "Epoch 178/200\n",
            "8/8 [==============================] - 0s 8ms/step - loss: 0.0731 - acc: 0.3873 - kullback_leibler_divergence: 0.0731 - val_loss: 0.0711 - val_acc: 0.3980 - val_kullback_leibler_divergence: 0.0711\n",
            "Epoch 179/200\n",
            "8/8 [==============================] - 0s 8ms/step - loss: 0.0716 - acc: 0.3919 - kullback_leibler_divergence: 0.0716 - val_loss: 0.0714 - val_acc: 0.3800 - val_kullback_leibler_divergence: 0.0714\n",
            "Epoch 180/200\n",
            "8/8 [==============================] - 0s 8ms/step - loss: 0.0713 - acc: 0.3720 - kullback_leibler_divergence: 0.0713 - val_loss: 0.0717 - val_acc: 0.3820 - val_kullback_leibler_divergence: 0.0717\n",
            "Epoch 181/200\n",
            "8/8 [==============================] - 0s 8ms/step - loss: 0.0718 - acc: 0.3885 - kullback_leibler_divergence: 0.0718 - val_loss: 0.0731 - val_acc: 0.3660 - val_kullback_leibler_divergence: 0.0731\n",
            "Epoch 182/200\n",
            "8/8 [==============================] - 0s 7ms/step - loss: 0.0732 - acc: 0.3740 - kullback_leibler_divergence: 0.0732 - val_loss: 0.0708 - val_acc: 0.4000 - val_kullback_leibler_divergence: 0.0708\n",
            "Epoch 183/200\n",
            "8/8 [==============================] - 0s 8ms/step - loss: 0.0719 - acc: 0.3950 - kullback_leibler_divergence: 0.0719 - val_loss: 0.0723 - val_acc: 0.3900 - val_kullback_leibler_divergence: 0.0723\n",
            "Epoch 184/200\n",
            "8/8 [==============================] - 0s 8ms/step - loss: 0.0712 - acc: 0.3904 - kullback_leibler_divergence: 0.0712 - val_loss: 0.0711 - val_acc: 0.4020 - val_kullback_leibler_divergence: 0.0711\n",
            "Epoch 185/200\n",
            "8/8 [==============================] - 0s 7ms/step - loss: 0.0725 - acc: 0.3860 - kullback_leibler_divergence: 0.0725 - val_loss: 0.0709 - val_acc: 0.3940 - val_kullback_leibler_divergence: 0.0709\n",
            "Epoch 186/200\n",
            "8/8 [==============================] - 0s 7ms/step - loss: 0.0711 - acc: 0.3938 - kullback_leibler_divergence: 0.0711 - val_loss: 0.0709 - val_acc: 0.3660 - val_kullback_leibler_divergence: 0.0709\n",
            "Epoch 187/200\n",
            "8/8 [==============================] - 0s 8ms/step - loss: 0.0719 - acc: 0.3757 - kullback_leibler_divergence: 0.0719 - val_loss: 0.0708 - val_acc: 0.3940 - val_kullback_leibler_divergence: 0.0708\n",
            "Epoch 188/200\n",
            "8/8 [==============================] - 0s 7ms/step - loss: 0.0703 - acc: 0.3991 - kullback_leibler_divergence: 0.0703 - val_loss: 0.0706 - val_acc: 0.3840 - val_kullback_leibler_divergence: 0.0706\n",
            "Epoch 189/200\n",
            "8/8 [==============================] - 0s 7ms/step - loss: 0.0716 - acc: 0.3604 - kullback_leibler_divergence: 0.0716 - val_loss: 0.0753 - val_acc: 0.3580 - val_kullback_leibler_divergence: 0.0753\n",
            "Epoch 190/200\n",
            "8/8 [==============================] - 0s 8ms/step - loss: 0.0733 - acc: 0.3737 - kullback_leibler_divergence: 0.0733 - val_loss: 0.0718 - val_acc: 0.3880 - val_kullback_leibler_divergence: 0.0718\n",
            "Epoch 191/200\n",
            "8/8 [==============================] - 0s 7ms/step - loss: 0.0726 - acc: 0.3855 - kullback_leibler_divergence: 0.0726 - val_loss: 0.0724 - val_acc: 0.3540 - val_kullback_leibler_divergence: 0.0724\n",
            "Epoch 192/200\n",
            "8/8 [==============================] - 0s 7ms/step - loss: 0.0719 - acc: 0.3676 - kullback_leibler_divergence: 0.0719 - val_loss: 0.0705 - val_acc: 0.3940 - val_kullback_leibler_divergence: 0.0705\n",
            "Epoch 193/200\n",
            "8/8 [==============================] - 0s 7ms/step - loss: 0.0721 - acc: 0.3905 - kullback_leibler_divergence: 0.0721 - val_loss: 0.0710 - val_acc: 0.3800 - val_kullback_leibler_divergence: 0.0710\n",
            "Epoch 194/200\n",
            "8/8 [==============================] - 0s 8ms/step - loss: 0.0719 - acc: 0.3817 - kullback_leibler_divergence: 0.0719 - val_loss: 0.0714 - val_acc: 0.3900 - val_kullback_leibler_divergence: 0.0714\n",
            "Epoch 195/200\n",
            "8/8 [==============================] - 0s 7ms/step - loss: 0.0707 - acc: 0.3832 - kullback_leibler_divergence: 0.0707 - val_loss: 0.0715 - val_acc: 0.3800 - val_kullback_leibler_divergence: 0.0715\n",
            "Epoch 196/200\n",
            "8/8 [==============================] - 0s 7ms/step - loss: 0.0727 - acc: 0.3770 - kullback_leibler_divergence: 0.0727 - val_loss: 0.0707 - val_acc: 0.4100 - val_kullback_leibler_divergence: 0.0707\n",
            "Epoch 197/200\n",
            "8/8 [==============================] - 0s 7ms/step - loss: 0.0726 - acc: 0.3981 - kullback_leibler_divergence: 0.0726 - val_loss: 0.0712 - val_acc: 0.3800 - val_kullback_leibler_divergence: 0.0712\n",
            "Epoch 198/200\n",
            "8/8 [==============================] - 0s 8ms/step - loss: 0.0724 - acc: 0.3794 - kullback_leibler_divergence: 0.0724 - val_loss: 0.0713 - val_acc: 0.3840 - val_kullback_leibler_divergence: 0.0713\n",
            "Epoch 199/200\n",
            "8/8 [==============================] - 0s 7ms/step - loss: 0.0725 - acc: 0.3800 - kullback_leibler_divergence: 0.0725 - val_loss: 0.0717 - val_acc: 0.3880 - val_kullback_leibler_divergence: 0.0717\n",
            "Epoch 200/200\n",
            "8/8 [==============================] - 0s 7ms/step - loss: 0.0727 - acc: 0.3803 - kullback_leibler_divergence: 0.0727 - val_loss: 0.0703 - val_acc: 0.3920 - val_kullback_leibler_divergence: 0.0703\n"
          ],
          "name": "stdout"
        }
      ]
    },
    {
      "cell_type": "code",
      "metadata": {
        "colab": {
          "base_uri": "https://localhost:8080/"
        },
        "id": "uYn9ScaG0g6M",
        "outputId": "32a6ed52-f489-4069-bce8-858eaae8597b"
      },
      "source": [
        "y_pred_baseline = model_baseline_final.predict(X_test)\n",
        "eval_baseline_sll = clf_eval(y_sl_test,get_single_label(y_pred_baseline),y_pred_baseline)\n",
        "eval_baseline_mll = clf_eval(y_ml_test,get_multi_label(y_pred_baseline),y_pred_baseline)\n",
        "eval_baseline = ldl_eval(y_test,y_pred_baseline)"
      ],
      "execution_count": null,
      "outputs": [
        {
          "output_type": "stream",
          "text": [
            "acc: 0.388\n",
            "f1 score(micro): 0.39960629921259844\n",
            "precision score(micro): 0.406\n",
            "recall score(micro): 0.39341085271317827\n",
            "AUC score(micro): 0.636922817660937\n",
            "hamming loss: 0.20333333333333334\n",
            "label ranking loss: 0.2928\n",
            "confusion matrix: [[[283 101]\n",
            "  [ 51  65]]\n",
            "\n",
            " [[418   0]\n",
            "  [ 82   0]]\n",
            "\n",
            " [[207 142]\n",
            "  [ 59  92]]\n",
            "\n",
            " [[447   0]\n",
            "  [ 53   0]]\n",
            "\n",
            " [[475   0]\n",
            "  [ 25   0]]\n",
            "\n",
            " [[357  54]\n",
            "  [ 43  46]]]\n",
            "acc: 0.07\n",
            "f1 score(micro): 0.4349775784753363\n",
            "precision score(micro): 0.39551478083588176\n",
            "recall score(micro): 0.48318804483188044\n",
            "AUC score(micro): 0.6066372631988259\n",
            "hamming loss: 0.336\n",
            "label ranking loss: 0.30896111111111113\n",
            "confusion matrix: [[[ 87 277]\n",
            "  [ 10 126]]\n",
            "\n",
            " [[324  14]\n",
            "  [147  15]]\n",
            "\n",
            " [[ 72 218]\n",
            "  [ 25 185]]\n",
            "\n",
            " [[369   1]\n",
            "  [129   1]]\n",
            "\n",
            " [[435   8]\n",
            "  [ 55   2]]\n",
            "\n",
            " [[317  75]\n",
            "  [ 49  59]]]\n",
            "Kullback–Leibler divergence:  0.07031856124670693\n",
            "Euclidean distance:  0.15271856057490102\n",
            "MSE:  0.004760165856459085\n",
            "Chebyshev distance:  0.12354125316248106\n",
            "Clark distance:  0.3811317111167079\n",
            "Canberra distance:  0.8183049335778682\n",
            "Cosine similarity:  0.9311610319904229\n",
            "Intersection similarity:  0.8531860243543377\n",
            "Kurtosis_signed_offset:  -0.6288520563510083\n",
            "Kurtosis_abs_offset:  1.1264648478343997\n",
            "Laloss:  0.877658452092704\n"
          ],
          "name": "stdout"
        }
      ]
    },
    {
      "cell_type": "code",
      "metadata": {
        "id": "aeVCM9prt06p",
        "colab": {
          "base_uri": "https://localhost:8080/"
        },
        "outputId": "bdd5c107-71fa-4ec4-9d7f-10c11844dfc8"
      },
      "source": [
        "model_final = model_baseline_final\n",
        "model_final.compile(optimizer=keras.optimizers.RMSprop(learning_rate=0.0001),loss= label_ambiguity_loss, metrics=['acc','kullback_leibler_divergence'])\n",
        "history_final = model_final.fit(X_train,y_train,batch_size=256,epochs=50,validation_data=(X_test,y_test),verbose=1)"
      ],
      "execution_count": null,
      "outputs": [
        {
          "output_type": "stream",
          "text": [
            "Epoch 1/50\n",
            "8/8 [==============================] - 1s 32ms/step - loss: 0.0806 - acc: 0.3863 - kullback_leibler_divergence: 0.0732 - val_loss: 0.0765 - val_acc: 0.3940 - val_kullback_leibler_divergence: 0.0709\n",
            "Epoch 2/50\n",
            "8/8 [==============================] - 0s 8ms/step - loss: 0.0752 - acc: 0.3961 - kullback_leibler_divergence: 0.0714 - val_loss: 0.0750 - val_acc: 0.3920 - val_kullback_leibler_divergence: 0.0708\n",
            "Epoch 3/50\n",
            "8/8 [==============================] - 0s 7ms/step - loss: 0.0768 - acc: 0.3803 - kullback_leibler_divergence: 0.0724 - val_loss: 0.0752 - val_acc: 0.3980 - val_kullback_leibler_divergence: 0.0710\n",
            "Epoch 4/50\n",
            "8/8 [==============================] - 0s 8ms/step - loss: 0.0720 - acc: 0.3809 - kullback_leibler_divergence: 0.0710 - val_loss: 0.0751 - val_acc: 0.3860 - val_kullback_leibler_divergence: 0.0712\n",
            "Epoch 5/50\n",
            "8/8 [==============================] - 0s 7ms/step - loss: 0.0745 - acc: 0.3837 - kullback_leibler_divergence: 0.0731 - val_loss: 0.0753 - val_acc: 0.3820 - val_kullback_leibler_divergence: 0.0719\n",
            "Epoch 6/50\n",
            "8/8 [==============================] - 0s 7ms/step - loss: 0.0742 - acc: 0.3647 - kullback_leibler_divergence: 0.0721 - val_loss: 0.0752 - val_acc: 0.3760 - val_kullback_leibler_divergence: 0.0721\n",
            "Epoch 7/50\n",
            "8/8 [==============================] - 0s 7ms/step - loss: 0.0704 - acc: 0.3788 - kullback_leibler_divergence: 0.0713 - val_loss: 0.0750 - val_acc: 0.3760 - val_kullback_leibler_divergence: 0.0722\n",
            "Epoch 8/50\n",
            "8/8 [==============================] - 0s 7ms/step - loss: 0.0734 - acc: 0.3713 - kullback_leibler_divergence: 0.0732 - val_loss: 0.0752 - val_acc: 0.3640 - val_kullback_leibler_divergence: 0.0726\n",
            "Epoch 9/50\n",
            "8/8 [==============================] - 0s 8ms/step - loss: 0.0717 - acc: 0.3881 - kullback_leibler_divergence: 0.0737 - val_loss: 0.0750 - val_acc: 0.3540 - val_kullback_leibler_divergence: 0.0732\n",
            "Epoch 10/50\n",
            "8/8 [==============================] - 0s 25ms/step - loss: 0.0705 - acc: 0.3643 - kullback_leibler_divergence: 0.0743 - val_loss: 0.0749 - val_acc: 0.3520 - val_kullback_leibler_divergence: 0.0731\n",
            "Epoch 11/50\n",
            "8/8 [==============================] - 0s 7ms/step - loss: 0.0724 - acc: 0.3885 - kullback_leibler_divergence: 0.0740 - val_loss: 0.0747 - val_acc: 0.3440 - val_kullback_leibler_divergence: 0.0735\n",
            "Epoch 12/50\n",
            "8/8 [==============================] - 0s 8ms/step - loss: 0.0696 - acc: 0.3798 - kullback_leibler_divergence: 0.0731 - val_loss: 0.0744 - val_acc: 0.3540 - val_kullback_leibler_divergence: 0.0736\n",
            "Epoch 13/50\n",
            "8/8 [==============================] - 0s 8ms/step - loss: 0.0679 - acc: 0.3732 - kullback_leibler_divergence: 0.0723 - val_loss: 0.0738 - val_acc: 0.3580 - val_kullback_leibler_divergence: 0.0730\n",
            "Epoch 14/50\n",
            "8/8 [==============================] - 0s 8ms/step - loss: 0.0734 - acc: 0.3756 - kullback_leibler_divergence: 0.0752 - val_loss: 0.0725 - val_acc: 0.3560 - val_kullback_leibler_divergence: 0.0729\n",
            "Epoch 15/50\n",
            "8/8 [==============================] - 0s 8ms/step - loss: 0.0720 - acc: 0.3721 - kullback_leibler_divergence: 0.0726 - val_loss: 0.0725 - val_acc: 0.3580 - val_kullback_leibler_divergence: 0.0729\n",
            "Epoch 16/50\n",
            "8/8 [==============================] - 0s 8ms/step - loss: 0.0725 - acc: 0.3784 - kullback_leibler_divergence: 0.0739 - val_loss: 0.0729 - val_acc: 0.3540 - val_kullback_leibler_divergence: 0.0733\n",
            "Epoch 17/50\n",
            "8/8 [==============================] - 0s 7ms/step - loss: 0.0702 - acc: 0.3757 - kullback_leibler_divergence: 0.0716 - val_loss: 0.0727 - val_acc: 0.3520 - val_kullback_leibler_divergence: 0.0736\n",
            "Epoch 18/50\n",
            "8/8 [==============================] - 0s 8ms/step - loss: 0.0732 - acc: 0.3745 - kullback_leibler_divergence: 0.0756 - val_loss: 0.0728 - val_acc: 0.3480 - val_kullback_leibler_divergence: 0.0739\n",
            "Epoch 19/50\n",
            "8/8 [==============================] - 0s 8ms/step - loss: 0.0687 - acc: 0.3781 - kullback_leibler_divergence: 0.0731 - val_loss: 0.0733 - val_acc: 0.3480 - val_kullback_leibler_divergence: 0.0736\n",
            "Epoch 20/50\n",
            "8/8 [==============================] - 0s 8ms/step - loss: 0.0735 - acc: 0.3725 - kullback_leibler_divergence: 0.0753 - val_loss: 0.0730 - val_acc: 0.3560 - val_kullback_leibler_divergence: 0.0739\n",
            "Epoch 21/50\n",
            "8/8 [==============================] - 0s 7ms/step - loss: 0.0706 - acc: 0.3768 - kullback_leibler_divergence: 0.0746 - val_loss: 0.0727 - val_acc: 0.3600 - val_kullback_leibler_divergence: 0.0731\n",
            "Epoch 22/50\n",
            "8/8 [==============================] - 0s 7ms/step - loss: 0.0695 - acc: 0.3924 - kullback_leibler_divergence: 0.0730 - val_loss: 0.0721 - val_acc: 0.3500 - val_kullback_leibler_divergence: 0.0734\n",
            "Epoch 23/50\n",
            "8/8 [==============================] - 0s 9ms/step - loss: 0.0682 - acc: 0.3890 - kullback_leibler_divergence: 0.0719 - val_loss: 0.0723 - val_acc: 0.3540 - val_kullback_leibler_divergence: 0.0735\n",
            "Epoch 24/50\n",
            "8/8 [==============================] - 0s 8ms/step - loss: 0.0682 - acc: 0.3970 - kullback_leibler_divergence: 0.0731 - val_loss: 0.0722 - val_acc: 0.3500 - val_kullback_leibler_divergence: 0.0734\n",
            "Epoch 25/50\n",
            "8/8 [==============================] - 0s 7ms/step - loss: 0.0727 - acc: 0.3757 - kullback_leibler_divergence: 0.0757 - val_loss: 0.0727 - val_acc: 0.3480 - val_kullback_leibler_divergence: 0.0736\n",
            "Epoch 26/50\n",
            "8/8 [==============================] - 0s 7ms/step - loss: 0.0702 - acc: 0.3830 - kullback_leibler_divergence: 0.0732 - val_loss: 0.0725 - val_acc: 0.3460 - val_kullback_leibler_divergence: 0.0738\n",
            "Epoch 27/50\n",
            "8/8 [==============================] - 0s 7ms/step - loss: 0.0690 - acc: 0.3728 - kullback_leibler_divergence: 0.0735 - val_loss: 0.0726 - val_acc: 0.3440 - val_kullback_leibler_divergence: 0.0741\n",
            "Epoch 28/50\n",
            "8/8 [==============================] - 0s 7ms/step - loss: 0.0696 - acc: 0.3762 - kullback_leibler_divergence: 0.0743 - val_loss: 0.0725 - val_acc: 0.3460 - val_kullback_leibler_divergence: 0.0737\n",
            "Epoch 29/50\n",
            "8/8 [==============================] - 0s 8ms/step - loss: 0.0715 - acc: 0.3849 - kullback_leibler_divergence: 0.0749 - val_loss: 0.0721 - val_acc: 0.3480 - val_kullback_leibler_divergence: 0.0736\n",
            "Epoch 30/50\n",
            "8/8 [==============================] - 0s 9ms/step - loss: 0.0687 - acc: 0.3715 - kullback_leibler_divergence: 0.0737 - val_loss: 0.0724 - val_acc: 0.3500 - val_kullback_leibler_divergence: 0.0736\n",
            "Epoch 31/50\n",
            "8/8 [==============================] - 0s 9ms/step - loss: 0.0689 - acc: 0.3675 - kullback_leibler_divergence: 0.0740 - val_loss: 0.0719 - val_acc: 0.3540 - val_kullback_leibler_divergence: 0.0735\n",
            "Epoch 32/50\n",
            "8/8 [==============================] - 0s 8ms/step - loss: 0.0709 - acc: 0.3741 - kullback_leibler_divergence: 0.0739 - val_loss: 0.0721 - val_acc: 0.3560 - val_kullback_leibler_divergence: 0.0736\n",
            "Epoch 33/50\n",
            "8/8 [==============================] - 0s 7ms/step - loss: 0.0710 - acc: 0.3794 - kullback_leibler_divergence: 0.0751 - val_loss: 0.0723 - val_acc: 0.3460 - val_kullback_leibler_divergence: 0.0738\n",
            "Epoch 34/50\n",
            "8/8 [==============================] - 0s 7ms/step - loss: 0.0700 - acc: 0.3660 - kullback_leibler_divergence: 0.0735 - val_loss: 0.0722 - val_acc: 0.3520 - val_kullback_leibler_divergence: 0.0743\n",
            "Epoch 35/50\n",
            "8/8 [==============================] - 0s 7ms/step - loss: 0.0690 - acc: 0.3683 - kullback_leibler_divergence: 0.0735 - val_loss: 0.0719 - val_acc: 0.3520 - val_kullback_leibler_divergence: 0.0738\n",
            "Epoch 36/50\n",
            "8/8 [==============================] - 0s 7ms/step - loss: 0.0709 - acc: 0.3608 - kullback_leibler_divergence: 0.0751 - val_loss: 0.0719 - val_acc: 0.3520 - val_kullback_leibler_divergence: 0.0741\n",
            "Epoch 37/50\n",
            "8/8 [==============================] - 0s 8ms/step - loss: 0.0685 - acc: 0.3732 - kullback_leibler_divergence: 0.0732 - val_loss: 0.0714 - val_acc: 0.3580 - val_kullback_leibler_divergence: 0.0739\n",
            "Epoch 38/50\n",
            "8/8 [==============================] - 0s 7ms/step - loss: 0.0702 - acc: 0.3780 - kullback_leibler_divergence: 0.0746 - val_loss: 0.0713 - val_acc: 0.3680 - val_kullback_leibler_divergence: 0.0739\n",
            "Epoch 39/50\n",
            "8/8 [==============================] - 0s 7ms/step - loss: 0.0692 - acc: 0.3705 - kullback_leibler_divergence: 0.0740 - val_loss: 0.0710 - val_acc: 0.3740 - val_kullback_leibler_divergence: 0.0735\n",
            "Epoch 40/50\n",
            "8/8 [==============================] - 0s 8ms/step - loss: 0.0656 - acc: 0.3914 - kullback_leibler_divergence: 0.0713 - val_loss: 0.0713 - val_acc: 0.3640 - val_kullback_leibler_divergence: 0.0734\n",
            "Epoch 41/50\n",
            "8/8 [==============================] - 0s 7ms/step - loss: 0.0708 - acc: 0.3925 - kullback_leibler_divergence: 0.0749 - val_loss: 0.0707 - val_acc: 0.3760 - val_kullback_leibler_divergence: 0.0734\n",
            "Epoch 42/50\n",
            "8/8 [==============================] - 0s 7ms/step - loss: 0.0680 - acc: 0.3870 - kullback_leibler_divergence: 0.0730 - val_loss: 0.0710 - val_acc: 0.3700 - val_kullback_leibler_divergence: 0.0737\n",
            "Epoch 43/50\n",
            "8/8 [==============================] - 0s 7ms/step - loss: 0.0707 - acc: 0.3775 - kullback_leibler_divergence: 0.0745 - val_loss: 0.0706 - val_acc: 0.3800 - val_kullback_leibler_divergence: 0.0731\n",
            "Epoch 44/50\n",
            "8/8 [==============================] - 0s 8ms/step - loss: 0.0670 - acc: 0.3927 - kullback_leibler_divergence: 0.0728 - val_loss: 0.0706 - val_acc: 0.3760 - val_kullback_leibler_divergence: 0.0732\n",
            "Epoch 45/50\n",
            "8/8 [==============================] - 0s 8ms/step - loss: 0.0698 - acc: 0.3763 - kullback_leibler_divergence: 0.0753 - val_loss: 0.0707 - val_acc: 0.3760 - val_kullback_leibler_divergence: 0.0732\n",
            "Epoch 46/50\n",
            "8/8 [==============================] - 0s 7ms/step - loss: 0.0686 - acc: 0.3710 - kullback_leibler_divergence: 0.0740 - val_loss: 0.0709 - val_acc: 0.3760 - val_kullback_leibler_divergence: 0.0736\n",
            "Epoch 47/50\n",
            "8/8 [==============================] - 0s 9ms/step - loss: 0.0693 - acc: 0.3647 - kullback_leibler_divergence: 0.0742 - val_loss: 0.0712 - val_acc: 0.3660 - val_kullback_leibler_divergence: 0.0738\n",
            "Epoch 48/50\n",
            "8/8 [==============================] - 0s 8ms/step - loss: 0.0721 - acc: 0.3729 - kullback_leibler_divergence: 0.0766 - val_loss: 0.0714 - val_acc: 0.3560 - val_kullback_leibler_divergence: 0.0739\n",
            "Epoch 49/50\n",
            "8/8 [==============================] - 0s 8ms/step - loss: 0.0662 - acc: 0.3850 - kullback_leibler_divergence: 0.0713 - val_loss: 0.0709 - val_acc: 0.3740 - val_kullback_leibler_divergence: 0.0734\n",
            "Epoch 50/50\n",
            "8/8 [==============================] - 0s 8ms/step - loss: 0.0681 - acc: 0.3771 - kullback_leibler_divergence: 0.0720 - val_loss: 0.0704 - val_acc: 0.3820 - val_kullback_leibler_divergence: 0.0731\n"
          ],
          "name": "stdout"
        }
      ]
    },
    {
      "cell_type": "code",
      "metadata": {
        "colab": {
          "base_uri": "https://localhost:8080/"
        },
        "id": "2VzPv8US0de_",
        "outputId": "406b7d4f-e6af-4fd9-fad1-e7cbfa0abdc4"
      },
      "source": [
        "y_pred = model_final.predict(X_test)\n",
        "eval_sll = clf_eval(y_sl_test,get_single_label(y_pred),y_pred)\n",
        "eval_mll = clf_eval(y_ml_test,get_multi_label(y_pred),y_pred)\n",
        "eval = ldl_eval(y_test,y_pred)"
      ],
      "execution_count": null,
      "outputs": [
        {
          "output_type": "stream",
          "text": [
            "acc: 0.378\n",
            "f1 score(micro): 0.3937007874015748\n",
            "precision score(micro): 0.4\n",
            "recall score(micro): 0.3875968992248062\n",
            "AUC score(micro): 0.6334119761824515\n",
            "hamming loss: 0.20533333333333334\n",
            "label ranking loss: 0.32820000000000005\n",
            "confusion matrix: [[[366  18]\n",
            "  [ 90  26]]\n",
            "\n",
            " [[418   0]\n",
            "  [ 82   0]]\n",
            "\n",
            " [[142 207]\n",
            "  [ 31 120]]\n",
            "\n",
            " [[447   0]\n",
            "  [ 53   0]]\n",
            "\n",
            " [[475   0]\n",
            "  [ 25   0]]\n",
            "\n",
            " [[336  75]\n",
            "  [ 35  54]]]\n",
            "acc: 0.11\n",
            "f1 score(micro): 0.44332210998877664\n",
            "precision score(micro): 0.4034729315628192\n",
            "recall score(micro): 0.4919053549190536\n",
            "AUC score(micro): 0.6130441658527903\n",
            "hamming loss: 0.33066666666666666\n",
            "label ranking loss: 0.3286055555555556\n",
            "confusion matrix: [[[294  70]\n",
            "  [ 75  61]]\n",
            "\n",
            " [[316  22]\n",
            "  [139  23]]\n",
            "\n",
            " [[ 79 211]\n",
            "  [ 29 181]]\n",
            "\n",
            " [[247 123]\n",
            "  [ 65  65]]\n",
            "\n",
            " [[377  66]\n",
            "  [ 53   4]]\n",
            "\n",
            " [[300  92]\n",
            "  [ 47  61]]]\n",
            "Kullback–Leibler divergence:  0.07312496478522547\n",
            "Euclidean distance:  0.15293117601968456\n",
            "MSE:  0.004929100720677145\n",
            "Chebyshev distance:  0.12519112990550932\n",
            "Clark distance:  0.3788563824672573\n",
            "Canberra distance:  0.8219818198764313\n",
            "Cosine similarity:  0.9288942473491081\n",
            "Intersection similarity:  0.852513090432815\n",
            "Kurtosis_signed_offset:  -0.09315283974677543\n",
            "Kurtosis_abs_offset:  0.9622838342911059\n",
            "Laloss:  0.5277183370189406\n"
          ],
          "name": "stdout"
        }
      ]
    },
    {
      "cell_type": "code",
      "metadata": {
        "colab": {
          "base_uri": "https://localhost:8080/",
          "height": 622
        },
        "id": "scV9w0OcuKPS",
        "outputId": "839379f1-8d69-4def-c209-41b889a7dcff"
      },
      "source": [
        "def smooth_curve(points,factor=0.9):\n",
        "  smoothed_points=[]\n",
        "  for point in points:\n",
        "    if smoothed_points:\n",
        "      previous = smoothed_points[-1]\n",
        "      smoothed_points.append(previous*factor + point*(1-factor))\n",
        "    else:\n",
        "      smoothed_points.append(point)\n",
        "  return smoothed_points\n",
        "\n",
        "plt.clf()\n",
        "kullback_leibler_divergence = history_final.history['kullback_leibler_divergence']\n",
        "val_kullback_leibler_divergence = history_final.history['val_kullback_leibler_divergence']\n",
        "kullback_leibler_divergence_baseline = history_baseline_final.history['kullback_leibler_divergence']\n",
        "val_kullback_leibler_divergence_baseline = history_baseline_final.history['val_kullback_leibler_divergence']\n",
        "\n",
        "smooth_kl_history = smooth_curve(kullback_leibler_divergence)\n",
        "smooth_val_kl_history = smooth_curve(val_kullback_leibler_divergence)\n",
        "smooth_kl_history_baseline = smooth_curve(kullback_leibler_divergence_baseline)\n",
        "smooth_val_kl_history_baseline = smooth_curve(val_kullback_leibler_divergence_baseline)\n",
        "epochs = range(1,len(kullback_leibler_divergence)+1)\n",
        "\n",
        "plt.plot(epochs[10:],smooth_kl_history[10:],'ro',label='Training kullback_leibler_divergence')\n",
        "plt.plot(epochs[10:],smooth_val_kl_history[10:],'r',label='Validation kullback_leibler_divergence')\n",
        "plt.plot(epochs[10:],smooth_kl_history_baseline[10:],'bo',label='Training kullback_leibler_divergence baseline')\n",
        "plt.plot(epochs[10:],smooth_val_kl_history_baseline[10:],'b',label='Validation kullback_leibler_divergence baseline')\n",
        "plt.title('Training and validation smoothed kullback_leibler_divergence')\n",
        "plt.xlabel('Epochs')\n",
        "plt.ylabel('Kullback_leibler_divergence')\n",
        "plt.legend()\n",
        "\n",
        "plt.show()"
      ],
      "execution_count": null,
      "outputs": [
        {
          "output_type": "error",
          "ename": "ValueError",
          "evalue": "ignored",
          "traceback": [
            "\u001b[0;31m---------------------------------------------------------------------------\u001b[0m",
            "\u001b[0;31mValueError\u001b[0m                                Traceback (most recent call last)",
            "\u001b[0;32m<ipython-input-121-3312b0a78c04>\u001b[0m in \u001b[0;36m<module>\u001b[0;34m()\u001b[0m\n\u001b[1;32m     23\u001b[0m \u001b[0mplt\u001b[0m\u001b[0;34m.\u001b[0m\u001b[0mplot\u001b[0m\u001b[0;34m(\u001b[0m\u001b[0mepochs\u001b[0m\u001b[0;34m[\u001b[0m\u001b[0;36m10\u001b[0m\u001b[0;34m:\u001b[0m\u001b[0;34m]\u001b[0m\u001b[0;34m,\u001b[0m\u001b[0msmooth_kl_history\u001b[0m\u001b[0;34m[\u001b[0m\u001b[0;36m10\u001b[0m\u001b[0;34m:\u001b[0m\u001b[0;34m]\u001b[0m\u001b[0;34m,\u001b[0m\u001b[0;34m'ro'\u001b[0m\u001b[0;34m,\u001b[0m\u001b[0mlabel\u001b[0m\u001b[0;34m=\u001b[0m\u001b[0;34m'Training kullback_leibler_divergence'\u001b[0m\u001b[0;34m)\u001b[0m\u001b[0;34m\u001b[0m\u001b[0;34m\u001b[0m\u001b[0m\n\u001b[1;32m     24\u001b[0m \u001b[0mplt\u001b[0m\u001b[0;34m.\u001b[0m\u001b[0mplot\u001b[0m\u001b[0;34m(\u001b[0m\u001b[0mepochs\u001b[0m\u001b[0;34m[\u001b[0m\u001b[0;36m10\u001b[0m\u001b[0;34m:\u001b[0m\u001b[0;34m]\u001b[0m\u001b[0;34m,\u001b[0m\u001b[0msmooth_val_kl_history\u001b[0m\u001b[0;34m[\u001b[0m\u001b[0;36m10\u001b[0m\u001b[0;34m:\u001b[0m\u001b[0;34m]\u001b[0m\u001b[0;34m,\u001b[0m\u001b[0;34m'r'\u001b[0m\u001b[0;34m,\u001b[0m\u001b[0mlabel\u001b[0m\u001b[0;34m=\u001b[0m\u001b[0;34m'Validation kullback_leibler_divergence'\u001b[0m\u001b[0;34m)\u001b[0m\u001b[0;34m\u001b[0m\u001b[0;34m\u001b[0m\u001b[0m\n\u001b[0;32m---> 25\u001b[0;31m \u001b[0mplt\u001b[0m\u001b[0;34m.\u001b[0m\u001b[0mplot\u001b[0m\u001b[0;34m(\u001b[0m\u001b[0mepochs\u001b[0m\u001b[0;34m[\u001b[0m\u001b[0;36m10\u001b[0m\u001b[0;34m:\u001b[0m\u001b[0;34m]\u001b[0m\u001b[0;34m,\u001b[0m\u001b[0msmooth_kl_history_baseline\u001b[0m\u001b[0;34m[\u001b[0m\u001b[0;36m10\u001b[0m\u001b[0;34m:\u001b[0m\u001b[0;34m]\u001b[0m\u001b[0;34m,\u001b[0m\u001b[0;34m'bo'\u001b[0m\u001b[0;34m,\u001b[0m\u001b[0mlabel\u001b[0m\u001b[0;34m=\u001b[0m\u001b[0;34m'Training kullback_leibler_divergence baseline'\u001b[0m\u001b[0;34m)\u001b[0m\u001b[0;34m\u001b[0m\u001b[0;34m\u001b[0m\u001b[0m\n\u001b[0m\u001b[1;32m     26\u001b[0m \u001b[0mplt\u001b[0m\u001b[0;34m.\u001b[0m\u001b[0mplot\u001b[0m\u001b[0;34m(\u001b[0m\u001b[0mepochs\u001b[0m\u001b[0;34m[\u001b[0m\u001b[0;36m10\u001b[0m\u001b[0;34m:\u001b[0m\u001b[0;34m]\u001b[0m\u001b[0;34m,\u001b[0m\u001b[0msmooth_val_kl_history_baseline\u001b[0m\u001b[0;34m[\u001b[0m\u001b[0;36m10\u001b[0m\u001b[0;34m:\u001b[0m\u001b[0;34m]\u001b[0m\u001b[0;34m,\u001b[0m\u001b[0;34m'b'\u001b[0m\u001b[0;34m,\u001b[0m\u001b[0mlabel\u001b[0m\u001b[0;34m=\u001b[0m\u001b[0;34m'Validation kullback_leibler_divergence baseline'\u001b[0m\u001b[0;34m)\u001b[0m\u001b[0;34m\u001b[0m\u001b[0;34m\u001b[0m\u001b[0m\n\u001b[1;32m     27\u001b[0m \u001b[0mplt\u001b[0m\u001b[0;34m.\u001b[0m\u001b[0mtitle\u001b[0m\u001b[0;34m(\u001b[0m\u001b[0;34m'Training and validation smoothed kullback_leibler_divergence'\u001b[0m\u001b[0;34m)\u001b[0m\u001b[0;34m\u001b[0m\u001b[0;34m\u001b[0m\u001b[0m\n",
            "\u001b[0;32m/usr/local/lib/python3.6/dist-packages/matplotlib/pyplot.py\u001b[0m in \u001b[0;36mplot\u001b[0;34m(scalex, scaley, data, *args, **kwargs)\u001b[0m\n\u001b[1;32m   2761\u001b[0m     return gca().plot(\n\u001b[1;32m   2762\u001b[0m         *args, scalex=scalex, scaley=scaley, **({\"data\": data} if data\n\u001b[0;32m-> 2763\u001b[0;31m         is not None else {}), **kwargs)\n\u001b[0m\u001b[1;32m   2764\u001b[0m \u001b[0;34m\u001b[0m\u001b[0m\n\u001b[1;32m   2765\u001b[0m \u001b[0;34m\u001b[0m\u001b[0m\n",
            "\u001b[0;32m/usr/local/lib/python3.6/dist-packages/matplotlib/axes/_axes.py\u001b[0m in \u001b[0;36mplot\u001b[0;34m(self, scalex, scaley, data, *args, **kwargs)\u001b[0m\n\u001b[1;32m   1645\u001b[0m         \"\"\"\n\u001b[1;32m   1646\u001b[0m         \u001b[0mkwargs\u001b[0m \u001b[0;34m=\u001b[0m \u001b[0mcbook\u001b[0m\u001b[0;34m.\u001b[0m\u001b[0mnormalize_kwargs\u001b[0m\u001b[0;34m(\u001b[0m\u001b[0mkwargs\u001b[0m\u001b[0;34m,\u001b[0m \u001b[0mmlines\u001b[0m\u001b[0;34m.\u001b[0m\u001b[0mLine2D\u001b[0m\u001b[0;34m)\u001b[0m\u001b[0;34m\u001b[0m\u001b[0;34m\u001b[0m\u001b[0m\n\u001b[0;32m-> 1647\u001b[0;31m         \u001b[0mlines\u001b[0m \u001b[0;34m=\u001b[0m \u001b[0;34m[\u001b[0m\u001b[0;34m*\u001b[0m\u001b[0mself\u001b[0m\u001b[0;34m.\u001b[0m\u001b[0m_get_lines\u001b[0m\u001b[0;34m(\u001b[0m\u001b[0;34m*\u001b[0m\u001b[0margs\u001b[0m\u001b[0;34m,\u001b[0m \u001b[0mdata\u001b[0m\u001b[0;34m=\u001b[0m\u001b[0mdata\u001b[0m\u001b[0;34m,\u001b[0m \u001b[0;34m**\u001b[0m\u001b[0mkwargs\u001b[0m\u001b[0;34m)\u001b[0m\u001b[0;34m]\u001b[0m\u001b[0;34m\u001b[0m\u001b[0;34m\u001b[0m\u001b[0m\n\u001b[0m\u001b[1;32m   1648\u001b[0m         \u001b[0;32mfor\u001b[0m \u001b[0mline\u001b[0m \u001b[0;32min\u001b[0m \u001b[0mlines\u001b[0m\u001b[0;34m:\u001b[0m\u001b[0;34m\u001b[0m\u001b[0;34m\u001b[0m\u001b[0m\n\u001b[1;32m   1649\u001b[0m             \u001b[0mself\u001b[0m\u001b[0;34m.\u001b[0m\u001b[0madd_line\u001b[0m\u001b[0;34m(\u001b[0m\u001b[0mline\u001b[0m\u001b[0;34m)\u001b[0m\u001b[0;34m\u001b[0m\u001b[0;34m\u001b[0m\u001b[0m\n",
            "\u001b[0;32m/usr/local/lib/python3.6/dist-packages/matplotlib/axes/_base.py\u001b[0m in \u001b[0;36m__call__\u001b[0;34m(self, *args, **kwargs)\u001b[0m\n\u001b[1;32m    214\u001b[0m                 \u001b[0mthis\u001b[0m \u001b[0;34m+=\u001b[0m \u001b[0margs\u001b[0m\u001b[0;34m[\u001b[0m\u001b[0;36m0\u001b[0m\u001b[0;34m]\u001b[0m\u001b[0;34m,\u001b[0m\u001b[0;34m\u001b[0m\u001b[0;34m\u001b[0m\u001b[0m\n\u001b[1;32m    215\u001b[0m                 \u001b[0margs\u001b[0m \u001b[0;34m=\u001b[0m \u001b[0margs\u001b[0m\u001b[0;34m[\u001b[0m\u001b[0;36m1\u001b[0m\u001b[0;34m:\u001b[0m\u001b[0;34m]\u001b[0m\u001b[0;34m\u001b[0m\u001b[0;34m\u001b[0m\u001b[0m\n\u001b[0;32m--> 216\u001b[0;31m             \u001b[0;32myield\u001b[0m \u001b[0;32mfrom\u001b[0m \u001b[0mself\u001b[0m\u001b[0;34m.\u001b[0m\u001b[0m_plot_args\u001b[0m\u001b[0;34m(\u001b[0m\u001b[0mthis\u001b[0m\u001b[0;34m,\u001b[0m \u001b[0mkwargs\u001b[0m\u001b[0;34m)\u001b[0m\u001b[0;34m\u001b[0m\u001b[0;34m\u001b[0m\u001b[0m\n\u001b[0m\u001b[1;32m    217\u001b[0m \u001b[0;34m\u001b[0m\u001b[0m\n\u001b[1;32m    218\u001b[0m     \u001b[0;32mdef\u001b[0m \u001b[0mget_next_color\u001b[0m\u001b[0;34m(\u001b[0m\u001b[0mself\u001b[0m\u001b[0;34m)\u001b[0m\u001b[0;34m:\u001b[0m\u001b[0;34m\u001b[0m\u001b[0;34m\u001b[0m\u001b[0m\n",
            "\u001b[0;32m/usr/local/lib/python3.6/dist-packages/matplotlib/axes/_base.py\u001b[0m in \u001b[0;36m_plot_args\u001b[0;34m(self, tup, kwargs)\u001b[0m\n\u001b[1;32m    340\u001b[0m \u001b[0;34m\u001b[0m\u001b[0m\n\u001b[1;32m    341\u001b[0m         \u001b[0;32mif\u001b[0m \u001b[0mx\u001b[0m\u001b[0;34m.\u001b[0m\u001b[0mshape\u001b[0m\u001b[0;34m[\u001b[0m\u001b[0;36m0\u001b[0m\u001b[0;34m]\u001b[0m \u001b[0;34m!=\u001b[0m \u001b[0my\u001b[0m\u001b[0;34m.\u001b[0m\u001b[0mshape\u001b[0m\u001b[0;34m[\u001b[0m\u001b[0;36m0\u001b[0m\u001b[0;34m]\u001b[0m\u001b[0;34m:\u001b[0m\u001b[0;34m\u001b[0m\u001b[0;34m\u001b[0m\u001b[0m\n\u001b[0;32m--> 342\u001b[0;31m             raise ValueError(f\"x and y must have same first dimension, but \"\n\u001b[0m\u001b[1;32m    343\u001b[0m                              f\"have shapes {x.shape} and {y.shape}\")\n\u001b[1;32m    344\u001b[0m         \u001b[0;32mif\u001b[0m \u001b[0mx\u001b[0m\u001b[0;34m.\u001b[0m\u001b[0mndim\u001b[0m \u001b[0;34m>\u001b[0m \u001b[0;36m2\u001b[0m \u001b[0;32mor\u001b[0m \u001b[0my\u001b[0m\u001b[0;34m.\u001b[0m\u001b[0mndim\u001b[0m \u001b[0;34m>\u001b[0m \u001b[0;36m2\u001b[0m\u001b[0;34m:\u001b[0m\u001b[0;34m\u001b[0m\u001b[0;34m\u001b[0m\u001b[0m\n",
            "\u001b[0;31mValueError\u001b[0m: x and y must have same first dimension, but have shapes (40,) and (190,)"
          ]
        },
        {
          "output_type": "display_data",
          "data": {
            "image/png": "[encoded data removed]",
            "text/plain": [
              "<Figure size 432x288 with 1 Axes>"
            ]
          },
          "metadata": {
            "tags": [],
            "needs_background": "light"
          }
        }
      ]
    },
    {
      "cell_type": "code",
      "metadata": {
        "colab": {
          "base_uri": "https://localhost:8080/",
          "height": 249
        },
        "id": "tP4bVifIw-cs",
        "outputId": "e6a7b8c3-1ce2-4747-ba2c-353c6ffc1f03"
      },
      "source": [
        "def smooth_curve(points,factor=0.9):\n",
        "  smoothed_points=[]\n",
        "  for point in points:\n",
        "    if smoothed_points:\n",
        "      previous = smoothed_points[-1]\n",
        "      smoothed_points.append(previous*factor + point*(1-factor))\n",
        "    else:\n",
        "      smoothed_points.append(point)\n",
        "  return smoothed_points\n",
        "\n",
        "plt.clf()\n",
        "la_loss = history_final.history['laloss']\n",
        "val_la_loss = history_final.history['val_laloss']\n",
        "la_loss_baseline = history_baseline_final.history['laloss']\n",
        "val_la_loss_baseline = history_baseline_final.history['val_laloss']\n",
        "\n",
        "smooth_laloss_history = smooth_curve(la_loss)\n",
        "smooth_val_laloss_history = smooth_curve(val_la_loss)\n",
        "smooth_laloss_history_baseline = smooth_curve(la_loss_baseline)\n",
        "smooth_val_laloss_history_baseline = smooth_curve(val_la_loss_baseline)\n",
        "epochs = range(1,len(la_loss)+1)\n",
        "\n",
        "plt.plot(epochs[10:],smooth_laloss_history[10:],'ro',label='Training laloss')\n",
        "plt.plot(epochs[10:],smooth_val_laloss_history[10:],'r',label='Validation laloss')\n",
        "plt.plot(epochs[10:],smooth_laloss_history_baseline[10:],'bo',label='Training laloss baseline')\n",
        "plt.plot(epochs[10:],smooth_val_laloss_history_baseline[10:],'b',label='Validation laloss baseline')\n",
        "plt.title('Training and validation smoothed laloss')\n",
        "plt.xlabel('Epochs')\n",
        "plt.ylabel('laloss')\n",
        "plt.legend()\n",
        "\n",
        "plt.show()"
      ],
      "execution_count": null,
      "outputs": [
        {
          "output_type": "error",
          "ename": "KeyError",
          "evalue": "ignored",
          "traceback": [
            "\u001b[0;31m---------------------------------------------------------------------------\u001b[0m",
            "\u001b[0;31mKeyError\u001b[0m                                  Traceback (most recent call last)",
            "\u001b[0;32m<ipython-input-122-da97f72375c5>\u001b[0m in \u001b[0;36m<module>\u001b[0;34m()\u001b[0m\n\u001b[1;32m     10\u001b[0m \u001b[0;34m\u001b[0m\u001b[0m\n\u001b[1;32m     11\u001b[0m \u001b[0mplt\u001b[0m\u001b[0;34m.\u001b[0m\u001b[0mclf\u001b[0m\u001b[0;34m(\u001b[0m\u001b[0;34m)\u001b[0m\u001b[0;34m\u001b[0m\u001b[0;34m\u001b[0m\u001b[0m\n\u001b[0;32m---> 12\u001b[0;31m \u001b[0mla_loss\u001b[0m \u001b[0;34m=\u001b[0m \u001b[0mhistory_final\u001b[0m\u001b[0;34m.\u001b[0m\u001b[0mhistory\u001b[0m\u001b[0;34m[\u001b[0m\u001b[0;34m'laloss'\u001b[0m\u001b[0;34m]\u001b[0m\u001b[0;34m\u001b[0m\u001b[0;34m\u001b[0m\u001b[0m\n\u001b[0m\u001b[1;32m     13\u001b[0m \u001b[0mval_la_loss\u001b[0m \u001b[0;34m=\u001b[0m \u001b[0mhistory_final\u001b[0m\u001b[0;34m.\u001b[0m\u001b[0mhistory\u001b[0m\u001b[0;34m[\u001b[0m\u001b[0;34m'val_laloss'\u001b[0m\u001b[0;34m]\u001b[0m\u001b[0;34m\u001b[0m\u001b[0;34m\u001b[0m\u001b[0m\n\u001b[1;32m     14\u001b[0m \u001b[0mla_loss_baseline\u001b[0m \u001b[0;34m=\u001b[0m \u001b[0mhistory_baseline_final\u001b[0m\u001b[0;34m.\u001b[0m\u001b[0mhistory\u001b[0m\u001b[0;34m[\u001b[0m\u001b[0;34m'laloss'\u001b[0m\u001b[0;34m]\u001b[0m\u001b[0;34m\u001b[0m\u001b[0;34m\u001b[0m\u001b[0m\n",
            "\u001b[0;31mKeyError\u001b[0m: 'laloss'"
          ]
        },
        {
          "output_type": "display_data",
          "data": {
            "text/plain": [
              "<Figure size 432x288 with 0 Axes>"
            ]
          },
          "metadata": {
            "tags": []
          }
        }
      ]
    },
    {
      "cell_type": "code",
      "metadata": {
        "colab": {
          "base_uri": "https://localhost:8080/",
          "height": 249
        },
        "id": "SU_iONL9AI3S",
        "outputId": "38e5f675-4505-40d9-876c-566b9935bf93"
      },
      "source": [
        "def smooth_curve(points,factor=0.9):\n",
        "  smoothed_points=[]\n",
        "  for point in points:\n",
        "    if smoothed_points:\n",
        "      previous = smoothed_points[-1]\n",
        "      smoothed_points.append(previous*factor + point*(1-factor))\n",
        "    else:\n",
        "      smoothed_points.append(point)\n",
        "  return smoothed_points\n",
        "\n",
        "plt.clf()\n",
        "la_loss = history_final.history['new_laloss']\n",
        "val_la_loss = history_final.history['val_new_laloss']\n",
        "la_loss_baseline = history_baseline_final.history['new_laloss']\n",
        "val_la_loss_baseline = history_baseline_final.history['val_new_laloss']\n",
        "\n",
        "smooth_laloss_history = smooth_curve(la_loss)\n",
        "smooth_val_laloss_history = smooth_curve(val_la_loss)\n",
        "smooth_laloss_history_baseline = smooth_curve(la_loss_baseline)\n",
        "smooth_val_laloss_history_baseline = smooth_curve(val_la_loss_baseline)\n",
        "epochs = range(1,len(la_loss)+1)\n",
        "\n",
        "plt.plot(epochs[10:],smooth_laloss_history[10:],'ro',label='Training laloss')\n",
        "plt.plot(epochs[10:],smooth_val_laloss_history[10:],'r',label='Validation laloss')\n",
        "plt.plot(epochs[10:],smooth_laloss_history_baseline[10:],'bo',label='Training laloss baseline')\n",
        "plt.plot(epochs[10:],smooth_val_laloss_history_baseline[10:],'b',label='Validation laloss baseline')\n",
        "plt.title('Training and validation smoothed new laloss')\n",
        "plt.xlabel('Epochs')\n",
        "plt.ylabel('new laloss')\n",
        "plt.legend()\n",
        "\n",
        "plt.show()"
      ],
      "execution_count": null,
      "outputs": [
        {
          "output_type": "error",
          "ename": "KeyError",
          "evalue": "ignored",
          "traceback": [
            "\u001b[0;31m---------------------------------------------------------------------------\u001b[0m",
            "\u001b[0;31mKeyError\u001b[0m                                  Traceback (most recent call last)",
            "\u001b[0;32m<ipython-input-123-7664dfa453cd>\u001b[0m in \u001b[0;36m<module>\u001b[0;34m()\u001b[0m\n\u001b[1;32m     10\u001b[0m \u001b[0;34m\u001b[0m\u001b[0m\n\u001b[1;32m     11\u001b[0m \u001b[0mplt\u001b[0m\u001b[0;34m.\u001b[0m\u001b[0mclf\u001b[0m\u001b[0;34m(\u001b[0m\u001b[0;34m)\u001b[0m\u001b[0;34m\u001b[0m\u001b[0;34m\u001b[0m\u001b[0m\n\u001b[0;32m---> 12\u001b[0;31m \u001b[0mla_loss\u001b[0m \u001b[0;34m=\u001b[0m \u001b[0mhistory_final\u001b[0m\u001b[0;34m.\u001b[0m\u001b[0mhistory\u001b[0m\u001b[0;34m[\u001b[0m\u001b[0;34m'new_laloss'\u001b[0m\u001b[0;34m]\u001b[0m\u001b[0;34m\u001b[0m\u001b[0;34m\u001b[0m\u001b[0m\n\u001b[0m\u001b[1;32m     13\u001b[0m \u001b[0mval_la_loss\u001b[0m \u001b[0;34m=\u001b[0m \u001b[0mhistory_final\u001b[0m\u001b[0;34m.\u001b[0m\u001b[0mhistory\u001b[0m\u001b[0;34m[\u001b[0m\u001b[0;34m'val_new_laloss'\u001b[0m\u001b[0;34m]\u001b[0m\u001b[0;34m\u001b[0m\u001b[0;34m\u001b[0m\u001b[0m\n\u001b[1;32m     14\u001b[0m \u001b[0mla_loss_baseline\u001b[0m \u001b[0;34m=\u001b[0m \u001b[0mhistory_baseline_final\u001b[0m\u001b[0;34m.\u001b[0m\u001b[0mhistory\u001b[0m\u001b[0;34m[\u001b[0m\u001b[0;34m'new_laloss'\u001b[0m\u001b[0;34m]\u001b[0m\u001b[0;34m\u001b[0m\u001b[0;34m\u001b[0m\u001b[0m\n",
            "\u001b[0;31mKeyError\u001b[0m: 'new_laloss'"
          ]
        },
        {
          "output_type": "display_data",
          "data": {
            "text/plain": [
              "<Figure size 432x288 with 0 Axes>"
            ]
          },
          "metadata": {
            "tags": []
          }
        }
      ]
    },
    {
      "cell_type": "markdown",
      "metadata": {
        "id": "FilxWTv_xNfM"
      },
      "source": [
        "## VGG16"
      ]
    },
    {
      "cell_type": "code",
      "metadata": {
        "id": "RKFRmxgNxTG9"
      },
      "source": [
        "from keras.applications import VGG16\n",
        "\n",
        "conv_base = VGG16(weights='imagenet',\n",
        "          include_top=False,\n",
        "          input_shape=(150,150,3))"
      ],
      "execution_count": null,
      "outputs": []
    },
    {
      "cell_type": "markdown",
      "metadata": {
        "id": "gvLKrZ0EBA10"
      },
      "source": [
        "## Multilayer perceptron"
      ]
    },
    {
      "cell_type": "markdown",
      "metadata": {
        "id": "ZPaeT5zWdHPF"
      },
      "source": [
        "Define network structure\n",
        "\n",
        "Simple multi-layer perceptron, input -> two hidden layers -> output."
      ]
    },
    {
      "cell_type": "code",
      "metadata": {
        "id": "MnHLdjJqAoov"
      },
      "source": [
        "def perceptron(feature_dim,label_dim):\n",
        "    model = Sequential()\n",
        "    print(\"create model. feature_dim ={}, label_dim ={}\".format(feature_dim, label_dim))\n",
        "    model.add(Dropout(0.2, input_shape=(feature_dim,)))\n",
        "    model.add(Dense(500, activation='relu' ,kernel_regularizer=regularizers.l2(0.0001)))\n",
        "    model.add(Dropout(0.5))\n",
        "    model.add(Dense(200, activation='relu' ,kernel_regularizer=regularizers.l2(0.003)))\n",
        "    model.add(Dense(label_dim, activation='sigmoid',kernel_regularizer=regularizers.l2(0.0001)))\n",
        "    model.compile(optimizer='adam',loss='binary_crossentropy', metrics=['acc', precision, recall, f1measure]) \n",
        "    return model\n",
        "\n",
        "\n",
        "def train_perceptron(X_train,y_train,X_test,y_test):\n",
        "    feature_dim = X_train.shape[1]\n",
        "    label_dim = y_train.shape[1]\n",
        "    model = perceptron(feature_dim,label_dim)\n",
        "    model.summary()\n",
        "    fit_history = model.fit(X_train, y_train, batch_size=128, epochs=100, validation_data=(X_test,y_test), verbose=0)\n",
        "    return model,fit_history"
      ],
      "execution_count": null,
      "outputs": []
    },
    {
      "cell_type": "markdown",
      "metadata": {
        "id": "sYoimGBLVbFC"
      },
      "source": [
        "Define metrics"
      ]
    },
    {
      "cell_type": "code",
      "metadata": {
        "id": "7PMmP5LzVc0f"
      },
      "source": [
        "def precision(y_true, y_pred):\n",
        "    # Calculates the precision\n",
        "    true_positives = K.sum(K.round(K.clip(y_true * y_pred, 0, 1)))\n",
        "    predicted_positives = K.sum(K.round(K.clip(y_pred, 0, 1)))\n",
        "    precision = true_positives / (predicted_positives + K.epsilon())\n",
        "    return precision\n",
        "\n",
        "\n",
        "def recall(y_true, y_pred):\n",
        "    # Calculates the recall\n",
        "    true_positives = K.sum(K.round(K.clip(y_true * y_pred, 0, 1)))\n",
        "    possible_positives = K.sum(K.round(K.clip(y_true, 0, 1)))\n",
        "    recall = true_positives / (possible_positives + K.epsilon())\n",
        "    return recall\n",
        "\n",
        "def fbeta_score(y_true, y_pred, beta=1):\n",
        "    # Calculates the F score, the weighted harmonic mean of precision and recall.\n",
        "\n",
        "    if beta < 0:\n",
        "        raise ValueError('The lowest choosable beta is zero (only precision).')     \n",
        "    p = precision(y_true, y_pred)\n",
        "    r = recall(y_true, y_pred)\n",
        "    bb = beta ** 2\n",
        "    fbeta_score = (1 + bb) * (p * r) / (bb * p + r + K.epsilon())\n",
        "    return fbeta_score\n",
        "\n",
        "def f1measure(y_true, y_pred):\n",
        "    # Calculates the f-measure, the harmonic mean of precision and recall.\n",
        "    return fbeta_score(y_true, y_pred, beta=1)"
      ],
      "execution_count": null,
      "outputs": []
    },
    {
      "cell_type": "markdown",
      "metadata": {
        "id": "52nvNwqKeX-0"
      },
      "source": [
        " Load a multi-label dataset, if not done before."
      ]
    },
    {
      "cell_type": "code",
      "metadata": {
        "colab": {
          "base_uri": "https://localhost:8080/"
        },
        "id": "SFM0iRskebSH",
        "outputId": "1251c8d0-5e79-4b7d-c4ad-da6a16ebb2f0"
      },
      "source": [
        "data = spio.loadmat(data_path['slashdot'])\n",
        "X = data['features']\n",
        "y = data['labels']\n",
        "X_train,X_test,y_train,y_test = model_selection.train_test_split(X,y,test_size=0.3)\n",
        "print(X_train.shape, X_test.shape, y_train.shape, y_test.shape)"
      ],
      "execution_count": null,
      "outputs": [
        {
          "output_type": "stream",
          "text": [
            "(2647, 1079) (1135, 1079) (2647, 22) (1135, 22)\n"
          ],
          "name": "stdout"
        }
      ]
    },
    {
      "cell_type": "markdown",
      "metadata": {
        "id": "pA8kZAUZdLQz"
      },
      "source": [
        "Fit the model."
      ]
    },
    {
      "cell_type": "code",
      "metadata": {
        "id": "BOvIpT98As9h",
        "colab": {
          "base_uri": "https://localhost:8080/"
        },
        "outputId": "b2a99815-8548-4ce1-820d-aedde0409bee"
      },
      "source": [
        "[clf_nn, clf_nn_history] = train_perceptron(X_train,y_train,X_test,y_test)"
      ],
      "execution_count": null,
      "outputs": [
        {
          "output_type": "stream",
          "text": [
            "create model. feature_dim =1079, label_dim =22\n",
            "Model: \"sequential_4\"\n",
            "_________________________________________________________________\n",
            "Layer (type)                 Output Shape              Param #   \n",
            "=================================================================\n",
            "dropout_16 (Dropout)         (None, 1079)              0         \n",
            "_________________________________________________________________\n",
            "dense_16 (Dense)             (None, 500)               540000    \n",
            "_________________________________________________________________\n",
            "dropout_17 (Dropout)         (None, 500)               0         \n",
            "_________________________________________________________________\n",
            "dense_17 (Dense)             (None, 200)               100200    \n",
            "_________________________________________________________________\n",
            "dense_18 (Dense)             (None, 22)                4422      \n",
            "=================================================================\n",
            "Total params: 644,622\n",
            "Trainable params: 644,622\n",
            "Non-trainable params: 0\n",
            "_________________________________________________________________\n"
          ],
          "name": "stdout"
        }
      ]
    },
    {
      "cell_type": "code",
      "metadata": {
        "id": "Xc5e-Ki5dt9B",
        "colab": {
          "base_uri": "https://localhost:8080/",
          "height": 279
        },
        "outputId": "ede5d219-c777-481d-e176-275a68946a77"
      },
      "source": [
        "# plot history\n",
        "plt.plot(clf_nn_history.history['acc'], label='train')\n",
        "plt.plot(clf_nn_history.history['val_acc'], label='test')\n",
        "plt.ylabel('acc')\n",
        "plt.xlabel('Epoch')\n",
        "plt.legend()\n",
        "plt.show()"
      ],
      "execution_count": null,
      "outputs": [
        {
          "output_type": "display_data",
          "data": {
            "image/png": "[encoded data removed]",
            "text/plain": [
              "<Figure size 432x288 with 1 Axes>"
            ]
          },
          "metadata": {
            "tags": [],
            "needs_background": "light"
          }
        }
      ]
    },
    {
      "cell_type": "markdown",
      "metadata": {
        "id": "W2F8HWE_da0M"
      },
      "source": [
        "Evaluate the model on test set."
      ]
    },
    {
      "cell_type": "code",
      "metadata": {
        "colab": {
          "base_uri": "https://localhost:8080/"
        },
        "id": "UfViCGoHIl2Z",
        "outputId": "82841e28-0ea1-46b3-af48-dd31aa5050f5"
      },
      "source": [
        "y_pred = (clf_nn.predict(X_test)>0.5).astype(\"int32\")\n",
        "y_scores = clf_nn.predict(X_test)\n",
        "print('nn Eval')\n",
        "eval_nn = clf_eval(y_test,y_pred,y_scores)"
      ],
      "execution_count": null,
      "outputs": [
        {
          "output_type": "stream",
          "text": [
            "nn Eval\n",
            "acc: 0.6960352422907489\n",
            "f1 score(micro): 0.7779005524861878\n",
            "precision score(micro): 0.88\n",
            "recall score(micro): 0.697029702970297\n",
            "AUC score(micro): 0.8465115125869849\n",
            "hamming loss: 0.016099319183019625\n",
            "label ranking loss: 0.032936857562408224\n"
          ],
          "name": "stdout"
        }
      ]
    },
    {
      "cell_type": "markdown",
      "metadata": {
        "id": "Op_mSwYXaECK"
      },
      "source": [
        "On training set."
      ]
    },
    {
      "cell_type": "code",
      "metadata": {
        "colab": {
          "base_uri": "https://localhost:8080/"
        },
        "id": "CAGJhegYZ4xC",
        "outputId": "0e47507c-a011-41bc-aa8b-2bc5578c6fa9"
      },
      "source": [
        "y_pred = (clf_nn.predict(X_train)>0.5).astype(\"int32\")\n",
        "y_scores = clf_nn.predict(X_train)\n",
        "print('nn Eval')\n",
        "eval_nn = clf_eval(y_train,y_pred,y_scores)"
      ],
      "execution_count": null,
      "outputs": [
        {
          "output_type": "stream",
          "text": [
            "nn Eval\n",
            "acc: 0.7514166981488477\n",
            "f1 score(micro): 0.8188268684957427\n",
            "precision score(micro): 0.9448689956331878\n",
            "recall score(micro): 0.7224540901502504\n",
            "AUC score(micro): 0.8603226430549955\n",
            "hamming loss: 0.013153827660816705\n",
            "label ranking loss: 0.035681178137384764\n"
          ],
          "name": "stdout"
        }
      ]
    },
    {
      "cell_type": "markdown",
      "metadata": {
        "id": "HcpS3X9fB_NM"
      },
      "source": [
        "Comparison with random forest classifier."
      ]
    },
    {
      "cell_type": "code",
      "metadata": {
        "colab": {
          "base_uri": "https://localhost:8080/",
          "height": 232
        },
        "id": "1IccTq1sCCwR",
        "outputId": "c154c64d-c980-4eab-c9b6-2d710ebfd70f"
      },
      "source": [
        "from sklearn.ensemble import RandomForestClassifier\n",
        "clf_RandomForest = RandomForestClassifier(n_estimators=100)\n",
        "clf_RandomForest.fit(X_train, y_train)\n",
        "y_pred, y_scores = clf_pre(clf_RandomForest,X_test)\n",
        "print('RandomForest Eval')\n",
        "eval_RF = clf_eval(y_test,y_pred,y_scores)"
      ],
      "execution_count": null,
      "outputs": [
        {
          "output_type": "error",
          "ename": "NameError",
          "evalue": "ignored",
          "traceback": [
            "\u001b[0;31m---------------------------------------------------------------------------\u001b[0m",
            "\u001b[0;31mNameError\u001b[0m                                 Traceback (most recent call last)",
            "\u001b[0;32m<ipython-input-49-840aec15f541>\u001b[0m in \u001b[0;36m<module>\u001b[0;34m()\u001b[0m\n\u001b[1;32m      2\u001b[0m \u001b[0mclf_RandomForest\u001b[0m \u001b[0;34m=\u001b[0m \u001b[0mRandomForestClassifier\u001b[0m\u001b[0;34m(\u001b[0m\u001b[0mn_estimators\u001b[0m\u001b[0;34m=\u001b[0m\u001b[0;36m100\u001b[0m\u001b[0;34m)\u001b[0m\u001b[0;34m\u001b[0m\u001b[0;34m\u001b[0m\u001b[0m\n\u001b[1;32m      3\u001b[0m \u001b[0mclf_RandomForest\u001b[0m\u001b[0;34m.\u001b[0m\u001b[0mfit\u001b[0m\u001b[0;34m(\u001b[0m\u001b[0mX_train\u001b[0m\u001b[0;34m,\u001b[0m \u001b[0my_train\u001b[0m\u001b[0;34m)\u001b[0m\u001b[0;34m\u001b[0m\u001b[0;34m\u001b[0m\u001b[0m\n\u001b[0;32m----> 4\u001b[0;31m \u001b[0my_pred\u001b[0m\u001b[0;34m,\u001b[0m \u001b[0my_scores\u001b[0m \u001b[0;34m=\u001b[0m \u001b[0mclf_pre\u001b[0m\u001b[0;34m(\u001b[0m\u001b[0mclf_RandomForest\u001b[0m\u001b[0;34m,\u001b[0m\u001b[0mX_test\u001b[0m\u001b[0;34m)\u001b[0m\u001b[0;34m\u001b[0m\u001b[0;34m\u001b[0m\u001b[0m\n\u001b[0m\u001b[1;32m      5\u001b[0m \u001b[0mprint\u001b[0m\u001b[0;34m(\u001b[0m\u001b[0;34m'RandomForest Eval'\u001b[0m\u001b[0;34m)\u001b[0m\u001b[0;34m\u001b[0m\u001b[0;34m\u001b[0m\u001b[0m\n\u001b[1;32m      6\u001b[0m \u001b[0meval_RF\u001b[0m \u001b[0;34m=\u001b[0m \u001b[0mclf_eval\u001b[0m\u001b[0;34m(\u001b[0m\u001b[0my_test\u001b[0m\u001b[0;34m,\u001b[0m\u001b[0my_pred\u001b[0m\u001b[0;34m,\u001b[0m\u001b[0my_scores\u001b[0m\u001b[0;34m)\u001b[0m\u001b[0;34m\u001b[0m\u001b[0;34m\u001b[0m\u001b[0m\n",
            "\u001b[0;31mNameError\u001b[0m: name 'clf_pre' is not defined"
          ]
        }
      ]
    },
    {
      "cell_type": "markdown",
      "metadata": {
        "id": "li9dGLBEagvP"
      },
      "source": [
        "Random Forest on training set"
      ]
    },
    {
      "cell_type": "code",
      "metadata": {
        "id": "kqgffwJWaj5n"
      },
      "source": [
        "y_pred, y_scores = clf_pre(clf_RandomForest,X_train)\n",
        "print('RandomForest Eval')\n",
        "eval_RF = clf_eval(y_train,y_pred,y_scores)"
      ],
      "execution_count": null,
      "outputs": []
    },
    {
      "cell_type": "markdown",
      "metadata": {
        "id": "RTkPTnFt4hvF"
      },
      "source": [
        "For LDL Task"
      ]
    },
    {
      "cell_type": "code",
      "metadata": {
        "id": "t-IJg4GM4nbC"
      },
      "source": [
        "y_pred = clf_nn.predict(X_test)\n",
        "for i in range(len(y_pred)):\n",
        "    y_pred[i] = y_pred[i]/sum(y_pred[i])\n",
        "loss_test_mean = np.mean(scipy.stats.entropy(y_test,y_pred))\n",
        "print(\"Testing set\")\n",
        "print(\"kl_dist mean:\",loss_test_mean)"
      ],
      "execution_count": null,
      "outputs": []
    },
    {
      "cell_type": "markdown",
      "metadata": {
        "id": "UcXvONf6N_ni"
      },
      "source": [
        "## AutoEncoder"
      ]
    },
    {
      "cell_type": "markdown",
      "metadata": {
        "id": "DmhqeKKbYsWQ"
      },
      "source": [
        "Fully connected network autoencoder\n",
        "\n",
        "creat & complie"
      ]
    },
    {
      "cell_type": "code",
      "metadata": {
        "id": "1vYCSz7nOiRQ"
      },
      "source": [
        "# use a fully connected network\n",
        "feature_dim = X_train.shape[1]\n",
        "net_input = Input(shape=(feature_dim,))\n",
        "## encoder\n",
        "encoder = Dropout(0.2)(net_input)\n",
        "encoder = Dense(500,activation=\"relu\")(encoder)\n",
        "encoder = Dropout(0.5)(encoder)\n",
        "encoder = Dense(32,activation=\"relu\")(encoder)\n",
        "## decoder\n",
        "decoder = Dense(500,activation=\"relu\")(encoder)\n",
        "decoder = Dropout(0.5)(decoder)\n",
        "decoder = Dense(feature_dim,activation=\"relu\")(decoder)\n",
        "## combined to autoencoder\n",
        "\n",
        "autoencoder = Model(inputs=net_input, outputs=decoder)\n",
        "autoencoder.summary()\n",
        "## compile\n",
        "autoencoder.compile(optimizer=\"adam\",loss=\"binary_crossentropy\")\n"
      ],
      "execution_count": null,
      "outputs": []
    },
    {
      "cell_type": "markdown",
      "metadata": {
        "id": "hhdk3DDhfUAN"
      },
      "source": [
        "Unfinished stack AE"
      ]
    },
    {
      "cell_type": "code",
      "metadata": {
        "id": "MZGALZlB_r12"
      },
      "source": [
        "# use a fully connected network\n",
        "input_dim = X_train.shape[1]\n",
        "input_features = Input(shape=(input_dim,))\n",
        "## encoder\n",
        "encoder1 = Dense(128,activation=\"relu\",name=\"enco1\")(input_features)\n",
        "decoder1 = Dense(input_dim,activation=\"relu\",name=\"deco1\")(encoder1)\n",
        "autoencoder1 = Model(input=input_features, output=decoder1)\n",
        "autoencoder1.compile(optimizer=\"adam\",loss=\"binary_crossentropy\")\n",
        "\n",
        "input2 = Input(shape=(128,))\n",
        "encoder2 = Dense(64,activation=\"relu\",name=\"enco2\")(input2)\n",
        "decoder2 = Dense(128,activation=\"relu\",name=\"deco2\")(encoder2)\n",
        "autoencoder2 = Model(input=input2, output=decoder2)\n",
        "autoencoder2.compile(optimizer=\"adam\",loss=\"binary_crossentropy\")\n",
        "\n",
        "input3 = Input(shape=(64,))\n",
        "encoder3 = Dense(32,activation=\"relu\",name=\"enco3\")(input3)\n",
        "decoder3 = Dense(64,activation=\"relu\",name=\"deco3\")(encoder3)\n",
        "autoencoder3 = Model(input=input3, output=decoder3)\n",
        "autoencoder3.compile(optimizer=\"adam\",loss=\"binary_crossentropy\")\n",
        "\n",
        "input4 = Input(shape=(32,))\n",
        "encoder4 = Dense(16,activation=\"relu\",name=\"enco4\")(input4)\n",
        "decoder4 = Dense(32,activation=\"relu\",name=\"deco4\")(encoder4)\n",
        "autoencoder4 = Model(input=input4, output=encoder4)\n",
        "autoencoder4.compile(optimizer=\"adam\",loss=\"binary_crossentropy\")\n",
        "\n",
        "autoencoder1_fit = autoencoder1.fit(X_train,X_train,batch_size=256,epochs=200,\n",
        "                        validation_data=(X_test,X_test),verbose=0)\n",
        "\n",
        "autoencoder2_fit = autoencoder2.fit(X_train,X_train,batch_size=256,epochs=200,\n",
        "                        validation_data=(X_test,X_test),verbose=0)"
      ],
      "execution_count": null,
      "outputs": []
    },
    {
      "cell_type": "markdown",
      "metadata": {
        "id": "ByOJ0qK1Y-wl"
      },
      "source": [
        "Fit the model"
      ]
    },
    {
      "cell_type": "code",
      "metadata": {
        "id": "LQj60XGLPBr9"
      },
      "source": [
        "autoencoder_fit = autoencoder.fit(X_train,X_train,batch_size=256,epochs=100,\n",
        "                        validation_data=(X_test,X_test),verbose=0)"
      ],
      "execution_count": null,
      "outputs": []
    },
    {
      "cell_type": "markdown",
      "metadata": {
        "id": "q_8RCc_uZOrj"
      },
      "source": [
        "Evaluate the model"
      ]
    },
    {
      "cell_type": "code",
      "metadata": {
        "id": "ra0MBfuPmmcD"
      },
      "source": [
        "# plot history\n",
        "plt.figure(figsize=(9,6))\n",
        "plt.plot(autoencoder_fit.history['loss'], label='train')\n",
        "plt.plot(autoencoder_fit.history['val_loss'], label='test')\n",
        "plt.ylabel('binary_crossentropy')\n",
        "plt.xlabel('Epoch')\n",
        "plt.grid()\n",
        "plt.legend()\n",
        "plt.show()"
      ],
      "execution_count": null,
      "outputs": []
    },
    {
      "cell_type": "markdown",
      "metadata": {
        "id": "lo3-AhWfZqXI"
      },
      "source": [
        "Get the encoder"
      ]
    },
    {
      "cell_type": "code",
      "metadata": {
        "id": "0eNqvJmoQ9_u"
      },
      "source": [
        "Encoder = Model(net_input, encoder)\n",
        "X_train_encoded = Encoder.predict(X_train)\n",
        "X_test_encoded = Encoder.predict(X_test)\n",
        "encoded_feature_train = pd.DataFrame(X_train_encoded)\n",
        "encoded_feature_train.describe()"
      ],
      "execution_count": null,
      "outputs": []
    },
    {
      "cell_type": "code",
      "metadata": {
        "id": "pxDVGiQ9uqT3"
      },
      "source": [
        "encoded_feature_test = pd.DataFrame(X_test_encoded)\n",
        "encoded_feature_test.describe()"
      ],
      "execution_count": null,
      "outputs": []
    },
    {
      "cell_type": "markdown",
      "metadata": {
        "id": "iGA6eB6kXtl4"
      },
      "source": [
        "### Classification task"
      ]
    },
    {
      "cell_type": "markdown",
      "metadata": {
        "id": "HXdAeQgXZ_6Y"
      },
      "source": [
        "Use encoded features"
      ]
    },
    {
      "cell_type": "code",
      "metadata": {
        "id": "DOqDpYctUAqV"
      },
      "source": [
        "from sklearn.ensemble import RandomForestClassifier\n",
        "clf_RandomForest = RandomForestClassifier(n_estimators=100)\n",
        "clf_RandomForest.fit(X_train_encoded, y_train)\n",
        "y_pred, y_scores = clf_pre(clf_RandomForest,X_test_encoded)\n",
        "print('RandomForest Eval')\n",
        "eval_RF = clf_eval(y_test,y_pred,y_scores)"
      ],
      "execution_count": null,
      "outputs": []
    },
    {
      "cell_type": "code",
      "metadata": {
        "id": "Z2EFL3IKYe9K"
      },
      "source": [
        "from sklearn.neighbors import KNeighborsClassifier\n",
        "clf_KNN = KNeighborsClassifier()\n",
        "clf_KNN.fit(X_train_encoded, y_train)\n",
        "y_pred, y_scores = clf_pre(clf_KNN,X_test_encoded)\n",
        "print('KNN Eval')\n",
        "eval_RF = clf_eval(y_test,y_pred,y_scores)"
      ],
      "execution_count": null,
      "outputs": []
    },
    {
      "cell_type": "code",
      "metadata": {
        "id": "flKhbYAaZ3Kc"
      },
      "source": [
        "from keras.models import Sequential\n",
        "from keras.layers import Dense\n",
        "def linear_model(feature_dim,label_dim):\n",
        "    model = Sequential()\n",
        "    model.add(Dense(label_dim,input_dim=feature_dim,activation='sigmoid'))\n",
        "    model.compile(optimizer='adam',loss='binary_crossentropy', metrics=['accuracy'])\n",
        "    return model\n",
        "    \n",
        "def train_linear(X_train,y_train,X_test,y_test):\n",
        "    feature_dim = X_train.shape[1]\n",
        "    label_dim = y_train.shape[1]\n",
        "    model = linear_model(feature_dim,label_dim)\n",
        "    model.fit(X_train,y_train,batch_size=128, epochs=100, validation_data=(X_test,y_test),verbose=0)\n",
        "    return model\n"
      ],
      "execution_count": null,
      "outputs": []
    },
    {
      "cell_type": "code",
      "metadata": {
        "id": "ta0yfcFliq-2"
      },
      "source": [
        "clf_linear = train_linear(X_train_encoded,y_train,X_test_encoded,y_test)\n",
        "y_pred = (clf_linear.predict(X_test_encoded)>0.5).astype(\"int32\")\n",
        "y_scores = clf_linear.predict(X_test_encoded)\n",
        "print('linear Eval')\n",
        "eval_linear = clf_eval(y_test,y_pred,y_scores)"
      ],
      "execution_count": null,
      "outputs": []
    },
    {
      "cell_type": "markdown",
      "metadata": {
        "id": "uoSKau8BaJJC"
      },
      "source": [
        "Use raw features"
      ]
    },
    {
      "cell_type": "code",
      "metadata": {
        "id": "mImgehODVD1L"
      },
      "source": [
        "from sklearn.ensemble import RandomForestClassifier\n",
        "clf_RandomForest = RandomForestClassifier(n_estimators=100)\n",
        "clf_RandomForest.fit(X_train, y_train)\n",
        "y_pred, y_scores = clf_pre(clf_RandomForest,X_test)\n",
        "print('RandomForest Eval')\n",
        "eval_RF = clf_eval(y_test,y_pred,y_scores)"
      ],
      "execution_count": null,
      "outputs": []
    },
    {
      "cell_type": "code",
      "metadata": {
        "id": "jpPK9IqCYbye"
      },
      "source": [
        "from sklearn.neighbors import KNeighborsClassifier\n",
        "clf_KNN = KNeighborsClassifier()\n",
        "clf_KNN.fit(X_train, y_train)\n",
        "y_pred, y_scores = clf_pre(clf_KNN,X_test)\n",
        "print('KNN Eval')\n",
        "eval_RF = clf_eval(y_test,y_pred,y_scores)"
      ],
      "execution_count": null,
      "outputs": []
    },
    {
      "cell_type": "code",
      "metadata": {
        "id": "wgPZEVu8haKk"
      },
      "source": [
        "clf_linear = train_linear(X_train,y_train,X_test,y_test)\n",
        "y_pred = (clf_linear.predict(X_test)>0.5).astype(\"int32\")\n",
        "y_scores = clf_linear.predict(X_test)\n",
        "print('linear Eval')\n",
        "eval_linear = clf_eval(y_test,y_pred,y_scores)"
      ],
      "execution_count": null,
      "outputs": []
    },
    {
      "cell_type": "markdown",
      "metadata": {
        "id": "sMQy1zWwXwYb"
      },
      "source": [
        "### Regression Task"
      ]
    },
    {
      "cell_type": "markdown",
      "metadata": {
        "id": "yPuwyvaHaM3G"
      },
      "source": [
        "Use encoded features"
      ]
    },
    {
      "cell_type": "code",
      "metadata": {
        "id": "bHvwrbnDajTB"
      },
      "source": [
        "from sklearn.ensemble import RandomForestRegressor\n",
        "\n",
        "regressor = RandomForestRegressor(n_estimators=100)\n",
        "regressor.fit(X_train_encoded, y_train)"
      ],
      "execution_count": null,
      "outputs": []
    },
    {
      "cell_type": "code",
      "metadata": {
        "id": "v5hw0ZnoanAh"
      },
      "source": [
        "y_pred_train = regressor.predict(X_train_encoded)\n",
        "for i in range(len(y_pred_train)):\n",
        "  y_pred_train[i] = y_pred_train[i]/sum(y_pred_train[i])\n",
        "loss_train_mean = np.mean(scipy.stats.entropy(y_train,y_pred_train))\n",
        "print(\"train set\")\n",
        "print(\"kl_dist mean:\",loss_train_mean)"
      ],
      "execution_count": null,
      "outputs": []
    },
    {
      "cell_type": "code",
      "metadata": {
        "id": "hwQuSoGmarg4"
      },
      "source": [
        "y_pred = regressor.predict(X_test_encoded)\n",
        "for i in range(len(y_pred)):\n",
        "  y_pred[i] = y_pred[i]/sum(y_pred[i])\n",
        "loss_test_mean = np.mean(scipy.stats.entropy(y_test,y_pred))\n",
        "print(\"test set\")\n",
        "print(\"kl_dist mean:\",loss_test_mean)"
      ],
      "execution_count": null,
      "outputs": []
    },
    {
      "cell_type": "markdown",
      "metadata": {
        "id": "RKD_zd1fYQL3"
      },
      "source": [
        "Use raw features"
      ]
    },
    {
      "cell_type": "code",
      "metadata": {
        "id": "r2nxS5KNXyMU"
      },
      "source": [
        "from sklearn.ensemble import RandomForestRegressor\n",
        "\n",
        "regressor = RandomForestRegressor(n_estimators=100)\n",
        "regressor.fit(X_train, y_train)"
      ],
      "execution_count": null,
      "outputs": []
    },
    {
      "cell_type": "code",
      "metadata": {
        "id": "TSgATcuZYDrN"
      },
      "source": [
        "y_pred_train = regressor.predict(X_train)\n",
        "for i in range(len(y_pred_train)):\n",
        "  y_pred_train[i] = y_pred_train[i]/sum(y_pred_train[i])\n",
        "loss_train_mean = np.mean(scipy.stats.entropy(y_train,y_pred_train))\n",
        "print(\"train set\")\n",
        "print(\"kl_dist mean:\",loss_train_mean)"
      ],
      "execution_count": null,
      "outputs": []
    },
    {
      "cell_type": "code",
      "metadata": {
        "id": "FSFA4M4AYBUg"
      },
      "source": [
        "y_pred = regressor.predict(X_test)\n",
        "for i in range(len(y_pred)):\n",
        "  y_pred[i] = y_pred[i]/sum(y_pred[i])\n",
        "loss_test_mean = np.mean(scipy.stats.entropy(y_test,y_pred))\n",
        "print(\"test set\")\n",
        "print(\"kl_dist mean:\",loss_test_mean)"
      ],
      "execution_count": null,
      "outputs": []
    },
    {
      "cell_type": "markdown",
      "metadata": {
        "id": "uSD_adunU1IY"
      },
      "source": [
        "# Auto-Sklearn"
      ]
    },
    {
      "cell_type": "markdown",
      "metadata": {
        "id": "XVDqqOTpBQbY"
      },
      "source": [
        "## Classification model"
      ]
    },
    {
      "cell_type": "markdown",
      "metadata": {
        "id": "WT9vB_vgIF6m"
      },
      "source": [
        "Install required libraries."
      ]
    },
    {
      "cell_type": "code",
      "metadata": {
        "id": "0L3NNJqOU1i0"
      },
      "source": [
        "#compiler\n",
        "!apt-get install swig\n",
        "\n",
        "#dependencies\n",
        "!curl https://raw.githubusercontent.com/automl/auto-sklearn/master/requirements.txt | xargs -n 1 -L 1 pip3 install\n",
        "\n",
        "#auto-sklearn\n",
        "!pip3 install auto-sklearn"
      ],
      "execution_count": null,
      "outputs": []
    },
    {
      "cell_type": "code",
      "metadata": {
        "id": "_dDxM7pNVoB8"
      },
      "source": [
        "import autosklearn.classification\n",
        "import sklearn.model_selection\n",
        "import sklearn.metrics\n",
        "import sklearn.datasets"
      ],
      "execution_count": null,
      "outputs": []
    },
    {
      "cell_type": "markdown",
      "metadata": {
        "id": "4fxMQuB36I7p"
      },
      "source": [
        "Load a multi-label dataset, if not done before."
      ]
    },
    {
      "cell_type": "code",
      "metadata": {
        "colab": {
          "base_uri": "https://localhost:8080/",
          "height": 34
        },
        "id": "4lO1pKKx6Mtc",
        "outputId": "91f99917-abed-43a8-dd1e-40a3bbb0e97d"
      },
      "source": [
        "data = spio.loadmat(data_path['yeast'])\n",
        "X = data['features']\n",
        "y = data['labels']\n",
        "X_train,X_test,y_train,y_test = model_selection.train_test_split(X,y,test_size=0.3)\n",
        "print(X_train.shape, X_test.shape, y_train.shape, y_test.shape)"
      ],
      "execution_count": null,
      "outputs": [
        {
          "output_type": "stream",
          "text": [
            "(1691, 103) (726, 103) (1691, 14) (726, 14)\n"
          ],
          "name": "stdout"
        }
      ]
    },
    {
      "cell_type": "markdown",
      "metadata": {
        "id": "BQX2W5mA6Swu"
      },
      "source": [
        "Set the upper limit of automl running time. The example is for demonstration only, so set for a short time."
      ]
    },
    {
      "cell_type": "code",
      "metadata": {
        "colab": {
          "base_uri": "https://localhost:8080/",
          "height": 322
        },
        "id": "e8tUS-nEVL52",
        "outputId": "babddb48-e0b3-4b6c-fa98-dfc79d84919b"
      },
      "source": [
        "automl = autosklearn.classification.AutoSklearnClassifier(time_left_for_this_task=500,per_run_time_limit=50)\n",
        "automl.fit(X_train, y_train)"
      ],
      "execution_count": null,
      "outputs": [
        {
          "output_type": "stream",
          "text": [
            "/usr/local/lib/python3.6/dist-packages/sklearn/metrics/_classification.py:1515: UndefinedMetricWarning: F-score is ill-defined and being set to 0.0 in labels with no true nor predicted samples. Use `zero_division` parameter to control this behavior.\n",
            "  average, \"true nor predicted\", 'F-score is', len(true_sum)\n"
          ],
          "name": "stderr"
        },
        {
          "output_type": "execute_result",
          "data": {
            "text/plain": [
              "AutoSklearnClassifier(delete_output_folder_after_terminate=True,\n",
              "                      delete_tmp_folder_after_terminate=True,\n",
              "                      disable_evaluator_output=False,\n",
              "                      ensemble_memory_limit=1024, ensemble_nbest=50,\n",
              "                      ensemble_size=50, exclude_estimators=None,\n",
              "                      exclude_preprocessors=None, get_smac_object_callback=None,\n",
              "                      include_estimators=None, include_preprocessors=None,\n",
              "                      initial_configurations_via_metalearning=25,\n",
              "                      logging_config=None, max_models_on_disc=50,\n",
              "                      metadata_directory=None, ml_memory_limit=3072,\n",
              "                      n_jobs=None, output_folder=None, per_run_time_limit=50,\n",
              "                      resampling_strategy='holdout',\n",
              "                      resampling_strategy_arguments=None, seed=1,\n",
              "                      shared_mode=False, smac_scenario_args=None,\n",
              "                      time_left_for_this_task=500, tmp_folder=None)"
            ]
          },
          "metadata": {
            "tags": []
          },
          "execution_count": 70
        }
      ]
    },
    {
      "cell_type": "markdown",
      "metadata": {
        "id": "vy4I7G4S8aY6"
      },
      "source": [
        "The return value format of predict_proba in auto-sklearn is not the same as the sklearn classifier. It is a score, and no need to further process."
      ]
    },
    {
      "cell_type": "code",
      "metadata": {
        "colab": {
          "base_uri": "https://localhost:8080/",
          "height": 171
        },
        "id": "IHZEielLhSVD",
        "outputId": "50a6a717-68a1-48ef-dd6c-7f049698b6ce"
      },
      "source": [
        "y_pred = automl.predict(X_test)\n",
        "y_scores = automl.predict_proba(X_test)\n",
        "print('automl')\n",
        "eval_automl = clf_eval(y_test,y_pred,y_scores)"
      ],
      "execution_count": null,
      "outputs": [
        {
          "output_type": "stream",
          "text": [
            "automl\n",
            "f1 score(micro): 0.0\n",
            "precision score(micro): 0.0\n",
            "recall score(micro): 0.0\n",
            "hamming loss: 0.061615384615384614\n",
            "label ranking loss: 0.9589745324520381\n"
          ],
          "name": "stdout"
        },
        {
          "output_type": "stream",
          "text": [
            "/usr/local/lib/python3.6/dist-packages/sklearn/metrics/_classification.py:1272: UndefinedMetricWarning: Precision is ill-defined and being set to 0.0 due to no predicted samples. Use `zero_division` parameter to control this behavior.\n",
            "  _warn_prf(average, modifier, msg_start, len(result))\n"
          ],
          "name": "stderr"
        }
      ]
    },
    {
      "cell_type": "markdown",
      "metadata": {
        "id": "tqbDVpAi9jJL"
      },
      "source": [
        "Comparison with random forest classifier."
      ]
    },
    {
      "cell_type": "code",
      "metadata": {
        "colab": {
          "base_uri": "https://localhost:8080/",
          "height": 118
        },
        "id": "qO6-96DE9nJL",
        "outputId": "e8b1600d-5bb3-4f22-8083-f3ab3356eac4"
      },
      "source": [
        "clf_RandomForest.fit(X_train, y_train)\n",
        "y_pred, y_scores = clf_pre(clf_RandomForest,X_test)\n",
        "print('RandomForest Eval')\n",
        "eval_RF = clf_eval(y_test,y_pred,y_scores)"
      ],
      "execution_count": null,
      "outputs": [
        {
          "output_type": "stream",
          "text": [
            "RandomForest Eval\n",
            "f1 score(micro): 0.28365878725590954\n",
            "precision score(micro): 0.8023255813953488\n",
            "recall score(micro): 0.17228464419475656\n",
            "hamming loss: 0.05361538461538461\n",
            "label ranking loss: 0.12859110802084928\n"
          ],
          "name": "stdout"
        }
      ]
    },
    {
      "cell_type": "markdown",
      "metadata": {
        "id": "p_5R9bbd4eQy"
      },
      "source": [
        "Note that auto-sklearn can customize proxy indicators:\n",
        "\n",
        "\n",
        "\n",
        "```\n",
        "def accuracy(solution, prediction):\n",
        "    # custom function defining accuracy\n",
        "    return np.mean(solution == prediction)\n",
        "\n",
        "accuracy_scorer = autosklearn.metrics.make_scorer(\n",
        "    name=\"accu\",\n",
        "    score_func=accuracy,\n",
        "    optimum=1,\n",
        "    greater_is_better=True,\n",
        "    needs_proba=False,\n",
        "    needs_threshold=False,\n",
        ")\n",
        "```\n",
        "\n"
      ]
    },
    {
      "cell_type": "markdown",
      "metadata": {
        "id": "ATa9pqdBcp53"
      },
      "source": [
        "# Auto-Keras"
      ]
    },
    {
      "cell_type": "code",
      "metadata": {
        "id": "Cx8YP_eFcou6"
      },
      "source": [
        "!pip3 install autokeras"
      ],
      "execution_count": null,
      "outputs": []
    },
    {
      "cell_type": "code",
      "metadata": {
        "colab": {
          "base_uri": "https://localhost:8080/",
          "height": 34
        },
        "id": "GV57tfIG4Ljy",
        "outputId": "861b8874-bc59-4020-b597-8fa20a1635c6"
      },
      "source": [
        "from autokeras import StructuredDataClassifier\n",
        "from keras.utils.np_utils import to_categorical\n",
        "\n",
        "data = spio.loadmat(data_path['image'])\n",
        "X = data['features']\n",
        "y = data['labels']\n",
        "X_train,X_test,y_train,y_test = model_selection.train_test_split(X,y,test_size=0.3)\n",
        "print(X_train.shape, X_test.shape, y_train.shape, y_test.shape)\n",
        "\n",
        "\n"
      ],
      "execution_count": null,
      "outputs": [
        {
          "output_type": "stream",
          "text": [
            "(1400, 294) (600, 294) (1400, 5) (600, 5)\n"
          ],
          "name": "stdout"
        }
      ]
    },
    {
      "cell_type": "code",
      "metadata": {
        "id": "OMGUqtrOAvKi"
      },
      "source": [
        "y_train = to_categorical(y_train,y_train.shape[1])\n",
        "y_test = to_categorical(y_test,y_test.shape[1])\n",
        "print(X_train.shape, X_test.shape, y_train.shape, y_test.shape)\n",
        "\n",
        "clf = StructuredDataClassifier(num_classes=5,multi_label=True)\n",
        "clf.fit(X_train, y_train, epochs=5)"
      ],
      "execution_count": null,
      "outputs": []
    },
    {
      "cell_type": "code",
      "metadata": {
        "id": "XlMpnIvH47Kn"
      },
      "source": [
        "clf.final_fit(X_train, y_train, X_test, y_test, retrain=true)\n",
        "y = clf.evaluate(X_test, y_test, batch_size=128)\n",
        "\n",
        "print(y)"
      ],
      "execution_count": null,
      "outputs": []
    },
    {
      "cell_type": "markdown",
      "metadata": {
        "id": "YYFDULfKGN-K"
      },
      "source": [
        "# More LDL algorithm"
      ]
    },
    {
      "cell_type": "markdown",
      "metadata": {
        "id": "NCTSHXx3GbfO"
      },
      "source": [
        "## BC-LDL\n",
        "\n",
        "Wang K, Geng X. Binary Coding based Label Distribution Learning[C]//IJCAI. 2018: 2783-2789."
      ]
    },
    {
      "cell_type": "code",
      "metadata": {
        "id": "uNFr703xTpA7"
      },
      "source": [
        "!pip install pynndescent"
      ],
      "execution_count": null,
      "outputs": []
    },
    {
      "cell_type": "code",
      "metadata": {
        "id": "MhMCEkF-KjXk"
      },
      "source": [
        "from pynndescent import NNDescent\n",
        "from scipy import sparse\n",
        "train_num = X_train.shape[0]\n",
        "feature_num = X_train.shape[1]\n",
        "label_num = y_train.shape[1]\n",
        "bias = np.ones(train_num)\n",
        "alpha = 2\n",
        "X_train_b = np.column_stack((X_train, bias))\n",
        "y_train_mean = np.repeat(np.mean(y_train, axis=0).reshape(1, label_num), train_num, axis=0)\n",
        "temp1 = np.repeat(np.sqrt(np.sum((y_train-y_train_mean)**2, axis=1).reshape(-1, 1)), label_num, axis=1)\n",
        "d = (y_train-y_train_mean)/temp1\n",
        "g0 = np.dot(np.dot(X_train_b.T, d), np.dot(X_train_b.T, d).T)\n",
        "g1 = alpha*g0\n",
        "gt = g1\n",
        "w_b = np.zeros((feature_num+1, alpha), dtype='float64')\n"
      ],
      "execution_count": null,
      "outputs": []
    },
    {
      "cell_type": "code",
      "metadata": {
        "id": "Ybw7ny7oUtPU"
      },
      "source": [
        "for t in range(alpha):\n",
        "    eigenvalue, eigenvector = np.linalg.eig(gt)\n",
        "    eigenvalue = np.real(eigenvalue)\n",
        "    eigenvector = np.real(eigenvector)\n",
        "    eigenvalue_index = np.argmax(eigenvalue)\n",
        "    w_b[:, t] = eigenvector[:, eigenvalue_index]\n",
        "    temp2 = np.dot(X_train_b.T, np.sign(np.dot(X_train_b, w_b[:, t].reshape(-1, 1))))\n",
        "    gt = gt - np.dot(temp2, temp2.T)\n",
        "w = w_b[0:feature_num, :]\n",
        "e = w_b[feature_num, :]\n",
        "binary_code_pre = np.sign(np.dot(X_test, w)+e)\n",
        "binary_code_matrix = np.sign(np.dot(X_train_b, w_b))\n",
        "\n",
        "ann = NNDescent(binary_code_matrix,compressed=True,n_jobs=-1)\n",
        "neighbors_index, neighbors_B = ann.query(binary_code_pre, k=5)"
      ],
      "execution_count": null,
      "outputs": []
    },
    {
      "cell_type": "markdown",
      "metadata": {
        "id": "yWFhqjvcRVnw"
      },
      "source": [
        "Evaluate the kl loss on the testing set"
      ]
    },
    {
      "cell_type": "code",
      "metadata": {
        "colab": {
          "base_uri": "https://localhost:8080/",
          "height": 50
        },
        "id": "L2_qV6zWRQAO",
        "outputId": "ad307aa5-64b7-4b7e-ecc5-71e243860d13"
      },
      "source": [
        "y_pred = np.zeros((len(X_test), label_num))\n",
        "for i in range(len(X_test)):\n",
        "    y_pred[i] = np.average(y_train[neighbors_index[i]], axis=0)\n",
        "loss_test_mean = np.mean(scipy.stats.entropy(y_test,y_pred))\n",
        "print(\"Testing set\")\n",
        "print(\"kl_dist mean:\",loss_test_mean)"
      ],
      "execution_count": null,
      "outputs": [
        {
          "output_type": "stream",
          "text": [
            "Testing set\n",
            "kl_dist mean: 0.1728530329588176\n"
          ],
          "name": "stdout"
        }
      ]
    },
    {
      "cell_type": "markdown",
      "metadata": {
        "id": "HxcBO_uSbpEn"
      },
      "source": [
        "## MSLP-LDL"
      ]
    },
    {
      "cell_type": "markdown",
      "metadata": {
        "id": "P-v4xpAzcY8s"
      },
      "source": [
        "Peng C L, Tao A, Geng X. Label Embedding Based on Multi-Scale Locality Preservation[C]//IJCAI. 2018: 2623-2629."
      ]
    },
    {
      "cell_type": "code",
      "metadata": {
        "id": "c-bjOTFDe3m5"
      },
      "source": [
        "def predict_func(v, x_train, y_train, x_test, k):\n",
        "    test_num = len(x_test)\n",
        "    label_num = len(y_train[0])\n",
        "    y_train_l = np.dot(x_train, v)\n",
        "    y_test_l = np.dot(x_test, v)\n",
        "    neigh = neighbors.NearestNeighbors(n_neighbors=k)\n",
        "    neigh.fit(y_train_l)\n",
        "    neiy_index = neigh.kneighbors(y_test_l, return_distance=False)\n",
        "    y_pre = np.zeros((test_num, label_num))\n",
        "    for i in range(test_num):\n",
        "        y_pre[i] = np.average(y_train[neiy_index[i]], axis=0)\n",
        "    return y_pre\n",
        "\n",
        "    \n",
        "def euclidean(A, B):\n",
        "    if np.shape(A)[1] != np.shape(B)[1]:\n",
        "        raise ValueError('A and B must be of same dimensionality.')\n",
        "\n",
        "    if np.shape(A)[1] == 1:\n",
        "        A = A.reshape(-1, 1)\n",
        "        B = B.reshape(-1, 1)\n",
        "    an = np.shape(A)[0]\n",
        "    bn = np.shape(B)[0]\n",
        "\n",
        "    a = np.sum(A * A, 1)\n",
        "    b = np.sum(B * B, 1)\n",
        "    ab = A.dot(B.T)\n",
        "\n",
        "    D = np.sqrt(np.abs(np.repeat(a.reshape(-1, 1), bn, 1) + np.repeat(np.array([b]), an, 0) - 2 * ab))\n",
        "    return D"
      ],
      "execution_count": null,
      "outputs": []
    },
    {
      "cell_type": "code",
      "metadata": {
        "id": "AzeiNqVfcZt1"
      },
      "source": [
        "from sklearn import neighbors\n",
        "alpha = 10\n",
        "k = 1\n",
        "l = 1\n",
        "k1 = 2\n",
        "k2 = 2\n",
        "beta = 0.1\n",
        "lambda1 = 0.01\n",
        "\n",
        "train_num = X_train.shape[0]\n",
        "feature_num = X_train.shape[1]\n",
        "label_num = y_train.shape[1]\n",
        "w1 = np.zeros((train_num, train_num))\n",
        "w2 = np.zeros((train_num, train_num))\n",
        "neighx = neighbors.NearestNeighbors(n_neighbors=alpha * k1 + 1)\n",
        "neighx.fit(X_train)\n",
        "nx_index = neighx.kneighbors(X_train, return_distance=False)[:, 1:alpha * k1 + 1]\n",
        "ny_d = np.zeros((train_num, k1))\n",
        "ny_index = np.zeros((train_num, k1), dtype=int)\n",
        "neighy = neighbors.NearestNeighbors(n_neighbors=k1)\n",
        "for i in range(train_num):\n",
        "    neighy.fit(y_train[nx_index[i]])\n",
        "    ny_d[i], ny_index[i] = neighy.kneighbors(y_train[i].reshape(1, -1))\n",
        "\n",
        "neighx_k2 = neighbors.NearestNeighbors(n_neighbors=k2 + 1)\n",
        "neighx_k2.fit(X_train)\n",
        "nx_k2_index = neighx_k2.kneighbors(X_train, return_distance=False)[:, 1:k2 + 1]\n",
        "distence_y = euclidean(y_train, y_train)\n",
        "ny_far_index = np.argsort(-distence_y, axis=1)\n",
        "ny_far_index = np.argwhere(ny_far_index < k2)\n",
        "sigma = np.sum(ny_d ** 2) / (train_num * k1)\n",
        "for i in range(train_num):\n",
        "    for j in range(k1):\n",
        "        w1[i][ny_index[i, j]] = np.exp(-ny_d[i, j] / sigma)\n",
        "        w1[ny_index[i, j]][i] = w1[i][ny_index[i, j]]\n",
        "        w2[i][ny_far_index[i * k2 + j, 1]] = 1\n",
        "        w2[ny_far_index[i * k2 + j, 1]][i] = 1\n",
        "\n",
        "D1 = np.zeros((train_num, train_num))\n",
        "D2 = np.zeros((train_num, train_num))\n",
        "for i in range(train_num):\n",
        "    D1[i, i] = np.sum(w1[i])\n",
        "    D2[i, i] = np.sum(w2[i])\n",
        "M1 = D1 - w1\n",
        "M2 = D2 - w2\n",
        "\n",
        "M = beta * M1 - (1 - beta) * M2\n",
        "term1 = np.linalg.pinv(np.dot(np.dot(X_train.T, D1), X_train))\n",
        "term2 = np.dot(np.dot(X_train.T, M), X_train) + lambda1 * np.identity(len(x_train[0]))\n",
        "eigenvalue, eigenvector = np.linalg.eig(term1 * term2)\n",
        "eigenvalue_sort_index = np.argsort(eigenvalue)\n",
        "eigenvalue_index = np.argwhere(eigenvalue_sort_index < l)\n",
        "v = np.zeros((len(X_train[0]), l))\n",
        "for i in range(l):\n",
        "    v[:, i:i + 1] = eigenvector[:, eigenvalue_index[i]]"
      ],
      "execution_count": null,
      "outputs": []
    },
    {
      "cell_type": "code",
      "metadata": {
        "id": "Q4uwcmT1ft4o"
      },
      "source": [
        "from sklearn import neighbors\n",
        "train_num = X_train.shape[0]\n",
        "feature_num = X_train.shape[1]\n",
        "label_num = y_train.shape[1]\n",
        "w1 = np.zeros((train_num,train_num))\n",
        "w2 = np.zeros((train_num, train_num))\n",
        "neighbor_x = neighbors.NearestNeighbors(n_neighbors=20)\n",
        "neighbor_x.fit(X_train)\n",
        "neighbor_x_index = neighx.kneighbors(X_train, return_distance=False)[:, 1:20]"
      ],
      "execution_count": null,
      "outputs": []
    },
    {
      "cell_type": "code",
      "metadata": {
        "id": "4aGu6Lv_e9ET"
      },
      "source": [
        "y_pred = predict_func(v, x_train, y_train, x_test, k)\n",
        "loss_test_mean = np.mean(scipy.stats.entropy(y_test,y_pred))\n",
        "print(\"Testing set\")\n",
        "print(\"kl_dist mean:\",loss_test_mean)"
      ],
      "execution_count": null,
      "outputs": []
    }
  ]
}